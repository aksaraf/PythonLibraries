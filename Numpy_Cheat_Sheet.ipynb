{
  "nbformat": 4,
  "nbformat_minor": 0,
  "metadata": {
    "colab": {
      "name": "Numpy Cheat Sheet",
      "provenance": [],
      "collapsed_sections": []
    },
    "kernelspec": {
      "name": "python3",
      "display_name": "Python 3"
    }
  },
  "cells": [
    {
      "cell_type": "markdown",
      "metadata": {
        "id": "WlIJHzf8bEzI"
      },
      "source": [
        "This cheatsheet was created with the help of \n",
        "[**Numpy Tutorial**](https://www.youtube.com/watch?v=8Y0qQEh7dJg) by [**Derek Banas**](https://github.com/derekbanas)\n",
        "\n",
        "The functions covered here is same as those taught in the tutorial except that I have made some changes to the code as follows:\n",
        "1.   As there are many functions, I have created array(s) in all required code cells to avoid confusion. I have also printed the array(s) before and after excuting function for easy comparison.\n",
        "2. I have kept name of array as array_1, array_2 etc to keep it simple and limited to few numbers\n",
        "3. I have made other few minor changes just to make it easy follow along even if you have not seen the tutorial. \n",
        "\n",
        "I plan to add other important functions to this cheatsheet as I come across them.\n",
        "\n",
        "**Points covered:**\n",
        "1. Importing Libraries\n",
        "2. Creating arrays\n",
        "3. Slicing and indexes\n",
        "4. Reshaping arrays\n",
        "5. Stacking and spliting\n",
        "6. Copying\n",
        "7. Basic Math\n",
        "8. Reading from files\n",
        "9. Statistics function\n",
        "10. Trigonometric function\n",
        "11. Linear algebra function\n",
        "12. Solving & loading numpy objects\n",
        "13. Financial functions\n",
        "14. Comparison function\n",
        "\n",
        "\n"
      ]
    },
    {
      "cell_type": "markdown",
      "metadata": {
        "id": "qQ3g5n3SGGoy"
      },
      "source": [
        "**Importing Libraries**"
      ]
    },
    {
      "cell_type": "code",
      "metadata": {
        "id": "4SIb03-MGFAt"
      },
      "source": [
        "import numpy as np\n",
        "import matplotlib.pylab as plt"
      ],
      "execution_count": null,
      "outputs": []
    },
    {
      "cell_type": "markdown",
      "metadata": {
        "id": "ZBPVQkksyiS6"
      },
      "source": [
        "**Creating Arrays**"
      ]
    },
    {
      "cell_type": "code",
      "metadata": {
        "colab": {
          "base_uri": "https://localhost:8080/"
        },
        "id": "pH60wQWFGikd",
        "outputId": "6b2ab722-732e-499a-af57-add42608e011"
      },
      "source": [
        "#create a simple numpy array\n",
        "list_1 = [1,2,3,4,5]\n",
        "\n",
        "array_1 = np.array(list_1, dtype=np.int8)\n",
        "print(\"\\narray_1 =\",array_1) #\\n is used for new line\n",
        "print(\"array_1 data type is\",array_1.dtype)\n",
        "\n",
        "#instead of creating list, we can directly create array as\n",
        "array_2 = np.array([1,2,3,4,5])\n",
        "print(\"\\narray_2 =\",array_2 )\n",
        "print(\"array_2  data type is\",array_2 .dtype)\n",
        "\n",
        "#array_2 .dtype gives the data type of the array"
      ],
      "execution_count": null,
      "outputs": [
        {
          "output_type": "stream",
          "text": [
            "\n",
            "array_1 = [1 2 3 4 5]\n",
            "array_1 data type is int8\n",
            "\n",
            "array_2 = [1 2 3 4 5]\n",
            "array_2  data type is int64\n"
          ],
          "name": "stdout"
        }
      ]
    },
    {
      "cell_type": "code",
      "metadata": {
        "id": "idTY2MTO2zuF"
      },
      "source": [
        "# to find details, add '?' after the function name\n",
        "np.array?"
      ],
      "execution_count": null,
      "outputs": []
    },
    {
      "cell_type": "code",
      "metadata": {
        "colab": {
          "base_uri": "https://localhost:8080/"
        },
        "id": "Q6U3TegbF8pJ",
        "outputId": "76c26892-b8cd-4782-9144-ec15cac00de2"
      },
      "source": [
        "#multi-dimensional list\n",
        "\n",
        "m_list_1 = [[1,2,3],[4,5,6],[7,8,9]]\n",
        "\n",
        "array_1 = np.array(m_list_1)\n",
        "\n",
        "print(\"multi-dimensional numpy array\\narray_1\\n\",array_1)\n",
        "\n",
        "#Number of items inside array\n",
        "num_of_items_in_array = array_1.size\n",
        "print(\"\\nNumber of items inside array =\",num_of_items_in_array)\n",
        "\n",
        "print(\"\\nnp.array([[1,2,3],[4,5,6],[7,8,9]]) =\\n\",np.array([[1,2,3],[4,5,6],[7,8,9]]))"
      ],
      "execution_count": null,
      "outputs": [
        {
          "output_type": "stream",
          "text": [
            "multi-dimensional numpy array\n",
            "array_1\n",
            " [[1 2 3]\n",
            " [4 5 6]\n",
            " [7 8 9]]\n",
            "\n",
            "Number of items inside array = 9\n",
            "\n",
            "np.array([[1,2,3],[4,5,6],[7,8,9]]) =\n",
            " [[1 2 3]\n",
            " [4 5 6]\n",
            " [7 8 9]]\n"
          ],
          "name": "stdout"
        }
      ]
    },
    {
      "cell_type": "code",
      "metadata": {
        "colab": {
          "base_uri": "https://localhost:8080/"
        },
        "id": "rMLRG9n-H2o-",
        "outputId": "acf0bbbe-588a-4ff5-a777-ee975abec295"
      },
      "source": [
        "#create a range of int values\n",
        "print(\"np.arange(1,10) =\",np.arange(1,10)) #1-start(included), 10-stop(excluded)\n",
        "\n",
        "#add a step \n",
        "print(\"\\nnp.arange(1,10,2) =\",np.arange(1,10,2)) #2-step"
      ],
      "execution_count": null,
      "outputs": [
        {
          "output_type": "stream",
          "text": [
            "np.arange(1,10) = [1 2 3 4 5 6 7 8 9]\n",
            "\n",
            "np.arange(1,10,2) = [1 3 5 7 9]\n"
          ],
          "name": "stdout"
        }
      ]
    },
    {
      "cell_type": "code",
      "metadata": {
        "colab": {
          "base_uri": "https://localhost:8080/"
        },
        "id": "I57RY_JZlUE5",
        "outputId": "a7e09d48-fad9-4253-ff08-c6759943ea56"
      },
      "source": [
        "#create a range of float values\n",
        "print(\"np.linspace(0,3,5) =\",np.linspace(0,3,5)) #3-stop is included unless otherwise specified"
      ],
      "execution_count": null,
      "outputs": [
        {
          "output_type": "stream",
          "text": [
            "np.linspace(0,3,5) = [0.   0.75 1.5  2.25 3.  ]\n"
          ],
          "name": "stdout"
        }
      ]
    },
    {
      "cell_type": "code",
      "metadata": {
        "colab": {
          "base_uri": "https://localhost:8080/"
        },
        "id": "0GaqnWlImgZi",
        "outputId": "9637709a-d5b6-4ee8-ec57-b90b203bb216"
      },
      "source": [
        "#array of all zeros\n",
        "print(\"np.zeros(5) =\", np.zeros(5))\n",
        "\n",
        "#multi-dimensional array\n",
        "print(\"\\nnp.zeros((3,3)) =\\n\", np.zeros((3,3)))"
      ],
      "execution_count": null,
      "outputs": [
        {
          "output_type": "stream",
          "text": [
            "np.zeros(5) = [0. 0. 0. 0. 0.]\n",
            "\n",
            "np.zeros((3,3)) =\n",
            " [[0. 0. 0.]\n",
            " [0. 0. 0.]\n",
            " [0. 0. 0.]]\n"
          ],
          "name": "stdout"
        }
      ]
    },
    {
      "cell_type": "code",
      "metadata": {
        "colab": {
          "base_uri": "https://localhost:8080/"
        },
        "id": "h4ZGAOIXpR54",
        "outputId": "3063359d-82c8-4d08-d469-3d1899f61b1b"
      },
      "source": [
        "#array of all ones\n",
        "print(\"np.ones(5) =\", np.ones(5))\n",
        "\n",
        "#multi-dimensional array\n",
        "print(\"\\nnp.ones((3,3)) =\\n\", np.ones((3,3)))"
      ],
      "execution_count": null,
      "outputs": [
        {
          "output_type": "stream",
          "text": [
            "np.ones(5) = [1. 1. 1. 1. 1.]\n",
            "\n",
            "np.ones((3,3)) =\n",
            " [[1. 1. 1.]\n",
            " [1. 1. 1.]\n",
            " [1. 1. 1.]]\n"
          ],
          "name": "stdout"
        }
      ]
    },
    {
      "cell_type": "code",
      "metadata": {
        "colab": {
          "base_uri": "https://localhost:8080/"
        },
        "id": "hZOGDCy3yDHv",
        "outputId": "62998c3f-af9c-49d0-af15-f0588e1de701"
      },
      "source": [
        "# random number arrays\n",
        "# 5 random numbers in between 10 to 100\n",
        "random_number_array = np.random.randint(10,100,5)\n",
        "print(\"random_number_array =\",random_number_array)\n",
        "\n",
        "# random numbers 2x3 array\n",
        "random_number_2x3_array = np.random.randint(10,100, size=(2,3))\n",
        "print(\"\\nrandom_number_2x3_array =\\n\",random_number_2x3_array)"
      ],
      "execution_count": null,
      "outputs": [
        {
          "output_type": "stream",
          "text": [
            "random_number_array = [93 54 72 54 68]\n",
            "\n",
            "random_number_2x3_array =\n",
            " [[31 56 36]\n",
            " [38 19 67]]\n"
          ],
          "name": "stdout"
        }
      ]
    },
    {
      "cell_type": "markdown",
      "metadata": {
        "id": "-XVvRzSf3Kvj"
      },
      "source": [
        "**Slicing & Indexes**"
      ]
    },
    {
      "cell_type": "code",
      "metadata": {
        "colab": {
          "base_uri": "https://localhost:8080/"
        },
        "id": "RHVarDDS40ul",
        "outputId": "2b9a3c3d-339f-489a-ebcb-4741671772fb"
      },
      "source": [
        "#change a specific value in an array\n",
        "\n",
        "# print array_1 for reference\n",
        "array_1 = np.array([[1,2,3],[4,5,6],[7,8,9]])\n",
        "print(\"ORIGINAL ARRAY\")\n",
        "print(array_1)\n",
        "print(\"\\nNEW CODE OUTPUT\") \n",
        "\n",
        "#new line of codes\n",
        "array_1[0,0] = 1236 \n",
        "array_1"
      ],
      "execution_count": null,
      "outputs": [
        {
          "output_type": "stream",
          "text": [
            "ORIGINAL ARRAY\n",
            "[[1 2 3]\n",
            " [4 5 6]\n",
            " [7 8 9]]\n",
            "\n",
            "NEW CODE OUTPUT\n"
          ],
          "name": "stdout"
        },
        {
          "output_type": "execute_result",
          "data": {
            "text/plain": [
              "array([[1236,    2,    3],\n",
              "       [   4,    5,    6],\n",
              "       [   7,    8,    9]])"
            ]
          },
          "metadata": {
            "tags": []
          },
          "execution_count": 10
        }
      ]
    },
    {
      "cell_type": "code",
      "metadata": {
        "colab": {
          "base_uri": "https://localhost:8080/"
        },
        "id": "XkSHNcMA6MJs",
        "outputId": "f477095e-de56-448b-bcd0-1bd03a90c06e"
      },
      "source": [
        "#change a specific value using itemset\n",
        "\n",
        "# print array_1 for reference\n",
        "array_1 = np.array([[1,2,3],[4,5,6],[7,8,9]])\n",
        "print(\"ORIGINAL ARRAY\")\n",
        "print(array_1)\n",
        "print(\"\\nNEW CODE OUTPUT\") \n",
        "\n",
        "#new line of codes\n",
        "array_1.itemset((0,1),636)\n",
        "array_1"
      ],
      "execution_count": null,
      "outputs": [
        {
          "output_type": "stream",
          "text": [
            "ORIGINAL ARRAY\n",
            "[[1 2 3]\n",
            " [4 5 6]\n",
            " [7 8 9]]\n",
            "\n",
            "NEW CODE OUTPUT\n"
          ],
          "name": "stdout"
        },
        {
          "output_type": "execute_result",
          "data": {
            "text/plain": [
              "array([[  1, 636,   3],\n",
              "       [  4,   5,   6],\n",
              "       [  7,   8,   9]])"
            ]
          },
          "metadata": {
            "tags": []
          },
          "execution_count": 11
        }
      ]
    },
    {
      "cell_type": "code",
      "metadata": {
        "colab": {
          "base_uri": "https://localhost:8080/"
        },
        "id": "H_gx_KVN7BQs",
        "outputId": "9f7b5d7d-081e-435f-ebc0-f1ab79a6f4cd"
      },
      "source": [
        "#check shape of the array\n",
        "\n",
        "# print array_1 for reference\n",
        "array_1 = np.array([[1,2,3],[4,5,6],[7,8,9]])\n",
        "print(\"ORIGINAL ARRAY\")\n",
        "print(array_1)\n",
        "print(\"\\nNEW CODE OUTPUT\") \n",
        "\n",
        "#new line of codes\n",
        "array_1.shape"
      ],
      "execution_count": null,
      "outputs": [
        {
          "output_type": "stream",
          "text": [
            "ORIGINAL ARRAY\n",
            "[[1 2 3]\n",
            " [4 5 6]\n",
            " [7 8 9]]\n",
            "\n",
            "NEW CODE OUTPUT\n"
          ],
          "name": "stdout"
        },
        {
          "output_type": "execute_result",
          "data": {
            "text/plain": [
              "(3, 3)"
            ]
          },
          "metadata": {
            "tags": []
          },
          "execution_count": 12
        }
      ]
    },
    {
      "cell_type": "code",
      "metadata": {
        "colab": {
          "base_uri": "https://localhost:8080/"
        },
        "id": "jP20iT9m7L0M",
        "outputId": "41b226c6-f21b-4ccf-9d35-07ff6408c085"
      },
      "source": [
        "#get values at given index\n",
        "\n",
        "# print array_1 for reference\n",
        "array_1 = np.array([[1,2,3],[4,5,6],[7,8,9]])\n",
        "print(\"ORIGINAL ARRAY\")\n",
        "print(array_1)\n",
        "print(\"\\nNEW CODE OUTPUT\") \n",
        "\n",
        "#new line of codes\n",
        "array_1[0,1]"
      ],
      "execution_count": null,
      "outputs": [
        {
          "output_type": "stream",
          "text": [
            "ORIGINAL ARRAY\n",
            "[[1 2 3]\n",
            " [4 5 6]\n",
            " [7 8 9]]\n",
            "\n",
            "NEW CODE OUTPUT\n"
          ],
          "name": "stdout"
        },
        {
          "output_type": "execute_result",
          "data": {
            "text/plain": [
              "2"
            ]
          },
          "metadata": {
            "tags": []
          },
          "execution_count": 13
        }
      ]
    },
    {
      "cell_type": "code",
      "metadata": {
        "colab": {
          "base_uri": "https://localhost:8080/"
        },
        "id": "aX60aDFQ7gm0",
        "outputId": "9e8f6d37-b28b-4e2a-bd07-22e919b7966d"
      },
      "source": [
        "#get value at given index using item function\n",
        "\n",
        "# print array_1 for reference\n",
        "array_1 = np.array([[1,2,3],[4,5,6],[7,8,9]])\n",
        "print(\"ORIGINAL ARRAY\")\n",
        "print(array_1)\n",
        "print(\"\\nNEW CODE OUTPUT\") \n",
        "\n",
        "#new line of codes\n",
        "array_1.item(0,1) \n",
        "\n",
        "#itemset is used to change a specific value"
      ],
      "execution_count": null,
      "outputs": [
        {
          "output_type": "stream",
          "text": [
            "ORIGINAL ARRAY\n",
            "[[1 2 3]\n",
            " [4 5 6]\n",
            " [7 8 9]]\n",
            "\n",
            "NEW CODE OUTPUT\n"
          ],
          "name": "stdout"
        },
        {
          "output_type": "execute_result",
          "data": {
            "text/plain": [
              "2"
            ]
          },
          "metadata": {
            "tags": []
          },
          "execution_count": 14
        }
      ]
    },
    {
      "cell_type": "code",
      "metadata": {
        "colab": {
          "base_uri": "https://localhost:8080/"
        },
        "id": "pOs4Bc1-73Fr",
        "outputId": "8b4c8a54-dd71-434a-c958-296cdd8e5a1b"
      },
      "source": [
        "# find values at given indexes\n",
        "\n",
        "# print array_1 for reference\n",
        "array_1 = np.array([[11,24,37],[41,55,68],[76,87,98]]) \n",
        "print(\"ORIGINAL ARRAY\")\n",
        "print(array_1)\n",
        "print(\"\\nNEW CODE OUTPUT\") \n",
        "\n",
        "#new line of codes\n",
        "spec_index = np.take(array_1, (6,7,8)) #index in python starts from zero\n",
        "print(spec_index)"
      ],
      "execution_count": null,
      "outputs": [
        {
          "output_type": "stream",
          "text": [
            "ORIGINAL ARRAY\n",
            "[[11 24 37]\n",
            " [41 55 68]\n",
            " [76 87 98]]\n",
            "\n",
            "NEW CODE OUTPUT\n",
            "[76 87 98]\n"
          ],
          "name": "stdout"
        }
      ]
    },
    {
      "cell_type": "code",
      "metadata": {
        "colab": {
          "base_uri": "https://localhost:8080/"
        },
        "id": "p_tzbRib-UdM",
        "outputId": "d2832f86-9bcf-43fe-8be6-6d7abdf46d7e"
      },
      "source": [
        "#replacing multiple values with new values \n",
        "\n",
        "# print array_1 for reference\n",
        "array_1 = np.array([[1,2,3],[4,5,6],[7,8,9]])\n",
        "print(\"ORIGINAL ARRAY\")\n",
        "print(array_1)\n",
        "print(\"\\nNEW CODE OUTPUT\") \n",
        "\n",
        "#new line of codes\n",
        "np.put(array_1, [6,7,8], [1000,1000,1000]) # 6,7,8 are indexes \n",
        "array_1"
      ],
      "execution_count": null,
      "outputs": [
        {
          "output_type": "stream",
          "text": [
            "ORIGINAL ARRAY\n",
            "[[1 2 3]\n",
            " [4 5 6]\n",
            " [7 8 9]]\n",
            "\n",
            "NEW CODE OUTPUT\n"
          ],
          "name": "stdout"
        },
        {
          "output_type": "execute_result",
          "data": {
            "text/plain": [
              "array([[   1,    2,    3],\n",
              "       [   4,    5,    6],\n",
              "       [1000, 1000, 1000]])"
            ]
          },
          "metadata": {
            "tags": []
          },
          "execution_count": 16
        }
      ]
    },
    {
      "cell_type": "code",
      "metadata": {
        "colab": {
          "base_uri": "https://localhost:8080/"
        },
        "id": "v1ptvnVV_Uvr",
        "outputId": "f9d778fa-5184-4d8b-b956-4cb65469c0f7"
      },
      "source": [
        "#get nth value from each row\n",
        "\n",
        "# print array_1 for reference\n",
        "array_1 = np.array([[1,2,3],[4,5,6],[7,8,9]])\n",
        "print(\"ORIGINAL ARRAY\")\n",
        "print(array_1)\n",
        "print(\"\\nNEW CODE OUTPUT\") \n",
        "\n",
        "#new line of codes\n",
        "array_1[:,1] #2nd value from each row\n"
      ],
      "execution_count": null,
      "outputs": [
        {
          "output_type": "stream",
          "text": [
            "ORIGINAL ARRAY\n",
            "[[1 2 3]\n",
            " [4 5 6]\n",
            " [7 8 9]]\n",
            "\n",
            "NEW CODE OUTPUT\n"
          ],
          "name": "stdout"
        },
        {
          "output_type": "execute_result",
          "data": {
            "text/plain": [
              "array([2, 5, 8])"
            ]
          },
          "metadata": {
            "tags": []
          },
          "execution_count": 17
        }
      ]
    },
    {
      "cell_type": "code",
      "metadata": {
        "colab": {
          "base_uri": "https://localhost:8080/"
        },
        "id": "VgPJbD-SR4NI",
        "outputId": "02f80170-c9f1-4908-9332-9f63c26db0d8"
      },
      "source": [
        "#flip an array\n",
        "\n",
        "# print array_1 for reference\n",
        "array_1 = np.array([[1,2,3],[4,5,6],[7,8,9]])\n",
        "print(\"ORIGINAL ARRAY\")\n",
        "print(array_1)\n",
        "print(\"\\nNEW CODE OUTPUT\") \n",
        "\n",
        "#new line of codes\n",
        "array_1[::-1]"
      ],
      "execution_count": null,
      "outputs": [
        {
          "output_type": "stream",
          "text": [
            "ORIGINAL ARRAY\n",
            "[[1 2 3]\n",
            " [4 5 6]\n",
            " [7 8 9]]\n",
            "\n",
            "NEW CODE OUTPUT\n"
          ],
          "name": "stdout"
        },
        {
          "output_type": "execute_result",
          "data": {
            "text/plain": [
              "array([[7, 8, 9],\n",
              "       [4, 5, 6],\n",
              "       [1, 2, 3]])"
            ]
          },
          "metadata": {
            "tags": []
          },
          "execution_count": 18
        }
      ]
    },
    {
      "cell_type": "code",
      "metadata": {
        "colab": {
          "base_uri": "https://localhost:8080/"
        },
        "id": "gwp4i8g6SB__",
        "outputId": "56e469f6-3552-4c5d-91d9-732d9a43e43c"
      },
      "source": [
        "#get only even values\n",
        "\n",
        "# print array_1 for reference\n",
        "array_1 = np.array([[1,2,3],[4,5,6],[7,8,9]])\n",
        "print(\"ORIGINAL ARRAY\")\n",
        "print(array_1)\n",
        "print(\"\\nNEW CODE OUTPUT\") \n",
        "\n",
        "#new line of codes\n",
        "array_1[array_1%2==0]"
      ],
      "execution_count": null,
      "outputs": [
        {
          "output_type": "stream",
          "text": [
            "ORIGINAL ARRAY\n",
            "[[1 2 3]\n",
            " [4 5 6]\n",
            " [7 8 9]]\n",
            "\n",
            "NEW CODE OUTPUT\n"
          ],
          "name": "stdout"
        },
        {
          "output_type": "execute_result",
          "data": {
            "text/plain": [
              "array([2, 4, 6, 8])"
            ]
          },
          "metadata": {
            "tags": []
          },
          "execution_count": 19
        }
      ]
    },
    {
      "cell_type": "code",
      "metadata": {
        "colab": {
          "base_uri": "https://localhost:8080/"
        },
        "id": "g-BDElh9SdXX",
        "outputId": "bdd98190-7a7b-4078-9985-f4477884e4c4"
      },
      "source": [
        "#get values that are greater than 5(or any specified value)\n",
        "\n",
        "# print array_1 for reference\n",
        "array_1 = np.array([[1,2,3],[4,5,6],[7,8,9]])\n",
        "print(\"ORIGINAL ARRAY\")\n",
        "print(array_1)\n",
        "print(\"\\nNEW CODE OUTPUT\") \n",
        "\n",
        "#new line of codes\n",
        "array_1[array_1 > 5]"
      ],
      "execution_count": null,
      "outputs": [
        {
          "output_type": "stream",
          "text": [
            "ORIGINAL ARRAY\n",
            "[[1 2 3]\n",
            " [4 5 6]\n",
            " [7 8 9]]\n",
            "\n",
            "NEW CODE OUTPUT\n"
          ],
          "name": "stdout"
        },
        {
          "output_type": "execute_result",
          "data": {
            "text/plain": [
              "array([6, 7, 8, 9])"
            ]
          },
          "metadata": {
            "tags": []
          },
          "execution_count": 20
        }
      ]
    },
    {
      "cell_type": "code",
      "metadata": {
        "colab": {
          "base_uri": "https://localhost:8080/"
        },
        "id": "6OTqj3mLSvwf",
        "outputId": "1dfc10f1-fc99-4e8b-fccc-1c2eea561417"
      },
      "source": [
        "#using logical operator\n",
        "\n",
        "# print array_1 for reference\n",
        "array_1 = np.array([[1,2,3],[4,5,6],[7,8,9]])\n",
        "print(\"ORIGINAL ARRAY\")\n",
        "print(array_1)\n",
        "print(\"\\nNEW CODE OUTPUT\") \n",
        "\n",
        "#new line of codes\n",
        "#using &(AND)\n",
        "#get values greater than 5 'and' less than 10\n",
        "print(\"\\n'AND' output\")\n",
        "print(array_1[(array_1 > 5) & (array_1< 10)]) \n",
        "\n",
        "#using |(OR)\n",
        "#get values greater than 5 'or' less than 10\n",
        "print(\"\\n'OR' output\")\n",
        "print(array_1[(array_1 > 5) | (array_1 < 10)])"
      ],
      "execution_count": null,
      "outputs": [
        {
          "output_type": "stream",
          "text": [
            "ORIGINAL ARRAY\n",
            "[[1 2 3]\n",
            " [4 5 6]\n",
            " [7 8 9]]\n",
            "\n",
            "NEW CODE OUTPUT\n",
            "\n",
            "'AND' output\n",
            "[6 7 8 9]\n",
            "\n",
            "'OR' output\n",
            "[1 2 3 4 5 6 7 8 9]\n"
          ],
          "name": "stdout"
        }
      ]
    },
    {
      "cell_type": "code",
      "metadata": {
        "colab": {
          "base_uri": "https://localhost:8080/"
        },
        "id": "feg-FFmXTdrP",
        "outputId": "3dfcf27b-6476-44b7-db7f-96daa8cfb3b8"
      },
      "source": [
        "\n",
        "# get unique values \n",
        "\n",
        "# print array_1 for reference\n",
        "array_1 = np.array([[1,1,3],[4,1,3],[3,4,9]])\n",
        "print(\"ORIGINAL ARRAY\")\n",
        "print(array_1)\n",
        "print(\"\\nNEW CODE OUTPUT\") \n",
        "\n",
        "#new line of codes\n",
        "np.unique(array_1)"
      ],
      "execution_count": null,
      "outputs": [
        {
          "output_type": "stream",
          "text": [
            "ORIGINAL ARRAY\n",
            "[[1 1 3]\n",
            " [4 1 3]\n",
            " [3 4 9]]\n",
            "\n",
            "NEW CODE OUTPUT\n"
          ],
          "name": "stdout"
        },
        {
          "output_type": "execute_result",
          "data": {
            "text/plain": [
              "array([1, 3, 4, 9])"
            ]
          },
          "metadata": {
            "tags": []
          },
          "execution_count": 22
        }
      ]
    },
    {
      "cell_type": "markdown",
      "metadata": {
        "id": "bzIgTXxITrzv"
      },
      "source": [
        "**Reshaping Arrays**"
      ]
    },
    {
      "cell_type": "code",
      "metadata": {
        "colab": {
          "base_uri": "https://localhost:8080/"
        },
        "id": "UgNFxJiQTwHW",
        "outputId": "76e502ef-70c5-4853-9e8b-d11f01606e1a"
      },
      "source": [
        "# single axis array\n",
        "\n",
        "# print array_1 for reference\n",
        "array_1 = np.array([[1,2,3],[4,5,6],[7,8,9]])\n",
        "print(\"ORIGINAL ARRAY\")\n",
        "print(array_1)\n",
        "print(\"\\nNEW CODE OUTPUT\") \n",
        "\n",
        "#new line of codes\n",
        "array_1.reshape((1,9)) #1(row),9(columns)"
      ],
      "execution_count": null,
      "outputs": [
        {
          "output_type": "stream",
          "text": [
            "ORIGINAL ARRAY\n",
            "[[1 2 3]\n",
            " [4 5 6]\n",
            " [7 8 9]]\n",
            "\n",
            "NEW CODE OUTPUT\n"
          ],
          "name": "stdout"
        },
        {
          "output_type": "execute_result",
          "data": {
            "text/plain": [
              "array([[1, 2, 3, 4, 5, 6, 7, 8, 9]])"
            ]
          },
          "metadata": {
            "tags": []
          },
          "execution_count": 23
        }
      ]
    },
    {
      "cell_type": "code",
      "metadata": {
        "colab": {
          "base_uri": "https://localhost:8080/"
        },
        "id": "jMqz48O2UK9_",
        "outputId": "a7ab1995-ce99-4fbd-8086-9889e9566c03"
      },
      "source": [
        "#resize\n",
        "\n",
        "# print array_1 for reference\n",
        "array_1 = np.array([[1,2,3],[4,5,6],[7,8,9]])\n",
        "print(\"ORIGINAL ARRAY\")\n",
        "print(array_1)\n",
        "print(\"\\nNEW CODE OUTPUT\") \n",
        "\n",
        "#new line of codes\n",
        "np.resize(array_1,(2,4)) #resize into 2x4 array"
      ],
      "execution_count": null,
      "outputs": [
        {
          "output_type": "stream",
          "text": [
            "ORIGINAL ARRAY\n",
            "[[1 2 3]\n",
            " [4 5 6]\n",
            " [7 8 9]]\n",
            "\n",
            "NEW CODE OUTPUT\n"
          ],
          "name": "stdout"
        },
        {
          "output_type": "execute_result",
          "data": {
            "text/plain": [
              "array([[1, 2, 3, 4],\n",
              "       [5, 6, 7, 8]])"
            ]
          },
          "metadata": {
            "tags": []
          },
          "execution_count": 24
        }
      ]
    },
    {
      "cell_type": "code",
      "metadata": {
        "colab": {
          "base_uri": "https://localhost:8080/"
        },
        "id": "FcgOJ9ODUg-0",
        "outputId": "b813d58f-dff5-4a53-89da-6cc9a0be40ae"
      },
      "source": [
        "#transpose\n",
        "\n",
        "# print array_1 for reference\n",
        "array_1 = np.array([[1,2,3],[4,5,6],[7,8,9]])\n",
        "print(\"ORIGINAL ARRAY\")\n",
        "print(array_1)\n",
        "print(\"\\nNEW CODE OUTPUT\") \n",
        "\n",
        "#new line of codes\n",
        "array_1.transpose()"
      ],
      "execution_count": null,
      "outputs": [
        {
          "output_type": "stream",
          "text": [
            "ORIGINAL ARRAY\n",
            "[[1 2 3]\n",
            " [4 5 6]\n",
            " [7 8 9]]\n",
            "\n",
            "NEW CODE OUTPUT\n"
          ],
          "name": "stdout"
        },
        {
          "output_type": "execute_result",
          "data": {
            "text/plain": [
              "array([[1, 4, 7],\n",
              "       [2, 5, 8],\n",
              "       [3, 6, 9]])"
            ]
          },
          "metadata": {
            "tags": []
          },
          "execution_count": 25
        }
      ]
    },
    {
      "cell_type": "code",
      "metadata": {
        "colab": {
          "base_uri": "https://localhost:8080/"
        },
        "id": "WKqw7b6hUtRU",
        "outputId": "5add3cda-b3fb-43c0-b1a0-2c96da484695"
      },
      "source": [
        "#swap axes\n",
        "\n",
        "# print array_1 for reference\n",
        "array_1 = np.array([[1,2,3],[4,5,6],[7,8,9]])\n",
        "print(\"ORIGINAL ARRAY\")\n",
        "print(array_1)\n",
        "print(\"\\nNEW CODE OUTPUT\") \n",
        "\n",
        "#new line of codes\n",
        "array_1.swapaxes(0,1)"
      ],
      "execution_count": null,
      "outputs": [
        {
          "output_type": "stream",
          "text": [
            "ORIGINAL ARRAY\n",
            "[[1 2 3]\n",
            " [4 5 6]\n",
            " [7 8 9]]\n",
            "\n",
            "NEW CODE OUTPUT\n"
          ],
          "name": "stdout"
        },
        {
          "output_type": "execute_result",
          "data": {
            "text/plain": [
              "array([[1, 4, 7],\n",
              "       [2, 5, 8],\n",
              "       [3, 6, 9]])"
            ]
          },
          "metadata": {
            "tags": []
          },
          "execution_count": 26
        }
      ]
    },
    {
      "cell_type": "code",
      "metadata": {
        "colab": {
          "base_uri": "https://localhost:8080/"
        },
        "id": "wKkYessoVYLO",
        "outputId": "14287e19-3fbc-4860-9d92-628ba942fe32"
      },
      "source": [
        "#flatten the array\n",
        "\n",
        "# print array_1 for reference\n",
        "array_1 = np.array([[1,2,3],[4,5,6],[7,8,9]])\n",
        "print(\"ORIGINAL ARRAY\")\n",
        "print(array_1)\n",
        "print(\"\\nNEW CODE OUTPUT\") \n",
        "\n",
        "#new line of codes\n",
        "print(\"row order\")\n",
        "print(array_1.flatten())\n",
        "print(\"column order\")\n",
        "print(array_1.flatten('F'))"
      ],
      "execution_count": null,
      "outputs": [
        {
          "output_type": "stream",
          "text": [
            "ORIGINAL ARRAY\n",
            "[[1 2 3]\n",
            " [4 5 6]\n",
            " [7 8 9]]\n",
            "\n",
            "NEW CODE OUTPUT\n",
            "row order\n",
            "[1 2 3 4 5 6 7 8 9]\n",
            "column order\n",
            "[1 4 7 2 5 8 3 6 9]\n"
          ],
          "name": "stdout"
        }
      ]
    },
    {
      "cell_type": "code",
      "metadata": {
        "colab": {
          "base_uri": "https://localhost:8080/"
        },
        "id": "PaKofqBFWbAD",
        "outputId": "07326081-1fff-4255-aafa-e31027694cf0"
      },
      "source": [
        "# sort columns\n",
        "\n",
        "# print array_1 for reference\n",
        "array_1 = np.array([[12,65,36],[45,18,69],[28,43,32]]) #as original array was already in sorted order, I have changed values here\n",
        "print(\"ORIGINAL ARRAY\")\n",
        "print(array_1)\n",
        "print(\"\\nNEW CODE OUTPUT\") \n",
        "\n",
        "#new line of codes\n",
        "array_1.sort(axis=0)\n",
        "array_1"
      ],
      "execution_count": null,
      "outputs": [
        {
          "output_type": "stream",
          "text": [
            "ORIGINAL ARRAY\n",
            "[[12 65 36]\n",
            " [45 18 69]\n",
            " [28 43 32]]\n",
            "\n",
            "NEW CODE OUTPUT\n"
          ],
          "name": "stdout"
        },
        {
          "output_type": "execute_result",
          "data": {
            "text/plain": [
              "array([[12, 18, 32],\n",
              "       [28, 43, 36],\n",
              "       [45, 65, 69]])"
            ]
          },
          "metadata": {
            "tags": []
          },
          "execution_count": 28
        }
      ]
    },
    {
      "cell_type": "code",
      "metadata": {
        "colab": {
          "base_uri": "https://localhost:8080/"
        },
        "id": "Kh26XIKBia31",
        "outputId": "199e609c-6b7c-4654-c28e-b9368bd1a403"
      },
      "source": [
        "# sort rows\n",
        "\n",
        "# print array_1 for reference\n",
        "array_1 = np.array([[12,65,36],[45,18,69],[28,43,32]]) #as original array was already in sorted order, I have changed values here\n",
        "print(\"ORIGINAL ARRAY\")\n",
        "print(array_1)\n",
        "print(\"\\nNEW CODE OUTPUT\") \n",
        "\n",
        "#new line of codes\n",
        "array_1.sort(axis=1)\n",
        "array_1"
      ],
      "execution_count": null,
      "outputs": [
        {
          "output_type": "stream",
          "text": [
            "ORIGINAL ARRAY\n",
            "[[12 65 36]\n",
            " [45 18 69]\n",
            " [28 43 32]]\n",
            "\n",
            "NEW CODE OUTPUT\n"
          ],
          "name": "stdout"
        },
        {
          "output_type": "execute_result",
          "data": {
            "text/plain": [
              "array([[12, 36, 65],\n",
              "       [18, 45, 69],\n",
              "       [28, 32, 43]])"
            ]
          },
          "metadata": {
            "tags": []
          },
          "execution_count": 29
        }
      ]
    },
    {
      "cell_type": "markdown",
      "metadata": {
        "id": "Rl2Nu4nlXN-v"
      },
      "source": [
        "**Stacking and Splitting**\n"
      ]
    },
    {
      "cell_type": "code",
      "metadata": {
        "colab": {
          "base_uri": "https://localhost:8080/"
        },
        "id": "8UNhrQJIYE_H",
        "outputId": "3f848471-aada-4069-f1d3-3f109face221"
      },
      "source": [
        "# stacking two arrays vertically\n",
        "\n",
        "#for reference\n",
        "array_1 = np.random.randint(10, size=(2,2))\n",
        "array_2 = np.random.randint(10, size=(2,2))\n",
        "print(\"ORIGINAL ARRAY\")\n",
        "print(\"array_1\\n\",array_1)\n",
        "print(\"array_2\\n\",array_2)\n",
        "print(\"\\nNEW CODE OUTPUT\") \n",
        "\n",
        "#new line of codes\n",
        "np.vstack((array_1, array_2))"
      ],
      "execution_count": null,
      "outputs": [
        {
          "output_type": "stream",
          "text": [
            "ORIGINAL ARRAY\n",
            "array_1\n",
            " [[6 8]\n",
            " [1 4]]\n",
            "array_2\n",
            " [[8 0]\n",
            " [5 4]]\n",
            "\n",
            "NEW CODE OUTPUT\n"
          ],
          "name": "stdout"
        },
        {
          "output_type": "execute_result",
          "data": {
            "text/plain": [
              "array([[6, 8],\n",
              "       [1, 4],\n",
              "       [8, 0],\n",
              "       [5, 4]])"
            ]
          },
          "metadata": {
            "tags": []
          },
          "execution_count": 30
        }
      ]
    },
    {
      "cell_type": "code",
      "metadata": {
        "colab": {
          "base_uri": "https://localhost:8080/"
        },
        "id": "lrPFiaFCw-2T",
        "outputId": "51226573-d83a-403d-9b75-1f2fa862251f"
      },
      "source": [
        "# stacking two arrays horizontally\n",
        "\n",
        "#for reference\n",
        "array_1 = np.random.randint(10, size=(2,2))\n",
        "array_2 = np.random.randint(10, size=(2,2))\n",
        "print(\"ORIGINAL ARRAY\")\n",
        "print(\"array_1\\n\",array_1)\n",
        "print(\"array_2\\n\",array_2)\n",
        "print(\"\\nNEW CODE OUTPUT\") \n",
        "\n",
        "#new line of codes\n",
        "np.hstack((array_1, array_2))"
      ],
      "execution_count": null,
      "outputs": [
        {
          "output_type": "stream",
          "text": [
            "ORIGINAL ARRAY\n",
            "array_1\n",
            " [[1 4]\n",
            " [8 7]]\n",
            "array_2\n",
            " [[0 7]\n",
            " [5 4]]\n",
            "\n",
            "NEW CODE OUTPUT\n"
          ],
          "name": "stdout"
        },
        {
          "output_type": "execute_result",
          "data": {
            "text/plain": [
              "array([[1, 4, 0, 7],\n",
              "       [8, 7, 5, 4]])"
            ]
          },
          "metadata": {
            "tags": []
          },
          "execution_count": 31
        }
      ]
    },
    {
      "cell_type": "code",
      "metadata": {
        "colab": {
          "base_uri": "https://localhost:8080/"
        },
        "id": "5kTI5JBnxvaD",
        "outputId": "cf8688cd-c3cf-42e4-8f4a-cc157b49569b"
      },
      "source": [
        "#deleting specific column\n",
        "\n",
        "#for reference\n",
        "array_1 = np.random.randint(10, size=(2,2))\n",
        "array_2 = np.random.randint(10, size=(2,2))\n",
        "print(\"ORIGINAL ARRAY\")\n",
        "print(\"array_1\\n\",array_1)\n",
        "print(\"array_2\\n\",array_2)\n",
        "print(\"\\nNEW CODE OUTPUT\") \n",
        "\n",
        "#new line of codes\n",
        "\n",
        "# delete column of index 1\n",
        "array_1 = np.delete(array_1, 1,1) # 1(index), 1(column)\n",
        "print(array_1)\n",
        "print(\"\\n\")\n",
        "array_2 = np.delete(array_2, 1,1)\n",
        "print(array_2)\n"
      ],
      "execution_count": null,
      "outputs": [
        {
          "output_type": "stream",
          "text": [
            "ORIGINAL ARRAY\n",
            "array_1\n",
            " [[5 2]\n",
            " [9 6]]\n",
            "array_2\n",
            " [[4 3]\n",
            " [4 0]]\n",
            "\n",
            "NEW CODE OUTPUT\n",
            "[[5]\n",
            " [9]]\n",
            "\n",
            "\n",
            "[[4]\n",
            " [4]]\n"
          ],
          "name": "stdout"
        }
      ]
    },
    {
      "cell_type": "code",
      "metadata": {
        "colab": {
          "base_uri": "https://localhost:8080/"
        },
        "id": "rZebc_XmoiQy",
        "outputId": "85f5769e-d1d9-4a54-ff8f-d90a6994f881"
      },
      "source": [
        "#deleting specific row\n",
        "\n",
        "#for reference\n",
        "array_1 = np.random.randint(10, size=(2,2))\n",
        "array_2 = np.random.randint(10, size=(2,2))\n",
        "print(\"ORIGINAL ARRAY\")\n",
        "print(\"array_1\\n\",array_1)\n",
        "print(\"array_2\\n\",array_2)\n",
        "print(\"\\nNEW CODE OUTPUT\") \n",
        "\n",
        "#new line of codes\n",
        "\n",
        "# delete column of index 1\n",
        "array_1 = np.delete(array_1, 1,0) # 1(index), 0(row)\n",
        "print(array_1)\n",
        "print(\"\\n\")\n",
        "array_2 = np.delete(array_2, 1,0)\n",
        "print(array_2)"
      ],
      "execution_count": null,
      "outputs": [
        {
          "output_type": "stream",
          "text": [
            "ORIGINAL ARRAY\n",
            "array_1\n",
            " [[5 2]\n",
            " [0 2]]\n",
            "array_2\n",
            " [[2 6]\n",
            " [9 2]]\n",
            "\n",
            "NEW CODE OUTPUT\n",
            "[[5 2]]\n",
            "\n",
            "\n",
            "[[2 6]]\n"
          ],
          "name": "stdout"
        }
      ]
    },
    {
      "cell_type": "code",
      "metadata": {
        "colab": {
          "base_uri": "https://localhost:8080/"
        },
        "id": "ZqD2JVvk2AvZ",
        "outputId": "e8d3d7e7-7601-4887-8c20-55fd90424292"
      },
      "source": [
        "# stacking columns\n",
        "\n",
        "#for reference\n",
        "array_1 = np.random.randint(10, size=(2,2))\n",
        "array_2 = np.random.randint(10, size=(2,2))\n",
        "print(\"ORIGINAL ARRAY\")\n",
        "print(\"array_1\\n\",array_1)\n",
        "print(\"array_2\\n\",array_2)\n",
        "print(\"\\nNEW CODE OUTPUT\") \n",
        "\n",
        "#new line of codes\n",
        "np.column_stack((array_1, array_2))"
      ],
      "execution_count": null,
      "outputs": [
        {
          "output_type": "stream",
          "text": [
            "ORIGINAL ARRAY\n",
            "array_1\n",
            " [[5 0]\n",
            " [4 5]]\n",
            "array_2\n",
            " [[5 9]\n",
            " [7 6]]\n",
            "\n",
            "NEW CODE OUTPUT\n"
          ],
          "name": "stdout"
        },
        {
          "output_type": "execute_result",
          "data": {
            "text/plain": [
              "array([[5, 0, 5, 9],\n",
              "       [4, 5, 7, 6]])"
            ]
          },
          "metadata": {
            "tags": []
          },
          "execution_count": 34
        }
      ]
    },
    {
      "cell_type": "code",
      "metadata": {
        "colab": {
          "base_uri": "https://localhost:8080/"
        },
        "id": "yKm8TwCp2q6Y",
        "outputId": "04d2506c-6dab-4f03-cab1-860e4d80222e"
      },
      "source": [
        "# stacking  rows\n",
        "\n",
        "#for reference\n",
        "array_1 = np.random.randint(10, size=(2,2))\n",
        "array_2 = np.random.randint(10, size=(2,2))\n",
        "print(\"ORIGINAL ARRAY\")\n",
        "print(\"array_1\\n\",array_1)\n",
        "print(\"array_2\\n\",array_2)\n",
        "print(\"\\nNEW CODE OUTPUT\") \n",
        "\n",
        "#new line of codes\n",
        "np.row_stack((array_1, array_2))"
      ],
      "execution_count": null,
      "outputs": [
        {
          "output_type": "stream",
          "text": [
            "ORIGINAL ARRAY\n",
            "array_1\n",
            " [[6 0]\n",
            " [2 0]]\n",
            "array_2\n",
            " [[7 9]\n",
            " [1 2]]\n",
            "\n",
            "NEW CODE OUTPUT\n"
          ],
          "name": "stdout"
        },
        {
          "output_type": "execute_result",
          "data": {
            "text/plain": [
              "array([[6, 0],\n",
              "       [2, 0],\n",
              "       [7, 9],\n",
              "       [1, 2]])"
            ]
          },
          "metadata": {
            "tags": []
          },
          "execution_count": 35
        }
      ]
    },
    {
      "cell_type": "code",
      "metadata": {
        "colab": {
          "base_uri": "https://localhost:8080/"
        },
        "id": "wja7HORx6MVP",
        "outputId": "65b3acbd-96d6-42f0-eeab-44dc0e8aa686"
      },
      "source": [
        "#horizontal splitting 1 array into 5 \n",
        "\n",
        "#for reference\n",
        "array_1 = np.random.randint(10, size=(2,10))\n",
        "print(\"ORIGINAL ARRAY\")\n",
        "print(\"array_1\\n\",array_1)\n",
        "print(\"\\nNEW CODE OUTPUT\") \n",
        "\n",
        "#new line of codes\n",
        "np.hsplit(array_1, 5) "
      ],
      "execution_count": null,
      "outputs": [
        {
          "output_type": "stream",
          "text": [
            "ORIGINAL ARRAY\n",
            "array_1\n",
            " [[8 9 5 5 5 0 1 7 5 4]\n",
            " [2 0 3 1 4 8 3 7 2 4]]\n",
            "\n",
            "NEW CODE OUTPUT\n"
          ],
          "name": "stdout"
        },
        {
          "output_type": "execute_result",
          "data": {
            "text/plain": [
              "[array([[8, 9],\n",
              "        [2, 0]]), array([[5, 5],\n",
              "        [3, 1]]), array([[5, 0],\n",
              "        [4, 8]]), array([[1, 7],\n",
              "        [3, 7]]), array([[5, 4],\n",
              "        [2, 4]])]"
            ]
          },
          "metadata": {
            "tags": []
          },
          "execution_count": 36
        }
      ]
    },
    {
      "cell_type": "code",
      "metadata": {
        "colab": {
          "base_uri": "https://localhost:8080/"
        },
        "id": "bn4cZTs36kEm",
        "outputId": "a043e8d8-7add-46dc-b3d8-6d7d8a0b4341"
      },
      "source": [
        "# splitting after 2nd and 4th column\n",
        "\n",
        "#for reference\n",
        "array_1 = np.random.randint(10, size=(2,10))\n",
        "print(\"ORIGINAL ARRAY\")\n",
        "print(\"array_1\\n\",array_1)\n",
        "print(\"\\nNEW CODE OUTPUT\") \n",
        "\n",
        "#new line of codes\n",
        "np.hsplit(array_1, (2,4)) "
      ],
      "execution_count": null,
      "outputs": [
        {
          "output_type": "stream",
          "text": [
            "ORIGINAL ARRAY\n",
            "array_1\n",
            " [[9 6 4 4 1 4 1 5 2 4]\n",
            " [6 0 3 5 7 7 5 0 4 4]]\n",
            "\n",
            "NEW CODE OUTPUT\n"
          ],
          "name": "stdout"
        },
        {
          "output_type": "execute_result",
          "data": {
            "text/plain": [
              "[array([[9, 6],\n",
              "        [6, 0]]), array([[4, 4],\n",
              "        [3, 5]]), array([[1, 4, 1, 5, 2, 4],\n",
              "        [7, 7, 5, 0, 4, 4]])]"
            ]
          },
          "metadata": {
            "tags": []
          },
          "execution_count": 37
        }
      ]
    },
    {
      "cell_type": "markdown",
      "metadata": {
        "id": "KsiRXY6u7Hn6"
      },
      "source": [
        "**Copying**"
      ]
    },
    {
      "cell_type": "code",
      "metadata": {
        "colab": {
          "base_uri": "https://localhost:8080/"
        },
        "id": "2QaLhatS7J5y",
        "outputId": "a93cfc60-a001-4285-880d-f97eca24d62d"
      },
      "source": [
        "array_1 = np.random.randint(10, size=(2,2))\n",
        "array_1"
      ],
      "execution_count": null,
      "outputs": [
        {
          "output_type": "execute_result",
          "data": {
            "text/plain": [
              "array([[6, 2],\n",
              "       [4, 7]])"
            ]
          },
          "metadata": {
            "tags": []
          },
          "execution_count": 38
        }
      ]
    },
    {
      "cell_type": "code",
      "metadata": {
        "id": "0tq6TjS-7lUq"
      },
      "source": [
        "array_2 = array_1\n",
        "#both variables are pointing at exactly same array"
      ],
      "execution_count": null,
      "outputs": []
    },
    {
      "cell_type": "code",
      "metadata": {
        "colab": {
          "base_uri": "https://localhost:8080/"
        },
        "id": "Wu4ohwXn8Q2R",
        "outputId": "246ce7f0-fecf-4098-a799-612bd478d277"
      },
      "source": [
        "#making changes in one variable will automatically make similar change in other\n",
        "array_1[0,0] = 100\n",
        "array_1"
      ],
      "execution_count": null,
      "outputs": [
        {
          "output_type": "execute_result",
          "data": {
            "text/plain": [
              "array([[100,   2],\n",
              "       [  4,   7]])"
            ]
          },
          "metadata": {
            "tags": []
          },
          "execution_count": 40
        }
      ]
    },
    {
      "cell_type": "code",
      "metadata": {
        "colab": {
          "base_uri": "https://localhost:8080/"
        },
        "id": "KfEzKWCy8lVQ",
        "outputId": "6890e68b-5c94-457c-ceb4-4fc5f020d378"
      },
      "source": [
        "# changes made in array_1 reflects in array_2 also\n",
        "array_2"
      ],
      "execution_count": null,
      "outputs": [
        {
          "output_type": "execute_result",
          "data": {
            "text/plain": [
              "array([[100,   2],\n",
              "       [  4,   7]])"
            ]
          },
          "metadata": {
            "tags": []
          },
          "execution_count": 41
        }
      ]
    },
    {
      "cell_type": "code",
      "metadata": {
        "colab": {
          "base_uri": "https://localhost:8080/"
        },
        "id": "fRbo2Nlg9EVL",
        "outputId": "ac0486b1-32db-4a8d-df5d-c51dd625b36e"
      },
      "source": [
        "# to aviod that we can use view()\n",
        "array_3 = array_1.view()\n",
        "array_3"
      ],
      "execution_count": null,
      "outputs": [
        {
          "output_type": "execute_result",
          "data": {
            "text/plain": [
              "array([[100,   2],\n",
              "       [  4,   7]])"
            ]
          },
          "metadata": {
            "tags": []
          },
          "execution_count": 42
        }
      ]
    },
    {
      "cell_type": "code",
      "metadata": {
        "colab": {
          "base_uri": "https://localhost:8080/"
        },
        "id": "B3RGi_q-9URP",
        "outputId": "4be39094-8de7-4cb2-b719-0d29fd554776"
      },
      "source": [
        "# lets make some changes to array_3\n",
        "array_3.flatten('F')"
      ],
      "execution_count": null,
      "outputs": [
        {
          "output_type": "execute_result",
          "data": {
            "text/plain": [
              "array([100,   4,   2,   7])"
            ]
          },
          "metadata": {
            "tags": []
          },
          "execution_count": 43
        }
      ]
    },
    {
      "cell_type": "code",
      "metadata": {
        "colab": {
          "base_uri": "https://localhost:8080/"
        },
        "id": "7IPfPrF09rlu",
        "outputId": "31b2e7a5-76a2-47e2-f5de-e4781cfe2388"
      },
      "source": [
        "#no change in array_1 \n",
        "array_1"
      ],
      "execution_count": null,
      "outputs": [
        {
          "output_type": "execute_result",
          "data": {
            "text/plain": [
              "array([[100,   2],\n",
              "       [  4,   7]])"
            ]
          },
          "metadata": {
            "tags": []
          },
          "execution_count": 44
        }
      ]
    },
    {
      "cell_type": "code",
      "metadata": {
        "colab": {
          "base_uri": "https://localhost:8080/"
        },
        "id": "PBzbn-149_bd",
        "outputId": "cd4908ff-c8f3-4d36-ea6f-f0f42b83d9eb"
      },
      "source": [
        "# copying array to different variable using copy()\n",
        "array_4 = array_1.copy()\n",
        "array_4 "
      ],
      "execution_count": null,
      "outputs": [
        {
          "output_type": "execute_result",
          "data": {
            "text/plain": [
              "array([[100,   2],\n",
              "       [  4,   7]])"
            ]
          },
          "metadata": {
            "tags": []
          },
          "execution_count": 45
        }
      ]
    },
    {
      "cell_type": "markdown",
      "metadata": {
        "id": "KiCJsiBN-Trq"
      },
      "source": [
        "**Basic Math**\n"
      ]
    },
    {
      "cell_type": "code",
      "metadata": {
        "colab": {
          "base_uri": "https://localhost:8080/"
        },
        "id": "rpUMu1iUBJXc",
        "outputId": "48d70b6d-f16e-4090-d2ef-71a2cfd2132f"
      },
      "source": [
        "# adding two arrays\n",
        "\n",
        "#for reference\n",
        "array_1 = np.random.randint(10, size=(2,2))\n",
        "array_2 = np.random.randint(10, size=(2,2))\n",
        "print(\"ORIGINAL ARRAY\")\n",
        "print(\"array_1\\n\",array_1)\n",
        "print(\"array_2\\n\",array_2)\n",
        "print(\"\\nNEW CODE OUTPUT\") \n",
        "\n",
        "#new line of codes\n",
        "print(array_1 + array_2)\n",
        "print(\"OR\")\n",
        "np.add(array_1, array_2)"
      ],
      "execution_count": null,
      "outputs": [
        {
          "output_type": "stream",
          "text": [
            "ORIGINAL ARRAY\n",
            "array_1\n",
            " [[0 6]\n",
            " [0 3]]\n",
            "array_2\n",
            " [[6 5]\n",
            " [3 9]]\n",
            "\n",
            "NEW CODE OUTPUT\n",
            "[[ 6 11]\n",
            " [ 3 12]]\n",
            "OR\n"
          ],
          "name": "stdout"
        },
        {
          "output_type": "execute_result",
          "data": {
            "text/plain": [
              "array([[ 6, 11],\n",
              "       [ 3, 12]])"
            ]
          },
          "metadata": {
            "tags": []
          },
          "execution_count": 46
        }
      ]
    },
    {
      "cell_type": "code",
      "metadata": {
        "colab": {
          "base_uri": "https://localhost:8080/"
        },
        "id": "EV4tfYj-BV1g",
        "outputId": "aaaaea8f-74a2-4771-decf-098253d00a01"
      },
      "source": [
        "# substracting two arrays\n",
        "\n",
        "#for reference\n",
        "array_1 = np.random.randint(10, size=(2,2))\n",
        "array_2 = np.random.randint(10, size=(2,2))\n",
        "print(\"ORIGINAL ARRAY\")\n",
        "print(\"array_1\\n\",array_1)\n",
        "print(\"array_2\\n\",array_2)\n",
        "print(\"\\nNEW CODE OUTPUT\") \n",
        "\n",
        "#new line of codes\n",
        "print(array_1 - array_2)\n",
        "print(\"OR\")\n",
        "np.subtract(array_1, array_2)"
      ],
      "execution_count": null,
      "outputs": [
        {
          "output_type": "stream",
          "text": [
            "ORIGINAL ARRAY\n",
            "array_1\n",
            " [[3 8]\n",
            " [9 6]]\n",
            "array_2\n",
            " [[0 0]\n",
            " [0 2]]\n",
            "\n",
            "NEW CODE OUTPUT\n",
            "[[3 8]\n",
            " [9 4]]\n",
            "OR\n"
          ],
          "name": "stdout"
        },
        {
          "output_type": "execute_result",
          "data": {
            "text/plain": [
              "array([[3, 8],\n",
              "       [9, 4]])"
            ]
          },
          "metadata": {
            "tags": []
          },
          "execution_count": 47
        }
      ]
    },
    {
      "cell_type": "code",
      "metadata": {
        "colab": {
          "base_uri": "https://localhost:8080/"
        },
        "id": "YLlh2ADLBXpI",
        "outputId": "2cc15414-e959-4dad-dfeb-c31212e607b4"
      },
      "source": [
        "# multiplying two arrays\n",
        "\n",
        "#for reference\n",
        "array_1 = np.random.randint(10, size=(2,2))\n",
        "array_2 = np.random.randint(10, size=(2,2))\n",
        "print(\"ORIGINAL ARRAY\")\n",
        "print(\"array_1\\n\",array_1)\n",
        "print(\"array_2\\n\",array_2)\n",
        "print(\"\\nNEW CODE OUTPUT\") \n",
        "\n",
        "#new line of codes\n",
        "print(array_1 * array_2)\n",
        "print(\"OR\")\n",
        "np.multiply(array_1, array_2)"
      ],
      "execution_count": null,
      "outputs": [
        {
          "output_type": "stream",
          "text": [
            "ORIGINAL ARRAY\n",
            "array_1\n",
            " [[1 9]\n",
            " [8 1]]\n",
            "array_2\n",
            " [[3 9]\n",
            " [6 1]]\n",
            "\n",
            "NEW CODE OUTPUT\n",
            "[[ 3 81]\n",
            " [48  1]]\n",
            "OR\n"
          ],
          "name": "stdout"
        },
        {
          "output_type": "execute_result",
          "data": {
            "text/plain": [
              "array([[ 3, 81],\n",
              "       [48,  1]])"
            ]
          },
          "metadata": {
            "tags": []
          },
          "execution_count": 48
        }
      ]
    },
    {
      "cell_type": "code",
      "metadata": {
        "colab": {
          "base_uri": "https://localhost:8080/"
        },
        "id": "UIr9eP_UBYVJ",
        "outputId": "1a5bdf6c-b0f2-4c6d-a2a5-e189edd27662"
      },
      "source": [
        "# dividing two arrays\n",
        "\n",
        "#for reference\n",
        "array_1 = np.random.randint(10, size=(2,2))\n",
        "array_2 = np.random.randint(10, size=(2,2))\n",
        "print(\"ORIGINAL ARRAY\")\n",
        "print(\"array_1\\n\",array_1)\n",
        "print(\"array_2\\n\",array_2)\n",
        "print(\"\\nNEW CODE OUTPUT\") \n",
        "\n",
        "#new line of codes\n",
        "print(array_1 / array_2)\n",
        "print(\"OR\")\n",
        "np.divide(array_1, array_2)"
      ],
      "execution_count": null,
      "outputs": [
        {
          "output_type": "stream",
          "text": [
            "ORIGINAL ARRAY\n",
            "array_1\n",
            " [[8 0]\n",
            " [6 9]]\n",
            "array_2\n",
            " [[0 5]\n",
            " [6 9]]\n",
            "\n",
            "NEW CODE OUTPUT\n",
            "[[inf  0.]\n",
            " [ 1.  1.]]\n",
            "OR\n"
          ],
          "name": "stdout"
        },
        {
          "output_type": "stream",
          "text": [
            "/usr/local/lib/python3.7/dist-packages/ipykernel_launcher.py:12: RuntimeWarning: divide by zero encountered in true_divide\n",
            "  if sys.path[0] == '':\n",
            "/usr/local/lib/python3.7/dist-packages/ipykernel_launcher.py:14: RuntimeWarning: divide by zero encountered in true_divide\n",
            "  \n"
          ],
          "name": "stderr"
        },
        {
          "output_type": "execute_result",
          "data": {
            "text/plain": [
              "array([[inf,  0.],\n",
              "       [ 1.,  1.]])"
            ]
          },
          "metadata": {
            "tags": []
          },
          "execution_count": 49
        }
      ]
    },
    {
      "cell_type": "code",
      "metadata": {
        "colab": {
          "base_uri": "https://localhost:8080/"
        },
        "id": "Mo8HtG3cGYgb",
        "outputId": "9f5802f0-5329-4dea-a089-8a5f24e9be91"
      },
      "source": [
        "# remainder\n",
        "\n",
        "#for reference\n",
        "array_1 = np.random.randint(10, size=(2,2))\n",
        "array_2 = np.random.randint(10, size=(2,2))\n",
        "print(\"ORIGINAL ARRAY\")\n",
        "print(\"array_1\\n\",array_1)\n",
        "print(\"array_2\\n\",array_2)\n",
        "print(\"\\nNEW CODE OUTPUT\") \n",
        "\n",
        "#new line of codes\n",
        "np.remainder(array_1, array_2)\n",
        "# array 3 is divided by 4 and remainder is the output"
      ],
      "execution_count": null,
      "outputs": [
        {
          "output_type": "stream",
          "text": [
            "ORIGINAL ARRAY\n",
            "array_1\n",
            " [[7 1]\n",
            " [7 2]]\n",
            "array_2\n",
            " [[4 1]\n",
            " [6 0]]\n",
            "\n",
            "NEW CODE OUTPUT\n"
          ],
          "name": "stdout"
        },
        {
          "output_type": "stream",
          "text": [
            "/usr/local/lib/python3.7/dist-packages/ipykernel_launcher.py:12: RuntimeWarning: divide by zero encountered in remainder\n",
            "  if sys.path[0] == '':\n"
          ],
          "name": "stderr"
        },
        {
          "output_type": "execute_result",
          "data": {
            "text/plain": [
              "array([[3, 0],\n",
              "       [1, 0]])"
            ]
          },
          "metadata": {
            "tags": []
          },
          "execution_count": 50
        }
      ]
    },
    {
      "cell_type": "code",
      "metadata": {
        "colab": {
          "base_uri": "https://localhost:8080/"
        },
        "id": "YQOwWfolGu-p",
        "outputId": "f53a3ce5-b443-4199-ec66-e0cf223fa942"
      },
      "source": [
        "#power\n",
        "\n",
        "#for reference\n",
        "array_1 = np.random.randint(10, size=(2,2))\n",
        "array_2 = np.random.randint(10, size=(2,2))\n",
        "print(\"ORIGINAL ARRAY\")\n",
        "print(\"array_1\\n\",array_1)\n",
        "print(\"array_2\\n\",array_2)\n",
        "print(\"\\nNEW CODE OUTPUT\") \n",
        "\n",
        "#new line of codes\n",
        "np.power(array_1,array_2) #values of array_1 to the power of values of array_2 at respective index"
      ],
      "execution_count": null,
      "outputs": [
        {
          "output_type": "stream",
          "text": [
            "ORIGINAL ARRAY\n",
            "array_1\n",
            " [[1 4]\n",
            " [1 2]]\n",
            "array_2\n",
            " [[4 3]\n",
            " [3 0]]\n",
            "\n",
            "NEW CODE OUTPUT\n"
          ],
          "name": "stdout"
        },
        {
          "output_type": "execute_result",
          "data": {
            "text/plain": [
              "array([[ 1, 64],\n",
              "       [ 1,  1]])"
            ]
          },
          "metadata": {
            "tags": []
          },
          "execution_count": 51
        }
      ]
    },
    {
      "cell_type": "code",
      "metadata": {
        "colab": {
          "base_uri": "https://localhost:8080/"
        },
        "id": "zr6o0GhDHdRi",
        "outputId": "a017d135-9e2c-4f83-a27a-47c3eca36c24"
      },
      "source": [
        "#sqaure root\n",
        "\n",
        "#for reference\n",
        "array_1 = np.random.randint(10, size=(2,2))\n",
        "print(\"ORIGINAL ARRAY\")\n",
        "print(\"array_1\\n\",array_1)\n",
        "print(\"\\nNEW CODE OUTPUT\") \n",
        "\n",
        "#new line of codes\n",
        "np.sqrt(array_1)"
      ],
      "execution_count": null,
      "outputs": [
        {
          "output_type": "stream",
          "text": [
            "ORIGINAL ARRAY\n",
            "array_1\n",
            " [[3 2]\n",
            " [9 0]]\n",
            "\n",
            "NEW CODE OUTPUT\n"
          ],
          "name": "stdout"
        },
        {
          "output_type": "execute_result",
          "data": {
            "text/plain": [
              "array([[1.73205081, 1.41421356],\n",
              "       [3.        , 0.        ]])"
            ]
          },
          "metadata": {
            "tags": []
          },
          "execution_count": 52
        }
      ]
    },
    {
      "cell_type": "code",
      "metadata": {
        "colab": {
          "base_uri": "https://localhost:8080/"
        },
        "id": "_teH-sI1Hf1G",
        "outputId": "f81f1c55-96ea-4a54-9577-512320c2d662"
      },
      "source": [
        "#cube root\n",
        "\n",
        "#for reference\n",
        "array_1 = np.random.randint(10, size=(2,2))\n",
        "print(\"ORIGINAL ARRAY\")\n",
        "print(\"array_1\\n\",array_1)\n",
        "print(\"\\nNEW CODE OUTPUT\") \n",
        "\n",
        "#new line of codes\n",
        "np.cbrt(array_1)"
      ],
      "execution_count": null,
      "outputs": [
        {
          "output_type": "stream",
          "text": [
            "ORIGINAL ARRAY\n",
            "array_1\n",
            " [[7 4]\n",
            " [7 1]]\n",
            "\n",
            "NEW CODE OUTPUT\n"
          ],
          "name": "stdout"
        },
        {
          "output_type": "execute_result",
          "data": {
            "text/plain": [
              "array([[1.91293118, 1.58740105],\n",
              "       [1.91293118, 1.        ]])"
            ]
          },
          "metadata": {
            "tags": []
          },
          "execution_count": 53
        }
      ]
    },
    {
      "cell_type": "code",
      "metadata": {
        "colab": {
          "base_uri": "https://localhost:8080/"
        },
        "id": "XzOTEz2IHuhA",
        "outputId": "8c2bd1d8-da2d-4651-9ea0-b81f929a4dc8"
      },
      "source": [
        "# absolute values\n",
        "np.absolute([-1,-6,-7])"
      ],
      "execution_count": null,
      "outputs": [
        {
          "output_type": "execute_result",
          "data": {
            "text/plain": [
              "array([1, 6, 7])"
            ]
          },
          "metadata": {
            "tags": []
          },
          "execution_count": 54
        }
      ]
    },
    {
      "cell_type": "code",
      "metadata": {
        "colab": {
          "base_uri": "https://localhost:8080/"
        },
        "id": "1uF2jiCtSSf9",
        "outputId": "1a029539-44bb-4175-8474-43a31b18b98c"
      },
      "source": [
        "# expotential\n",
        "\n",
        "#for reference\n",
        "array_1 = np.random.randint(10, size=(2,2))\n",
        "print(\"ORIGINAL ARRAY\")\n",
        "print(\"array_1\\n\",array_1)\n",
        "print(\"\\nNEW CODE OUTPUT\") \n",
        "\n",
        "#new line of codes\n",
        "np.exp(array_1)"
      ],
      "execution_count": null,
      "outputs": [
        {
          "output_type": "stream",
          "text": [
            "ORIGINAL ARRAY\n",
            "array_1\n",
            " [[6 8]\n",
            " [4 3]]\n",
            "\n",
            "NEW CODE OUTPUT\n"
          ],
          "name": "stdout"
        },
        {
          "output_type": "execute_result",
          "data": {
            "text/plain": [
              "array([[ 403.42879349, 2980.95798704],\n",
              "       [  54.59815003,   20.08553692]])"
            ]
          },
          "metadata": {
            "tags": []
          },
          "execution_count": 55
        }
      ]
    },
    {
      "cell_type": "code",
      "metadata": {
        "colab": {
          "base_uri": "https://localhost:8080/"
        },
        "id": "Xqa2IzUXScbi",
        "outputId": "420481f0-95c0-4be6-f782-12b703addeb0"
      },
      "source": [
        "#log \n",
        "\n",
        "#for reference\n",
        "array_1 = np.random.randint(10, size=(2,2))\n",
        "print(\"ORIGINAL ARRAY\")\n",
        "print(\"array_1\\n\",array_1)\n",
        "print(\"\\nNEW CODE OUTPUT\") \n",
        "\n",
        "#new line of codes\n",
        "print(np.log(array_1))\n",
        "print(\"And\")\n",
        "print(np.log10(array_1)) #base 10"
      ],
      "execution_count": null,
      "outputs": [
        {
          "output_type": "stream",
          "text": [
            "ORIGINAL ARRAY\n",
            "array_1\n",
            " [[0 8]\n",
            " [1 8]]\n",
            "\n",
            "NEW CODE OUTPUT\n",
            "[[      -inf 2.07944154]\n",
            " [0.         2.07944154]]\n",
            "And\n",
            "[[      -inf 0.90308999]\n",
            " [0.         0.90308999]]\n"
          ],
          "name": "stdout"
        },
        {
          "output_type": "stream",
          "text": [
            "/usr/local/lib/python3.7/dist-packages/ipykernel_launcher.py:10: RuntimeWarning: divide by zero encountered in log\n",
            "  # Remove the CWD from sys.path while we load stuff.\n",
            "/usr/local/lib/python3.7/dist-packages/ipykernel_launcher.py:12: RuntimeWarning: divide by zero encountered in log10\n",
            "  if sys.path[0] == '':\n"
          ],
          "name": "stderr"
        }
      ]
    },
    {
      "cell_type": "code",
      "metadata": {
        "colab": {
          "base_uri": "https://localhost:8080/"
        },
        "id": "krCbN8HDCINi",
        "outputId": "e405a5a2-adaf-4ce0-bd16-546b6b052280"
      },
      "source": [
        "#we can pull any value at random from an array\n",
        "\n",
        "#for reference\n",
        "array_1 = np.random.randint(1,10,8)\n",
        "print(\"ORIGINAL ARRAY\")\n",
        "print(\"array_1\\n\",array_1)\n",
        "print(\"\\nNEW CODE OUTPUT\") \n",
        "\n",
        "#new line of codes\n",
        "np.random.choice(array_1)\n",
        "\n",
        "#everytime you run the code the array_1 values will be different and hence the output will be different"
      ],
      "execution_count": null,
      "outputs": [
        {
          "output_type": "stream",
          "text": [
            "ORIGINAL ARRAY\n",
            "array_1\n",
            " [2 7 7 7 2 7 5 7]\n",
            "\n",
            "NEW CODE OUTPUT\n"
          ],
          "name": "stdout"
        },
        {
          "output_type": "execute_result",
          "data": {
            "text/plain": [
              "7"
            ]
          },
          "metadata": {
            "tags": []
          },
          "execution_count": 60
        }
      ]
    },
    {
      "cell_type": "code",
      "metadata": {
        "colab": {
          "base_uri": "https://localhost:8080/"
        },
        "id": "hDY1nBYFCh7A",
        "outputId": "9f0a3f46-589a-4664-d998-a51e0eec4d83"
      },
      "source": [
        "# add all the values inside array\n",
        "\n",
        "#for reference\n",
        "array_1 = np.random.randint(1,10,8)\n",
        "print(\"ORIGINAL ARRAY\")\n",
        "print(\"array_1\\n\",array_1)\n",
        "print(\"\\nNEW CODE OUTPUT\") \n",
        "\n",
        "#new line of codes\n",
        "array_1.sum()"
      ],
      "execution_count": null,
      "outputs": [
        {
          "output_type": "stream",
          "text": [
            "ORIGINAL ARRAY\n",
            "array_1\n",
            " [3 7 4 2 9 9 3 2]\n",
            "\n",
            "NEW CODE OUTPUT\n"
          ],
          "name": "stdout"
        },
        {
          "output_type": "execute_result",
          "data": {
            "text/plain": [
              "39"
            ]
          },
          "metadata": {
            "tags": []
          },
          "execution_count": 61
        }
      ]
    },
    {
      "cell_type": "code",
      "metadata": {
        "colab": {
          "base_uri": "https://localhost:8080/"
        },
        "id": "GHaRDuxVCmCP",
        "outputId": "aa07a5dc-98e1-4527-b502-86dd831646e3"
      },
      "source": [
        "# add columns of array\n",
        "\n",
        "#for reference\n",
        "array_1 = np.random.randint(10, size=(3,3))\n",
        "print(\"ORIGINAL ARRAY\")\n",
        "print(\"array_1\\n\",array_1)\n",
        "print(\"\\nNEW CODE OUTPUT\") \n",
        "\n",
        "#new line of codes\n",
        "array_1.sum(axis=0)"
      ],
      "execution_count": null,
      "outputs": [
        {
          "output_type": "stream",
          "text": [
            "ORIGINAL ARRAY\n",
            "array_1\n",
            " [[3 2 2]\n",
            " [2 9 3]\n",
            " [9 7 7]]\n",
            "\n",
            "NEW CODE OUTPUT\n"
          ],
          "name": "stdout"
        },
        {
          "output_type": "execute_result",
          "data": {
            "text/plain": [
              "array([14, 18, 12])"
            ]
          },
          "metadata": {
            "tags": []
          },
          "execution_count": 62
        }
      ]
    },
    {
      "cell_type": "code",
      "metadata": {
        "colab": {
          "base_uri": "https://localhost:8080/"
        },
        "id": "wu_-HItiDIib",
        "outputId": "9a99cc59-8308-4294-dbc2-3c04f6a8cb3c"
      },
      "source": [
        "#cumulative sum of rows\n",
        "\n",
        "#for reference\n",
        "array_1 = np.random.randint(10, size=(3,3))\n",
        "print(\"ORIGINAL ARRAY\")\n",
        "print(\"array_1\\n\",array_1)\n",
        "print(\"\\nNEW CODE OUTPUT\") \n",
        "\n",
        "#new line of codes\n",
        "array_1.cumsum(axis=1)"
      ],
      "execution_count": null,
      "outputs": [
        {
          "output_type": "stream",
          "text": [
            "ORIGINAL ARRAY\n",
            "array_1\n",
            " [[6 9 8]\n",
            " [8 9 9]\n",
            " [6 5 6]]\n",
            "\n",
            "NEW CODE OUTPUT\n"
          ],
          "name": "stdout"
        },
        {
          "output_type": "execute_result",
          "data": {
            "text/plain": [
              "array([[ 6, 15, 23],\n",
              "       [ 8, 17, 26],\n",
              "       [ 6, 11, 17]])"
            ]
          },
          "metadata": {
            "tags": []
          },
          "execution_count": 63
        }
      ]
    },
    {
      "cell_type": "code",
      "metadata": {
        "colab": {
          "base_uri": "https://localhost:8080/"
        },
        "id": "zRlXyBxVDWaK",
        "outputId": "627e06ee-2608-4a20-8474-e035d1031990"
      },
      "source": [
        "# get minimum value from rows\n",
        "\n",
        "#for reference\n",
        "array_1 = np.random.randint(10, size=(3,3))\n",
        "print(\"ORIGINAL ARRAY\")\n",
        "print(\"array_1\\n\",array_1)\n",
        "print(\"\\nNEW CODE OUTPUT\") \n",
        "\n",
        "#new line of codes\n",
        "array_1.min(axis=1) "
      ],
      "execution_count": null,
      "outputs": [
        {
          "output_type": "stream",
          "text": [
            "ORIGINAL ARRAY\n",
            "array_1\n",
            " [[7 1 5]\n",
            " [5 1 6]\n",
            " [0 7 7]]\n",
            "\n",
            "NEW CODE OUTPUT\n"
          ],
          "name": "stdout"
        },
        {
          "output_type": "execute_result",
          "data": {
            "text/plain": [
              "array([1, 1, 0])"
            ]
          },
          "metadata": {
            "tags": []
          },
          "execution_count": 64
        }
      ]
    },
    {
      "cell_type": "code",
      "metadata": {
        "colab": {
          "base_uri": "https://localhost:8080/"
        },
        "id": "0mQvWn4XyvLa",
        "outputId": "df2be493-7274-4144-b6ce-f6aef0f1a400"
      },
      "source": [
        "# get minimum value from columns\n",
        "\n",
        "#for reference\n",
        "array_1 = np.random.randint(10, size=(3,3))\n",
        "print(\"ORIGINAL ARRAY\")\n",
        "print(\"array_1\\n\",array_1)\n",
        "print(\"\\nNEW CODE OUTPUT\") \n",
        "\n",
        "#new line of codes\n",
        "array_1.min(axis=0)"
      ],
      "execution_count": null,
      "outputs": [
        {
          "output_type": "stream",
          "text": [
            "ORIGINAL ARRAY\n",
            "array_1\n",
            " [[9 9 8]\n",
            " [8 5 9]\n",
            " [2 2 4]]\n",
            "\n",
            "NEW CODE OUTPUT\n"
          ],
          "name": "stdout"
        },
        {
          "output_type": "execute_result",
          "data": {
            "text/plain": [
              "array([2, 2, 4])"
            ]
          },
          "metadata": {
            "tags": []
          },
          "execution_count": 65
        }
      ]
    },
    {
      "cell_type": "code",
      "metadata": {
        "colab": {
          "base_uri": "https://localhost:8080/"
        },
        "id": "woh6TEROE3Pb",
        "outputId": "f11a3200-b271-4b92-defb-37df626db2df"
      },
      "source": [
        "# get maximum from rows\n",
        "\n",
        "#for reference\n",
        "array_1 = np.random.randint(10, size=(3,3))\n",
        "print(\"ORIGINAL ARRAY\")\n",
        "print(\"array_1\\n\",array_1)\n",
        "print(\"\\nNEW CODE OUTPUT\") \n",
        "\n",
        "#new line of codes\n",
        "array_1.max(axis=1)"
      ],
      "execution_count": null,
      "outputs": [
        {
          "output_type": "stream",
          "text": [
            "ORIGINAL ARRAY\n",
            "array_1\n",
            " [[2 1 7]\n",
            " [1 5 4]\n",
            " [4 0 5]]\n",
            "\n",
            "NEW CODE OUTPUT\n"
          ],
          "name": "stdout"
        },
        {
          "output_type": "execute_result",
          "data": {
            "text/plain": [
              "array([7, 5, 5])"
            ]
          },
          "metadata": {
            "tags": []
          },
          "execution_count": 66
        }
      ]
    },
    {
      "cell_type": "code",
      "metadata": {
        "colab": {
          "base_uri": "https://localhost:8080/"
        },
        "id": "201pEY2uzBCs",
        "outputId": "add292e0-e3b1-4944-f57e-fa78273b07b0"
      },
      "source": [
        "# get maximum from columns\n",
        "\n",
        "#for reference\n",
        "array_1 = np.random.randint(10, size=(3,3))\n",
        "print(\"ORIGINAL ARRAY\")\n",
        "print(\"array_1\\n\",array_1)\n",
        "print(\"\\nNEW CODE OUTPUT\") \n",
        "\n",
        "#new line of codes\n",
        "array_1.max(axis=0)"
      ],
      "execution_count": null,
      "outputs": [
        {
          "output_type": "stream",
          "text": [
            "ORIGINAL ARRAY\n",
            "array_1\n",
            " [[4 1 5]\n",
            " [4 6 2]\n",
            " [1 7 7]]\n",
            "\n",
            "NEW CODE OUTPUT\n"
          ],
          "name": "stdout"
        },
        {
          "output_type": "execute_result",
          "data": {
            "text/plain": [
              "array([4, 7, 7])"
            ]
          },
          "metadata": {
            "tags": []
          },
          "execution_count": 67
        }
      ]
    },
    {
      "cell_type": "code",
      "metadata": {
        "colab": {
          "base_uri": "https://localhost:8080/"
        },
        "id": "EawLP6MIjjiR",
        "outputId": "e23d8e54-0e51-4b62-b011-9454d938f82b"
      },
      "source": [
        "#greatest common divisor\n",
        "np.gcd.reduce([9,12,15])"
      ],
      "execution_count": null,
      "outputs": [
        {
          "output_type": "execute_result",
          "data": {
            "text/plain": [
              "3"
            ]
          },
          "metadata": {
            "tags": []
          },
          "execution_count": 68
        }
      ]
    },
    {
      "cell_type": "code",
      "metadata": {
        "colab": {
          "base_uri": "https://localhost:8080/"
        },
        "id": "LuLuGPc8j8Jw",
        "outputId": "ba44da61-5c18-4d26-dadc-e62130528f23"
      },
      "source": [
        "#least common multiple\n",
        "np.lcm.reduce([9,12,15])"
      ],
      "execution_count": null,
      "outputs": [
        {
          "output_type": "execute_result",
          "data": {
            "text/plain": [
              "180"
            ]
          },
          "metadata": {
            "tags": []
          },
          "execution_count": 69
        }
      ]
    },
    {
      "cell_type": "code",
      "metadata": {
        "colab": {
          "base_uri": "https://localhost:8080/"
        },
        "id": "vYxlHDMWkbyX",
        "outputId": "c3c89310-09a2-4c74-e739-ce357bc355de"
      },
      "source": [
        "# round down a decimal number \n",
        "np.floor([1.6,2.4])"
      ],
      "execution_count": null,
      "outputs": [
        {
          "output_type": "execute_result",
          "data": {
            "text/plain": [
              "array([1., 2.])"
            ]
          },
          "metadata": {
            "tags": []
          },
          "execution_count": 70
        }
      ]
    },
    {
      "cell_type": "code",
      "metadata": {
        "colab": {
          "base_uri": "https://localhost:8080/"
        },
        "id": "7bBgjd9Skubz",
        "outputId": "69cbb66d-0b9e-42bb-ce8d-67101c0c85b3"
      },
      "source": [
        "# round up a decimal number \n",
        "np.ceil([1.6,2.4])"
      ],
      "execution_count": null,
      "outputs": [
        {
          "output_type": "execute_result",
          "data": {
            "text/plain": [
              "array([2., 3.])"
            ]
          },
          "metadata": {
            "tags": []
          },
          "execution_count": 71
        }
      ]
    },
    {
      "cell_type": "code",
      "metadata": {
        "colab": {
          "base_uri": "https://localhost:8080/"
        },
        "id": "b1nn85BXk8lk",
        "outputId": "af3c53b0-cca7-4510-bed1-b8f6996862bc"
      },
      "source": [
        "#can receive 6 values and sqaure them\n",
        "sq_array = np.arange(6)**2\n",
        "print(\"sq_array:\",sq_array)"
      ],
      "execution_count": null,
      "outputs": [
        {
          "output_type": "stream",
          "text": [
            "sq_array: [ 0  1  4  9 16 25]\n"
          ],
          "name": "stdout"
        }
      ]
    },
    {
      "cell_type": "code",
      "metadata": {
        "colab": {
          "base_uri": "https://localhost:8080/"
        },
        "id": "U-bHFYS7mm3M",
        "outputId": "c87a1645-0864-408a-f4e9-df8357858a40"
      },
      "source": [
        "# get index of maximum value for each column\n",
        "\n",
        "#for reference\n",
        "array_1 = np.random.randint(10, size=(3,3))\n",
        "print(\"ORIGINAL ARRAY\")\n",
        "print(\"array_1\\n\",array_1)\n",
        "print(\"\\nNEW CODE OUTPUT\") \n",
        "\n",
        "#new line of codes\n",
        "mc_index = array_1.argmax(axis=0)\n",
        "mc_index\n"
      ],
      "execution_count": null,
      "outputs": [
        {
          "output_type": "stream",
          "text": [
            "ORIGINAL ARRAY\n",
            "array_1\n",
            " [[3 1 6]\n",
            " [6 2 3]\n",
            " [7 7 2]]\n",
            "\n",
            "NEW CODE OUTPUT\n"
          ],
          "name": "stdout"
        },
        {
          "output_type": "execute_result",
          "data": {
            "text/plain": [
              "array([2, 2, 0])"
            ]
          },
          "metadata": {
            "tags": []
          },
          "execution_count": 73
        }
      ]
    },
    {
      "cell_type": "code",
      "metadata": {
        "colab": {
          "base_uri": "https://localhost:8080/"
        },
        "id": "eC3WWrXO0SGq",
        "outputId": "240ee88d-c2ce-434e-c1cc-4a3a86831e75"
      },
      "source": [
        "# get index of maximum value for each row\n",
        "\n",
        "#for reference\n",
        "array_1 = np.random.randint(10, size=(3,3))\n",
        "print(\"ORIGINAL ARRAY\")\n",
        "print(\"array_1\\n\",array_1)\n",
        "print(\"\\nNEW CODE OUTPUT\") \n",
        "\n",
        "#new line of codes\n",
        "mr_index = array_1.argmax(axis=1)\n",
        "mr_index"
      ],
      "execution_count": null,
      "outputs": [
        {
          "output_type": "stream",
          "text": [
            "ORIGINAL ARRAY\n",
            "array_1\n",
            " [[6 2 7]\n",
            " [9 5 2]\n",
            " [8 3 0]]\n",
            "\n",
            "NEW CODE OUTPUT\n"
          ],
          "name": "stdout"
        },
        {
          "output_type": "execute_result",
          "data": {
            "text/plain": [
              "array([2, 0, 0])"
            ]
          },
          "metadata": {
            "tags": []
          },
          "execution_count": 74
        }
      ]
    },
    {
      "cell_type": "markdown",
      "metadata": {
        "id": "3THv8D9Fn3Jq"
      },
      "source": [
        "**Reading from Files**"
      ]
    },
    {
      "cell_type": "code",
      "metadata": {
        "id": "RLQYzp3Mn_79"
      },
      "source": [
        "import pandas as pd\n",
        "from numpy import genfromtxt"
      ],
      "execution_count": null,
      "outputs": []
    },
    {
      "cell_type": "markdown",
      "metadata": {
        "id": "tx61Ja2JiVht"
      },
      "source": [
        "Download dataset from [here](https://github.com/derekbanas/NumPy-Tutorial)"
      ]
    },
    {
      "cell_type": "code",
      "metadata": {
        "colab": {
          "base_uri": "https://localhost:8080/"
        },
        "id": "gliqu04-zdT3",
        "outputId": "ab3bff17-e692-4977-c62b-fe6e15e826b8"
      },
      "source": [
        "# uploading dataset\n",
        "#using pandas\n",
        "ic_sales = pd.read_csv('icecreamsales.csv').to_numpy()\n",
        "ic_sales"
      ],
      "execution_count": null,
      "outputs": [
        {
          "output_type": "execute_result",
          "data": {
            "text/plain": [
              "array([[ 37, 292],\n",
              "       [ 40, 228],\n",
              "       [ 49, 324],\n",
              "       [ 61, 376],\n",
              "       [ 72, 440],\n",
              "       [ 79, 496],\n",
              "       [ 83, 536],\n",
              "       [ 81, 556],\n",
              "       [ 75, 496],\n",
              "       [ 64, 412],\n",
              "       [ 53, 324],\n",
              "       [ 42, 320]])"
            ]
          },
          "metadata": {
            "tags": []
          },
          "execution_count": 76
        }
      ]
    },
    {
      "cell_type": "code",
      "metadata": {
        "colab": {
          "base_uri": "https://localhost:8080/"
        },
        "id": "mQms6l6FxGZ7",
        "outputId": "645989ad-426b-436d-e8f2-29909489855e"
      },
      "source": [
        "#using numpy\n",
        "ic_sales_2 = genfromtxt('icecreamsales.csv', delimiter=',') #delimiter- how that info is going to be separated\n",
        "ic_sales_2"
      ],
      "execution_count": null,
      "outputs": [
        {
          "output_type": "execute_result",
          "data": {
            "text/plain": [
              "array([[ nan,  nan],\n",
              "       [ 37., 292.],\n",
              "       [ 40., 228.],\n",
              "       [ 49., 324.],\n",
              "       [ 61., 376.],\n",
              "       [ 72., 440.],\n",
              "       [ 79., 496.],\n",
              "       [ 83., 536.],\n",
              "       [ 81., 556.],\n",
              "       [ 75., 496.],\n",
              "       [ 64., 412.],\n",
              "       [ 53., 324.],\n",
              "       [ 42., 320.]])"
            ]
          },
          "metadata": {
            "tags": []
          },
          "execution_count": 77
        }
      ]
    },
    {
      "cell_type": "code",
      "metadata": {
        "colab": {
          "base_uri": "https://localhost:8080/"
        },
        "id": "9UrEO7xaxSRT",
        "outputId": "c4c17b6e-d7ae-4228-e4fe-ed428747fb8c"
      },
      "source": [
        "# if there are any nan values\n",
        "ic_sales_2 = [row[~np.isnan(row)] for row in ic_sales_2]\n",
        "ic_sales_2"
      ],
      "execution_count": null,
      "outputs": [
        {
          "output_type": "execute_result",
          "data": {
            "text/plain": [
              "[array([], dtype=float64),\n",
              " array([ 37., 292.]),\n",
              " array([ 40., 228.]),\n",
              " array([ 49., 324.]),\n",
              " array([ 61., 376.]),\n",
              " array([ 72., 440.]),\n",
              " array([ 79., 496.]),\n",
              " array([ 83., 536.]),\n",
              " array([ 81., 556.]),\n",
              " array([ 75., 496.]),\n",
              " array([ 64., 412.]),\n",
              " array([ 53., 324.]),\n",
              " array([ 42., 320.])]"
            ]
          },
          "metadata": {
            "tags": []
          },
          "execution_count": 78
        }
      ]
    },
    {
      "cell_type": "markdown",
      "metadata": {
        "id": "kpmGugkro-Mj"
      },
      "source": [
        "**Statistics Functions**"
      ]
    },
    {
      "cell_type": "code",
      "metadata": {
        "colab": {
          "base_uri": "https://localhost:8080/"
        },
        "id": "y-CFmXiYpWHW",
        "outputId": "511fd5d0-9c90-48d5-8a9e-ec5446e12895"
      },
      "source": [
        "#mean\n",
        "\n",
        "#for reference\n",
        "array_1 = np.random.randint(1,10,6)\n",
        "print(\"ORIGINAL ARRAY\")\n",
        "print(\"array_1\\n\",array_1)\n",
        "print(\"\\nNEW CODE OUTPUT\") \n",
        "\n",
        "#new line of codes\n",
        "np.mean(array_1)"
      ],
      "execution_count": null,
      "outputs": [
        {
          "output_type": "stream",
          "text": [
            "ORIGINAL ARRAY\n",
            "array_1\n",
            " [5 4 6 5 9 6]\n",
            "\n",
            "NEW CODE OUTPUT\n"
          ],
          "name": "stdout"
        },
        {
          "output_type": "execute_result",
          "data": {
            "text/plain": [
              "5.833333333333333"
            ]
          },
          "metadata": {
            "tags": []
          },
          "execution_count": 79
        }
      ]
    },
    {
      "cell_type": "code",
      "metadata": {
        "colab": {
          "base_uri": "https://localhost:8080/"
        },
        "id": "1bdv_iR6pb-F",
        "outputId": "c6ef99f2-4e8e-4259-aa7d-61b6df887efd"
      },
      "source": [
        "#median\n",
        "\n",
        "#for reference\n",
        "array_1 = np.random.randint(1,10,6)\n",
        "print(\"ORIGINAL ARRAY\")\n",
        "print(\"array_1\\n\",array_1)\n",
        "print(\"\\nNEW CODE OUTPUT\") \n",
        "\n",
        "#new line of codes\n",
        "np.median(array_1)"
      ],
      "execution_count": null,
      "outputs": [
        {
          "output_type": "stream",
          "text": [
            "ORIGINAL ARRAY\n",
            "array_1\n",
            " [8 2 6 6 7 3]\n",
            "\n",
            "NEW CODE OUTPUT\n"
          ],
          "name": "stdout"
        },
        {
          "output_type": "execute_result",
          "data": {
            "text/plain": [
              "6.0"
            ]
          },
          "metadata": {
            "tags": []
          },
          "execution_count": 80
        }
      ]
    },
    {
      "cell_type": "code",
      "metadata": {
        "colab": {
          "base_uri": "https://localhost:8080/"
        },
        "id": "nDPwArUVppup",
        "outputId": "e4b43717-0781-4a69-a65b-ee7c77cf9ee5"
      },
      "source": [
        "#standard deviation\n",
        "\n",
        "#for reference\n",
        "array_1 = np.random.randint(1,10,6)\n",
        "print(\"ORIGINAL ARRAY\")\n",
        "print(\"array_1\\n\",array_1)\n",
        "print(\"\\nNEW CODE OUTPUT\") \n",
        "\n",
        "#new line of codes\n",
        "np.std(array_1)"
      ],
      "execution_count": null,
      "outputs": [
        {
          "output_type": "stream",
          "text": [
            "ORIGINAL ARRAY\n",
            "array_1\n",
            " [4 1 9 3 5 4]\n",
            "\n",
            "NEW CODE OUTPUT\n"
          ],
          "name": "stdout"
        },
        {
          "output_type": "execute_result",
          "data": {
            "text/plain": [
              "2.4267032964268394"
            ]
          },
          "metadata": {
            "tags": []
          },
          "execution_count": 81
        }
      ]
    },
    {
      "cell_type": "code",
      "metadata": {
        "colab": {
          "base_uri": "https://localhost:8080/"
        },
        "id": "s7Kw6ItfpyQM",
        "outputId": "00bdd614-b589-4ba9-aa20-fb61022b4044"
      },
      "source": [
        "# variance\n",
        "\n",
        "#for reference\n",
        "array_1 = np.random.randint(1,10,6)\n",
        "print(\"ORIGINAL ARRAY\")\n",
        "print(\"array_1\\n\",array_1)\n",
        "print(\"\\nNEW CODE OUTPUT\") \n",
        "\n",
        "#new line of codes\n",
        "np.var(array_1)\n",
        "\n",
        "# Use nanmean, nanmedian, nanstd, nanvar if there are any missing values"
      ],
      "execution_count": null,
      "outputs": [
        {
          "output_type": "stream",
          "text": [
            "ORIGINAL ARRAY\n",
            "array_1\n",
            " [4 1 4 6 4 7]\n",
            "\n",
            "NEW CODE OUTPUT\n"
          ],
          "name": "stdout"
        },
        {
          "output_type": "execute_result",
          "data": {
            "text/plain": [
              "3.5555555555555554"
            ]
          },
          "metadata": {
            "tags": []
          },
          "execution_count": 82
        }
      ]
    },
    {
      "cell_type": "code",
      "metadata": {
        "colab": {
          "base_uri": "https://localhost:8080/"
        },
        "id": "5SZR9Mt0qSEf",
        "outputId": "c4675ef5-148c-4dbe-fd53-754457b56376"
      },
      "source": [
        "print('ic_sales\\n', ic_sales)\n",
        "\n",
        "# 50 percentile of a data\n",
        "\n",
        "print(\"\\n50 percentile of a data:\")\n",
        "np.percentile(ic_sales, 50, axis=0)"
      ],
      "execution_count": null,
      "outputs": [
        {
          "output_type": "stream",
          "text": [
            "ic_sales\n",
            " [[ 37 292]\n",
            " [ 40 228]\n",
            " [ 49 324]\n",
            " [ 61 376]\n",
            " [ 72 440]\n",
            " [ 79 496]\n",
            " [ 83 536]\n",
            " [ 81 556]\n",
            " [ 75 496]\n",
            " [ 64 412]\n",
            " [ 53 324]\n",
            " [ 42 320]]\n",
            "\n",
            "50 percentile of a data:\n"
          ],
          "name": "stdout"
        },
        {
          "output_type": "execute_result",
          "data": {
            "text/plain": [
              "array([ 62.5, 394. ])"
            ]
          },
          "metadata": {
            "tags": []
          },
          "execution_count": 83
        }
      ]
    },
    {
      "cell_type": "code",
      "metadata": {
        "colab": {
          "base_uri": "https://localhost:8080/"
        },
        "id": "7OwAzvaWywIn",
        "outputId": "8daa95ac-121a-4ecc-8c38-8048b07bde59"
      },
      "source": [
        "#extract first column\n",
        "ic_sales[:,0]"
      ],
      "execution_count": null,
      "outputs": [
        {
          "output_type": "execute_result",
          "data": {
            "text/plain": [
              "array([37, 40, 49, 61, 72, 79, 83, 81, 75, 64, 53, 42])"
            ]
          },
          "metadata": {
            "tags": []
          },
          "execution_count": 84
        }
      ]
    },
    {
      "cell_type": "code",
      "metadata": {
        "colab": {
          "base_uri": "https://localhost:8080/"
        },
        "id": "hS4MoiMezBFs",
        "outputId": "522390cd-eddd-4daf-f3c6-07e8dd4f0d94"
      },
      "source": [
        "#extract second column\n",
        "ic_sales[:,1]"
      ],
      "execution_count": null,
      "outputs": [
        {
          "output_type": "execute_result",
          "data": {
            "text/plain": [
              "array([292, 228, 324, 376, 440, 496, 536, 556, 496, 412, 324, 320])"
            ]
          },
          "metadata": {
            "tags": []
          },
          "execution_count": 85
        }
      ]
    },
    {
      "cell_type": "code",
      "metadata": {
        "colab": {
          "base_uri": "https://localhost:8080/"
        },
        "id": "O2VYOPIUzH3H",
        "outputId": "7bf820d6-4d70-4261-ed1b-b7a187ad10d0"
      },
      "source": [
        "# correlation coefficient\n",
        "np.corrcoef(ic_sales[:,0], ic_sales[:,1])\n",
        "\n",
        "#value close to 1 means highly correlated"
      ],
      "execution_count": null,
      "outputs": [
        {
          "output_type": "execute_result",
          "data": {
            "text/plain": [
              "array([[1.        , 0.96604719],\n",
              "       [0.96604719, 1.        ]])"
            ]
          },
          "metadata": {
            "tags": []
          },
          "execution_count": 86
        }
      ]
    },
    {
      "cell_type": "code",
      "metadata": {
        "colab": {
          "base_uri": "https://localhost:8080/"
        },
        "id": "vIOViqU6zi1t",
        "outputId": "6ab165e2-fe30-4759-d9c7-60963fa24650"
      },
      "source": [
        "# regression line\n",
        "# sum of [(x-mean(x))*(y-mean(y))] / sum of [(x-mean(x))^2]\n",
        "temp_mean = np.mean(ic_sales[:,0])\n",
        "sales_mean = np.mean(ic_sales[:,1])\n",
        "numerator = np.sum(((ic_sales[:,0]-temp_mean)*(ic_sales[:,1]-sales_mean)))\n",
        "denominator = np.sum(np.square(ic_sales[:,0]-temp_mean))\n",
        "slope = numerator/denominator\n",
        "y_i= sales_mean - slope*temp_mean\n",
        "print(\"y_i =\",y_i)\n",
        "reg_arr = ic_sales[:,0]*slope+y_i\n",
        "print(\"reg_arr:\",reg_arr)"
      ],
      "execution_count": null,
      "outputs": [
        {
          "output_type": "stream",
          "text": [
            "y_i = 28.22402736212058\n",
            "reg_arr: [252.5019239  270.68661821 325.24070115 397.97947841 464.65669089\n",
            " 507.08764429 531.33390338 519.21077383 482.84138521 416.16417272\n",
            " 349.48696024 282.80974776]\n"
          ],
          "name": "stdout"
        }
      ]
    },
    {
      "cell_type": "markdown",
      "metadata": {
        "id": "kDULz6kw4TjU"
      },
      "source": [
        "**Trignometric Functions**"
      ]
    },
    {
      "cell_type": "code",
      "metadata": {
        "colab": {
          "base_uri": "https://localhost:8080/",
          "height": 282
        },
        "id": "W6TDEAfB4Sc9",
        "outputId": "c65ff871-0422-4614-cff9-c394419a4d7c"
      },
      "source": [
        "#plotting sin function\n",
        "t_arr = np.linspace(-np.pi, np.pi, 200)\n",
        "plt.plot(t_arr, np.sin(t_arr))"
      ],
      "execution_count": null,
      "outputs": [
        {
          "output_type": "execute_result",
          "data": {
            "text/plain": [
              "[<matplotlib.lines.Line2D at 0x7f6c006f1a90>]"
            ]
          },
          "metadata": {
            "tags": []
          },
          "execution_count": 88
        },
        {
          "output_type": "display_data",
          "data": {
            "image/png": "[encoded data removed]",
            "text/plain": [
              "<Figure size 432x288 with 1 Axes>"
            ]
          },
          "metadata": {
            "tags": [],
            "needs_background": "light"
          }
        }
      ]
    },
    {
      "cell_type": "code",
      "metadata": {
        "colab": {
          "base_uri": "https://localhost:8080/",
          "height": 316
        },
        "id": "z0FjjyIf95fn",
        "outputId": "f4627dcc-ac91-46f4-b1e1-1da3e95f4f92"
      },
      "source": [
        "#plotting sin inverse\n",
        "plt.plot(t_arr, np.arcsin(t_arr))"
      ],
      "execution_count": null,
      "outputs": [
        {
          "output_type": "stream",
          "text": [
            "/usr/local/lib/python3.7/dist-packages/ipykernel_launcher.py:2: RuntimeWarning: invalid value encountered in arcsin\n",
            "  \n"
          ],
          "name": "stderr"
        },
        {
          "output_type": "execute_result",
          "data": {
            "text/plain": [
              "[<matplotlib.lines.Line2D at 0x7f6c0025b550>]"
            ]
          },
          "metadata": {
            "tags": []
          },
          "execution_count": 89
        },
        {
          "output_type": "display_data",
          "data": {
            "image/png": "[encoded data removed]",
            "text/plain": [
              "<Figure size 432x288 with 1 Axes>"
            ]
          },
          "metadata": {
            "tags": [],
            "needs_background": "light"
          }
        }
      ]
    },
    {
      "cell_type": "code",
      "metadata": {
        "colab": {
          "base_uri": "https://localhost:8080/",
          "height": 282
        },
        "id": "MzGHF6L9-UAe",
        "outputId": "7a79d0b4-1c8d-4a6a-9640-191c5a13dcc0"
      },
      "source": [
        "#plotting sin hyperbolic \n",
        "plt.plot(t_arr, np.sinh(t_arr))"
      ],
      "execution_count": null,
      "outputs": [
        {
          "output_type": "execute_result",
          "data": {
            "text/plain": [
              "[<matplotlib.lines.Line2D at 0x7f6c001cedd0>]"
            ]
          },
          "metadata": {
            "tags": []
          },
          "execution_count": 90
        },
        {
          "output_type": "display_data",
          "data": {
            "image/png": "[encoded data removed]",
            "text/plain": [
              "<Figure size 432x288 with 1 Axes>"
            ]
          },
          "metadata": {
            "tags": [],
            "needs_background": "light"
          }
        }
      ]
    },
    {
      "cell_type": "code",
      "metadata": {
        "colab": {
          "base_uri": "https://localhost:8080/",
          "height": 282
        },
        "id": "B2LGeubT5Fw7",
        "outputId": "d990329e-1ff4-45de-9351-31320c393575"
      },
      "source": [
        "#plotting cosine function\n",
        "t_arr = np.linspace(-np.pi, np.pi, 200)\n",
        "plt.plot(t_arr, np.cos(t_arr))"
      ],
      "execution_count": null,
      "outputs": [
        {
          "output_type": "execute_result",
          "data": {
            "text/plain": [
              "[<matplotlib.lines.Line2D at 0x7f6c00141710>]"
            ]
          },
          "metadata": {
            "tags": []
          },
          "execution_count": 91
        },
        {
          "output_type": "display_data",
          "data": {
            "image/png": "[encoded data removed]",
            "text/plain": [
              "<Figure size 432x288 with 1 Axes>"
            ]
          },
          "metadata": {
            "tags": [],
            "needs_background": "light"
          }
        }
      ]
    },
    {
      "cell_type": "code",
      "metadata": {
        "colab": {
          "base_uri": "https://localhost:8080/",
          "height": 316
        },
        "id": "FR95EaDn-nDQ",
        "outputId": "cff79df8-87b6-4d58-ecce-1bae83d84baa"
      },
      "source": [
        "#plotting cosine inverse \n",
        "#t_arr = np.linspace(-np.pi, np.pi, 200)\n",
        "plt.plot(t_arr, np.arccos(t_arr))"
      ],
      "execution_count": null,
      "outputs": [
        {
          "output_type": "stream",
          "text": [
            "/usr/local/lib/python3.7/dist-packages/ipykernel_launcher.py:3: RuntimeWarning: invalid value encountered in arccos\n",
            "  This is separate from the ipykernel package so we can avoid doing imports until\n"
          ],
          "name": "stderr"
        },
        {
          "output_type": "execute_result",
          "data": {
            "text/plain": [
              "[<matplotlib.lines.Line2D at 0x7f6c000b7850>]"
            ]
          },
          "metadata": {
            "tags": []
          },
          "execution_count": 92
        },
        {
          "output_type": "display_data",
          "data": {
            "image/png": "[encoded data removed]",
            "text/plain": [
              "<Figure size 432x288 with 1 Axes>"
            ]
          },
          "metadata": {
            "tags": [],
            "needs_background": "light"
          }
        }
      ]
    },
    {
      "cell_type": "code",
      "metadata": {
        "colab": {
          "base_uri": "https://localhost:8080/",
          "height": 284
        },
        "id": "bux53Khj-_fJ",
        "outputId": "ff919670-3d08-4222-ac04-21db2c524d44"
      },
      "source": [
        "#plotting cosine function\n",
        "#t_arr = np.linspace(-np.pi, np.pi, 200)\n",
        "plt.plot(t_arr, np.cosh(t_arr))"
      ],
      "execution_count": null,
      "outputs": [
        {
          "output_type": "execute_result",
          "data": {
            "text/plain": [
              "[<matplotlib.lines.Line2D at 0x7f6c00029d10>]"
            ]
          },
          "metadata": {
            "tags": []
          },
          "execution_count": 93
        },
        {
          "output_type": "display_data",
          "data": {
            "image/png": "[encoded data removed]",
            "text/plain": [
              "<Figure size 432x288 with 1 Axes>"
            ]
          },
          "metadata": {
            "tags": [],
            "needs_background": "light"
          }
        }
      ]
    },
    {
      "cell_type": "code",
      "metadata": {
        "colab": {
          "base_uri": "https://localhost:8080/",
          "height": 282
        },
        "id": "mNbV4ifU5jXJ",
        "outputId": "51421dc4-6ac7-426b-cd04-8a7f26e1a85d"
      },
      "source": [
        "#plotting tan function\n",
        "t_arr = np.linspace(-np.pi, np.pi, 200)\n",
        "plt.plot(t_arr, np.tan(t_arr))"
      ],
      "execution_count": null,
      "outputs": [
        {
          "output_type": "execute_result",
          "data": {
            "text/plain": [
              "[<matplotlib.lines.Line2D at 0x7f6c00018d50>]"
            ]
          },
          "metadata": {
            "tags": []
          },
          "execution_count": 94
        },
        {
          "output_type": "display_data",
          "data": {
            "image/png": "[encoded data removed]",
            "text/plain": [
              "<Figure size 432x288 with 1 Axes>"
            ]
          },
          "metadata": {
            "tags": [],
            "needs_background": "light"
          }
        }
      ]
    },
    {
      "cell_type": "code",
      "metadata": {
        "colab": {
          "base_uri": "https://localhost:8080/",
          "height": 282
        },
        "id": "5R41CfCKCjyX",
        "outputId": "38c165cb-a912-4003-e909-9741ac0bd518"
      },
      "source": [
        "#plotting tan inverse function\n",
        "#t_arr = np.linspace(-np.pi, np.pi, 200)\n",
        "plt.plot(t_arr, np.arctan(t_arr))"
      ],
      "execution_count": null,
      "outputs": [
        {
          "output_type": "execute_result",
          "data": {
            "text/plain": [
              "[<matplotlib.lines.Line2D at 0x7f6bfff95250>]"
            ]
          },
          "metadata": {
            "tags": []
          },
          "execution_count": 95
        },
        {
          "output_type": "display_data",
          "data": {
            "image/png": "[encoded data removed]",
            "text/plain": [
              "<Figure size 432x288 with 1 Axes>"
            ]
          },
          "metadata": {
            "tags": [],
            "needs_background": "light"
          }
        }
      ]
    },
    {
      "cell_type": "code",
      "metadata": {
        "colab": {
          "base_uri": "https://localhost:8080/",
          "height": 282
        },
        "id": "nE2ICH7S9cOo",
        "outputId": "7118fc2c-7a9a-4243-9ea2-901b63debfd2"
      },
      "source": [
        "#plotting tan hyperbolic function\n",
        "#t_arr = np.linspace(-np.pi, np.pi, 200)\n",
        "plt.plot(t_arr, np.tanh(t_arr))"
      ],
      "execution_count": null,
      "outputs": [
        {
          "output_type": "execute_result",
          "data": {
            "text/plain": [
              "[<matplotlib.lines.Line2D at 0x7f6bffef2890>]"
            ]
          },
          "metadata": {
            "tags": []
          },
          "execution_count": 96
        },
        {
          "output_type": "display_data",
          "data": {
            "image/png": "[encoded data removed]",
            "text/plain": [
              "<Figure size 432x288 with 1 Axes>"
            ]
          },
          "metadata": {
            "tags": [],
            "needs_background": "light"
          }
        }
      ]
    },
    {
      "cell_type": "code",
      "metadata": {
        "colab": {
          "base_uri": "https://localhost:8080/"
        },
        "id": "dD1ZCbKrDe6C",
        "outputId": "2a72badf-b440-4675-a648-a802ce73c961"
      },
      "source": [
        "#radian to degree\n",
        "np.rad2deg(np.pi)"
      ],
      "execution_count": null,
      "outputs": [
        {
          "output_type": "execute_result",
          "data": {
            "text/plain": [
              "180.0"
            ]
          },
          "metadata": {
            "tags": []
          },
          "execution_count": 97
        }
      ]
    },
    {
      "cell_type": "code",
      "metadata": {
        "colab": {
          "base_uri": "https://localhost:8080/"
        },
        "id": "DERs_dj-Dh8E",
        "outputId": "2c680c47-fbf9-44b7-b0a0-c2252a419690"
      },
      "source": [
        "# degree to radian \n",
        "np.deg2rad(180)"
      ],
      "execution_count": null,
      "outputs": [
        {
          "output_type": "execute_result",
          "data": {
            "text/plain": [
              "3.141592653589793"
            ]
          },
          "metadata": {
            "tags": []
          },
          "execution_count": 98
        }
      ]
    },
    {
      "cell_type": "code",
      "metadata": {
        "colab": {
          "base_uri": "https://localhost:8080/"
        },
        "id": "DYW68EuuDyOc",
        "outputId": "44bf6f5d-dc1b-4a5f-cc07-4442d3486eb6"
      },
      "source": [
        "# find hypotenuse when you know sides\n",
        "np.hypot(10,10)"
      ],
      "execution_count": null,
      "outputs": [
        {
          "output_type": "execute_result",
          "data": {
            "text/plain": [
              "14.142135623730951"
            ]
          },
          "metadata": {
            "tags": []
          },
          "execution_count": 99
        }
      ]
    },
    {
      "cell_type": "markdown",
      "metadata": {
        "id": "jRerPR_qEGbI"
      },
      "source": [
        "**Linear Algebra Functions**"
      ]
    },
    {
      "cell_type": "code",
      "metadata": {
        "id": "qpk6kDuvEFz0"
      },
      "source": [
        "#Importing Linear Algebra library\n",
        "from numpy import linalg as LA"
      ],
      "execution_count": null,
      "outputs": []
    },
    {
      "cell_type": "code",
      "metadata": {
        "colab": {
          "base_uri": "https://localhost:8080/"
        },
        "id": "K6IAieduFYbV",
        "outputId": "5e07dbcd-5208-4be0-cadb-eaa42389f75f"
      },
      "source": [
        "# dot product\n",
        "\n",
        "#for reference\n",
        "array_1 = np.array([[1,2],[3,4]])\n",
        "array_2 = np.array([[2,4],[6,9]])\n",
        "\n",
        "# Matrix multiplication with Dot Product\n",
        "# (1 * 2) + (2 * 6) = 14 [0,0]\n",
        "# (1 * 4) + (2 * 9) = 22 [0,1]\n",
        "# (3 * 2) + (4 * 6) = 30 [1,0]\n",
        "# (3 * 4) + (4 * 9) = 12 + 36 = 48 [1,1]\n",
        "\n",
        "\n",
        "print(\"ORIGINAL ARRAY\")\n",
        "print(\"array_1:\\n\",array_1)\n",
        "print(\"array_2:\\n\",array_2)\n",
        "print(\"\\nNEW CODE OUTPUT\") \n",
        "\n",
        "#new line of codes\n",
        "print(np.dot(array_1, array_2))"
      ],
      "execution_count": null,
      "outputs": [
        {
          "output_type": "stream",
          "text": [
            "ORIGINAL ARRAY\n",
            "array_1:\n",
            " [[1 2]\n",
            " [3 4]]\n",
            "array_2:\n",
            " [[2 4]\n",
            " [6 9]]\n",
            "\n",
            "NEW CODE OUTPUT\n",
            "[[14 22]\n",
            " [30 48]]\n"
          ],
          "name": "stdout"
        }
      ]
    },
    {
      "cell_type": "code",
      "metadata": {
        "colab": {
          "base_uri": "https://localhost:8080/"
        },
        "id": "tp8_RDxXGxuL",
        "outputId": "038ad40a-ac08-495b-95e2-c3f0452e7655"
      },
      "source": [
        "# to perform dot product on multiple arrays\n",
        "\n",
        "#for reference\n",
        "array_1 = np.array([[1,2],[3,4]])\n",
        "array_2 = np.array([[2,4],[6,9]])\n",
        "array_3 = np.array([[5,6],[7,8]])\n",
        "print(\"ORIGINAL ARRAY\")\n",
        "print(\"array_1:\\n\",array_1)\n",
        "print(\"array_2:\\n\",array_2)\n",
        "print(\"array_3:\\n\",array_3)\n",
        "print(\"\\nNEW CODE OUTPUT\") \n",
        "\n",
        "#new line of codes\n",
        "print(LA.multi_dot([array_1, array_2, array_3]))"
      ],
      "execution_count": null,
      "outputs": [
        {
          "output_type": "stream",
          "text": [
            "ORIGINAL ARRAY\n",
            "array_1:\n",
            " [[1 2]\n",
            " [3 4]]\n",
            "array_2:\n",
            " [[2 4]\n",
            " [6 9]]\n",
            "array_3:\n",
            " [[5 6]\n",
            " [7 8]]\n",
            "\n",
            "NEW CODE OUTPUT\n",
            "[[224 260]\n",
            " [486 564]]\n"
          ],
          "name": "stdout"
        }
      ]
    },
    {
      "cell_type": "code",
      "metadata": {
        "colab": {
          "base_uri": "https://localhost:8080/"
        },
        "id": "8eEEHfmdGH6c",
        "outputId": "8e939c7b-27dc-4bd6-ce97-d91e7f9d8e21"
      },
      "source": [
        "# inner product\n",
        "\n",
        "#for reference\n",
        "array_1 = np.array([[1,2],[3,4]])\n",
        "array_2 = np.array([[2,4],[6,9]])\n",
        "\n",
        "# (1 * 2) + (2 * 4) = 10 [0,0]\n",
        "# (1 * 6) + (2 * 9) = 24 [0,1]\n",
        "# (3 * 2) + (4 * 4) = 22 [1,0]\n",
        "# (3 * 6) + (4 * 9) = 54 [1,1]\n",
        "\n",
        "print(\"ORIGINAL ARRAY\")\n",
        "print(\"array_1\\n\",array_1)\n",
        "print(\"array_2\\n\",array_2)\n",
        "print(\"\\nNEW CODE OUTPUT\") \n",
        "\n",
        "#new line of codes\n",
        "np.inner(array_1,array_2)"
      ],
      "execution_count": null,
      "outputs": [
        {
          "output_type": "stream",
          "text": [
            "ORIGINAL ARRAY\n",
            "array_1\n",
            " [[1 2]\n",
            " [3 4]]\n",
            "array_2\n",
            " [[2 4]\n",
            " [6 9]]\n",
            "\n",
            "NEW CODE OUTPUT\n"
          ],
          "name": "stdout"
        },
        {
          "output_type": "execute_result",
          "data": {
            "text/plain": [
              "array([[10, 24],\n",
              "       [22, 54]])"
            ]
          },
          "metadata": {
            "tags": []
          },
          "execution_count": 103
        }
      ]
    },
    {
      "cell_type": "code",
      "metadata": {
        "colab": {
          "base_uri": "https://localhost:8080/"
        },
        "id": "Zyei3wPsImmi",
        "outputId": "e6052eae-b4e1-45dd-8df9-ea387249f0e6"
      },
      "source": [
        "# tensor dot product\n",
        "#(1*1)+(2*2)+(3*3)+(4*4) = 30\n",
        "#(5*1)+(6*2)+(7*3)+(8*4) = 70\n",
        "array_1 = np.array([[[1,2],\n",
        "                  [3,4]],\n",
        "                 [[5,6],\n",
        "                  [7,8]]])\n",
        "array_2 = np.array([[1,2],[3,4]], dtype=object)\n",
        "np.tensordot(array_1,array_2)"
      ],
      "execution_count": null,
      "outputs": [
        {
          "output_type": "execute_result",
          "data": {
            "text/plain": [
              "array([30, 70], dtype=object)"
            ]
          },
          "metadata": {
            "tags": []
          },
          "execution_count": 104
        }
      ]
    },
    {
      "cell_type": "code",
      "metadata": {
        "id": "LszmcYFdNpJ6",
        "colab": {
          "base_uri": "https://localhost:8080/",
          "height": 52
        },
        "outputId": "2f1c352a-3816-4147-b4b8-bbddffc3c8b8"
      },
      "source": [
        "\"\"\"\n",
        "Einstein Summation: provides many ways to perform\n",
        "operations on multiple arrays\n",
        "\n",
        "Using the Einstein summation convention, many common multi-dimensional,\n",
        "linear algebraic array operations can be represented in a simple fashion.\n",
        "\n",
        "here we take a look at few of them\n",
        "\"\"\""
      ],
      "execution_count": null,
      "outputs": [
        {
          "output_type": "execute_result",
          "data": {
            "application/vnd.google.colaboratory.intrinsic+json": {
              "type": "string"
            },
            "text/plain": [
              "'\\nEinstein Summation: provides many ways to perform\\noperations on multiple arrays\\n\\nUsing the Einstein summation convention, many common multi-dimensional,\\nlinear algebraic array operations can be represented in a simple fashion.\\n\\nhere we take a look at few of them\\n'"
            ]
          },
          "metadata": {
            "tags": []
          },
          "execution_count": 105
        }
      ]
    },
    {
      "cell_type": "code",
      "metadata": {
        "colab": {
          "base_uri": "https://localhost:8080/"
        },
        "id": "SalshkJaCSyB",
        "outputId": "1d398989-7496-4a15-85e8-e47d681f5fb7"
      },
      "source": [
        "array_1 = np.array([0,1])\n",
        "array_2 = np.array([[0,1,2,3],[4,5,6,7]])\n",
        "print(\"array_1:\\n\",array_1)\n",
        "print(\"array_2:\\n\",array_2)\n",
        "print(\"\\nNEW CODE OUTPUT:\") \n",
        "np.einsum('i,ij->i', array_1, array_2)\n",
        "\n",
        "#'i,ij->i'\n",
        "#the part on the left side of arrow means we are going to use 1 axis for array_1\n",
        "# and 2 axes(ij) for array_2\n",
        "#the part on the right of '->' means we want one 1d array\n",
        "# 'ij' means we want to multiply array_1 and its individual single items by each column of array_2\n",
        "#[0*(0+1+2+3),1*(4+5+6+7)] "
      ],
      "execution_count": null,
      "outputs": [
        {
          "output_type": "stream",
          "text": [
            "array_1:\n",
            " [0 1]\n",
            "array_2:\n",
            " [[0 1 2 3]\n",
            " [4 5 6 7]]\n",
            "\n",
            "NEW CODE OUTPUT:\n"
          ],
          "name": "stdout"
        },
        {
          "output_type": "execute_result",
          "data": {
            "text/plain": [
              "array([ 0, 22])"
            ]
          },
          "metadata": {
            "tags": []
          },
          "execution_count": 106
        }
      ]
    },
    {
      "cell_type": "code",
      "metadata": {
        "colab": {
          "base_uri": "https://localhost:8080/"
        },
        "id": "BA8hsslBGF0h",
        "outputId": "62c85ae0-df1b-403c-ad98-db4cdbe26654"
      },
      "source": [
        "#Einstein summation:sum of all elements in a array\n",
        "array_1 = np.array([0,1])\n",
        "print(\"array_1:\\n\",array_1)\n",
        "print(\"\\nNEW CODE OUTPUT:\") \n",
        "np.einsum('i->',array_1)"
      ],
      "execution_count": null,
      "outputs": [
        {
          "output_type": "stream",
          "text": [
            "array_1:\n",
            " [0 1]\n",
            "\n",
            "NEW CODE OUTPUT:\n"
          ],
          "name": "stdout"
        },
        {
          "output_type": "execute_result",
          "data": {
            "text/plain": [
              "1"
            ]
          },
          "metadata": {
            "tags": []
          },
          "execution_count": 107
        }
      ]
    },
    {
      "cell_type": "code",
      "metadata": {
        "colab": {
          "base_uri": "https://localhost:8080/"
        },
        "id": "qtAdNXekHmiP",
        "outputId": "41e70bed-2599-4005-9c4e-246ae9166dfa"
      },
      "source": [
        "#Einstein summation:dot product\n",
        "array_1 = np.array([1, 2, 3, 4])\n",
        "array_2 = np.array([2, 4, 6, 8])\n",
        "print(\"array_1:\\n\",array_1)\n",
        "print(\"array_2:\\n\",array_2)\n",
        "print(\"\\nNEW CODE OUTPUT:\") \n",
        "np.einsum('i,i->', array_1, array_2)"
      ],
      "execution_count": null,
      "outputs": [
        {
          "output_type": "stream",
          "text": [
            "array_1:\n",
            " [1 2 3 4]\n",
            "array_2:\n",
            " [2 4 6 8]\n",
            "\n",
            "NEW CODE OUTPUT:\n"
          ],
          "name": "stdout"
        },
        {
          "output_type": "execute_result",
          "data": {
            "text/plain": [
              "60"
            ]
          },
          "metadata": {
            "tags": []
          },
          "execution_count": 108
        }
      ]
    },
    {
      "cell_type": "code",
      "metadata": {
        "colab": {
          "base_uri": "https://localhost:8080/"
        },
        "id": "2fOgMVJdIjLz",
        "outputId": "04ae742f-8143-4582-8844-74413f57cd26"
      },
      "source": [
        "#matrix multiplication\n",
        "\n",
        "array_1 = np.array([[1,2],[3,4]])\n",
        "array_2 = np.array([[2,4],[6,9]])\n",
        "print(\"array_1:\\n\",array_1)\n",
        "print(\"array_2:\\n\",array_2)\n",
        "print(\"\\nNEW CODE OUTPUT:\") \n",
        "np.einsum('ij,jk->', array_1, array_2)"
      ],
      "execution_count": null,
      "outputs": [
        {
          "output_type": "stream",
          "text": [
            "array_1:\n",
            " [[1 2]\n",
            " [3 4]]\n",
            "array_2:\n",
            " [[2 4]\n",
            " [6 9]]\n",
            "\n",
            "NEW CODE OUTPUT:\n"
          ],
          "name": "stdout"
        },
        {
          "output_type": "execute_result",
          "data": {
            "text/plain": [
              "114"
            ]
          },
          "metadata": {
            "tags": []
          },
          "execution_count": 109
        }
      ]
    },
    {
      "cell_type": "code",
      "metadata": {
        "colab": {
          "base_uri": "https://localhost:8080/"
        },
        "id": "MfEuwDdssxgU",
        "outputId": "5d298482-8eda-4e64-9db6-49b9f0093b18"
      },
      "source": [
        "#Einstein summation: Trace of a matrix\n",
        "array_1 = np.array([[1,2],[3,4]])\n",
        "print(\"array_1\\n\",array_1)\n",
        "print(\"\\nNEW CODE OUTPUT:\") \n",
        "np.einsum('ii', array_1)"
      ],
      "execution_count": null,
      "outputs": [
        {
          "output_type": "stream",
          "text": [
            "array_1\n",
            " [[1 2]\n",
            " [3 4]]\n",
            "\n",
            "NEW CODE OUTPUT:\n"
          ],
          "name": "stdout"
        },
        {
          "output_type": "execute_result",
          "data": {
            "text/plain": [
              "5"
            ]
          },
          "metadata": {
            "tags": []
          },
          "execution_count": 110
        }
      ]
    },
    {
      "cell_type": "code",
      "metadata": {
        "colab": {
          "base_uri": "https://localhost:8080/"
        },
        "id": "RnODM62TtnFv",
        "outputId": "828a0d21-460e-4129-d5d3-2eac18b73476"
      },
      "source": [
        "#Einstein summation: matrix transpose\n",
        "array_1 = np.array([[1,2],[3,4]])\n",
        "print(\"array_1\\n\",array_1)\n",
        "print(\"\\nNEW CODE OUTPUT:\")\n",
        "np.einsum('ji', array_1)"
      ],
      "execution_count": null,
      "outputs": [
        {
          "output_type": "stream",
          "text": [
            "array_1\n",
            " [[1 2]\n",
            " [3 4]]\n",
            "\n",
            "NEW CODE OUTPUT:\n"
          ],
          "name": "stdout"
        },
        {
          "output_type": "execute_result",
          "data": {
            "text/plain": [
              "array([[1, 3],\n",
              "       [2, 4]])"
            ]
          },
          "metadata": {
            "tags": []
          },
          "execution_count": 111
        }
      ]
    },
    {
      "cell_type": "code",
      "metadata": {
        "colab": {
          "base_uri": "https://localhost:8080/"
        },
        "id": "CuURk3KvuU_4",
        "outputId": "12638726-ce4e-44e3-9c91-c9a35756adc8"
      },
      "source": [
        "#Einstein summation: Extract the diagonal\n",
        "array_1 = np.array([[1,2],[3,4]])\n",
        "print(\"array_1\\n\",array_1)\n",
        "print(\"\\nNEW CODE OUTPUT:\") \n",
        "np.einsum('ii->i', array_1)"
      ],
      "execution_count": null,
      "outputs": [
        {
          "output_type": "stream",
          "text": [
            "array_1\n",
            " [[1 2]\n",
            " [3 4]]\n",
            "\n",
            "NEW CODE OUTPUT:\n"
          ],
          "name": "stdout"
        },
        {
          "output_type": "execute_result",
          "data": {
            "text/plain": [
              "array([1, 4])"
            ]
          },
          "metadata": {
            "tags": []
          },
          "execution_count": 112
        }
      ]
    },
    {
      "cell_type": "code",
      "metadata": {
        "colab": {
          "base_uri": "https://localhost:8080/"
        },
        "id": "YhWrYtZJTrqC",
        "outputId": "b906ea26-c8ea-4043-9a4d-df787fe19e88"
      },
      "source": [
        "#raise matrix to the power of n\n",
        "#given [[a,b],[c,d]]\n",
        "#[[a^2 + bc, ab + db], [ac+dc, d^2+bc]]\n",
        "\n",
        "#for reference\n",
        "array_1 = np.array([[1,2],[3,4]])\n",
        "print(\"array_1\\n\",array_1)\n",
        "print(\"\\nNEW CODE OUTPUT:\") \n",
        "\n",
        "#new line of codes\n",
        "LA.matrix_power(array_1,2)"
      ],
      "execution_count": null,
      "outputs": [
        {
          "output_type": "stream",
          "text": [
            "array_1\n",
            " [[1 2]\n",
            " [3 4]]\n",
            "\n",
            "NEW CODE OUTPUT:\n"
          ],
          "name": "stdout"
        },
        {
          "output_type": "execute_result",
          "data": {
            "text/plain": [
              "array([[ 7, 10],\n",
              "       [15, 22]])"
            ]
          },
          "metadata": {
            "tags": []
          },
          "execution_count": 113
        }
      ]
    },
    {
      "cell_type": "code",
      "metadata": {
        "colab": {
          "base_uri": "https://localhost:8080/"
        },
        "id": "HtqbnDZ6U1jt",
        "outputId": "82e15651-189c-490a-e191-a57febd3ddc9"
      },
      "source": [
        "#kronecker product of 2 arrays\n",
        "#given [[a,b],[c,d]],[[e,f],[g,h]]\n",
        "#[[a*e,a*f,b*e,b*f], [a*g,a*h,b*g,b*h],..]\n",
        "\n",
        "#for reference\n",
        "array_1 = np.array([[1,2],[3,4]])\n",
        "array_2 = np.array([[2,4],[6,9]])\n",
        "print(\"array_1:\\n\",array_1)\n",
        "print(\"array_2:\\n\",array_2)\n",
        "print(\"\\nNEW CODE OUTPUT:\") \n",
        "\n",
        "#new line of codes\n",
        "np.kron(array_1,array_2)"
      ],
      "execution_count": null,
      "outputs": [
        {
          "output_type": "stream",
          "text": [
            "array_1:\n",
            " [[1 2]\n",
            " [3 4]]\n",
            "array_2:\n",
            " [[2 4]\n",
            " [6 9]]\n",
            "\n",
            "NEW CODE OUTPUT:\n"
          ],
          "name": "stdout"
        },
        {
          "output_type": "execute_result",
          "data": {
            "text/plain": [
              "array([[ 2,  4,  4,  8],\n",
              "       [ 6,  9, 12, 18],\n",
              "       [ 6, 12,  8, 16],\n",
              "       [18, 27, 24, 36]])"
            ]
          },
          "metadata": {
            "tags": []
          },
          "execution_count": 114
        }
      ]
    },
    {
      "cell_type": "code",
      "metadata": {
        "colab": {
          "base_uri": "https://localhost:8080/"
        },
        "id": "hLIgWZHNVpyH",
        "outputId": "ab793526-f5c2-46f3-f55b-3ebe4790d276"
      },
      "source": [
        "#eigenvalues\n",
        "\n",
        "array_1 = np.array([[1,2],[3,4]])\n",
        "print(\"array_1\\n\",array_1)\n",
        "print(\"\\nNEW CODE OUTPUT:\") \n",
        "\n",
        "#new line of codes\n",
        "LA.eigvals(array_1)"
      ],
      "execution_count": null,
      "outputs": [
        {
          "output_type": "stream",
          "text": [
            "array_1\n",
            " [[1 2]\n",
            " [3 4]]\n",
            "\n",
            "NEW CODE OUTPUT:\n"
          ],
          "name": "stdout"
        },
        {
          "output_type": "execute_result",
          "data": {
            "text/plain": [
              "array([-0.37228132,  5.37228132])"
            ]
          },
          "metadata": {
            "tags": []
          },
          "execution_count": 115
        }
      ]
    },
    {
      "cell_type": "code",
      "metadata": {
        "colab": {
          "base_uri": "https://localhost:8080/"
        },
        "id": "z0ZrR6OVV3B7",
        "outputId": "1dcc1481-b776-4ed1-acab-68a30c84eb32"
      },
      "source": [
        "# eigenvectors\n",
        "\n",
        "array_1 = np.array([[1,2],[3,4]])\n",
        "print(\"array_1\\n\",array_1)\n",
        "print(\"\\nNEW CODE OUTPUT:\") \n",
        "\n",
        "#new line of codes\n",
        "LA.eig(array_1)"
      ],
      "execution_count": null,
      "outputs": [
        {
          "output_type": "stream",
          "text": [
            "array_1\n",
            " [[1 2]\n",
            " [3 4]]\n",
            "\n",
            "NEW CODE OUTPUT:\n"
          ],
          "name": "stdout"
        },
        {
          "output_type": "execute_result",
          "data": {
            "text/plain": [
              "(array([-0.37228132,  5.37228132]), array([[-0.82456484, -0.41597356],\n",
              "        [ 0.56576746, -0.90937671]]))"
            ]
          },
          "metadata": {
            "tags": []
          },
          "execution_count": 116
        }
      ]
    },
    {
      "cell_type": "code",
      "metadata": {
        "colab": {
          "base_uri": "https://localhost:8080/"
        },
        "id": "NdO6t0gnYkPS",
        "outputId": "f22606c5-f086-4e16-f0c1-ceda6ed42e29"
      },
      "source": [
        "#get vector norm \n",
        "#sqrt(sum(x**2))\n",
        "\n",
        "array_1 = np.array([[1,2],[3,4]])\n",
        "print(\"array_1\\n\",array_1)\n",
        "print(\"\\nNEW CODE OUTPUT:\") \n",
        "\n",
        "#new line of codes\n",
        "LA.norm(array_1)"
      ],
      "execution_count": null,
      "outputs": [
        {
          "output_type": "stream",
          "text": [
            "array_1\n",
            " [[1 2]\n",
            " [3 4]]\n",
            "\n",
            "NEW CODE OUTPUT:\n"
          ],
          "name": "stdout"
        },
        {
          "output_type": "execute_result",
          "data": {
            "text/plain": [
              "5.477225575051661"
            ]
          },
          "metadata": {
            "tags": []
          },
          "execution_count": 117
        }
      ]
    },
    {
      "cell_type": "code",
      "metadata": {
        "colab": {
          "base_uri": "https://localhost:8080/"
        },
        "id": "EVBm77dsY4w_",
        "outputId": "c33cf8d1-aa13-4d2a-eb46-e3a857c900c7"
      },
      "source": [
        "#get multiplicative inverse of a matrix\n",
        "\n",
        "array_1 = np.array([[1,2],[3,4]])\n",
        "print(\"array_1\\n\",array_1)\n",
        "print(\"\\nNEW CODE OUTPUT:\") \n",
        "\n",
        "#new line of code\n",
        "LA.inv(array_1)"
      ],
      "execution_count": null,
      "outputs": [
        {
          "output_type": "stream",
          "text": [
            "array_1\n",
            " [[1 2]\n",
            " [3 4]]\n",
            "\n",
            "NEW CODE OUTPUT:\n"
          ],
          "name": "stdout"
        },
        {
          "output_type": "execute_result",
          "data": {
            "text/plain": [
              "array([[-2. ,  1. ],\n",
              "       [ 1.5, -0.5]])"
            ]
          },
          "metadata": {
            "tags": []
          },
          "execution_count": 118
        }
      ]
    },
    {
      "cell_type": "code",
      "metadata": {
        "colab": {
          "base_uri": "https://localhost:8080/"
        },
        "id": "5a7Qv4hyZITC",
        "outputId": "333ea064-d5e9-4148-a300-2b11981b6eab"
      },
      "source": [
        "#get condition number of matrix\n",
        "\n",
        "array_1 = np.array([[1,2],[3,4]])\n",
        "print(\"array_1\\n\",array_1)\n",
        "print(\"\\nNEW CODE OUTPUT:\") \n",
        "\n",
        "#new line of codes\n",
        "LA.cond(array_1)"
      ],
      "execution_count": null,
      "outputs": [
        {
          "output_type": "stream",
          "text": [
            "array_1\n",
            " [[1 2]\n",
            " [3 4]]\n",
            "\n",
            "NEW CODE OUTPUT:\n"
          ],
          "name": "stdout"
        },
        {
          "output_type": "execute_result",
          "data": {
            "text/plain": [
              "14.933034373659265"
            ]
          },
          "metadata": {
            "tags": []
          },
          "execution_count": 119
        }
      ]
    },
    {
      "cell_type": "code",
      "metadata": {
        "colab": {
          "base_uri": "https://localhost:8080/"
        },
        "id": "v3uDdN00ZS64",
        "outputId": "a5456bf8-d08e-448e-d3e9-ae34748bdbdc"
      },
      "source": [
        "#determinant of 2x2 matrix\n",
        "array_1 = np.array([[1,2],[3,4]])\n",
        "print(array_1,\"\\n\")\n",
        "LA.det(array_1)"
      ],
      "execution_count": null,
      "outputs": [
        {
          "output_type": "stream",
          "text": [
            "[[1 2]\n",
            " [3 4]] \n",
            "\n"
          ],
          "name": "stdout"
        },
        {
          "output_type": "execute_result",
          "data": {
            "text/plain": [
              "-2.0000000000000004"
            ]
          },
          "metadata": {
            "tags": []
          },
          "execution_count": 120
        }
      ]
    },
    {
      "cell_type": "code",
      "metadata": {
        "colab": {
          "base_uri": "https://localhost:8080/"
        },
        "id": "_QK-6g_qZu1D",
        "outputId": "8e904348-fb4f-4ae8-e89c-8bee6d098630"
      },
      "source": [
        "#determinant of 3x3 matrix\n",
        "array_1 = np.array([[1,2,3],[4,5,6],[7,8,9]])\n",
        "print(array_1,\"\\n\")\n",
        "LA.det(array_1)"
      ],
      "execution_count": null,
      "outputs": [
        {
          "output_type": "stream",
          "text": [
            "[[1 2 3]\n",
            " [4 5 6]\n",
            " [7 8 9]] \n",
            "\n"
          ],
          "name": "stdout"
        },
        {
          "output_type": "execute_result",
          "data": {
            "text/plain": [
              "0.0"
            ]
          },
          "metadata": {
            "tags": []
          },
          "execution_count": 121
        }
      ]
    },
    {
      "cell_type": "code",
      "metadata": {
        "colab": {
          "base_uri": "https://localhost:8080/"
        },
        "id": "QGYin2MfaSsO",
        "outputId": "35615880-c152-4bf5-d609-0a8ab5338049"
      },
      "source": [
        "# solving systems of linear equations\n",
        "# x+4y=10\n",
        "# 6x+18y=42\n",
        "array_1 = np.array([[1,4],[6,18]])\n",
        "array_2 = np.array([10,42])\n",
        "print(\"array_1\\n\",array_1)\n",
        "print(\"array_2\\n\",array_2)\n",
        "print(\"\\n\")\n",
        "LA.solve(array_1, array_2)"
      ],
      "execution_count": null,
      "outputs": [
        {
          "output_type": "stream",
          "text": [
            "array_1\n",
            " [[ 1  4]\n",
            " [ 6 18]]\n",
            "array_2\n",
            " [10 42]\n",
            "\n",
            "\n"
          ],
          "name": "stdout"
        },
        {
          "output_type": "execute_result",
          "data": {
            "text/plain": [
              "array([-2.,  3.])"
            ]
          },
          "metadata": {
            "tags": []
          },
          "execution_count": 122
        }
      ]
    },
    {
      "cell_type": "code",
      "metadata": {
        "colab": {
          "base_uri": "https://localhost:8080/"
        },
        "id": "6R_qnx4nbJkd",
        "outputId": "00719d71-d172-4268-bd9d-4bafaaef14d7"
      },
      "source": [
        "# return a identity matrix with defined number of rows and columns\n",
        "np.eye(2,2, dtype=int)"
      ],
      "execution_count": null,
      "outputs": [
        {
          "output_type": "execute_result",
          "data": {
            "text/plain": [
              "array([[1, 0],\n",
              "       [0, 1]])"
            ]
          },
          "metadata": {
            "tags": []
          },
          "execution_count": 123
        }
      ]
    },
    {
      "cell_type": "markdown",
      "metadata": {
        "id": "3wRWOjR5bdNP"
      },
      "source": [
        "**Saving and loading numpy objects**"
      ]
    },
    {
      "cell_type": "code",
      "metadata": {
        "colab": {
          "base_uri": "https://localhost:8080/"
        },
        "id": "jip9cs4YbhwV",
        "outputId": "9cda4f0f-124e-4d1c-b216-4bab2e0836ad"
      },
      "source": [
        "array_1 = np.array([[1,2],[3,4]])\n",
        "np.save('randarray', array_1)\n",
        "array_2 = np.load('randarray.npy') #calling saved array by using npy file name\n",
        "array_2"
      ],
      "execution_count": null,
      "outputs": [
        {
          "output_type": "execute_result",
          "data": {
            "text/plain": [
              "array([[1, 2],\n",
              "       [3, 4]])"
            ]
          },
          "metadata": {
            "tags": []
          },
          "execution_count": 124
        }
      ]
    },
    {
      "cell_type": "code",
      "metadata": {
        "colab": {
          "base_uri": "https://localhost:8080/"
        },
        "id": "e0iRUsPt5MA2",
        "outputId": "7784fb03-e206-4b06-f214-7e82bb08496f"
      },
      "source": [
        "#saving as a csv file\n",
        "np.savetxt('randcsv.csv', array_1)\n",
        "array_3 = np.loadtxt('randcsv.csv')\n",
        "array_3"
      ],
      "execution_count": null,
      "outputs": [
        {
          "output_type": "execute_result",
          "data": {
            "text/plain": [
              "array([[1., 2.],\n",
              "       [3., 4.]])"
            ]
          },
          "metadata": {
            "tags": []
          },
          "execution_count": 125
        }
      ]
    },
    {
      "cell_type": "markdown",
      "metadata": {
        "id": "-GxfLPh65ug0"
      },
      "source": [
        "**Financial Functions**"
      ]
    },
    {
      "cell_type": "code",
      "metadata": {
        "colab": {
          "base_uri": "https://localhost:8080/"
        },
        "id": "CCbuOmbD5z6L",
        "outputId": "3052db1d-683c-4dbb-9a27-67a12f61ebbd"
      },
      "source": [
        "# install numpy financial library\n",
        "!pip install numpy-financial"
      ],
      "execution_count": null,
      "outputs": [
        {
          "output_type": "stream",
          "text": [
            "Requirement already satisfied: numpy-financial in /usr/local/lib/python3.7/dist-packages (1.0.0)\n",
            "Requirement already satisfied: numpy>=1.15 in /usr/local/lib/python3.7/dist-packages (from numpy-financial) (1.19.5)\n"
          ],
          "name": "stdout"
        }
      ]
    },
    {
      "cell_type": "code",
      "metadata": {
        "id": "DSW9FJle6Emw"
      },
      "source": [
        "import numpy_financial as npf"
      ],
      "execution_count": null,
      "outputs": []
    },
    {
      "cell_type": "code",
      "metadata": {
        "colab": {
          "base_uri": "https://localhost:8080/"
        },
        "id": "FLFiNaqH6cJd",
        "outputId": "9696eabf-259f-4552-f8e9-0dd7dde3653d"
      },
      "source": [
        "# finding future value of an investment\n",
        "\n",
        "npf.fv(.08/12, 10*12, -400,-400)\n",
        "# .08/12 getting 8% after 12months\n",
        "# 10*12 10 years time period in months\n",
        "# -400 initial investment\n",
        "# -400 monthly investment "
      ],
      "execution_count": null,
      "outputs": [
        {
          "output_type": "execute_result",
          "data": {
            "text/plain": [
              "74066.27016650053"
            ]
          },
          "metadata": {
            "tags": []
          },
          "execution_count": 128
        }
      ]
    },
    {
      "cell_type": "code",
      "metadata": {
        "colab": {
          "base_uri": "https://localhost:8080/"
        },
        "id": "7KMBSCur7SLB",
        "outputId": "b71dd0b1-670a-44de-e7f9-fca689977e02"
      },
      "source": [
        "#took a loan a 3000 for a period of 12months at interest rate of 9.25%\n",
        "period = np.arange(1*12) + 1 # +1 because it is zero index\n",
        "principle = 3000.00\n",
        "#interest payment(ipmt)\n",
        "ipmt = npf.ipmt(0.0925/12, period, 1*12, principle) #money that goes to interest\n",
        "#actual full payment. principle payment\n",
        "ppmt = npf.ppmt(0.0925/12, period, 1*12, principle)\n",
        "\n",
        "for payment in period:\n",
        "  index = payment - 1\n",
        "  principle = principle + ppmt[index]\n",
        "  print(f\"{payment}   {np.round(ppmt[index], 2)}   {np.round(ipmt[index],2)}    {np.round(principle, 2)}\")"
      ],
      "execution_count": null,
      "outputs": [
        {
          "output_type": "stream",
          "text": [
            "1   -239.58   -23.12    2760.42\n",
            "2   -241.42   -21.28    2519.0\n",
            "3   -243.29   -19.42    2275.71\n",
            "4   -245.16   -17.54    2030.55\n",
            "5   -247.05   -15.65    1783.5\n",
            "6   -248.95   -13.75    1534.55\n",
            "7   -250.87   -11.83    1283.67\n",
            "8   -252.81   -9.89    1030.87\n",
            "9   -254.76   -7.95    776.11\n",
            "10   -256.72   -5.98    519.39\n",
            "11   -258.7   -4.0    260.69\n",
            "12   -260.69   -2.01    0.0\n"
          ],
          "name": "stdout"
        }
      ]
    },
    {
      "cell_type": "code",
      "metadata": {
        "colab": {
          "base_uri": "https://localhost:8080/"
        },
        "id": "2-L6tU3UXA6v",
        "outputId": "a389dd20-f741-4800-b975-79f67f3421e4"
      },
      "source": [
        "#Number of payments to payback $3000 if I can pay $150 every month at 9.25%\n",
        "\n",
        "np.round(npf.nper(0.0925/12,-150,3000),2)"
      ],
      "execution_count": null,
      "outputs": [
        {
          "output_type": "execute_result",
          "data": {
            "text/plain": [
              "21.8"
            ]
          },
          "metadata": {
            "tags": []
          },
          "execution_count": 130
        }
      ]
    },
    {
      "cell_type": "code",
      "metadata": {
        "colab": {
          "base_uri": "https://localhost:8080/"
        },
        "id": "lHbmXxXuXp1J",
        "outputId": "4801bfe2-8057-4807-fb91-409f87262e11"
      },
      "source": [
        "#want to calculate the net present value of the cashflows in the future expect to get\n",
        "# $4k, $5k, $6k, 7$K after a initial $15000 investments with 8% interest rate\n",
        "\n",
        "npf.npv(0.08, [-15000,4000,5000,6000,7000])"
      ],
      "execution_count": null,
      "outputs": [
        {
          "output_type": "execute_result",
          "data": {
            "text/plain": [
              "2898.600220908811"
            ]
          },
          "metadata": {
            "tags": []
          },
          "execution_count": 131
        }
      ]
    },
    {
      "cell_type": "markdown",
      "metadata": {
        "id": "XiqGNLwz_kXA"
      },
      "source": [
        "**Comparison Functions**"
      ]
    },
    {
      "cell_type": "code",
      "metadata": {
        "colab": {
          "base_uri": "https://localhost:8080/"
        },
        "id": "QMFvChK7_qDx",
        "outputId": "ec2e4f7c-1293-4ef2-c06e-6676d07ee6b1"
      },
      "source": [
        "# greater\n",
        "# Return the truth value of (x1 > x2) element-wise\n",
        "array_1 = np.array([7,2])\n",
        "array_2 = np.array([3,2])\n",
        "print(\"array_1\\n\",array_1)\n",
        "print(\"array_2\\n\",array_2)\n",
        "print(\"\\n\")\n",
        "np.greater(array_1, array_2)\n"
      ],
      "execution_count": null,
      "outputs": [
        {
          "output_type": "stream",
          "text": [
            "array_1\n",
            " [7 2]\n",
            "array_2\n",
            " [3 2]\n",
            "\n",
            "\n"
          ],
          "name": "stdout"
        },
        {
          "output_type": "execute_result",
          "data": {
            "text/plain": [
              "array([ True, False])"
            ]
          },
          "metadata": {
            "tags": []
          },
          "execution_count": 132
        }
      ]
    },
    {
      "cell_type": "code",
      "metadata": {
        "colab": {
          "base_uri": "https://localhost:8080/"
        },
        "id": "kpH-O3K9AUvW",
        "outputId": "3b56e0fc-283f-47b2-ec15-c7d1971cb1c6"
      },
      "source": [
        "#greater than equal to\n",
        "array_1 = np.array([7,2])\n",
        "array_2 = np.array([3,2])\n",
        "print(\"array_1\\n\",array_1)\n",
        "print(\"array_2\\n\",array_2)\n",
        "print(\"\\n\")\n",
        "np.greater_equal(array_1, array_2)"
      ],
      "execution_count": null,
      "outputs": [
        {
          "output_type": "stream",
          "text": [
            "array_1\n",
            " [7 2]\n",
            "array_2\n",
            " [3 2]\n",
            "\n",
            "\n"
          ],
          "name": "stdout"
        },
        {
          "output_type": "execute_result",
          "data": {
            "text/plain": [
              "array([ True,  True])"
            ]
          },
          "metadata": {
            "tags": []
          },
          "execution_count": 133
        }
      ]
    },
    {
      "cell_type": "code",
      "metadata": {
        "colab": {
          "base_uri": "https://localhost:8080/"
        },
        "id": "YX6mfabtBFlA",
        "outputId": "27b78d24-fbd4-42f0-afdc-ffbe21b09139"
      },
      "source": [
        "#less than\n",
        "array_1 = np.array([7,2])\n",
        "array_2 = np.array([3,2])\n",
        "print(\"array_1\\n\",array_1)\n",
        "print(\"array_2\\n\",array_2)\n",
        "print(\"\\n\")\n",
        "np.less(array_1, array_2)"
      ],
      "execution_count": null,
      "outputs": [
        {
          "output_type": "stream",
          "text": [
            "array_1\n",
            " [7 2]\n",
            "array_2\n",
            " [3 2]\n",
            "\n",
            "\n"
          ],
          "name": "stdout"
        },
        {
          "output_type": "execute_result",
          "data": {
            "text/plain": [
              "array([False, False])"
            ]
          },
          "metadata": {
            "tags": []
          },
          "execution_count": 134
        }
      ]
    },
    {
      "cell_type": "code",
      "metadata": {
        "colab": {
          "base_uri": "https://localhost:8080/"
        },
        "id": "IENx4fxQBOwp",
        "outputId": "46f1dfcf-32d2-4ba7-d7f1-4910111dc809"
      },
      "source": [
        "#less than equal to\n",
        "array_1 = np.array([7,2])\n",
        "array_2 = np.array([3,2])\n",
        "print(\"array_1\\n\",array_1)\n",
        "print(\"array_2\\n\",array_2)\n",
        "print(\"\\n\")\n",
        "np.less_equal(array_1, array_2)"
      ],
      "execution_count": null,
      "outputs": [
        {
          "output_type": "stream",
          "text": [
            "array_1\n",
            " [7 2]\n",
            "array_2\n",
            " [3 2]\n",
            "\n",
            "\n"
          ],
          "name": "stdout"
        },
        {
          "output_type": "execute_result",
          "data": {
            "text/plain": [
              "array([False,  True])"
            ]
          },
          "metadata": {
            "tags": []
          },
          "execution_count": 135
        }
      ]
    },
    {
      "cell_type": "code",
      "metadata": {
        "colab": {
          "base_uri": "https://localhost:8080/"
        },
        "id": "83bn9sdoBWBY",
        "outputId": "56933031-c4a4-4303-8aeb-65b38617cc19"
      },
      "source": [
        "#not equal\n",
        "array_1 = np.array([7,2])\n",
        "array_2 = np.array([3,2])\n",
        "print(\"array_1\\n\",array_1)\n",
        "print(\"array_2\\n\",array_2)\n",
        "print(\"\\n\")\n",
        "np.not_equal(array_1,array_2)"
      ],
      "execution_count": null,
      "outputs": [
        {
          "output_type": "stream",
          "text": [
            "array_1\n",
            " [7 2]\n",
            "array_2\n",
            " [3 2]\n",
            "\n",
            "\n"
          ],
          "name": "stdout"
        },
        {
          "output_type": "execute_result",
          "data": {
            "text/plain": [
              "array([ True, False])"
            ]
          },
          "metadata": {
            "tags": []
          },
          "execution_count": 136
        }
      ]
    },
    {
      "cell_type": "code",
      "metadata": {
        "colab": {
          "base_uri": "https://localhost:8080/"
        },
        "id": "-g9dsCHzBb_q",
        "outputId": "3099b9ec-6aea-468c-c447-6e846b99bde4"
      },
      "source": [
        "#equal\n",
        "array_1 = np.array([7,2])\n",
        "array_2 = np.array([3,2])\n",
        "print(\"array_1\\n\",array_1)\n",
        "print(\"array_2\\n\",array_2)\n",
        "print(\"\\n\")\n",
        "np.equal(array_1,array_2)"
      ],
      "execution_count": null,
      "outputs": [
        {
          "output_type": "stream",
          "text": [
            "array_1\n",
            " [7 2]\n",
            "array_2\n",
            " [3 2]\n",
            "\n",
            "\n"
          ],
          "name": "stdout"
        },
        {
          "output_type": "execute_result",
          "data": {
            "text/plain": [
              "array([False,  True])"
            ]
          },
          "metadata": {
            "tags": []
          },
          "execution_count": 137
        }
      ]
    },
    {
      "cell_type": "markdown",
      "metadata": {
        "id": "vanZnOsscHKm"
      },
      "source": [
        "[Derek Banas Numpy Github Cheatsheet](https://github.com/derekbanas/NumPy-Tutorial)"
      ]
    }
  ]
}
