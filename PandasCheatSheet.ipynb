{
  "nbformat": 4,
  "nbformat_minor": 0,
  "metadata": {
    "colab": {
      "name": "PandasCheatSheet",
      "provenance": [],
      "collapsed_sections": []
    },
    "kernelspec": {
      "display_name": "Python 3",
      "language": "python",
      "name": "python3"
    },
    "language_info": {
      "codemirror_mode": {
        "name": "ipython",
        "version": 3
      },
      "file_extension": ".py",
      "mimetype": "text/x-python",
      "name": "python",
      "nbconvert_exporter": "python",
      "pygments_lexer": "ipython3",
      "version": "3.7.3"
    }
  },
  "cells": [
    {
      "cell_type": "markdown",
      "metadata": {
        "id": "OPanm4I6KIq1"
      },
      "source": [
        "# Pandas\n",
        "\n",
        "Pandas is a fast, powerful, flexible and easy to use open source data analysis and manipulation tool, built on top of the Python programming language.\n",
        "\n",
        "**Points covered:**\n",
        "\n",
        "* Importing libraries\n",
        "* Series\n",
        "* Creating dataframes\n",
        "* Editing and retrieving data\n",
        "* Condtional selection\n",
        "* File input & output\n",
        "* Basics & Math\n",
        "* Group data\n",
        "* Concatenate, merge & join data\n",
        "* Statistics\n",
        "* Iteration\n",
        "* Sorting\n",
        "* Passing data to function\n",
        "* Aligning, reindexing & renaming labels\n",
        "* Multi-index\n",
        "* Handling missing data\n",
        "* Experimenting with data\n",
        "* Visualization"
      ]
    },
    {
      "cell_type": "markdown",
      "metadata": {
        "id": "gi45dwExKmTa"
      },
      "source": [
        "**Importing Libraries**"
      ]
    },
    {
      "cell_type": "code",
      "metadata": {
        "id": "uRSTukE8KpbM"
      },
      "source": [
        "import pandas as pd\n",
        "import numpy as np"
      ],
      "execution_count": 1,
      "outputs": []
    },
    {
      "cell_type": "markdown",
      "metadata": {
        "id": "g94dKiGmKftz"
      },
      "source": [
        "**Series**"
      ]
    },
    {
      "cell_type": "code",
      "metadata": {
        "id": "yMro1DSou6Sx",
        "colab": {
          "base_uri": "https://localhost:8080/"
        },
        "outputId": "57472083-f665-45bf-a999-c9ff034dde1a"
      },
      "source": [
        "#creating a pandas series\n",
        "list_1 = ['a','b','c','d']\n",
        "labels = [1,2,3,4]\n",
        "series_1 = pd.Series(data=list_1, index=labels)\n",
        "series_1"
      ],
      "execution_count": 2,
      "outputs": [
        {
          "output_type": "execute_result",
          "data": {
            "text/plain": [
              "1    a\n",
              "2    b\n",
              "3    c\n",
              "4    d\n",
              "dtype: object"
            ]
          },
          "metadata": {
            "tags": []
          },
          "execution_count": 2
        }
      ]
    },
    {
      "cell_type": "code",
      "metadata": {
        "id": "qZNi4LNayJAE",
        "colab": {
          "base_uri": "https://localhost:8080/"
        },
        "outputId": "c046e459-c568-40f3-f5d0-4db8732a258b"
      },
      "source": [
        "#creating a numpy array\n",
        "arr_1 = np.array([1,2,3,4])\n",
        "series_2 = pd.Series(arr_1)\n",
        "series_2"
      ],
      "execution_count": 3,
      "outputs": [
        {
          "output_type": "execute_result",
          "data": {
            "text/plain": [
              "0    1\n",
              "1    2\n",
              "2    3\n",
              "3    4\n",
              "dtype: int64"
            ]
          },
          "metadata": {
            "tags": []
          },
          "execution_count": 3
        }
      ]
    },
    {
      "cell_type": "code",
      "metadata": {
        "id": "QwHRfYKKLgwz",
        "colab": {
          "base_uri": "https://localhost:8080/"
        },
        "outputId": "48e9c20d-e8e4-4f36-8cf1-bc937f6d15cb"
      },
      "source": [
        "#creating series using dictionary\n",
        "dict_1 = {'f_name': 'John', 'l_name':'Brown', 'age':40}\n",
        "series_3 = pd.Series(dict_1)\n",
        "series_3"
      ],
      "execution_count": 4,
      "outputs": [
        {
          "output_type": "execute_result",
          "data": {
            "text/plain": [
              "f_name     John\n",
              "l_name    Brown\n",
              "age          40\n",
              "dtype: object"
            ]
          },
          "metadata": {
            "tags": []
          },
          "execution_count": 4
        }
      ]
    },
    {
      "cell_type": "code",
      "metadata": {
        "id": "Jb2d-GshMfDF",
        "colab": {
          "base_uri": "https://localhost:8080/",
          "height": 35
        },
        "outputId": "01dec7c3-0d03-48b9-d602-12e9a30542db"
      },
      "source": [
        "#extracting values from series\n",
        "#extract first name from series_3\n",
        "series_3['f_name']"
      ],
      "execution_count": 5,
      "outputs": [
        {
          "output_type": "execute_result",
          "data": {
            "application/vnd.google.colaboratory.intrinsic+json": {
              "type": "string"
            },
            "text/plain": [
              "'John'"
            ]
          },
          "metadata": {
            "tags": []
          },
          "execution_count": 5
        }
      ]
    },
    {
      "cell_type": "code",
      "metadata": {
        "id": "jyVkgmfdMp9h",
        "colab": {
          "base_uri": "https://localhost:8080/"
        },
        "outputId": "6151b720-b667-43b9-bb04-b29d11554e92"
      },
      "source": [
        "#series data type\n",
        "series_2.dtype"
      ],
      "execution_count": 6,
      "outputs": [
        {
          "output_type": "execute_result",
          "data": {
            "text/plain": [
              "dtype('int64')"
            ]
          },
          "metadata": {
            "tags": []
          },
          "execution_count": 6
        }
      ]
    },
    {
      "cell_type": "code",
      "metadata": {
        "id": "Bf864gv0M3zF",
        "colab": {
          "base_uri": "https://localhost:8080/"
        },
        "outputId": "41981618-fd96-438f-f9b4-5df2d6fb2ada"
      },
      "source": [
        "#maths operations on series\n",
        "print('series_2:')\n",
        "print(series_2)\n",
        "\n",
        "print(\"\\nAddition:\")\n",
        "series_2 + series_2\n",
        "\n",
        "#similarly we can do subtraction, multiplication and division"
      ],
      "execution_count": 7,
      "outputs": [
        {
          "output_type": "stream",
          "text": [
            "series_2:\n",
            "0    1\n",
            "1    2\n",
            "2    3\n",
            "3    4\n",
            "dtype: int64\n",
            "\n",
            "Addition:\n"
          ],
          "name": "stdout"
        },
        {
          "output_type": "execute_result",
          "data": {
            "text/plain": [
              "0    2\n",
              "1    4\n",
              "2    6\n",
              "3    8\n",
              "dtype: int64"
            ]
          },
          "metadata": {
            "tags": []
          },
          "execution_count": 7
        }
      ]
    },
    {
      "cell_type": "code",
      "metadata": {
        "id": "T4SMilINNM4D",
        "colab": {
          "base_uri": "https://localhost:8080/"
        },
        "outputId": "c343adcc-7e44-4a02-ab24-ae986e11d47c"
      },
      "source": [
        "#passing series in numpy operations\n",
        "print('series_2:')\n",
        "print(series_2)\n",
        "\n",
        "print(\"\\nExponential:\")\n",
        "np.exp(series_2) #expontential"
      ],
      "execution_count": 8,
      "outputs": [
        {
          "output_type": "stream",
          "text": [
            "series_2:\n",
            "0    1\n",
            "1    2\n",
            "2    3\n",
            "3    4\n",
            "dtype: int64\n",
            "\n",
            "Exponential:\n"
          ],
          "name": "stdout"
        },
        {
          "output_type": "execute_result",
          "data": {
            "text/plain": [
              "0     2.718282\n",
              "1     7.389056\n",
              "2    20.085537\n",
              "3    54.598150\n",
              "dtype: float64"
            ]
          },
          "metadata": {
            "tags": []
          },
          "execution_count": 8
        }
      ]
    },
    {
      "cell_type": "code",
      "metadata": {
        "id": "4wyH21IbOGNG",
        "colab": {
          "base_uri": "https://localhost:8080/"
        },
        "outputId": "132b1119-5c37-40b8-98bb-075354c5dade"
      },
      "source": [
        "print('series_2:')\n",
        "print(series_2)\n",
        "\n",
        "series_4 = pd.Series({4:5, 5:6, 6:7})\n",
        "print('\\nseries_4:')\n",
        "print(series_4)\n",
        "\n",
        "print(\"\\nAdding both\")\n",
        "series_2 + series_4 \n",
        "\n",
        "# the output is NaN because the labels don't match\n",
        "# series_2 has labels 0,1,2,3\n",
        "# series_4 has 4,5,6"
      ],
      "execution_count": 9,
      "outputs": [
        {
          "output_type": "stream",
          "text": [
            "series_2:\n",
            "0    1\n",
            "1    2\n",
            "2    3\n",
            "3    4\n",
            "dtype: int64\n",
            "\n",
            "series_4:\n",
            "4    5\n",
            "5    6\n",
            "6    7\n",
            "dtype: int64\n",
            "\n",
            "Adding both\n"
          ],
          "name": "stdout"
        },
        {
          "output_type": "execute_result",
          "data": {
            "text/plain": [
              "0   NaN\n",
              "1   NaN\n",
              "2   NaN\n",
              "3   NaN\n",
              "4   NaN\n",
              "5   NaN\n",
              "6   NaN\n",
              "dtype: float64"
            ]
          },
          "metadata": {
            "tags": []
          },
          "execution_count": 9
        }
      ]
    },
    {
      "cell_type": "code",
      "metadata": {
        "id": "KTh7eYzHQi9c",
        "colab": {
          "base_uri": "https://localhost:8080/",
          "height": 35
        },
        "outputId": "49384165-1653-437e-8078-b6977da9bf59"
      },
      "source": [
        "# assigning name to a series\n",
        "series_4 = pd.Series({4:5, 5:6, 6:7}, name='random_num')\n",
        "series_4.name"
      ],
      "execution_count": 10,
      "outputs": [
        {
          "output_type": "execute_result",
          "data": {
            "application/vnd.google.colaboratory.intrinsic+json": {
              "type": "string"
            },
            "text/plain": [
              "'random_num'"
            ]
          },
          "metadata": {
            "tags": []
          },
          "execution_count": 10
        }
      ]
    },
    {
      "cell_type": "markdown",
      "metadata": {
        "id": "qsrTK8djQ60q"
      },
      "source": [
        "# DataFrame"
      ]
    },
    {
      "cell_type": "markdown",
      "metadata": {
        "id": "c7J6hYvgRACs"
      },
      "source": [
        "**Creating DataFrames**"
      ]
    },
    {
      "cell_type": "code",
      "metadata": {
        "id": "r2FfvTHHQ-qS",
        "colab": {
          "base_uri": "https://localhost:8080/"
        },
        "outputId": "3285e732-3703-403c-97f3-0ceb468c33cd"
      },
      "source": [
        "#creating random numbers array\n",
        "array_2 = np.random.randint(10,50, size=(2,3))\n",
        "array_2"
      ],
      "execution_count": 11,
      "outputs": [
        {
          "output_type": "execute_result",
          "data": {
            "text/plain": [
              "array([[34, 44, 15],\n",
              "       [13, 14, 44]])"
            ]
          },
          "metadata": {
            "tags": []
          },
          "execution_count": 11
        }
      ]
    },
    {
      "cell_type": "code",
      "metadata": {
        "id": "9VojATVuRptU",
        "colab": {
          "base_uri": "https://localhost:8080/",
          "height": 111
        },
        "outputId": "b2701b77-6ecc-4822-ee67-9939fed36e1a"
      },
      "source": [
        "#creating dataframe using array_2 and giving row, column name\n",
        "df_1 = pd.DataFrame(array_2, ['A','B'], ['C','D','E'])\n",
        "df_1"
      ],
      "execution_count": 12,
      "outputs": [
        {
          "output_type": "execute_result",
          "data": {
            "text/html": [
              "<div>\n",
              "<style scoped>\n",
              "    .dataframe tbody tr th:only-of-type {\n",
              "        vertical-align: middle;\n",
              "    }\n",
              "\n",
              "    .dataframe tbody tr th {\n",
              "        vertical-align: top;\n",
              "    }\n",
              "\n",
              "    .dataframe thead th {\n",
              "        text-align: right;\n",
              "    }\n",
              "</style>\n",
              "<table border=\"1\" class=\"dataframe\">\n",
              "  <thead>\n",
              "    <tr style=\"text-align: right;\">\n",
              "      <th></th>\n",
              "      <th>C</th>\n",
              "      <th>D</th>\n",
              "      <th>E</th>\n",
              "    </tr>\n",
              "  </thead>\n",
              "  <tbody>\n",
              "    <tr>\n",
              "      <th>A</th>\n",
              "      <td>34</td>\n",
              "      <td>44</td>\n",
              "      <td>15</td>\n",
              "    </tr>\n",
              "    <tr>\n",
              "      <th>B</th>\n",
              "      <td>13</td>\n",
              "      <td>14</td>\n",
              "      <td>44</td>\n",
              "    </tr>\n",
              "  </tbody>\n",
              "</table>\n",
              "</div>"
            ],
            "text/plain": [
              "    C   D   E\n",
              "A  34  44  15\n",
              "B  13  14  44"
            ]
          },
          "metadata": {
            "tags": []
          },
          "execution_count": 12
        }
      ]
    },
    {
      "cell_type": "code",
      "metadata": {
        "id": "cT184vULSRGH",
        "colab": {
          "base_uri": "https://localhost:8080/",
          "height": 173
        },
        "outputId": "a05e81e3-d58c-4310-fa75-20708bde1d0f"
      },
      "source": [
        "#creating dataframe dictionary and series\n",
        "dict_3 = {'one': pd.Series([1.,2.,3.], index=['a','b','c']),\n",
        "          'two':pd.Series([1.,2.,3.,4.], index=['a','b','c','d'])}\n",
        "df_2 = pd.DataFrame(dict_3)\n",
        "df_2"
      ],
      "execution_count": 13,
      "outputs": [
        {
          "output_type": "execute_result",
          "data": {
            "text/html": [
              "<div>\n",
              "<style scoped>\n",
              "    .dataframe tbody tr th:only-of-type {\n",
              "        vertical-align: middle;\n",
              "    }\n",
              "\n",
              "    .dataframe tbody tr th {\n",
              "        vertical-align: top;\n",
              "    }\n",
              "\n",
              "    .dataframe thead th {\n",
              "        text-align: right;\n",
              "    }\n",
              "</style>\n",
              "<table border=\"1\" class=\"dataframe\">\n",
              "  <thead>\n",
              "    <tr style=\"text-align: right;\">\n",
              "      <th></th>\n",
              "      <th>one</th>\n",
              "      <th>two</th>\n",
              "    </tr>\n",
              "  </thead>\n",
              "  <tbody>\n",
              "    <tr>\n",
              "      <th>a</th>\n",
              "      <td>1.0</td>\n",
              "      <td>1.0</td>\n",
              "    </tr>\n",
              "    <tr>\n",
              "      <th>b</th>\n",
              "      <td>2.0</td>\n",
              "      <td>2.0</td>\n",
              "    </tr>\n",
              "    <tr>\n",
              "      <th>c</th>\n",
              "      <td>3.0</td>\n",
              "      <td>3.0</td>\n",
              "    </tr>\n",
              "    <tr>\n",
              "      <th>d</th>\n",
              "      <td>NaN</td>\n",
              "      <td>4.0</td>\n",
              "    </tr>\n",
              "  </tbody>\n",
              "</table>\n",
              "</div>"
            ],
            "text/plain": [
              "   one  two\n",
              "a  1.0  1.0\n",
              "b  2.0  2.0\n",
              "c  3.0  3.0\n",
              "d  NaN  4.0"
            ]
          },
          "metadata": {
            "tags": []
          },
          "execution_count": 13
        }
      ]
    },
    {
      "cell_type": "code",
      "metadata": {
        "id": "vweuPCgxTzpB",
        "colab": {
          "base_uri": "https://localhost:8080/",
          "height": 142
        },
        "outputId": "abbf038f-b6a2-4be3-a2f0-3dc669e567e5"
      },
      "source": [
        "#creating dataframe using 'from_dict'\n",
        "\n",
        "pd.DataFrame.from_dict(dict([('A', [1,2,3]), ('B', [4,5,6])]))"
      ],
      "execution_count": 14,
      "outputs": [
        {
          "output_type": "execute_result",
          "data": {
            "text/html": [
              "<div>\n",
              "<style scoped>\n",
              "    .dataframe tbody tr th:only-of-type {\n",
              "        vertical-align: middle;\n",
              "    }\n",
              "\n",
              "    .dataframe tbody tr th {\n",
              "        vertical-align: top;\n",
              "    }\n",
              "\n",
              "    .dataframe thead th {\n",
              "        text-align: right;\n",
              "    }\n",
              "</style>\n",
              "<table border=\"1\" class=\"dataframe\">\n",
              "  <thead>\n",
              "    <tr style=\"text-align: right;\">\n",
              "      <th></th>\n",
              "      <th>A</th>\n",
              "      <th>B</th>\n",
              "    </tr>\n",
              "  </thead>\n",
              "  <tbody>\n",
              "    <tr>\n",
              "      <th>0</th>\n",
              "      <td>1</td>\n",
              "      <td>4</td>\n",
              "    </tr>\n",
              "    <tr>\n",
              "      <th>1</th>\n",
              "      <td>2</td>\n",
              "      <td>5</td>\n",
              "    </tr>\n",
              "    <tr>\n",
              "      <th>2</th>\n",
              "      <td>3</td>\n",
              "      <td>6</td>\n",
              "    </tr>\n",
              "  </tbody>\n",
              "</table>\n",
              "</div>"
            ],
            "text/plain": [
              "   A  B\n",
              "0  1  4\n",
              "1  2  5\n",
              "2  3  6"
            ]
          },
          "metadata": {
            "tags": []
          },
          "execution_count": 14
        }
      ]
    },
    {
      "cell_type": "code",
      "metadata": {
        "id": "EVK2JQGaVr_U",
        "colab": {
          "base_uri": "https://localhost:8080/",
          "height": 111
        },
        "outputId": "5e5cf82c-b43e-43a2-c542-dbcde75585c5"
      },
      "source": [
        "#creating dataframe using 'from_dict'\n",
        "pd.DataFrame.from_dict(dict([('A', [1,2,3]), ('B', [4,5,6])]),\n",
        "                       orient='index', columns=['one','two','three'])"
      ],
      "execution_count": 15,
      "outputs": [
        {
          "output_type": "execute_result",
          "data": {
            "text/html": [
              "<div>\n",
              "<style scoped>\n",
              "    .dataframe tbody tr th:only-of-type {\n",
              "        vertical-align: middle;\n",
              "    }\n",
              "\n",
              "    .dataframe tbody tr th {\n",
              "        vertical-align: top;\n",
              "    }\n",
              "\n",
              "    .dataframe thead th {\n",
              "        text-align: right;\n",
              "    }\n",
              "</style>\n",
              "<table border=\"1\" class=\"dataframe\">\n",
              "  <thead>\n",
              "    <tr style=\"text-align: right;\">\n",
              "      <th></th>\n",
              "      <th>one</th>\n",
              "      <th>two</th>\n",
              "      <th>three</th>\n",
              "    </tr>\n",
              "  </thead>\n",
              "  <tbody>\n",
              "    <tr>\n",
              "      <th>A</th>\n",
              "      <td>1</td>\n",
              "      <td>2</td>\n",
              "      <td>3</td>\n",
              "    </tr>\n",
              "    <tr>\n",
              "      <th>B</th>\n",
              "      <td>4</td>\n",
              "      <td>5</td>\n",
              "      <td>6</td>\n",
              "    </tr>\n",
              "  </tbody>\n",
              "</table>\n",
              "</div>"
            ],
            "text/plain": [
              "   one  two  three\n",
              "A    1    2      3\n",
              "B    4    5      6"
            ]
          },
          "metadata": {
            "tags": []
          },
          "execution_count": 15
        }
      ]
    },
    {
      "cell_type": "code",
      "metadata": {
        "id": "2VlO4K0QWXu1",
        "colab": {
          "base_uri": "https://localhost:8080/"
        },
        "outputId": "fafb6aeb-df25-4766-d8d1-aa350a165b2a"
      },
      "source": [
        "#get number of rows and columns as tuple\n",
        "print(df_1.shape)"
      ],
      "execution_count": 16,
      "outputs": [
        {
          "output_type": "stream",
          "text": [
            "(2, 3)\n"
          ],
          "name": "stdout"
        }
      ]
    },
    {
      "cell_type": "markdown",
      "metadata": {
        "id": "0NlnJdUcYSOn"
      },
      "source": [
        "**Editing & Retrieving Data**"
      ]
    },
    {
      "cell_type": "code",
      "metadata": {
        "id": "LeH05sgY-rnt",
        "colab": {
          "base_uri": "https://localhost:8080/"
        },
        "outputId": "69209524-23b1-4077-9999-946749be67df"
      },
      "source": [
        "#retrieving a single column\n",
        "\n",
        "#printing again for reference\n",
        "print(\"df_1:\")\n",
        "print(df_1,\"\\n\")\n",
        "\n",
        "#new code\n",
        "print(\"Retrieving a single column:\")\n",
        "df_1['C']"
      ],
      "execution_count": 17,
      "outputs": [
        {
          "output_type": "stream",
          "text": [
            "df_1:\n",
            "    C   D   E\n",
            "A  34  44  15\n",
            "B  13  14  44 \n",
            "\n",
            "Retrieving a single column:\n"
          ],
          "name": "stdout"
        },
        {
          "output_type": "execute_result",
          "data": {
            "text/plain": [
              "A    34\n",
              "B    13\n",
              "Name: C, dtype: int64"
            ]
          },
          "metadata": {
            "tags": []
          },
          "execution_count": 17
        }
      ]
    },
    {
      "cell_type": "code",
      "metadata": {
        "id": "c1VDXt8A_mnH",
        "colab": {
          "base_uri": "https://localhost:8080/",
          "height": 213
        },
        "outputId": "efe04763-1474-4772-90b6-65bf0d3fbf2a"
      },
      "source": [
        "#retrieving a multiple columns\n",
        "\n",
        "#printing again for reference\n",
        "print(\"df_1:\")\n",
        "print(df_1,\"\\n\")\n",
        "\n",
        "#new code\n",
        "print(\"Retrieving a multiple columns:\")\n",
        "df_1[['C','E']]"
      ],
      "execution_count": 18,
      "outputs": [
        {
          "output_type": "stream",
          "text": [
            "df_1:\n",
            "    C   D   E\n",
            "A  34  44  15\n",
            "B  13  14  44 \n",
            "\n",
            "Retrieving a multiple columns:\n"
          ],
          "name": "stdout"
        },
        {
          "output_type": "execute_result",
          "data": {
            "text/html": [
              "<div>\n",
              "<style scoped>\n",
              "    .dataframe tbody tr th:only-of-type {\n",
              "        vertical-align: middle;\n",
              "    }\n",
              "\n",
              "    .dataframe tbody tr th {\n",
              "        vertical-align: top;\n",
              "    }\n",
              "\n",
              "    .dataframe thead th {\n",
              "        text-align: right;\n",
              "    }\n",
              "</style>\n",
              "<table border=\"1\" class=\"dataframe\">\n",
              "  <thead>\n",
              "    <tr style=\"text-align: right;\">\n",
              "      <th></th>\n",
              "      <th>C</th>\n",
              "      <th>E</th>\n",
              "    </tr>\n",
              "  </thead>\n",
              "  <tbody>\n",
              "    <tr>\n",
              "      <th>A</th>\n",
              "      <td>34</td>\n",
              "      <td>15</td>\n",
              "    </tr>\n",
              "    <tr>\n",
              "      <th>B</th>\n",
              "      <td>13</td>\n",
              "      <td>44</td>\n",
              "    </tr>\n",
              "  </tbody>\n",
              "</table>\n",
              "</div>"
            ],
            "text/plain": [
              "    C   E\n",
              "A  34  15\n",
              "B  13  44"
            ]
          },
          "metadata": {
            "tags": []
          },
          "execution_count": 18
        }
      ]
    },
    {
      "cell_type": "code",
      "metadata": {
        "id": "lEtRvHd0_wuR",
        "colab": {
          "base_uri": "https://localhost:8080/"
        },
        "outputId": "4f5439bb-603d-4a95-f523-7d71ee22b2b8"
      },
      "source": [
        "#retrieve a row as a series\n",
        "\n",
        "#printing again for reference\n",
        "print(\"df_1:\")\n",
        "print(df_1,\"\\n\")\n",
        "\n",
        "#new code\n",
        "print(\"Retrieving a row as a series:\")\n",
        "df_1.loc['A']"
      ],
      "execution_count": 19,
      "outputs": [
        {
          "output_type": "stream",
          "text": [
            "df_1:\n",
            "    C   D   E\n",
            "A  34  44  15\n",
            "B  13  14  44 \n",
            "\n",
            "Retrieving a row as a series:\n"
          ],
          "name": "stdout"
        },
        {
          "output_type": "execute_result",
          "data": {
            "text/plain": [
              "C    34\n",
              "D    44\n",
              "E    15\n",
              "Name: A, dtype: int64"
            ]
          },
          "metadata": {
            "tags": []
          },
          "execution_count": 19
        }
      ]
    },
    {
      "cell_type": "code",
      "metadata": {
        "id": "ZOEXDel6Abgz",
        "colab": {
          "base_uri": "https://localhost:8080/"
        },
        "outputId": "2381dc4c-3417-444e-f0af-65a062655877"
      },
      "source": [
        "#retrieve a row by index position\n",
        "\n",
        "#printing again for reference\n",
        "print(\"df_1:\")\n",
        "print(df_1,\"\\n\")\n",
        "\n",
        "#new code\n",
        "print(\"Retrieving a row by index position:\")\n",
        "df_1.iloc[0]"
      ],
      "execution_count": 20,
      "outputs": [
        {
          "output_type": "stream",
          "text": [
            "df_1:\n",
            "    C   D   E\n",
            "A  34  44  15\n",
            "B  13  14  44 \n",
            "\n",
            "Retrieving a row by index position:\n"
          ],
          "name": "stdout"
        },
        {
          "output_type": "execute_result",
          "data": {
            "text/plain": [
              "C    34\n",
              "D    44\n",
              "E    15\n",
              "Name: A, dtype: int64"
            ]
          },
          "metadata": {
            "tags": []
          },
          "execution_count": 20
        }
      ]
    },
    {
      "cell_type": "code",
      "metadata": {
        "id": "zD-_uKYOAvdM",
        "colab": {
          "base_uri": "https://localhost:8080/"
        },
        "outputId": "4664510b-e469-4ec3-8183-12cd42b2ba43"
      },
      "source": [
        "#retrieve a cell with a row and a column\n",
        "\n",
        "print(\"df_1:\")\n",
        "print(df_1,\"\\n\")\n",
        "\n",
        "#new code\n",
        "print(\"Retrieving a cell with a row and a column:\")\n",
        "df_1.loc['A','C']"
      ],
      "execution_count": 21,
      "outputs": [
        {
          "output_type": "stream",
          "text": [
            "df_1:\n",
            "    C   D   E\n",
            "A  34  44  15\n",
            "B  13  14  44 \n",
            "\n",
            "Retrieving a cell with a row and a column:\n"
          ],
          "name": "stdout"
        },
        {
          "output_type": "execute_result",
          "data": {
            "text/plain": [
              "34"
            ]
          },
          "metadata": {
            "tags": []
          },
          "execution_count": 21
        }
      ]
    },
    {
      "cell_type": "code",
      "metadata": {
        "id": "6cpuIRATBQHs",
        "colab": {
          "base_uri": "https://localhost:8080/",
          "height": 213
        },
        "outputId": "10a2b5a1-6390-4bba-bcf5-48a9e3707142"
      },
      "source": [
        "#retrieve multiple rows and columns\n",
        "\n",
        "print(\"df_1:\")\n",
        "print(df_1,\"\\n\")\n",
        "\n",
        "#new code\n",
        "print(\"Retrieving multiple rows and columns:\")\n",
        "df_1.loc[('A','B'),('D','E')]"
      ],
      "execution_count": 22,
      "outputs": [
        {
          "output_type": "stream",
          "text": [
            "df_1:\n",
            "    C   D   E\n",
            "A  34  44  15\n",
            "B  13  14  44 \n",
            "\n",
            "Retrieving multiple rows and columns:\n"
          ],
          "name": "stdout"
        },
        {
          "output_type": "execute_result",
          "data": {
            "text/html": [
              "<div>\n",
              "<style scoped>\n",
              "    .dataframe tbody tr th:only-of-type {\n",
              "        vertical-align: middle;\n",
              "    }\n",
              "\n",
              "    .dataframe tbody tr th {\n",
              "        vertical-align: top;\n",
              "    }\n",
              "\n",
              "    .dataframe thead th {\n",
              "        text-align: right;\n",
              "    }\n",
              "</style>\n",
              "<table border=\"1\" class=\"dataframe\">\n",
              "  <thead>\n",
              "    <tr style=\"text-align: right;\">\n",
              "      <th></th>\n",
              "      <th>D</th>\n",
              "      <th>E</th>\n",
              "    </tr>\n",
              "  </thead>\n",
              "  <tbody>\n",
              "    <tr>\n",
              "      <th>A</th>\n",
              "      <td>44</td>\n",
              "      <td>15</td>\n",
              "    </tr>\n",
              "    <tr>\n",
              "      <th>B</th>\n",
              "      <td>14</td>\n",
              "      <td>44</td>\n",
              "    </tr>\n",
              "  </tbody>\n",
              "</table>\n",
              "</div>"
            ],
            "text/plain": [
              "    D   E\n",
              "A  44  15\n",
              "B  14  44"
            ]
          },
          "metadata": {
            "tags": []
          },
          "execution_count": 22
        }
      ]
    },
    {
      "cell_type": "code",
      "metadata": {
        "id": "rAwykusvBvJr",
        "colab": {
          "base_uri": "https://localhost:8080/",
          "height": 111
        },
        "outputId": "88c43577-55f2-4fc0-b44e-58f731b6b26f"
      },
      "source": [
        "#add new column 'Total'\n",
        "df_1['Total'] = df_1['C']+df_1['D']+df_1['E'] \n",
        "#addition of all columns\n",
        "df_1"
      ],
      "execution_count": 23,
      "outputs": [
        {
          "output_type": "execute_result",
          "data": {
            "text/html": [
              "<div>\n",
              "<style scoped>\n",
              "    .dataframe tbody tr th:only-of-type {\n",
              "        vertical-align: middle;\n",
              "    }\n",
              "\n",
              "    .dataframe tbody tr th {\n",
              "        vertical-align: top;\n",
              "    }\n",
              "\n",
              "    .dataframe thead th {\n",
              "        text-align: right;\n",
              "    }\n",
              "</style>\n",
              "<table border=\"1\" class=\"dataframe\">\n",
              "  <thead>\n",
              "    <tr style=\"text-align: right;\">\n",
              "      <th></th>\n",
              "      <th>C</th>\n",
              "      <th>D</th>\n",
              "      <th>E</th>\n",
              "      <th>Total</th>\n",
              "    </tr>\n",
              "  </thead>\n",
              "  <tbody>\n",
              "    <tr>\n",
              "      <th>A</th>\n",
              "      <td>34</td>\n",
              "      <td>44</td>\n",
              "      <td>15</td>\n",
              "      <td>93</td>\n",
              "    </tr>\n",
              "    <tr>\n",
              "      <th>B</th>\n",
              "      <td>13</td>\n",
              "      <td>14</td>\n",
              "      <td>44</td>\n",
              "      <td>71</td>\n",
              "    </tr>\n",
              "  </tbody>\n",
              "</table>\n",
              "</div>"
            ],
            "text/plain": [
              "    C   D   E  Total\n",
              "A  34  44  15     93\n",
              "B  13  14  44     71"
            ]
          },
          "metadata": {
            "tags": []
          },
          "execution_count": 23
        }
      ]
    },
    {
      "cell_type": "code",
      "metadata": {
        "id": "MuPJ3I2KCpg9",
        "colab": {
          "base_uri": "https://localhost:8080/",
          "height": 309
        },
        "outputId": "efe9d7cf-9c1e-4047-a1e9-bb92e1aaf0f7"
      },
      "source": [
        "#add new column 'Multiplication'\n",
        "\n",
        "print(\"df_2 before:\")\n",
        "print(df_2,\"\\n\") \n",
        "\n",
        "#new code\n",
        "df_2['Multiplication'] = df_2['one']*df_2['two']\n",
        "print(\"df_2 after:\")\n",
        "df_2"
      ],
      "execution_count": 24,
      "outputs": [
        {
          "output_type": "stream",
          "text": [
            "df_2 before:\n",
            "   one  two\n",
            "a  1.0  1.0\n",
            "b  2.0  2.0\n",
            "c  3.0  3.0\n",
            "d  NaN  4.0 \n",
            "\n",
            "df_2 after:\n"
          ],
          "name": "stdout"
        },
        {
          "output_type": "execute_result",
          "data": {
            "text/html": [
              "<div>\n",
              "<style scoped>\n",
              "    .dataframe tbody tr th:only-of-type {\n",
              "        vertical-align: middle;\n",
              "    }\n",
              "\n",
              "    .dataframe tbody tr th {\n",
              "        vertical-align: top;\n",
              "    }\n",
              "\n",
              "    .dataframe thead th {\n",
              "        text-align: right;\n",
              "    }\n",
              "</style>\n",
              "<table border=\"1\" class=\"dataframe\">\n",
              "  <thead>\n",
              "    <tr style=\"text-align: right;\">\n",
              "      <th></th>\n",
              "      <th>one</th>\n",
              "      <th>two</th>\n",
              "      <th>Multiplication</th>\n",
              "    </tr>\n",
              "  </thead>\n",
              "  <tbody>\n",
              "    <tr>\n",
              "      <th>a</th>\n",
              "      <td>1.0</td>\n",
              "      <td>1.0</td>\n",
              "      <td>1.0</td>\n",
              "    </tr>\n",
              "    <tr>\n",
              "      <th>b</th>\n",
              "      <td>2.0</td>\n",
              "      <td>2.0</td>\n",
              "      <td>4.0</td>\n",
              "    </tr>\n",
              "    <tr>\n",
              "      <th>c</th>\n",
              "      <td>3.0</td>\n",
              "      <td>3.0</td>\n",
              "      <td>9.0</td>\n",
              "    </tr>\n",
              "    <tr>\n",
              "      <th>d</th>\n",
              "      <td>NaN</td>\n",
              "      <td>4.0</td>\n",
              "      <td>NaN</td>\n",
              "    </tr>\n",
              "  </tbody>\n",
              "</table>\n",
              "</div>"
            ],
            "text/plain": [
              "   one  two  Multiplication\n",
              "a  1.0  1.0             1.0\n",
              "b  2.0  2.0             4.0\n",
              "c  3.0  3.0             9.0\n",
              "d  NaN  4.0             NaN"
            ]
          },
          "metadata": {
            "tags": []
          },
          "execution_count": 24
        }
      ]
    },
    {
      "cell_type": "code",
      "metadata": {
        "id": "QKSg1wkkDN8V",
        "colab": {
          "base_uri": "https://localhost:8080/",
          "height": 244
        },
        "outputId": "f1030a14-b3d3-48a6-d415-e5cbe4663b3f"
      },
      "source": [
        "#add new row\n",
        "\n",
        "print(\"df_1 before:\")\n",
        "print(df_1,\"\\n\") \n",
        "\n",
        "#new code\n",
        "dict_2 = {'C':44, 'D':45, 'E':46}\n",
        "new_row = pd.Series(dict_2, name='F')\n",
        "df_1 = df_1.append(new_row)\n",
        "print(\"df_1 after:\")\n",
        "df_1\n",
        "\n",
        "# we need to rewrite 'Total' code to get get for new row"
      ],
      "execution_count": 25,
      "outputs": [
        {
          "output_type": "stream",
          "text": [
            "df_1 before:\n",
            "    C   D   E  Total\n",
            "A  34  44  15     93\n",
            "B  13  14  44     71 \n",
            "\n",
            "df_1 after:\n"
          ],
          "name": "stdout"
        },
        {
          "output_type": "execute_result",
          "data": {
            "text/html": [
              "<div>\n",
              "<style scoped>\n",
              "    .dataframe tbody tr th:only-of-type {\n",
              "        vertical-align: middle;\n",
              "    }\n",
              "\n",
              "    .dataframe tbody tr th {\n",
              "        vertical-align: top;\n",
              "    }\n",
              "\n",
              "    .dataframe thead th {\n",
              "        text-align: right;\n",
              "    }\n",
              "</style>\n",
              "<table border=\"1\" class=\"dataframe\">\n",
              "  <thead>\n",
              "    <tr style=\"text-align: right;\">\n",
              "      <th></th>\n",
              "      <th>C</th>\n",
              "      <th>D</th>\n",
              "      <th>E</th>\n",
              "      <th>Total</th>\n",
              "    </tr>\n",
              "  </thead>\n",
              "  <tbody>\n",
              "    <tr>\n",
              "      <th>A</th>\n",
              "      <td>34.0</td>\n",
              "      <td>44.0</td>\n",
              "      <td>15.0</td>\n",
              "      <td>93.0</td>\n",
              "    </tr>\n",
              "    <tr>\n",
              "      <th>B</th>\n",
              "      <td>13.0</td>\n",
              "      <td>14.0</td>\n",
              "      <td>44.0</td>\n",
              "      <td>71.0</td>\n",
              "    </tr>\n",
              "    <tr>\n",
              "      <th>F</th>\n",
              "      <td>44.0</td>\n",
              "      <td>45.0</td>\n",
              "      <td>46.0</td>\n",
              "      <td>NaN</td>\n",
              "    </tr>\n",
              "  </tbody>\n",
              "</table>\n",
              "</div>"
            ],
            "text/plain": [
              "      C     D     E  Total\n",
              "A  34.0  44.0  15.0   93.0\n",
              "B  13.0  14.0  44.0   71.0\n",
              "F  44.0  45.0  46.0    NaN"
            ]
          },
          "metadata": {
            "tags": []
          },
          "execution_count": 25
        }
      ]
    },
    {
      "cell_type": "code",
      "metadata": {
        "id": "fObI6vr4EHwR",
        "colab": {
          "base_uri": "https://localhost:8080/",
          "height": 261
        },
        "outputId": "3bd5a252-e407-4ede-cc8f-27b3ca2563b5"
      },
      "source": [
        "#delete column\n",
        "\n",
        "print(\"df_1 before:\")\n",
        "print(df_1,\"\\n\") \n",
        "\n",
        "#new code\n",
        "df_1.drop('Total', axis=1, inplace=True)\n",
        "#delete 'Total' column\n",
        "#axis value is 1 for column\n",
        "# inplace=True updates the dataframe\n",
        "print(\"df_1 after:\")\n",
        "df_1"
      ],
      "execution_count": 26,
      "outputs": [
        {
          "output_type": "stream",
          "text": [
            "df_1 before:\n",
            "      C     D     E  Total\n",
            "A  34.0  44.0  15.0   93.0\n",
            "B  13.0  14.0  44.0   71.0\n",
            "F  44.0  45.0  46.0    NaN \n",
            "\n",
            "df_1 after:\n"
          ],
          "name": "stdout"
        },
        {
          "output_type": "execute_result",
          "data": {
            "text/html": [
              "<div>\n",
              "<style scoped>\n",
              "    .dataframe tbody tr th:only-of-type {\n",
              "        vertical-align: middle;\n",
              "    }\n",
              "\n",
              "    .dataframe tbody tr th {\n",
              "        vertical-align: top;\n",
              "    }\n",
              "\n",
              "    .dataframe thead th {\n",
              "        text-align: right;\n",
              "    }\n",
              "</style>\n",
              "<table border=\"1\" class=\"dataframe\">\n",
              "  <thead>\n",
              "    <tr style=\"text-align: right;\">\n",
              "      <th></th>\n",
              "      <th>C</th>\n",
              "      <th>D</th>\n",
              "      <th>E</th>\n",
              "    </tr>\n",
              "  </thead>\n",
              "  <tbody>\n",
              "    <tr>\n",
              "      <th>A</th>\n",
              "      <td>34.0</td>\n",
              "      <td>44.0</td>\n",
              "      <td>15.0</td>\n",
              "    </tr>\n",
              "    <tr>\n",
              "      <th>B</th>\n",
              "      <td>13.0</td>\n",
              "      <td>14.0</td>\n",
              "      <td>44.0</td>\n",
              "    </tr>\n",
              "    <tr>\n",
              "      <th>F</th>\n",
              "      <td>44.0</td>\n",
              "      <td>45.0</td>\n",
              "      <td>46.0</td>\n",
              "    </tr>\n",
              "  </tbody>\n",
              "</table>\n",
              "</div>"
            ],
            "text/plain": [
              "      C     D     E\n",
              "A  34.0  44.0  15.0\n",
              "B  13.0  14.0  44.0\n",
              "F  44.0  45.0  46.0"
            ]
          },
          "metadata": {
            "tags": []
          },
          "execution_count": 26
        }
      ]
    },
    {
      "cell_type": "code",
      "metadata": {
        "id": "TBpDdbDJEiA0",
        "colab": {
          "base_uri": "https://localhost:8080/",
          "height": 230
        },
        "outputId": "0145c0c4-415c-4e39-fad7-d28e529af410"
      },
      "source": [
        "#delete row\n",
        "\n",
        "print(\"df_1 before:\")\n",
        "print(df_1,\"\\n\") \n",
        "\n",
        "#new code\n",
        "df_1.drop('B', axis=0, inplace=True)\n",
        "#delete 'B' row\n",
        "#axis value is  for row\n",
        "print(\"df_1 after:\")\n",
        "df_1"
      ],
      "execution_count": 27,
      "outputs": [
        {
          "output_type": "stream",
          "text": [
            "df_1 before:\n",
            "      C     D     E\n",
            "A  34.0  44.0  15.0\n",
            "B  13.0  14.0  44.0\n",
            "F  44.0  45.0  46.0 \n",
            "\n",
            "df_1 after:\n"
          ],
          "name": "stdout"
        },
        {
          "output_type": "execute_result",
          "data": {
            "text/html": [
              "<div>\n",
              "<style scoped>\n",
              "    .dataframe tbody tr th:only-of-type {\n",
              "        vertical-align: middle;\n",
              "    }\n",
              "\n",
              "    .dataframe tbody tr th {\n",
              "        vertical-align: top;\n",
              "    }\n",
              "\n",
              "    .dataframe thead th {\n",
              "        text-align: right;\n",
              "    }\n",
              "</style>\n",
              "<table border=\"1\" class=\"dataframe\">\n",
              "  <thead>\n",
              "    <tr style=\"text-align: right;\">\n",
              "      <th></th>\n",
              "      <th>C</th>\n",
              "      <th>D</th>\n",
              "      <th>E</th>\n",
              "    </tr>\n",
              "  </thead>\n",
              "  <tbody>\n",
              "    <tr>\n",
              "      <th>A</th>\n",
              "      <td>34.0</td>\n",
              "      <td>44.0</td>\n",
              "      <td>15.0</td>\n",
              "    </tr>\n",
              "    <tr>\n",
              "      <th>F</th>\n",
              "      <td>44.0</td>\n",
              "      <td>45.0</td>\n",
              "      <td>46.0</td>\n",
              "    </tr>\n",
              "  </tbody>\n",
              "</table>\n",
              "</div>"
            ],
            "text/plain": [
              "      C     D     E\n",
              "A  34.0  44.0  15.0\n",
              "F  44.0  45.0  46.0"
            ]
          },
          "metadata": {
            "tags": []
          },
          "execution_count": 27
        }
      ]
    },
    {
      "cell_type": "code",
      "metadata": {
        "id": "ryawS-mAFCKF",
        "colab": {
          "base_uri": "https://localhost:8080/",
          "height": 244
        },
        "outputId": "b7ab1b22-b960-49d3-932b-b74b12a68fc8"
      },
      "source": [
        "#create a new column and make it the index\n",
        "\n",
        "print(\"df_1 before:\")\n",
        "print(df_1,\"\\n\")  \n",
        "\n",
        "#new code\n",
        "df_1['Sex'] = ['Men', 'Women']\n",
        "df_1.set_index('Sex', inplace=True)\n",
        "print(\"df_1 after:\")\n",
        "df_1"
      ],
      "execution_count": 28,
      "outputs": [
        {
          "output_type": "stream",
          "text": [
            "df_1 before:\n",
            "      C     D     E\n",
            "A  34.0  44.0  15.0\n",
            "F  44.0  45.0  46.0 \n",
            "\n",
            "df_1 after:\n"
          ],
          "name": "stdout"
        },
        {
          "output_type": "execute_result",
          "data": {
            "text/html": [
              "<div>\n",
              "<style scoped>\n",
              "    .dataframe tbody tr th:only-of-type {\n",
              "        vertical-align: middle;\n",
              "    }\n",
              "\n",
              "    .dataframe tbody tr th {\n",
              "        vertical-align: top;\n",
              "    }\n",
              "\n",
              "    .dataframe thead th {\n",
              "        text-align: right;\n",
              "    }\n",
              "</style>\n",
              "<table border=\"1\" class=\"dataframe\">\n",
              "  <thead>\n",
              "    <tr style=\"text-align: right;\">\n",
              "      <th></th>\n",
              "      <th>C</th>\n",
              "      <th>D</th>\n",
              "      <th>E</th>\n",
              "    </tr>\n",
              "    <tr>\n",
              "      <th>Sex</th>\n",
              "      <th></th>\n",
              "      <th></th>\n",
              "      <th></th>\n",
              "    </tr>\n",
              "  </thead>\n",
              "  <tbody>\n",
              "    <tr>\n",
              "      <th>Men</th>\n",
              "      <td>34.0</td>\n",
              "      <td>44.0</td>\n",
              "      <td>15.0</td>\n",
              "    </tr>\n",
              "    <tr>\n",
              "      <th>Women</th>\n",
              "      <td>44.0</td>\n",
              "      <td>45.0</td>\n",
              "      <td>46.0</td>\n",
              "    </tr>\n",
              "  </tbody>\n",
              "</table>\n",
              "</div>"
            ],
            "text/plain": [
              "          C     D     E\n",
              "Sex                    \n",
              "Men    34.0  44.0  15.0\n",
              "Women  44.0  45.0  46.0"
            ]
          },
          "metadata": {
            "tags": []
          },
          "execution_count": 28
        }
      ]
    },
    {
      "cell_type": "code",
      "metadata": {
        "id": "9wuoKPAOFxNg",
        "colab": {
          "base_uri": "https://localhost:8080/",
          "height": 230
        },
        "outputId": "2df89d22-57ad-4944-db1e-c86066a729a5"
      },
      "source": [
        "#reset index to 0 and 1\n",
        "\n",
        "print(\"df_1 before:\")\n",
        "print(df_1,\"\\n\")  \n",
        "\n",
        "#new code\n",
        "df_1.reset_index(inplace=True)\n",
        "print(\"df_1 after:\")\n",
        "df_1"
      ],
      "execution_count": 29,
      "outputs": [
        {
          "output_type": "stream",
          "text": [
            "df_1 before:\n",
            "          C     D     E\n",
            "Sex                    \n",
            "Men    34.0  44.0  15.0\n",
            "Women  44.0  45.0  46.0 \n",
            "\n",
            "df_1 after:\n"
          ],
          "name": "stdout"
        },
        {
          "output_type": "execute_result",
          "data": {
            "text/html": [
              "<div>\n",
              "<style scoped>\n",
              "    .dataframe tbody tr th:only-of-type {\n",
              "        vertical-align: middle;\n",
              "    }\n",
              "\n",
              "    .dataframe tbody tr th {\n",
              "        vertical-align: top;\n",
              "    }\n",
              "\n",
              "    .dataframe thead th {\n",
              "        text-align: right;\n",
              "    }\n",
              "</style>\n",
              "<table border=\"1\" class=\"dataframe\">\n",
              "  <thead>\n",
              "    <tr style=\"text-align: right;\">\n",
              "      <th></th>\n",
              "      <th>Sex</th>\n",
              "      <th>C</th>\n",
              "      <th>D</th>\n",
              "      <th>E</th>\n",
              "    </tr>\n",
              "  </thead>\n",
              "  <tbody>\n",
              "    <tr>\n",
              "      <th>0</th>\n",
              "      <td>Men</td>\n",
              "      <td>34.0</td>\n",
              "      <td>44.0</td>\n",
              "      <td>15.0</td>\n",
              "    </tr>\n",
              "    <tr>\n",
              "      <th>1</th>\n",
              "      <td>Women</td>\n",
              "      <td>44.0</td>\n",
              "      <td>45.0</td>\n",
              "      <td>46.0</td>\n",
              "    </tr>\n",
              "  </tbody>\n",
              "</table>\n",
              "</div>"
            ],
            "text/plain": [
              "     Sex     C     D     E\n",
              "0    Men  34.0  44.0  15.0\n",
              "1  Women  44.0  45.0  46.0"
            ]
          },
          "metadata": {
            "tags": []
          },
          "execution_count": 29
        }
      ]
    },
    {
      "cell_type": "code",
      "metadata": {
        "id": "c2RQb2fLLFdB",
        "colab": {
          "base_uri": "https://localhost:8080/",
          "height": 111
        },
        "outputId": "f8429020-1183-42f3-988e-32cfaf332ad2"
      },
      "source": [
        "#reset df_1 to orginal form\n",
        "df_1 = pd.DataFrame(array_2, ['A','B'], ['C','D','E'])\n",
        "df_1"
      ],
      "execution_count": 30,
      "outputs": [
        {
          "output_type": "execute_result",
          "data": {
            "text/html": [
              "<div>\n",
              "<style scoped>\n",
              "    .dataframe tbody tr th:only-of-type {\n",
              "        vertical-align: middle;\n",
              "    }\n",
              "\n",
              "    .dataframe tbody tr th {\n",
              "        vertical-align: top;\n",
              "    }\n",
              "\n",
              "    .dataframe thead th {\n",
              "        text-align: right;\n",
              "    }\n",
              "</style>\n",
              "<table border=\"1\" class=\"dataframe\">\n",
              "  <thead>\n",
              "    <tr style=\"text-align: right;\">\n",
              "      <th></th>\n",
              "      <th>C</th>\n",
              "      <th>D</th>\n",
              "      <th>E</th>\n",
              "    </tr>\n",
              "  </thead>\n",
              "  <tbody>\n",
              "    <tr>\n",
              "      <th>A</th>\n",
              "      <td>34</td>\n",
              "      <td>44</td>\n",
              "      <td>15</td>\n",
              "    </tr>\n",
              "    <tr>\n",
              "      <th>B</th>\n",
              "      <td>13</td>\n",
              "      <td>14</td>\n",
              "      <td>44</td>\n",
              "    </tr>\n",
              "  </tbody>\n",
              "</table>\n",
              "</div>"
            ],
            "text/plain": [
              "    C   D   E\n",
              "A  34  44  15\n",
              "B  13  14  44"
            ]
          },
          "metadata": {
            "tags": []
          },
          "execution_count": 30
        }
      ]
    },
    {
      "cell_type": "code",
      "metadata": {
        "id": "9QIY_NSzLkO3",
        "colab": {
          "base_uri": "https://localhost:8080/",
          "height": 292
        },
        "outputId": "d55f5046-da47-4893-f176-53d93d2a8263"
      },
      "source": [
        "# add column using 'lambda'\n",
        "\n",
        "print(\"df_2:\")\n",
        "print(df_2,\"\\n\") \n",
        "\n",
        "#new code\n",
        "df_2.assign(div=lambda x: (x['one']/ x['two']))\n",
        "#OR\n",
        "#df_2.assign(div=df_2['one']/df_2['two'])) #will give same output"
      ],
      "execution_count": 31,
      "outputs": [
        {
          "output_type": "stream",
          "text": [
            "df_2:\n",
            "   one  two  Multiplication\n",
            "a  1.0  1.0             1.0\n",
            "b  2.0  2.0             4.0\n",
            "c  3.0  3.0             9.0\n",
            "d  NaN  4.0             NaN \n",
            "\n"
          ],
          "name": "stdout"
        },
        {
          "output_type": "execute_result",
          "data": {
            "text/html": [
              "<div>\n",
              "<style scoped>\n",
              "    .dataframe tbody tr th:only-of-type {\n",
              "        vertical-align: middle;\n",
              "    }\n",
              "\n",
              "    .dataframe tbody tr th {\n",
              "        vertical-align: top;\n",
              "    }\n",
              "\n",
              "    .dataframe thead th {\n",
              "        text-align: right;\n",
              "    }\n",
              "</style>\n",
              "<table border=\"1\" class=\"dataframe\">\n",
              "  <thead>\n",
              "    <tr style=\"text-align: right;\">\n",
              "      <th></th>\n",
              "      <th>one</th>\n",
              "      <th>two</th>\n",
              "      <th>Multiplication</th>\n",
              "      <th>div</th>\n",
              "    </tr>\n",
              "  </thead>\n",
              "  <tbody>\n",
              "    <tr>\n",
              "      <th>a</th>\n",
              "      <td>1.0</td>\n",
              "      <td>1.0</td>\n",
              "      <td>1.0</td>\n",
              "      <td>1.0</td>\n",
              "    </tr>\n",
              "    <tr>\n",
              "      <th>b</th>\n",
              "      <td>2.0</td>\n",
              "      <td>2.0</td>\n",
              "      <td>4.0</td>\n",
              "      <td>1.0</td>\n",
              "    </tr>\n",
              "    <tr>\n",
              "      <th>c</th>\n",
              "      <td>3.0</td>\n",
              "      <td>3.0</td>\n",
              "      <td>9.0</td>\n",
              "      <td>1.0</td>\n",
              "    </tr>\n",
              "    <tr>\n",
              "      <th>d</th>\n",
              "      <td>NaN</td>\n",
              "      <td>4.0</td>\n",
              "      <td>NaN</td>\n",
              "      <td>NaN</td>\n",
              "    </tr>\n",
              "  </tbody>\n",
              "</table>\n",
              "</div>"
            ],
            "text/plain": [
              "   one  two  Multiplication  div\n",
              "a  1.0  1.0             1.0  1.0\n",
              "b  2.0  2.0             4.0  1.0\n",
              "c  3.0  3.0             9.0  1.0\n",
              "d  NaN  4.0             NaN  NaN"
            ]
          },
          "metadata": {
            "tags": []
          },
          "execution_count": 31
        }
      ]
    },
    {
      "cell_type": "code",
      "metadata": {
        "id": "50pbybmyMNDt",
        "colab": {
          "base_uri": "https://localhost:8080/",
          "height": 445
        },
        "outputId": "3179c68d-02b9-4c9e-c9ab-c5cf3d2c9292"
      },
      "source": [
        "#combining 2 dataframes\n",
        "\n",
        "df_3 = pd.DataFrame({'A': [1.,np.nan,3.,np.nan]})\n",
        "print(\"df_3:\")\n",
        "print(df_3,\"\\n\") \n",
        "df_4 = pd.DataFrame({'A': [8.,9.,2.,4.]})\n",
        "print(\"df_4:\")\n",
        "print(df_4,\"\\n\") \n",
        "\n",
        "#combining\n",
        "print(\"\\ndf_3 after combining:\")\n",
        "df_3.combine_first(df_4)"
      ],
      "execution_count": 32,
      "outputs": [
        {
          "output_type": "stream",
          "text": [
            "df_3:\n",
            "     A\n",
            "0  1.0\n",
            "1  NaN\n",
            "2  3.0\n",
            "3  NaN \n",
            "\n",
            "df_4:\n",
            "     A\n",
            "0  8.0\n",
            "1  9.0\n",
            "2  2.0\n",
            "3  4.0 \n",
            "\n",
            "\n",
            "df_3 after combining:\n"
          ],
          "name": "stdout"
        },
        {
          "output_type": "execute_result",
          "data": {
            "text/html": [
              "<div>\n",
              "<style scoped>\n",
              "    .dataframe tbody tr th:only-of-type {\n",
              "        vertical-align: middle;\n",
              "    }\n",
              "\n",
              "    .dataframe tbody tr th {\n",
              "        vertical-align: top;\n",
              "    }\n",
              "\n",
              "    .dataframe thead th {\n",
              "        text-align: right;\n",
              "    }\n",
              "</style>\n",
              "<table border=\"1\" class=\"dataframe\">\n",
              "  <thead>\n",
              "    <tr style=\"text-align: right;\">\n",
              "      <th></th>\n",
              "      <th>A</th>\n",
              "    </tr>\n",
              "  </thead>\n",
              "  <tbody>\n",
              "    <tr>\n",
              "      <th>0</th>\n",
              "      <td>1.0</td>\n",
              "    </tr>\n",
              "    <tr>\n",
              "      <th>1</th>\n",
              "      <td>9.0</td>\n",
              "    </tr>\n",
              "    <tr>\n",
              "      <th>2</th>\n",
              "      <td>3.0</td>\n",
              "    </tr>\n",
              "    <tr>\n",
              "      <th>3</th>\n",
              "      <td>4.0</td>\n",
              "    </tr>\n",
              "  </tbody>\n",
              "</table>\n",
              "</div>"
            ],
            "text/plain": [
              "     A\n",
              "0  1.0\n",
              "1  9.0\n",
              "2  3.0\n",
              "3  4.0"
            ]
          },
          "metadata": {
            "tags": []
          },
          "execution_count": 32
        }
      ]
    },
    {
      "cell_type": "markdown",
      "metadata": {
        "id": "dBRy9izZOE68"
      },
      "source": [
        "**Conditional Selection**"
      ]
    },
    {
      "cell_type": "code",
      "metadata": {
        "id": "NToiTmRlOI9h",
        "colab": {
          "base_uri": "https://localhost:8080/",
          "height": 196
        },
        "outputId": "0b30c970-01db-47b5-90a3-3d407887bb18"
      },
      "source": [
        "#creating an array and a dataframe\n",
        "\n",
        "array_2 = np.random.randint(10,50, size=(2,3))\n",
        "print('array_2:')\n",
        "print(array_2)\n",
        "\n",
        "df_1 = pd.DataFrame(array_2, ['A','B'], ['C','D','E'])\n",
        "print('\\ndf_1:')\n",
        "df_1"
      ],
      "execution_count": 33,
      "outputs": [
        {
          "output_type": "stream",
          "text": [
            "array_2:\n",
            "[[26 15 27]\n",
            " [24 20 17]]\n",
            "\n",
            "df_1:\n"
          ],
          "name": "stdout"
        },
        {
          "output_type": "execute_result",
          "data": {
            "text/html": [
              "<div>\n",
              "<style scoped>\n",
              "    .dataframe tbody tr th:only-of-type {\n",
              "        vertical-align: middle;\n",
              "    }\n",
              "\n",
              "    .dataframe tbody tr th {\n",
              "        vertical-align: top;\n",
              "    }\n",
              "\n",
              "    .dataframe thead th {\n",
              "        text-align: right;\n",
              "    }\n",
              "</style>\n",
              "<table border=\"1\" class=\"dataframe\">\n",
              "  <thead>\n",
              "    <tr style=\"text-align: right;\">\n",
              "      <th></th>\n",
              "      <th>C</th>\n",
              "      <th>D</th>\n",
              "      <th>E</th>\n",
              "    </tr>\n",
              "  </thead>\n",
              "  <tbody>\n",
              "    <tr>\n",
              "      <th>A</th>\n",
              "      <td>26</td>\n",
              "      <td>15</td>\n",
              "      <td>27</td>\n",
              "    </tr>\n",
              "    <tr>\n",
              "      <th>B</th>\n",
              "      <td>24</td>\n",
              "      <td>20</td>\n",
              "      <td>17</td>\n",
              "    </tr>\n",
              "  </tbody>\n",
              "</table>\n",
              "</div>"
            ],
            "text/plain": [
              "    C   D   E\n",
              "A  26  15  27\n",
              "B  24  20  17"
            ]
          },
          "metadata": {
            "tags": []
          },
          "execution_count": 33
        }
      ]
    },
    {
      "cell_type": "code",
      "metadata": {
        "id": "mE3i3OXJPE3i",
        "colab": {
          "base_uri": "https://localhost:8080/"
        },
        "outputId": "ef2fe6ef-f53c-4e4b-cdf8-a33902491d0b"
      },
      "source": [
        "#greater than\n",
        "\n",
        "print('df_1:')\n",
        "print(df_1)\n",
        "\n",
        "#new code\n",
        "print(\"\\nGreater than 40 using '>':\")\n",
        "print(df_1>40) \n",
        "print(\"\\nGreater than 40 using 'gt()':\")\n",
        "print(df_1.gt(40.0))\n",
        "\n",
        "# we can also use:\n",
        "# lt() - less than\n",
        "# ge() - greater than equal to\n",
        "# le() - less than equal to\n",
        "# eq() - equal to\n",
        "# ne() - not equal to"
      ],
      "execution_count": 34,
      "outputs": [
        {
          "output_type": "stream",
          "text": [
            "df_1:\n",
            "    C   D   E\n",
            "A  26  15  27\n",
            "B  24  20  17\n",
            "\n",
            "Greater than 40 using '>':\n",
            "       C      D      E\n",
            "A  False  False  False\n",
            "B  False  False  False\n",
            "\n",
            "Greater than 40 using 'gt()':\n",
            "       C      D      E\n",
            "A  False  False  False\n",
            "B  False  False  False\n"
          ],
          "name": "stdout"
        }
      ]
    },
    {
      "cell_type": "code",
      "metadata": {
        "id": "gz92pIbeQjd2",
        "colab": {
          "base_uri": "https://localhost:8080/",
          "height": 213
        },
        "outputId": "20106253-f658-4c51-95d1-452212e7ccc3"
      },
      "source": [
        "# one more method for greater than\n",
        "\n",
        "print('df_1:')\n",
        "print(df_1)\n",
        "\n",
        "#new code\n",
        "print(\"\\nNew code output:\")\n",
        "bool_1 = df_1 >= 40.0\n",
        "df_1[bool_1]"
      ],
      "execution_count": 35,
      "outputs": [
        {
          "output_type": "stream",
          "text": [
            "df_1:\n",
            "    C   D   E\n",
            "A  26  15  27\n",
            "B  24  20  17\n",
            "\n",
            "New code output:\n"
          ],
          "name": "stdout"
        },
        {
          "output_type": "execute_result",
          "data": {
            "text/html": [
              "<div>\n",
              "<style scoped>\n",
              "    .dataframe tbody tr th:only-of-type {\n",
              "        vertical-align: middle;\n",
              "    }\n",
              "\n",
              "    .dataframe tbody tr th {\n",
              "        vertical-align: top;\n",
              "    }\n",
              "\n",
              "    .dataframe thead th {\n",
              "        text-align: right;\n",
              "    }\n",
              "</style>\n",
              "<table border=\"1\" class=\"dataframe\">\n",
              "  <thead>\n",
              "    <tr style=\"text-align: right;\">\n",
              "      <th></th>\n",
              "      <th>C</th>\n",
              "      <th>D</th>\n",
              "      <th>E</th>\n",
              "    </tr>\n",
              "  </thead>\n",
              "  <tbody>\n",
              "    <tr>\n",
              "      <th>A</th>\n",
              "      <td>NaN</td>\n",
              "      <td>NaN</td>\n",
              "      <td>NaN</td>\n",
              "    </tr>\n",
              "    <tr>\n",
              "      <th>B</th>\n",
              "      <td>NaN</td>\n",
              "      <td>NaN</td>\n",
              "      <td>NaN</td>\n",
              "    </tr>\n",
              "  </tbody>\n",
              "</table>\n",
              "</div>"
            ],
            "text/plain": [
              "    C   D   E\n",
              "A NaN NaN NaN\n",
              "B NaN NaN NaN"
            ]
          },
          "metadata": {
            "tags": []
          },
          "execution_count": 35
        }
      ]
    },
    {
      "cell_type": "code",
      "metadata": {
        "id": "2IWeaXgTRDkn",
        "colab": {
          "base_uri": "https://localhost:8080/"
        },
        "outputId": "423ff241-21ee-4a2b-a7ba-1bee5e504156"
      },
      "source": [
        "# boolean for column\n",
        "\n",
        "print('df_1:')\n",
        "print(df_1) \n",
        "\n",
        "#new code\n",
        "print(\"\\nBoolean for column:\")\n",
        "df_1['E'] > 40"
      ],
      "execution_count": 36,
      "outputs": [
        {
          "output_type": "stream",
          "text": [
            "df_1:\n",
            "    C   D   E\n",
            "A  26  15  27\n",
            "B  24  20  17\n",
            "\n",
            "Boolean for column:\n"
          ],
          "name": "stdout"
        },
        {
          "output_type": "execute_result",
          "data": {
            "text/plain": [
              "A    False\n",
              "B    False\n",
              "Name: E, dtype: bool"
            ]
          },
          "metadata": {
            "tags": []
          },
          "execution_count": 36
        }
      ]
    },
    {
      "cell_type": "code",
      "metadata": {
        "id": "oG-c8VjlSpVp",
        "colab": {
          "base_uri": "https://localhost:8080/"
        },
        "outputId": "fa99d308-41c4-4eb4-de4d-90e7bdfa7433"
      },
      "source": [
        "# boolean for column(return the dataframe)\n",
        "\n",
        "print('df_1:')\n",
        "print(df_1) \n",
        "\n",
        "#new code\n",
        "print(\"New code output:\")\n",
        "df_2 = df_1[df_1['E'] > 30]\n",
        "df_2['C']"
      ],
      "execution_count": 37,
      "outputs": [
        {
          "output_type": "stream",
          "text": [
            "df_1:\n",
            "    C   D   E\n",
            "A  26  15  27\n",
            "B  24  20  17\n",
            "New code output:\n"
          ],
          "name": "stdout"
        },
        {
          "output_type": "execute_result",
          "data": {
            "text/plain": [
              "Series([], Name: C, dtype: int64)"
            ]
          },
          "metadata": {
            "tags": []
          },
          "execution_count": 37
        }
      ]
    },
    {
      "cell_type": "code",
      "metadata": {
        "id": "OZT-ZFilTHKU",
        "colab": {
          "base_uri": "https://localhost:8080/"
        },
        "outputId": "f48ed672-aa6b-40ad-dc67-8df55f01f854"
      },
      "source": [
        "# stacking the commands\n",
        "\n",
        "print('df_1:')\n",
        "print(df_1) \n",
        "\n",
        "#new code\n",
        "print(\"\\nNew code output:\")\n",
        "print(df_1[df_1['E']>20]['C'])"
      ],
      "execution_count": 38,
      "outputs": [
        {
          "output_type": "stream",
          "text": [
            "df_1:\n",
            "    C   D   E\n",
            "A  26  15  27\n",
            "B  24  20  17\n",
            "\n",
            "New code output:\n",
            "A    26\n",
            "Name: C, dtype: int64\n"
          ],
          "name": "stdout"
        }
      ]
    },
    {
      "cell_type": "code",
      "metadata": {
        "id": "UF1YhAFzT_6h",
        "colab": {
          "base_uri": "https://localhost:8080/",
          "height": 142
        },
        "outputId": "662fe50c-d406-4ab4-f942-aba41e2b4382"
      },
      "source": [
        "#creating a new dataframe\n",
        "array_3 = np.array([[1,2,3],[4,5,6],[7,8,9]])\n",
        "df_2 = pd.DataFrame(array_3, ['A','B','C'], ['X','Y','Z'])\n",
        "df_2"
      ],
      "execution_count": 39,
      "outputs": [
        {
          "output_type": "execute_result",
          "data": {
            "text/html": [
              "<div>\n",
              "<style scoped>\n",
              "    .dataframe tbody tr th:only-of-type {\n",
              "        vertical-align: middle;\n",
              "    }\n",
              "\n",
              "    .dataframe tbody tr th {\n",
              "        vertical-align: top;\n",
              "    }\n",
              "\n",
              "    .dataframe thead th {\n",
              "        text-align: right;\n",
              "    }\n",
              "</style>\n",
              "<table border=\"1\" class=\"dataframe\">\n",
              "  <thead>\n",
              "    <tr style=\"text-align: right;\">\n",
              "      <th></th>\n",
              "      <th>X</th>\n",
              "      <th>Y</th>\n",
              "      <th>Z</th>\n",
              "    </tr>\n",
              "  </thead>\n",
              "  <tbody>\n",
              "    <tr>\n",
              "      <th>A</th>\n",
              "      <td>1</td>\n",
              "      <td>2</td>\n",
              "      <td>3</td>\n",
              "    </tr>\n",
              "    <tr>\n",
              "      <th>B</th>\n",
              "      <td>4</td>\n",
              "      <td>5</td>\n",
              "      <td>6</td>\n",
              "    </tr>\n",
              "    <tr>\n",
              "      <th>C</th>\n",
              "      <td>7</td>\n",
              "      <td>8</td>\n",
              "      <td>9</td>\n",
              "    </tr>\n",
              "  </tbody>\n",
              "</table>\n",
              "</div>"
            ],
            "text/plain": [
              "   X  Y  Z\n",
              "A  1  2  3\n",
              "B  4  5  6\n",
              "C  7  8  9"
            ]
          },
          "metadata": {
            "tags": []
          },
          "execution_count": 39
        }
      ]
    },
    {
      "cell_type": "code",
      "metadata": {
        "id": "J-Mb9YD4UfzB",
        "colab": {
          "base_uri": "https://localhost:8080/",
          "height": 199
        },
        "outputId": "b718ca94-90ff-4057-ca2e-47993c0cd233"
      },
      "source": [
        "# using 'and(&)'\n",
        "\n",
        "print(\"df_2:\")\n",
        "print(df_2) \n",
        "\n",
        "#new code\n",
        "print(\"\\nNew code output:\")\n",
        "df_2[(df_2['X']>3) & (df_2['X']<7)]\n",
        "\n",
        "# we can also use '|' instead of '&'"
      ],
      "execution_count": 40,
      "outputs": [
        {
          "output_type": "stream",
          "text": [
            "df_2:\n",
            "   X  Y  Z\n",
            "A  1  2  3\n",
            "B  4  5  6\n",
            "C  7  8  9\n",
            "\n",
            "New code output:\n"
          ],
          "name": "stdout"
        },
        {
          "output_type": "execute_result",
          "data": {
            "text/html": [
              "<div>\n",
              "<style scoped>\n",
              "    .dataframe tbody tr th:only-of-type {\n",
              "        vertical-align: middle;\n",
              "    }\n",
              "\n",
              "    .dataframe tbody tr th {\n",
              "        vertical-align: top;\n",
              "    }\n",
              "\n",
              "    .dataframe thead th {\n",
              "        text-align: right;\n",
              "    }\n",
              "</style>\n",
              "<table border=\"1\" class=\"dataframe\">\n",
              "  <thead>\n",
              "    <tr style=\"text-align: right;\">\n",
              "      <th></th>\n",
              "      <th>X</th>\n",
              "      <th>Y</th>\n",
              "      <th>Z</th>\n",
              "    </tr>\n",
              "  </thead>\n",
              "  <tbody>\n",
              "    <tr>\n",
              "      <th>B</th>\n",
              "      <td>4</td>\n",
              "      <td>5</td>\n",
              "      <td>6</td>\n",
              "    </tr>\n",
              "  </tbody>\n",
              "</table>\n",
              "</div>"
            ],
            "text/plain": [
              "   X  Y  Z\n",
              "B  4  5  6"
            ]
          },
          "metadata": {
            "tags": []
          },
          "execution_count": 40
        }
      ]
    },
    {
      "cell_type": "markdown",
      "metadata": {
        "id": "6WvkHcYCVR_4"
      },
      "source": [
        "**File Input/Output**"
      ]
    },
    {
      "cell_type": "code",
      "metadata": {
        "id": "9Z88B3vRVZWX",
        "colab": {
          "base_uri": "https://localhost:8080/"
        },
        "outputId": "044f3148-e238-4f93-c580-8394e21d8efc"
      },
      "source": [
        "!pip install pymysql\n",
        "import pymysql"
      ],
      "execution_count": 41,
      "outputs": [
        {
          "output_type": "stream",
          "text": [
            "Requirement already satisfied: pymysql in /usr/local/lib/python3.7/dist-packages (1.0.2)\n"
          ],
          "name": "stdout"
        }
      ]
    },
    {
      "cell_type": "code",
      "metadata": {
        "id": "h9gcxv22Vuyq",
        "colab": {
          "base_uri": "https://localhost:8080/",
          "height": 204
        },
        "outputId": "092d5190-8434-4061-a63e-4e5dffbf593e"
      },
      "source": [
        "#read a csv file\n",
        "\n",
        "cs_df = pd.read_csv('ComputerSales.csv')\n",
        "cs_df.head()"
      ],
      "execution_count": 42,
      "outputs": [
        {
          "output_type": "execute_result",
          "data": {
            "text/html": [
              "<div>\n",
              "<style scoped>\n",
              "    .dataframe tbody tr th:only-of-type {\n",
              "        vertical-align: middle;\n",
              "    }\n",
              "\n",
              "    .dataframe tbody tr th {\n",
              "        vertical-align: top;\n",
              "    }\n",
              "\n",
              "    .dataframe thead th {\n",
              "        text-align: right;\n",
              "    }\n",
              "</style>\n",
              "<table border=\"1\" class=\"dataframe\">\n",
              "  <thead>\n",
              "    <tr style=\"text-align: right;\">\n",
              "      <th></th>\n",
              "      <th>Sale ID</th>\n",
              "      <th>Contact</th>\n",
              "      <th>Sex</th>\n",
              "      <th>Age</th>\n",
              "      <th>State</th>\n",
              "      <th>Product ID</th>\n",
              "      <th>Product Type</th>\n",
              "      <th>Sale Price</th>\n",
              "      <th>Profit</th>\n",
              "      <th>Lead</th>\n",
              "      <th>Month</th>\n",
              "      <th>Year</th>\n",
              "    </tr>\n",
              "  </thead>\n",
              "  <tbody>\n",
              "    <tr>\n",
              "      <th>0</th>\n",
              "      <td>1</td>\n",
              "      <td>Paul Thomas</td>\n",
              "      <td>M</td>\n",
              "      <td>43</td>\n",
              "      <td>OH</td>\n",
              "      <td>M01-F0024</td>\n",
              "      <td>Desktop</td>\n",
              "      <td>479.99</td>\n",
              "      <td>143.39</td>\n",
              "      <td>Website</td>\n",
              "      <td>January</td>\n",
              "      <td>2018</td>\n",
              "    </tr>\n",
              "    <tr>\n",
              "      <th>1</th>\n",
              "      <td>2</td>\n",
              "      <td>Margo Simms</td>\n",
              "      <td>F</td>\n",
              "      <td>37</td>\n",
              "      <td>WV</td>\n",
              "      <td>GT13-0024</td>\n",
              "      <td>Desktop</td>\n",
              "      <td>1249.99</td>\n",
              "      <td>230.89</td>\n",
              "      <td>Flyer 4</td>\n",
              "      <td>January</td>\n",
              "      <td>2018</td>\n",
              "    </tr>\n",
              "    <tr>\n",
              "      <th>2</th>\n",
              "      <td>3</td>\n",
              "      <td>Sam Stine</td>\n",
              "      <td>M</td>\n",
              "      <td>26</td>\n",
              "      <td>PA</td>\n",
              "      <td>I3670</td>\n",
              "      <td>Desktop</td>\n",
              "      <td>649.99</td>\n",
              "      <td>118.64</td>\n",
              "      <td>Website</td>\n",
              "      <td>February</td>\n",
              "      <td>2018</td>\n",
              "    </tr>\n",
              "    <tr>\n",
              "      <th>3</th>\n",
              "      <td>4</td>\n",
              "      <td>Moe Eggert</td>\n",
              "      <td>M</td>\n",
              "      <td>35</td>\n",
              "      <td>PA</td>\n",
              "      <td>I3593</td>\n",
              "      <td>Laptop</td>\n",
              "      <td>399.99</td>\n",
              "      <td>72.09</td>\n",
              "      <td>Website</td>\n",
              "      <td>March</td>\n",
              "      <td>2018</td>\n",
              "    </tr>\n",
              "    <tr>\n",
              "      <th>4</th>\n",
              "      <td>5</td>\n",
              "      <td>Jessica Elk</td>\n",
              "      <td>F</td>\n",
              "      <td>55</td>\n",
              "      <td>PA</td>\n",
              "      <td>15M-ED</td>\n",
              "      <td>Laptop</td>\n",
              "      <td>699.99</td>\n",
              "      <td>98.09</td>\n",
              "      <td>Flyer 4</td>\n",
              "      <td>March</td>\n",
              "      <td>2018</td>\n",
              "    </tr>\n",
              "  </tbody>\n",
              "</table>\n",
              "</div>"
            ],
            "text/plain": [
              "   Sale ID      Contact Sex  Age  ...  Profit     Lead     Month  Year\n",
              "0        1  Paul Thomas   M   43  ...  143.39  Website   January  2018\n",
              "1        2  Margo Simms   F   37  ...  230.89  Flyer 4   January  2018\n",
              "2        3    Sam Stine   M   26  ...  118.64  Website  February  2018\n",
              "3        4   Moe Eggert   M   35  ...   72.09  Website     March  2018\n",
              "4        5  Jessica Elk   F   55  ...   98.09  Flyer 4     March  2018\n",
              "\n",
              "[5 rows x 12 columns]"
            ]
          },
          "metadata": {
            "tags": []
          },
          "execution_count": 42
        }
      ]
    },
    {
      "cell_type": "code",
      "metadata": {
        "id": "qiSz6DS_SZjX"
      },
      "source": [
        "##save a file as a csv\n",
        "#cs_df.to_csv('Computer_Sales.csv')"
      ],
      "execution_count": 43,
      "outputs": []
    },
    {
      "cell_type": "code",
      "metadata": {
        "id": "V4UIvJfjTC9g"
      },
      "source": [
        "##save file as a excel\n",
        "# cs_df.to_excel('ComputerSales.xlsx')\n",
        "\n",
        "##open the excel file\n",
        "#pd.read_excel('ComputerSales.xlsx')"
      ],
      "execution_count": 44,
      "outputs": []
    },
    {
      "cell_type": "markdown",
      "metadata": {
        "id": "8oyUiScPp166"
      },
      "source": [
        "**Basics & Maths**"
      ]
    },
    {
      "cell_type": "code",
      "metadata": {
        "id": "zMABy98dp6lI",
        "colab": {
          "base_uri": "https://localhost:8080/",
          "height": 204
        },
        "outputId": "d7d0394e-81a7-4471-aa21-01a45db44e1e"
      },
      "source": [
        "#to get first 5 rows of dataset\n",
        "cs_df.head()"
      ],
      "execution_count": 45,
      "outputs": [
        {
          "output_type": "execute_result",
          "data": {
            "text/html": [
              "<div>\n",
              "<style scoped>\n",
              "    .dataframe tbody tr th:only-of-type {\n",
              "        vertical-align: middle;\n",
              "    }\n",
              "\n",
              "    .dataframe tbody tr th {\n",
              "        vertical-align: top;\n",
              "    }\n",
              "\n",
              "    .dataframe thead th {\n",
              "        text-align: right;\n",
              "    }\n",
              "</style>\n",
              "<table border=\"1\" class=\"dataframe\">\n",
              "  <thead>\n",
              "    <tr style=\"text-align: right;\">\n",
              "      <th></th>\n",
              "      <th>Sale ID</th>\n",
              "      <th>Contact</th>\n",
              "      <th>Sex</th>\n",
              "      <th>Age</th>\n",
              "      <th>State</th>\n",
              "      <th>Product ID</th>\n",
              "      <th>Product Type</th>\n",
              "      <th>Sale Price</th>\n",
              "      <th>Profit</th>\n",
              "      <th>Lead</th>\n",
              "      <th>Month</th>\n",
              "      <th>Year</th>\n",
              "    </tr>\n",
              "  </thead>\n",
              "  <tbody>\n",
              "    <tr>\n",
              "      <th>0</th>\n",
              "      <td>1</td>\n",
              "      <td>Paul Thomas</td>\n",
              "      <td>M</td>\n",
              "      <td>43</td>\n",
              "      <td>OH</td>\n",
              "      <td>M01-F0024</td>\n",
              "      <td>Desktop</td>\n",
              "      <td>479.99</td>\n",
              "      <td>143.39</td>\n",
              "      <td>Website</td>\n",
              "      <td>January</td>\n",
              "      <td>2018</td>\n",
              "    </tr>\n",
              "    <tr>\n",
              "      <th>1</th>\n",
              "      <td>2</td>\n",
              "      <td>Margo Simms</td>\n",
              "      <td>F</td>\n",
              "      <td>37</td>\n",
              "      <td>WV</td>\n",
              "      <td>GT13-0024</td>\n",
              "      <td>Desktop</td>\n",
              "      <td>1249.99</td>\n",
              "      <td>230.89</td>\n",
              "      <td>Flyer 4</td>\n",
              "      <td>January</td>\n",
              "      <td>2018</td>\n",
              "    </tr>\n",
              "    <tr>\n",
              "      <th>2</th>\n",
              "      <td>3</td>\n",
              "      <td>Sam Stine</td>\n",
              "      <td>M</td>\n",
              "      <td>26</td>\n",
              "      <td>PA</td>\n",
              "      <td>I3670</td>\n",
              "      <td>Desktop</td>\n",
              "      <td>649.99</td>\n",
              "      <td>118.64</td>\n",
              "      <td>Website</td>\n",
              "      <td>February</td>\n",
              "      <td>2018</td>\n",
              "    </tr>\n",
              "    <tr>\n",
              "      <th>3</th>\n",
              "      <td>4</td>\n",
              "      <td>Moe Eggert</td>\n",
              "      <td>M</td>\n",
              "      <td>35</td>\n",
              "      <td>PA</td>\n",
              "      <td>I3593</td>\n",
              "      <td>Laptop</td>\n",
              "      <td>399.99</td>\n",
              "      <td>72.09</td>\n",
              "      <td>Website</td>\n",
              "      <td>March</td>\n",
              "      <td>2018</td>\n",
              "    </tr>\n",
              "    <tr>\n",
              "      <th>4</th>\n",
              "      <td>5</td>\n",
              "      <td>Jessica Elk</td>\n",
              "      <td>F</td>\n",
              "      <td>55</td>\n",
              "      <td>PA</td>\n",
              "      <td>15M-ED</td>\n",
              "      <td>Laptop</td>\n",
              "      <td>699.99</td>\n",
              "      <td>98.09</td>\n",
              "      <td>Flyer 4</td>\n",
              "      <td>March</td>\n",
              "      <td>2018</td>\n",
              "    </tr>\n",
              "  </tbody>\n",
              "</table>\n",
              "</div>"
            ],
            "text/plain": [
              "   Sale ID      Contact Sex  Age  ...  Profit     Lead     Month  Year\n",
              "0        1  Paul Thomas   M   43  ...  143.39  Website   January  2018\n",
              "1        2  Margo Simms   F   37  ...  230.89  Flyer 4   January  2018\n",
              "2        3    Sam Stine   M   26  ...  118.64  Website  February  2018\n",
              "3        4   Moe Eggert   M   35  ...   72.09  Website     March  2018\n",
              "4        5  Jessica Elk   F   55  ...   98.09  Flyer 4     March  2018\n",
              "\n",
              "[5 rows x 12 columns]"
            ]
          },
          "metadata": {
            "tags": []
          },
          "execution_count": 45
        }
      ]
    },
    {
      "cell_type": "code",
      "metadata": {
        "id": "TzugYQ5Pq01N",
        "colab": {
          "base_uri": "https://localhost:8080/",
          "height": 204
        },
        "outputId": "5e09b40a-9956-4499-de26-5b3f9d11fe88"
      },
      "source": [
        "#to get last 5 rows of dataset\n",
        "cs_df.tail()"
      ],
      "execution_count": 46,
      "outputs": [
        {
          "output_type": "execute_result",
          "data": {
            "text/html": [
              "<div>\n",
              "<style scoped>\n",
              "    .dataframe tbody tr th:only-of-type {\n",
              "        vertical-align: middle;\n",
              "    }\n",
              "\n",
              "    .dataframe tbody tr th {\n",
              "        vertical-align: top;\n",
              "    }\n",
              "\n",
              "    .dataframe thead th {\n",
              "        text-align: right;\n",
              "    }\n",
              "</style>\n",
              "<table border=\"1\" class=\"dataframe\">\n",
              "  <thead>\n",
              "    <tr style=\"text-align: right;\">\n",
              "      <th></th>\n",
              "      <th>Sale ID</th>\n",
              "      <th>Contact</th>\n",
              "      <th>Sex</th>\n",
              "      <th>Age</th>\n",
              "      <th>State</th>\n",
              "      <th>Product ID</th>\n",
              "      <th>Product Type</th>\n",
              "      <th>Sale Price</th>\n",
              "      <th>Profit</th>\n",
              "      <th>Lead</th>\n",
              "      <th>Month</th>\n",
              "      <th>Year</th>\n",
              "    </tr>\n",
              "  </thead>\n",
              "  <tbody>\n",
              "    <tr>\n",
              "      <th>34</th>\n",
              "      <td>35</td>\n",
              "      <td>Michelle Samms</td>\n",
              "      <td>F</td>\n",
              "      <td>46</td>\n",
              "      <td>NY</td>\n",
              "      <td>MY2J2LL</td>\n",
              "      <td>Tablet</td>\n",
              "      <td>999.99</td>\n",
              "      <td>146.69</td>\n",
              "      <td>Website</td>\n",
              "      <td>April</td>\n",
              "      <td>2020</td>\n",
              "    </tr>\n",
              "    <tr>\n",
              "      <th>35</th>\n",
              "      <td>36</td>\n",
              "      <td>Sally Struthers</td>\n",
              "      <td>F</td>\n",
              "      <td>45</td>\n",
              "      <td>NY</td>\n",
              "      <td>81TC00</td>\n",
              "      <td>Laptop</td>\n",
              "      <td>649.99</td>\n",
              "      <td>122.34</td>\n",
              "      <td>Website</td>\n",
              "      <td>April</td>\n",
              "      <td>2020</td>\n",
              "    </tr>\n",
              "    <tr>\n",
              "      <th>36</th>\n",
              "      <td>37</td>\n",
              "      <td>Jason Case</td>\n",
              "      <td>M</td>\n",
              "      <td>57</td>\n",
              "      <td>PA</td>\n",
              "      <td>M01-F0024</td>\n",
              "      <td>Desktop</td>\n",
              "      <td>479.99</td>\n",
              "      <td>143.39</td>\n",
              "      <td>Flyer 4</td>\n",
              "      <td>April</td>\n",
              "      <td>2020</td>\n",
              "    </tr>\n",
              "    <tr>\n",
              "      <th>37</th>\n",
              "      <td>38</td>\n",
              "      <td>Doug Johnson</td>\n",
              "      <td>M</td>\n",
              "      <td>51</td>\n",
              "      <td>PA</td>\n",
              "      <td>GA401IV</td>\n",
              "      <td>Laptop</td>\n",
              "      <td>1349.99</td>\n",
              "      <td>180.34</td>\n",
              "      <td>Website</td>\n",
              "      <td>May</td>\n",
              "      <td>2020</td>\n",
              "    </tr>\n",
              "    <tr>\n",
              "      <th>38</th>\n",
              "      <td>39</td>\n",
              "      <td>Moe Eggert</td>\n",
              "      <td>M</td>\n",
              "      <td>35</td>\n",
              "      <td>PA</td>\n",
              "      <td>I3593</td>\n",
              "      <td>Laptop</td>\n",
              "      <td>399.99</td>\n",
              "      <td>72.09</td>\n",
              "      <td>Website</td>\n",
              "      <td>May</td>\n",
              "      <td>2020</td>\n",
              "    </tr>\n",
              "  </tbody>\n",
              "</table>\n",
              "</div>"
            ],
            "text/plain": [
              "    Sale ID          Contact Sex  Age  ...  Profit     Lead  Month  Year\n",
              "34       35   Michelle Samms   F   46  ...  146.69  Website  April  2020\n",
              "35       36  Sally Struthers   F   45  ...  122.34  Website  April  2020\n",
              "36       37       Jason Case   M   57  ...  143.39  Flyer 4  April  2020\n",
              "37       38     Doug Johnson   M   51  ...  180.34  Website    May  2020\n",
              "38       39       Moe Eggert   M   35  ...   72.09  Website    May  2020\n",
              "\n",
              "[5 rows x 12 columns]"
            ]
          },
          "metadata": {
            "tags": []
          },
          "execution_count": 46
        }
      ]
    },
    {
      "cell_type": "code",
      "metadata": {
        "id": "Hvhk4LMbq6xJ",
        "colab": {
          "base_uri": "https://localhost:8080/",
          "height": 111
        },
        "outputId": "a20844a5-ec0b-4c35-993c-4fa72a42299c"
      },
      "source": [
        "#to get first 2 rows when can slice as \n",
        "cs_df[:2]"
      ],
      "execution_count": 47,
      "outputs": [
        {
          "output_type": "execute_result",
          "data": {
            "text/html": [
              "<div>\n",
              "<style scoped>\n",
              "    .dataframe tbody tr th:only-of-type {\n",
              "        vertical-align: middle;\n",
              "    }\n",
              "\n",
              "    .dataframe tbody tr th {\n",
              "        vertical-align: top;\n",
              "    }\n",
              "\n",
              "    .dataframe thead th {\n",
              "        text-align: right;\n",
              "    }\n",
              "</style>\n",
              "<table border=\"1\" class=\"dataframe\">\n",
              "  <thead>\n",
              "    <tr style=\"text-align: right;\">\n",
              "      <th></th>\n",
              "      <th>Sale ID</th>\n",
              "      <th>Contact</th>\n",
              "      <th>Sex</th>\n",
              "      <th>Age</th>\n",
              "      <th>State</th>\n",
              "      <th>Product ID</th>\n",
              "      <th>Product Type</th>\n",
              "      <th>Sale Price</th>\n",
              "      <th>Profit</th>\n",
              "      <th>Lead</th>\n",
              "      <th>Month</th>\n",
              "      <th>Year</th>\n",
              "    </tr>\n",
              "  </thead>\n",
              "  <tbody>\n",
              "    <tr>\n",
              "      <th>0</th>\n",
              "      <td>1</td>\n",
              "      <td>Paul Thomas</td>\n",
              "      <td>M</td>\n",
              "      <td>43</td>\n",
              "      <td>OH</td>\n",
              "      <td>M01-F0024</td>\n",
              "      <td>Desktop</td>\n",
              "      <td>479.99</td>\n",
              "      <td>143.39</td>\n",
              "      <td>Website</td>\n",
              "      <td>January</td>\n",
              "      <td>2018</td>\n",
              "    </tr>\n",
              "    <tr>\n",
              "      <th>1</th>\n",
              "      <td>2</td>\n",
              "      <td>Margo Simms</td>\n",
              "      <td>F</td>\n",
              "      <td>37</td>\n",
              "      <td>WV</td>\n",
              "      <td>GT13-0024</td>\n",
              "      <td>Desktop</td>\n",
              "      <td>1249.99</td>\n",
              "      <td>230.89</td>\n",
              "      <td>Flyer 4</td>\n",
              "      <td>January</td>\n",
              "      <td>2018</td>\n",
              "    </tr>\n",
              "  </tbody>\n",
              "</table>\n",
              "</div>"
            ],
            "text/plain": [
              "   Sale ID      Contact Sex  Age  ...  Profit     Lead    Month  Year\n",
              "0        1  Paul Thomas   M   43  ...  143.39  Website  January  2018\n",
              "1        2  Margo Simms   F   37  ...  230.89  Flyer 4  January  2018\n",
              "\n",
              "[2 rows x 12 columns]"
            ]
          },
          "metadata": {
            "tags": []
          },
          "execution_count": 47
        }
      ]
    },
    {
      "cell_type": "code",
      "metadata": {
        "id": "V1O1G9rwrPSL",
        "colab": {
          "base_uri": "https://localhost:8080/",
          "height": 142
        },
        "outputId": "13a221d1-bac1-4738-fd59-4a3cd9e306b4"
      },
      "source": [
        "#get first 5 rows at a step of 2 i.e. row number 0,2,4\n",
        "cs_df[:5:2]"
      ],
      "execution_count": 48,
      "outputs": [
        {
          "output_type": "execute_result",
          "data": {
            "text/html": [
              "<div>\n",
              "<style scoped>\n",
              "    .dataframe tbody tr th:only-of-type {\n",
              "        vertical-align: middle;\n",
              "    }\n",
              "\n",
              "    .dataframe tbody tr th {\n",
              "        vertical-align: top;\n",
              "    }\n",
              "\n",
              "    .dataframe thead th {\n",
              "        text-align: right;\n",
              "    }\n",
              "</style>\n",
              "<table border=\"1\" class=\"dataframe\">\n",
              "  <thead>\n",
              "    <tr style=\"text-align: right;\">\n",
              "      <th></th>\n",
              "      <th>Sale ID</th>\n",
              "      <th>Contact</th>\n",
              "      <th>Sex</th>\n",
              "      <th>Age</th>\n",
              "      <th>State</th>\n",
              "      <th>Product ID</th>\n",
              "      <th>Product Type</th>\n",
              "      <th>Sale Price</th>\n",
              "      <th>Profit</th>\n",
              "      <th>Lead</th>\n",
              "      <th>Month</th>\n",
              "      <th>Year</th>\n",
              "    </tr>\n",
              "  </thead>\n",
              "  <tbody>\n",
              "    <tr>\n",
              "      <th>0</th>\n",
              "      <td>1</td>\n",
              "      <td>Paul Thomas</td>\n",
              "      <td>M</td>\n",
              "      <td>43</td>\n",
              "      <td>OH</td>\n",
              "      <td>M01-F0024</td>\n",
              "      <td>Desktop</td>\n",
              "      <td>479.99</td>\n",
              "      <td>143.39</td>\n",
              "      <td>Website</td>\n",
              "      <td>January</td>\n",
              "      <td>2018</td>\n",
              "    </tr>\n",
              "    <tr>\n",
              "      <th>2</th>\n",
              "      <td>3</td>\n",
              "      <td>Sam Stine</td>\n",
              "      <td>M</td>\n",
              "      <td>26</td>\n",
              "      <td>PA</td>\n",
              "      <td>I3670</td>\n",
              "      <td>Desktop</td>\n",
              "      <td>649.99</td>\n",
              "      <td>118.64</td>\n",
              "      <td>Website</td>\n",
              "      <td>February</td>\n",
              "      <td>2018</td>\n",
              "    </tr>\n",
              "    <tr>\n",
              "      <th>4</th>\n",
              "      <td>5</td>\n",
              "      <td>Jessica Elk</td>\n",
              "      <td>F</td>\n",
              "      <td>55</td>\n",
              "      <td>PA</td>\n",
              "      <td>15M-ED</td>\n",
              "      <td>Laptop</td>\n",
              "      <td>699.99</td>\n",
              "      <td>98.09</td>\n",
              "      <td>Flyer 4</td>\n",
              "      <td>March</td>\n",
              "      <td>2018</td>\n",
              "    </tr>\n",
              "  </tbody>\n",
              "</table>\n",
              "</div>"
            ],
            "text/plain": [
              "   Sale ID      Contact Sex  Age  ...  Profit     Lead     Month  Year\n",
              "0        1  Paul Thomas   M   43  ...  143.39  Website   January  2018\n",
              "2        3    Sam Stine   M   26  ...  118.64  Website  February  2018\n",
              "4        5  Jessica Elk   F   55  ...   98.09  Flyer 4     March  2018\n",
              "\n",
              "[3 rows x 12 columns]"
            ]
          },
          "metadata": {
            "tags": []
          },
          "execution_count": 48
        }
      ]
    },
    {
      "cell_type": "code",
      "metadata": {
        "id": "3oyQ8DPSreOd",
        "colab": {
          "base_uri": "https://localhost:8080/"
        },
        "outputId": "4f7333b9-7654-498c-fc6b-15fb022d9b7b"
      },
      "source": [
        "#find all the indexes in the dataset\n",
        "cs_df.index.array"
      ],
      "execution_count": 49,
      "outputs": [
        {
          "output_type": "execute_result",
          "data": {
            "text/plain": [
              "<PandasArray>\n",
              "[ 0,  1,  2,  3,  4,  5,  6,  7,  8,  9, 10, 11, 12, 13, 14, 15, 16, 17, 18,\n",
              " 19, 20, 21, 22, 23, 24, 25, 26, 27, 28, 29, 30, 31, 32, 33, 34, 35, 36, 37,\n",
              " 38]\n",
              "Length: 39, dtype: int64"
            ]
          },
          "metadata": {
            "tags": []
          },
          "execution_count": 49
        }
      ]
    },
    {
      "cell_type": "code",
      "metadata": {
        "id": "t1QN2wWGrmnJ",
        "colab": {
          "base_uri": "https://localhost:8080/"
        },
        "outputId": "672ad2e7-66e2-4643-a8a3-a2dd05b6b88c"
      },
      "source": [
        "#convert to numpy array\n",
        "cs_df.to_numpy"
      ],
      "execution_count": 50,
      "outputs": [
        {
          "output_type": "execute_result",
          "data": {
            "text/plain": [
              "<bound method DataFrame.to_numpy of     Sale ID          Contact Sex  Age  ...  Profit     Lead     Month  Year\n",
              "0         1      Paul Thomas   M   43  ...  143.39  Website   January  2018\n",
              "1         2      Margo Simms   F   37  ...  230.89  Flyer 4   January  2018\n",
              "2         3        Sam Stine   M   26  ...  118.64  Website  February  2018\n",
              "3         4       Moe Eggert   M   35  ...   72.09  Website     March  2018\n",
              "4         5      Jessica Elk   F   55  ...   98.09  Flyer 4     March  2018\n",
              "5         6  Sally Struthers   F   45  ...  230.89  Flyer 2     April  2018\n",
              "6         7   Michelle Samms   F   46  ...  180.34    Email       May  2018\n",
              "7         8     Mick Roberts   M   23  ...  146.69  Website      July  2018\n",
              "8         9      Ed Klondike   M   52  ...  122.34    Email      July  2018\n",
              "9        10       Phil Jones   M   56  ...  143.39  Flyer 2    August  2018\n",
              "10       11       Rick James   M   49  ...  180.34  Flyer 3  November  2018\n",
              "11       12         Sue Etna   F   54  ...  230.89  Flyer 2  November  2018\n",
              "12       13       Jason Case   M   57  ...  122.34    Email  November  2018\n",
              "13       14     Doug Johnson   M   51  ...  118.64  Website  December  2018\n",
              "14       15       Andy Sands   M   56  ...  146.69  Flyer 1  December  2018\n",
              "15       16      Kim Collins   F   49  ...   72.09  Flyer 2   January  2019\n",
              "16       17     Edna Sanders   F   46  ...   98.09    Email  February  2019\n",
              "17       18   Michelle Samms   F   46  ...  146.69  Website     March  2019\n",
              "18       19     Mick Roberts   M   23  ...   72.09  Flyer 4     March  2019\n",
              "19       20  Sally Struthers   F   45  ...  122.34  Website     April  2019\n",
              "20       21       Jason Case   M   57  ...  143.39  Flyer 4       May  2019\n",
              "21       22     Doug Johnson   M   51  ...  180.34  Website    August  2019\n",
              "22       23      Paul Thomas   M   43  ...  122.34  Website    August  2019\n",
              "23       24      Margo Simms   F   37  ...  143.09  Flyer 4  November  2019\n",
              "24       25   Michelle Samms   F   46  ...  118.64  Flyer 2  November  2019\n",
              "25       26     Mick Roberts   M   23  ...  143.09    Email  November  2019\n",
              "26       27      Ed Klondike   M   52  ...  143.09  Website  December  2019\n",
              "27       28       Moe Eggert   M   35  ...   98.09    Email  December  2019\n",
              "28       29      Jessica Elk   F   55  ...  180.34  Flyer 2  December  2019\n",
              "29       30       Phil Jones   M   56  ...  143.39  Flyer 2   January  2020\n",
              "30       31       Rick James   M   49  ...  180.34  Flyer 1   January  2020\n",
              "31       32         Sue Etna   F   54  ...  230.89  Flyer 2  February  2020\n",
              "32       33      Kim Collins   F   49  ...   72.09  Flyer 2     March  2020\n",
              "33       34     Edna Sanders   F   46  ...   98.09    Email     March  2020\n",
              "34       35   Michelle Samms   F   46  ...  146.69  Website     April  2020\n",
              "35       36  Sally Struthers   F   45  ...  122.34  Website     April  2020\n",
              "36       37       Jason Case   M   57  ...  143.39  Flyer 4     April  2020\n",
              "37       38     Doug Johnson   M   51  ...  180.34  Website       May  2020\n",
              "38       39       Moe Eggert   M   35  ...   72.09  Website       May  2020\n",
              "\n",
              "[39 rows x 12 columns]>"
            ]
          },
          "metadata": {
            "tags": []
          },
          "execution_count": 50
        }
      ]
    },
    {
      "cell_type": "code",
      "metadata": {
        "id": "QJctoRMLr0uO",
        "colab": {
          "base_uri": "https://localhost:8080/"
        },
        "outputId": "90f3bd12-9555-4cba-ca9a-c7f6fbe9b81a"
      },
      "source": [
        "#get array from a series\n",
        "series_1.array"
      ],
      "execution_count": 51,
      "outputs": [
        {
          "output_type": "execute_result",
          "data": {
            "text/plain": [
              "<PandasArray>\n",
              "['a', 'b', 'c', 'd']\n",
              "Length: 4, dtype: object"
            ]
          },
          "metadata": {
            "tags": []
          },
          "execution_count": 51
        }
      ]
    },
    {
      "cell_type": "code",
      "metadata": {
        "id": "rvQCuIBhr9gm",
        "colab": {
          "base_uri": "https://localhost:8080/",
          "height": 173
        },
        "outputId": "fd973119-8429-42e2-b1f6-5477228eeee2"
      },
      "source": [
        "#creating a dataframe\n",
        "dict_3 = {'one': pd.Series([1.,2.,3.], index=['a','b','e']),\n",
        "          'two': pd.Series([1.,2.,3.,4.], index=['a','b','e','d'])}\n",
        "\n",
        "df_2 = pd.DataFrame(dict_3)\n",
        "df_2"
      ],
      "execution_count": 52,
      "outputs": [
        {
          "output_type": "execute_result",
          "data": {
            "text/html": [
              "<div>\n",
              "<style scoped>\n",
              "    .dataframe tbody tr th:only-of-type {\n",
              "        vertical-align: middle;\n",
              "    }\n",
              "\n",
              "    .dataframe tbody tr th {\n",
              "        vertical-align: top;\n",
              "    }\n",
              "\n",
              "    .dataframe thead th {\n",
              "        text-align: right;\n",
              "    }\n",
              "</style>\n",
              "<table border=\"1\" class=\"dataframe\">\n",
              "  <thead>\n",
              "    <tr style=\"text-align: right;\">\n",
              "      <th></th>\n",
              "      <th>one</th>\n",
              "      <th>two</th>\n",
              "    </tr>\n",
              "  </thead>\n",
              "  <tbody>\n",
              "    <tr>\n",
              "      <th>a</th>\n",
              "      <td>1.0</td>\n",
              "      <td>1.0</td>\n",
              "    </tr>\n",
              "    <tr>\n",
              "      <th>b</th>\n",
              "      <td>2.0</td>\n",
              "      <td>2.0</td>\n",
              "    </tr>\n",
              "    <tr>\n",
              "      <th>d</th>\n",
              "      <td>NaN</td>\n",
              "      <td>4.0</td>\n",
              "    </tr>\n",
              "    <tr>\n",
              "      <th>e</th>\n",
              "      <td>3.0</td>\n",
              "      <td>3.0</td>\n",
              "    </tr>\n",
              "  </tbody>\n",
              "</table>\n",
              "</div>"
            ],
            "text/plain": [
              "   one  two\n",
              "a  1.0  1.0\n",
              "b  2.0  2.0\n",
              "d  NaN  4.0\n",
              "e  3.0  3.0"
            ]
          },
          "metadata": {
            "tags": []
          },
          "execution_count": 52
        }
      ]
    },
    {
      "cell_type": "code",
      "metadata": {
        "id": "ko7JI96qs26X",
        "colab": {
          "base_uri": "https://localhost:8080/",
          "height": 309
        },
        "outputId": "6af64da4-e65a-4828-b593-b46cb926c1fc"
      },
      "source": [
        "#filling a NaN value with 0\n",
        "\n",
        "print(\"df_2:\")\n",
        "print(df_2) \n",
        "\n",
        "\n",
        "#new code\n",
        "print(\"\\nNew code output:\")\n",
        "df_2 = df_2.fillna(0)\n",
        "df_2"
      ],
      "execution_count": 53,
      "outputs": [
        {
          "output_type": "stream",
          "text": [
            "df_2:\n",
            "   one  two\n",
            "a  1.0  1.0\n",
            "b  2.0  2.0\n",
            "d  NaN  4.0\n",
            "e  3.0  3.0\n",
            "\n",
            "New code output:\n"
          ],
          "name": "stdout"
        },
        {
          "output_type": "execute_result",
          "data": {
            "text/html": [
              "<div>\n",
              "<style scoped>\n",
              "    .dataframe tbody tr th:only-of-type {\n",
              "        vertical-align: middle;\n",
              "    }\n",
              "\n",
              "    .dataframe tbody tr th {\n",
              "        vertical-align: top;\n",
              "    }\n",
              "\n",
              "    .dataframe thead th {\n",
              "        text-align: right;\n",
              "    }\n",
              "</style>\n",
              "<table border=\"1\" class=\"dataframe\">\n",
              "  <thead>\n",
              "    <tr style=\"text-align: right;\">\n",
              "      <th></th>\n",
              "      <th>one</th>\n",
              "      <th>two</th>\n",
              "    </tr>\n",
              "  </thead>\n",
              "  <tbody>\n",
              "    <tr>\n",
              "      <th>a</th>\n",
              "      <td>1.0</td>\n",
              "      <td>1.0</td>\n",
              "    </tr>\n",
              "    <tr>\n",
              "      <th>b</th>\n",
              "      <td>2.0</td>\n",
              "      <td>2.0</td>\n",
              "    </tr>\n",
              "    <tr>\n",
              "      <th>d</th>\n",
              "      <td>0.0</td>\n",
              "      <td>4.0</td>\n",
              "    </tr>\n",
              "    <tr>\n",
              "      <th>e</th>\n",
              "      <td>3.0</td>\n",
              "      <td>3.0</td>\n",
              "    </tr>\n",
              "  </tbody>\n",
              "</table>\n",
              "</div>"
            ],
            "text/plain": [
              "   one  two\n",
              "a  1.0  1.0\n",
              "b  2.0  2.0\n",
              "d  0.0  4.0\n",
              "e  3.0  3.0"
            ]
          },
          "metadata": {
            "tags": []
          },
          "execution_count": 53
        }
      ]
    },
    {
      "cell_type": "code",
      "metadata": {
        "id": "Ewk897QZtYhp",
        "colab": {
          "base_uri": "https://localhost:8080/",
          "height": 309
        },
        "outputId": "524d56f7-ae05-47f6-c70a-dff7c66497cc"
      },
      "source": [
        "#add values to row\n",
        "\n",
        "print(\"df_2:\")\n",
        "print(df_2) \n",
        "\n",
        "#new code\n",
        "print(\"\\nNew code output:\")\n",
        "row = df_2.iloc[1]\n",
        "df_2.add(row, axis='columns')\n",
        "#added the second row to all rows(including itself)"
      ],
      "execution_count": 54,
      "outputs": [
        {
          "output_type": "stream",
          "text": [
            "df_2:\n",
            "   one  two\n",
            "a  1.0  1.0\n",
            "b  2.0  2.0\n",
            "d  0.0  4.0\n",
            "e  3.0  3.0\n",
            "\n",
            "New code output:\n"
          ],
          "name": "stdout"
        },
        {
          "output_type": "execute_result",
          "data": {
            "text/html": [
              "<div>\n",
              "<style scoped>\n",
              "    .dataframe tbody tr th:only-of-type {\n",
              "        vertical-align: middle;\n",
              "    }\n",
              "\n",
              "    .dataframe tbody tr th {\n",
              "        vertical-align: top;\n",
              "    }\n",
              "\n",
              "    .dataframe thead th {\n",
              "        text-align: right;\n",
              "    }\n",
              "</style>\n",
              "<table border=\"1\" class=\"dataframe\">\n",
              "  <thead>\n",
              "    <tr style=\"text-align: right;\">\n",
              "      <th></th>\n",
              "      <th>one</th>\n",
              "      <th>two</th>\n",
              "    </tr>\n",
              "  </thead>\n",
              "  <tbody>\n",
              "    <tr>\n",
              "      <th>a</th>\n",
              "      <td>3.0</td>\n",
              "      <td>3.0</td>\n",
              "    </tr>\n",
              "    <tr>\n",
              "      <th>b</th>\n",
              "      <td>4.0</td>\n",
              "      <td>4.0</td>\n",
              "    </tr>\n",
              "    <tr>\n",
              "      <th>d</th>\n",
              "      <td>2.0</td>\n",
              "      <td>6.0</td>\n",
              "    </tr>\n",
              "    <tr>\n",
              "      <th>e</th>\n",
              "      <td>5.0</td>\n",
              "      <td>5.0</td>\n",
              "    </tr>\n",
              "  </tbody>\n",
              "</table>\n",
              "</div>"
            ],
            "text/plain": [
              "   one  two\n",
              "a  3.0  3.0\n",
              "b  4.0  4.0\n",
              "d  2.0  6.0\n",
              "e  5.0  5.0"
            ]
          },
          "metadata": {
            "tags": []
          },
          "execution_count": 54
        }
      ]
    },
    {
      "cell_type": "code",
      "metadata": {
        "id": "j3PysbedvamG",
        "colab": {
          "base_uri": "https://localhost:8080/",
          "height": 309
        },
        "outputId": "087de6fd-d8e9-4c75-a9a5-8429e78c2882"
      },
      "source": [
        "#subtract values from columns\n",
        "# column 2 - column 1 and column 2 - column 2\n",
        "\n",
        "print(\"df_2:\")\n",
        "print(df_2) \n",
        "\n",
        "#new code\n",
        "print(\"\\nNew code output:\")\n",
        "col = df_2['two']\n",
        "df_2.sub(col, axis=0)"
      ],
      "execution_count": 55,
      "outputs": [
        {
          "output_type": "stream",
          "text": [
            "df_2:\n",
            "   one  two\n",
            "a  1.0  1.0\n",
            "b  2.0  2.0\n",
            "d  0.0  4.0\n",
            "e  3.0  3.0\n",
            "\n",
            "New code output:\n"
          ],
          "name": "stdout"
        },
        {
          "output_type": "execute_result",
          "data": {
            "text/html": [
              "<div>\n",
              "<style scoped>\n",
              "    .dataframe tbody tr th:only-of-type {\n",
              "        vertical-align: middle;\n",
              "    }\n",
              "\n",
              "    .dataframe tbody tr th {\n",
              "        vertical-align: top;\n",
              "    }\n",
              "\n",
              "    .dataframe thead th {\n",
              "        text-align: right;\n",
              "    }\n",
              "</style>\n",
              "<table border=\"1\" class=\"dataframe\">\n",
              "  <thead>\n",
              "    <tr style=\"text-align: right;\">\n",
              "      <th></th>\n",
              "      <th>one</th>\n",
              "      <th>two</th>\n",
              "    </tr>\n",
              "  </thead>\n",
              "  <tbody>\n",
              "    <tr>\n",
              "      <th>a</th>\n",
              "      <td>0.0</td>\n",
              "      <td>0.0</td>\n",
              "    </tr>\n",
              "    <tr>\n",
              "      <th>b</th>\n",
              "      <td>0.0</td>\n",
              "      <td>0.0</td>\n",
              "    </tr>\n",
              "    <tr>\n",
              "      <th>d</th>\n",
              "      <td>-4.0</td>\n",
              "      <td>0.0</td>\n",
              "    </tr>\n",
              "    <tr>\n",
              "      <th>e</th>\n",
              "      <td>0.0</td>\n",
              "      <td>0.0</td>\n",
              "    </tr>\n",
              "  </tbody>\n",
              "</table>\n",
              "</div>"
            ],
            "text/plain": [
              "   one  two\n",
              "a  0.0  0.0\n",
              "b  0.0  0.0\n",
              "d -4.0  0.0\n",
              "e  0.0  0.0"
            ]
          },
          "metadata": {
            "tags": []
          },
          "execution_count": 55
        }
      ]
    },
    {
      "cell_type": "code",
      "metadata": {
        "id": "PzH9G8MXwAjr",
        "colab": {
          "base_uri": "https://localhost:8080/"
        },
        "outputId": "6a07ec0c-5541-43e8-cfa9-ede37abc4ce1"
      },
      "source": [
        "#checking if dataframe is empty\n",
        "df_2.empty"
      ],
      "execution_count": 56,
      "outputs": [
        {
          "output_type": "execute_result",
          "data": {
            "text/plain": [
              "False"
            ]
          },
          "metadata": {
            "tags": []
          },
          "execution_count": 56
        }
      ]
    },
    {
      "cell_type": "code",
      "metadata": {
        "id": "2Om4qPflwKda",
        "colab": {
          "base_uri": "https://localhost:8080/",
          "height": 142
        },
        "outputId": "15940b45-2caf-48aa-8d99-b56f43fa0e41"
      },
      "source": [
        "#creating a dataframe\n",
        "df_5 = pd.DataFrame({'A':range(3), 'B':range(1,4)})\n",
        "df_5"
      ],
      "execution_count": 57,
      "outputs": [
        {
          "output_type": "execute_result",
          "data": {
            "text/html": [
              "<div>\n",
              "<style scoped>\n",
              "    .dataframe tbody tr th:only-of-type {\n",
              "        vertical-align: middle;\n",
              "    }\n",
              "\n",
              "    .dataframe tbody tr th {\n",
              "        vertical-align: top;\n",
              "    }\n",
              "\n",
              "    .dataframe thead th {\n",
              "        text-align: right;\n",
              "    }\n",
              "</style>\n",
              "<table border=\"1\" class=\"dataframe\">\n",
              "  <thead>\n",
              "    <tr style=\"text-align: right;\">\n",
              "      <th></th>\n",
              "      <th>A</th>\n",
              "      <th>B</th>\n",
              "    </tr>\n",
              "  </thead>\n",
              "  <tbody>\n",
              "    <tr>\n",
              "      <th>0</th>\n",
              "      <td>0</td>\n",
              "      <td>1</td>\n",
              "    </tr>\n",
              "    <tr>\n",
              "      <th>1</th>\n",
              "      <td>1</td>\n",
              "      <td>2</td>\n",
              "    </tr>\n",
              "    <tr>\n",
              "      <th>2</th>\n",
              "      <td>2</td>\n",
              "      <td>3</td>\n",
              "    </tr>\n",
              "  </tbody>\n",
              "</table>\n",
              "</div>"
            ],
            "text/plain": [
              "   A  B\n",
              "0  0  1\n",
              "1  1  2\n",
              "2  2  3"
            ]
          },
          "metadata": {
            "tags": []
          },
          "execution_count": 57
        }
      ]
    },
    {
      "cell_type": "code",
      "metadata": {
        "id": "EdLA1aCwwg4q",
        "colab": {
          "base_uri": "https://localhost:8080/",
          "height": 261
        },
        "outputId": "40b95646-8091-4a45-e489-154ea747dfb1"
      },
      "source": [
        "#adding 1 to every value in df_5\n",
        "\n",
        "print(\"df_5:\")\n",
        "print(df_5) \n",
        "\n",
        "#new code\n",
        "print(\"\\nNew code output:\")\n",
        "df_5.transform(lambda x: x+1)"
      ],
      "execution_count": 58,
      "outputs": [
        {
          "output_type": "stream",
          "text": [
            "df_5:\n",
            "   A  B\n",
            "0  0  1\n",
            "1  1  2\n",
            "2  2  3\n",
            "\n",
            "New code output:\n"
          ],
          "name": "stdout"
        },
        {
          "output_type": "execute_result",
          "data": {
            "text/html": [
              "<div>\n",
              "<style scoped>\n",
              "    .dataframe tbody tr th:only-of-type {\n",
              "        vertical-align: middle;\n",
              "    }\n",
              "\n",
              "    .dataframe tbody tr th {\n",
              "        vertical-align: top;\n",
              "    }\n",
              "\n",
              "    .dataframe thead th {\n",
              "        text-align: right;\n",
              "    }\n",
              "</style>\n",
              "<table border=\"1\" class=\"dataframe\">\n",
              "  <thead>\n",
              "    <tr style=\"text-align: right;\">\n",
              "      <th></th>\n",
              "      <th>A</th>\n",
              "      <th>B</th>\n",
              "    </tr>\n",
              "  </thead>\n",
              "  <tbody>\n",
              "    <tr>\n",
              "      <th>0</th>\n",
              "      <td>1</td>\n",
              "      <td>2</td>\n",
              "    </tr>\n",
              "    <tr>\n",
              "      <th>1</th>\n",
              "      <td>2</td>\n",
              "      <td>3</td>\n",
              "    </tr>\n",
              "    <tr>\n",
              "      <th>2</th>\n",
              "      <td>3</td>\n",
              "      <td>4</td>\n",
              "    </tr>\n",
              "  </tbody>\n",
              "</table>\n",
              "</div>"
            ],
            "text/plain": [
              "   A  B\n",
              "0  1  2\n",
              "1  2  3\n",
              "2  3  4"
            ]
          },
          "metadata": {
            "tags": []
          },
          "execution_count": 58
        }
      ]
    },
    {
      "cell_type": "code",
      "metadata": {
        "id": "BtwyS_k3xS-h",
        "colab": {
          "base_uri": "https://localhost:8080/",
          "height": 261
        },
        "outputId": "0269d527-9dd7-400b-d9be-9027c4c43dc6"
      },
      "source": [
        "#taking sqaure root of all values\n",
        "\n",
        "print(\"df_5:\")\n",
        "print(df_5) \n",
        "\n",
        "#new code\n",
        "print(\"\\nNew code output:\")\n",
        "df_5.transform(lambda x:np.sqrt(x))"
      ],
      "execution_count": 59,
      "outputs": [
        {
          "output_type": "stream",
          "text": [
            "df_5:\n",
            "   A  B\n",
            "0  0  1\n",
            "1  1  2\n",
            "2  2  3\n",
            "\n",
            "New code output:\n"
          ],
          "name": "stdout"
        },
        {
          "output_type": "execute_result",
          "data": {
            "text/html": [
              "<div>\n",
              "<style scoped>\n",
              "    .dataframe tbody tr th:only-of-type {\n",
              "        vertical-align: middle;\n",
              "    }\n",
              "\n",
              "    .dataframe tbody tr th {\n",
              "        vertical-align: top;\n",
              "    }\n",
              "\n",
              "    .dataframe thead th {\n",
              "        text-align: right;\n",
              "    }\n",
              "</style>\n",
              "<table border=\"1\" class=\"dataframe\">\n",
              "  <thead>\n",
              "    <tr style=\"text-align: right;\">\n",
              "      <th></th>\n",
              "      <th>A</th>\n",
              "      <th>B</th>\n",
              "    </tr>\n",
              "  </thead>\n",
              "  <tbody>\n",
              "    <tr>\n",
              "      <th>0</th>\n",
              "      <td>0.000000</td>\n",
              "      <td>1.000000</td>\n",
              "    </tr>\n",
              "    <tr>\n",
              "      <th>1</th>\n",
              "      <td>1.000000</td>\n",
              "      <td>1.414214</td>\n",
              "    </tr>\n",
              "    <tr>\n",
              "      <th>2</th>\n",
              "      <td>1.414214</td>\n",
              "      <td>1.732051</td>\n",
              "    </tr>\n",
              "  </tbody>\n",
              "</table>\n",
              "</div>"
            ],
            "text/plain": [
              "          A         B\n",
              "0  0.000000  1.000000\n",
              "1  1.000000  1.414214\n",
              "2  1.414214  1.732051"
            ]
          },
          "metadata": {
            "tags": []
          },
          "execution_count": 59
        }
      ]
    },
    {
      "cell_type": "code",
      "metadata": {
        "id": "kqeESJcyx2xh",
        "colab": {
          "base_uri": "https://localhost:8080/",
          "height": 292
        },
        "outputId": "b22a8adb-88c7-440a-c503-8d6d8fe3bc32"
      },
      "source": [
        "#multiple transformation\n",
        "#taking square and cube of all values\n",
        "\n",
        "print(\"df_5:\")\n",
        "print(df_5) \n",
        "\n",
        "#new code\n",
        "print(\"\\nNew code output:\")\n",
        "df_5.transform([lambda x: x**2, lambda x:x**3])"
      ],
      "execution_count": 60,
      "outputs": [
        {
          "output_type": "stream",
          "text": [
            "df_5:\n",
            "   A  B\n",
            "0  0  1\n",
            "1  1  2\n",
            "2  2  3\n",
            "\n",
            "New code output:\n"
          ],
          "name": "stdout"
        },
        {
          "output_type": "execute_result",
          "data": {
            "text/html": [
              "<div>\n",
              "<style scoped>\n",
              "    .dataframe tbody tr th:only-of-type {\n",
              "        vertical-align: middle;\n",
              "    }\n",
              "\n",
              "    .dataframe tbody tr th {\n",
              "        vertical-align: top;\n",
              "    }\n",
              "\n",
              "    .dataframe thead tr th {\n",
              "        text-align: left;\n",
              "    }\n",
              "</style>\n",
              "<table border=\"1\" class=\"dataframe\">\n",
              "  <thead>\n",
              "    <tr>\n",
              "      <th></th>\n",
              "      <th colspan=\"2\" halign=\"left\">A</th>\n",
              "      <th colspan=\"2\" halign=\"left\">B</th>\n",
              "    </tr>\n",
              "    <tr>\n",
              "      <th></th>\n",
              "      <th>&lt;lambda&gt;</th>\n",
              "      <th>&lt;lambda&gt;</th>\n",
              "      <th>&lt;lambda&gt;</th>\n",
              "      <th>&lt;lambda&gt;</th>\n",
              "    </tr>\n",
              "  </thead>\n",
              "  <tbody>\n",
              "    <tr>\n",
              "      <th>0</th>\n",
              "      <td>0</td>\n",
              "      <td>0</td>\n",
              "      <td>1</td>\n",
              "      <td>1</td>\n",
              "    </tr>\n",
              "    <tr>\n",
              "      <th>1</th>\n",
              "      <td>1</td>\n",
              "      <td>1</td>\n",
              "      <td>4</td>\n",
              "      <td>8</td>\n",
              "    </tr>\n",
              "    <tr>\n",
              "      <th>2</th>\n",
              "      <td>4</td>\n",
              "      <td>8</td>\n",
              "      <td>9</td>\n",
              "      <td>27</td>\n",
              "    </tr>\n",
              "  </tbody>\n",
              "</table>\n",
              "</div>"
            ],
            "text/plain": [
              "         A                 B         \n",
              "  <lambda> <lambda> <lambda> <lambda>\n",
              "0        0        0        1        1\n",
              "1        1        1        4        8\n",
              "2        4        8        9       27"
            ]
          },
          "metadata": {
            "tags": []
          },
          "execution_count": 60
        }
      ]
    },
    {
      "cell_type": "code",
      "metadata": {
        "id": "RUQobiCHyVBE",
        "colab": {
          "base_uri": "https://localhost:8080/",
          "height": 261
        },
        "outputId": "6156bda1-ba29-442b-d837-3bd403d9580e"
      },
      "source": [
        "#different transformation on different column in a dataframe\n",
        "#sqaure of column A and cube of column B\n",
        "\n",
        "print(\"df_5:\")\n",
        "print(df_5) \n",
        "\n",
        "#new code\n",
        "print(\"\\nNew code output:\")\n",
        "df_5.transform({'A':lambda x:x**2, 'B':lambda x:x**3})"
      ],
      "execution_count": 61,
      "outputs": [
        {
          "output_type": "stream",
          "text": [
            "df_5:\n",
            "   A  B\n",
            "0  0  1\n",
            "1  1  2\n",
            "2  2  3\n",
            "\n",
            "New code output:\n"
          ],
          "name": "stdout"
        },
        {
          "output_type": "execute_result",
          "data": {
            "text/html": [
              "<div>\n",
              "<style scoped>\n",
              "    .dataframe tbody tr th:only-of-type {\n",
              "        vertical-align: middle;\n",
              "    }\n",
              "\n",
              "    .dataframe tbody tr th {\n",
              "        vertical-align: top;\n",
              "    }\n",
              "\n",
              "    .dataframe thead th {\n",
              "        text-align: right;\n",
              "    }\n",
              "</style>\n",
              "<table border=\"1\" class=\"dataframe\">\n",
              "  <thead>\n",
              "    <tr style=\"text-align: right;\">\n",
              "      <th></th>\n",
              "      <th>A</th>\n",
              "      <th>B</th>\n",
              "    </tr>\n",
              "  </thead>\n",
              "  <tbody>\n",
              "    <tr>\n",
              "      <th>0</th>\n",
              "      <td>0</td>\n",
              "      <td>1</td>\n",
              "    </tr>\n",
              "    <tr>\n",
              "      <th>1</th>\n",
              "      <td>1</td>\n",
              "      <td>8</td>\n",
              "    </tr>\n",
              "    <tr>\n",
              "      <th>2</th>\n",
              "      <td>4</td>\n",
              "      <td>27</td>\n",
              "    </tr>\n",
              "  </tbody>\n",
              "</table>\n",
              "</div>"
            ],
            "text/plain": [
              "   A   B\n",
              "0  0   1\n",
              "1  1   8\n",
              "2  4  27"
            ]
          },
          "metadata": {
            "tags": []
          },
          "execution_count": 61
        }
      ]
    },
    {
      "cell_type": "code",
      "metadata": {
        "id": "jEwwxc-jzZwz",
        "colab": {
          "base_uri": "https://localhost:8080/"
        },
        "outputId": "83bc212f-314b-4ff4-f4ff-bc5da154f9e4"
      },
      "source": [
        "# using .map\n",
        "\n",
        "print(\"df_5:\")\n",
        "print(df_5) \n",
        "\n",
        "#new code\n",
        "print(\"\\nNew code output:\")\n",
        "df_5['A'].map(lambda x: x**2)"
      ],
      "execution_count": 62,
      "outputs": [
        {
          "output_type": "stream",
          "text": [
            "df_5:\n",
            "   A  B\n",
            "0  0  1\n",
            "1  1  2\n",
            "2  2  3\n",
            "\n",
            "New code output:\n"
          ],
          "name": "stdout"
        },
        {
          "output_type": "execute_result",
          "data": {
            "text/plain": [
              "0    0\n",
              "1    1\n",
              "2    4\n",
              "Name: A, dtype: int64"
            ]
          },
          "metadata": {
            "tags": []
          },
          "execution_count": 62
        }
      ]
    },
    {
      "cell_type": "code",
      "metadata": {
        "id": "0hojXRV_zsMB",
        "colab": {
          "base_uri": "https://localhost:8080/",
          "height": 261
        },
        "outputId": "7b3561b0-092f-4470-d86f-112c871ec428"
      },
      "source": [
        "#using .applymap\n",
        "\n",
        "print(\"df_5:\")\n",
        "print(df_5) \n",
        "\n",
        "#new code\n",
        "print(\"\\nNew code output:\")\n",
        "df_5.applymap(lambda x: x**2)"
      ],
      "execution_count": 63,
      "outputs": [
        {
          "output_type": "stream",
          "text": [
            "df_5:\n",
            "   A  B\n",
            "0  0  1\n",
            "1  1  2\n",
            "2  2  3\n",
            "\n",
            "New code output:\n"
          ],
          "name": "stdout"
        },
        {
          "output_type": "execute_result",
          "data": {
            "text/html": [
              "<div>\n",
              "<style scoped>\n",
              "    .dataframe tbody tr th:only-of-type {\n",
              "        vertical-align: middle;\n",
              "    }\n",
              "\n",
              "    .dataframe tbody tr th {\n",
              "        vertical-align: top;\n",
              "    }\n",
              "\n",
              "    .dataframe thead th {\n",
              "        text-align: right;\n",
              "    }\n",
              "</style>\n",
              "<table border=\"1\" class=\"dataframe\">\n",
              "  <thead>\n",
              "    <tr style=\"text-align: right;\">\n",
              "      <th></th>\n",
              "      <th>A</th>\n",
              "      <th>B</th>\n",
              "    </tr>\n",
              "  </thead>\n",
              "  <tbody>\n",
              "    <tr>\n",
              "      <th>0</th>\n",
              "      <td>0</td>\n",
              "      <td>1</td>\n",
              "    </tr>\n",
              "    <tr>\n",
              "      <th>1</th>\n",
              "      <td>1</td>\n",
              "      <td>4</td>\n",
              "    </tr>\n",
              "    <tr>\n",
              "      <th>2</th>\n",
              "      <td>4</td>\n",
              "      <td>9</td>\n",
              "    </tr>\n",
              "  </tbody>\n",
              "</table>\n",
              "</div>"
            ],
            "text/plain": [
              "   A  B\n",
              "0  0  1\n",
              "1  1  4\n",
              "2  4  9"
            ]
          },
          "metadata": {
            "tags": []
          },
          "execution_count": 63
        }
      ]
    },
    {
      "cell_type": "code",
      "metadata": {
        "id": "5WydReJlz69w",
        "colab": {
          "base_uri": "https://localhost:8080/"
        },
        "outputId": "d5b06659-65a3-4758-9fb9-dd9b215ed838"
      },
      "source": [
        "#getting unique values from column two\n",
        "\n",
        "print(\"df_2:\")\n",
        "print(df_2) \n",
        "\n",
        "#new code\n",
        "print(\"\\nNew code output:\")\n",
        "df_2['two'].unique()"
      ],
      "execution_count": 64,
      "outputs": [
        {
          "output_type": "stream",
          "text": [
            "df_2:\n",
            "   one  two\n",
            "a  1.0  1.0\n",
            "b  2.0  2.0\n",
            "d  0.0  4.0\n",
            "e  3.0  3.0\n",
            "\n",
            "New code output:\n"
          ],
          "name": "stdout"
        },
        {
          "output_type": "execute_result",
          "data": {
            "text/plain": [
              "array([1., 2., 4., 3.])"
            ]
          },
          "metadata": {
            "tags": []
          },
          "execution_count": 64
        }
      ]
    },
    {
      "cell_type": "code",
      "metadata": {
        "id": "M0ESeAM09Ock",
        "colab": {
          "base_uri": "https://localhost:8080/"
        },
        "outputId": "445ff57f-9980-40a2-b419-f6b77d24937a"
      },
      "source": [
        "#getting total number of unique values\n",
        "\n",
        "print(\"df_2:\")\n",
        "print(df_2) \n",
        "\n",
        "#new code\n",
        "print(\"\\nNew code output:\")\n",
        "df_2['two'].nunique()"
      ],
      "execution_count": 65,
      "outputs": [
        {
          "output_type": "stream",
          "text": [
            "df_2:\n",
            "   one  two\n",
            "a  1.0  1.0\n",
            "b  2.0  2.0\n",
            "d  0.0  4.0\n",
            "e  3.0  3.0\n",
            "\n",
            "New code output:\n"
          ],
          "name": "stdout"
        },
        {
          "output_type": "execute_result",
          "data": {
            "text/plain": [
              "4"
            ]
          },
          "metadata": {
            "tags": []
          },
          "execution_count": 65
        }
      ]
    },
    {
      "cell_type": "code",
      "metadata": {
        "id": "hjIXMzVc9fxj",
        "colab": {
          "base_uri": "https://localhost:8080/"
        },
        "outputId": "1d16f18a-2b31-4c1c-b3de-3c5373153636"
      },
      "source": [
        "#number a time a value showed up in a column\n",
        "\n",
        "print(\"df_2:\")\n",
        "print(df_2) \n",
        "\n",
        "#new code\n",
        "print(\"\\nNew code output:\")\n",
        "df_2['two'].value_counts()"
      ],
      "execution_count": 66,
      "outputs": [
        {
          "output_type": "stream",
          "text": [
            "df_2:\n",
            "   one  two\n",
            "a  1.0  1.0\n",
            "b  2.0  2.0\n",
            "d  0.0  4.0\n",
            "e  3.0  3.0\n",
            "\n",
            "New code output:\n"
          ],
          "name": "stdout"
        },
        {
          "output_type": "execute_result",
          "data": {
            "text/plain": [
              "3.0    1\n",
              "4.0    1\n",
              "2.0    1\n",
              "1.0    1\n",
              "Name: two, dtype: int64"
            ]
          },
          "metadata": {
            "tags": []
          },
          "execution_count": 66
        }
      ]
    },
    {
      "cell_type": "code",
      "metadata": {
        "id": "c7RHWbAn9sef",
        "colab": {
          "base_uri": "https://localhost:8080/"
        },
        "outputId": "9cf91452-b915-4b97-e7e9-721385905718"
      },
      "source": [
        "#getting column names\n",
        "\n",
        "print(\"df_2:\")\n",
        "print(df_2) \n",
        "\n",
        "#new code\n",
        "print(\"\\nNew code output:\")\n",
        "df_2.columns"
      ],
      "execution_count": 67,
      "outputs": [
        {
          "output_type": "stream",
          "text": [
            "df_2:\n",
            "   one  two\n",
            "a  1.0  1.0\n",
            "b  2.0  2.0\n",
            "d  0.0  4.0\n",
            "e  3.0  3.0\n",
            "\n",
            "New code output:\n"
          ],
          "name": "stdout"
        },
        {
          "output_type": "execute_result",
          "data": {
            "text/plain": [
              "Index(['one', 'two'], dtype='object')"
            ]
          },
          "metadata": {
            "tags": []
          },
          "execution_count": 67
        }
      ]
    },
    {
      "cell_type": "code",
      "metadata": {
        "id": "bLpQQFLm91kq",
        "colab": {
          "base_uri": "https://localhost:8080/"
        },
        "outputId": "e86934a3-c878-4a32-93a9-bc60e051cdc2"
      },
      "source": [
        "#getting index information\n",
        "\n",
        "print(\"df_2:\")\n",
        "print(df_2) \n",
        "\n",
        "#new code\n",
        "print(\"\\nNew code output:\")\n",
        "df_2.index"
      ],
      "execution_count": 68,
      "outputs": [
        {
          "output_type": "stream",
          "text": [
            "df_2:\n",
            "   one  two\n",
            "a  1.0  1.0\n",
            "b  2.0  2.0\n",
            "d  0.0  4.0\n",
            "e  3.0  3.0\n",
            "\n",
            "New code output:\n"
          ],
          "name": "stdout"
        },
        {
          "output_type": "execute_result",
          "data": {
            "text/plain": [
              "Index(['a', 'b', 'd', 'e'], dtype='object')"
            ]
          },
          "metadata": {
            "tags": []
          },
          "execution_count": 68
        }
      ]
    },
    {
      "cell_type": "code",
      "metadata": {
        "id": "qzlETDg09-_U",
        "colab": {
          "base_uri": "https://localhost:8080/",
          "height": 309
        },
        "outputId": "50b31f07-6fd1-4f47-fdea-74a5065cb4be"
      },
      "source": [
        "#checking if there are ny null values\n",
        "\n",
        "print(\"df_2:\")\n",
        "print(df_2) \n",
        "\n",
        "#new code\n",
        "print(\"\\nNew code output:\")\n",
        "df_2.isnull()"
      ],
      "execution_count": 69,
      "outputs": [
        {
          "output_type": "stream",
          "text": [
            "df_2:\n",
            "   one  two\n",
            "a  1.0  1.0\n",
            "b  2.0  2.0\n",
            "d  0.0  4.0\n",
            "e  3.0  3.0\n",
            "\n",
            "New code output:\n"
          ],
          "name": "stdout"
        },
        {
          "output_type": "execute_result",
          "data": {
            "text/html": [
              "<div>\n",
              "<style scoped>\n",
              "    .dataframe tbody tr th:only-of-type {\n",
              "        vertical-align: middle;\n",
              "    }\n",
              "\n",
              "    .dataframe tbody tr th {\n",
              "        vertical-align: top;\n",
              "    }\n",
              "\n",
              "    .dataframe thead th {\n",
              "        text-align: right;\n",
              "    }\n",
              "</style>\n",
              "<table border=\"1\" class=\"dataframe\">\n",
              "  <thead>\n",
              "    <tr style=\"text-align: right;\">\n",
              "      <th></th>\n",
              "      <th>one</th>\n",
              "      <th>two</th>\n",
              "    </tr>\n",
              "  </thead>\n",
              "  <tbody>\n",
              "    <tr>\n",
              "      <th>a</th>\n",
              "      <td>False</td>\n",
              "      <td>False</td>\n",
              "    </tr>\n",
              "    <tr>\n",
              "      <th>b</th>\n",
              "      <td>False</td>\n",
              "      <td>False</td>\n",
              "    </tr>\n",
              "    <tr>\n",
              "      <th>d</th>\n",
              "      <td>False</td>\n",
              "      <td>False</td>\n",
              "    </tr>\n",
              "    <tr>\n",
              "      <th>e</th>\n",
              "      <td>False</td>\n",
              "      <td>False</td>\n",
              "    </tr>\n",
              "  </tbody>\n",
              "</table>\n",
              "</div>"
            ],
            "text/plain": [
              "     one    two\n",
              "a  False  False\n",
              "b  False  False\n",
              "d  False  False\n",
              "e  False  False"
            ]
          },
          "metadata": {
            "tags": []
          },
          "execution_count": 69
        }
      ]
    },
    {
      "cell_type": "markdown",
      "metadata": {
        "id": "HU2Bzxa3-MAW"
      },
      "source": [
        "**Group Data**"
      ]
    },
    {
      "cell_type": "code",
      "metadata": {
        "id": "3PkJ9Srw-OnA",
        "colab": {
          "base_uri": "https://localhost:8080/",
          "height": 173
        },
        "outputId": "161aa31b-23c7-4182-a33b-420f61b45092"
      },
      "source": [
        "#creating a new dataframe\n",
        "dict_5 = {'Store': [1,2,1,2], 'Flavor':['Choc','Van','Straw','Choc'],\n",
        "          'Sales':[26,12,18,22]}\n",
        "\n",
        "df_11 = pd.DataFrame(dict_5)\n",
        "df_11"
      ],
      "execution_count": 70,
      "outputs": [
        {
          "output_type": "execute_result",
          "data": {
            "text/html": [
              "<div>\n",
              "<style scoped>\n",
              "    .dataframe tbody tr th:only-of-type {\n",
              "        vertical-align: middle;\n",
              "    }\n",
              "\n",
              "    .dataframe tbody tr th {\n",
              "        vertical-align: top;\n",
              "    }\n",
              "\n",
              "    .dataframe thead th {\n",
              "        text-align: right;\n",
              "    }\n",
              "</style>\n",
              "<table border=\"1\" class=\"dataframe\">\n",
              "  <thead>\n",
              "    <tr style=\"text-align: right;\">\n",
              "      <th></th>\n",
              "      <th>Store</th>\n",
              "      <th>Flavor</th>\n",
              "      <th>Sales</th>\n",
              "    </tr>\n",
              "  </thead>\n",
              "  <tbody>\n",
              "    <tr>\n",
              "      <th>0</th>\n",
              "      <td>1</td>\n",
              "      <td>Choc</td>\n",
              "      <td>26</td>\n",
              "    </tr>\n",
              "    <tr>\n",
              "      <th>1</th>\n",
              "      <td>2</td>\n",
              "      <td>Van</td>\n",
              "      <td>12</td>\n",
              "    </tr>\n",
              "    <tr>\n",
              "      <th>2</th>\n",
              "      <td>1</td>\n",
              "      <td>Straw</td>\n",
              "      <td>18</td>\n",
              "    </tr>\n",
              "    <tr>\n",
              "      <th>3</th>\n",
              "      <td>2</td>\n",
              "      <td>Choc</td>\n",
              "      <td>22</td>\n",
              "    </tr>\n",
              "  </tbody>\n",
              "</table>\n",
              "</div>"
            ],
            "text/plain": [
              "   Store Flavor  Sales\n",
              "0      1   Choc     26\n",
              "1      2    Van     12\n",
              "2      1  Straw     18\n",
              "3      2   Choc     22"
            ]
          },
          "metadata": {
            "tags": []
          },
          "execution_count": 70
        }
      ]
    },
    {
      "cell_type": "code",
      "metadata": {
        "id": "ttN67DZy_OC6",
        "colab": {
          "base_uri": "https://localhost:8080/",
          "height": 278
        },
        "outputId": "a466b4bc-c504-4b27-82ba-190fdf5776aa"
      },
      "source": [
        "#group data by store and get mean value of sales\n",
        "\n",
        "print(\"df_11:\")\n",
        "print(df_11) \n",
        "\n",
        "#new code\n",
        "print(\"\\nNew code output:\")\n",
        "by_store = df_11.groupby('Store')\n",
        "by_store.mean()"
      ],
      "execution_count": 71,
      "outputs": [
        {
          "output_type": "stream",
          "text": [
            "df_11:\n",
            "   Store Flavor  Sales\n",
            "0      1   Choc     26\n",
            "1      2    Van     12\n",
            "2      1  Straw     18\n",
            "3      2   Choc     22\n",
            "\n",
            "New code output:\n"
          ],
          "name": "stdout"
        },
        {
          "output_type": "execute_result",
          "data": {
            "text/html": [
              "<div>\n",
              "<style scoped>\n",
              "    .dataframe tbody tr th:only-of-type {\n",
              "        vertical-align: middle;\n",
              "    }\n",
              "\n",
              "    .dataframe tbody tr th {\n",
              "        vertical-align: top;\n",
              "    }\n",
              "\n",
              "    .dataframe thead th {\n",
              "        text-align: right;\n",
              "    }\n",
              "</style>\n",
              "<table border=\"1\" class=\"dataframe\">\n",
              "  <thead>\n",
              "    <tr style=\"text-align: right;\">\n",
              "      <th></th>\n",
              "      <th>Sales</th>\n",
              "    </tr>\n",
              "    <tr>\n",
              "      <th>Store</th>\n",
              "      <th></th>\n",
              "    </tr>\n",
              "  </thead>\n",
              "  <tbody>\n",
              "    <tr>\n",
              "      <th>1</th>\n",
              "      <td>22</td>\n",
              "    </tr>\n",
              "    <tr>\n",
              "      <th>2</th>\n",
              "      <td>17</td>\n",
              "    </tr>\n",
              "  </tbody>\n",
              "</table>\n",
              "</div>"
            ],
            "text/plain": [
              "       Sales\n",
              "Store       \n",
              "1         22\n",
              "2         17"
            ]
          },
          "metadata": {
            "tags": []
          },
          "execution_count": 71
        }
      ]
    },
    {
      "cell_type": "code",
      "metadata": {
        "id": "N14L7yGxBeES",
        "colab": {
          "base_uri": "https://localhost:8080/"
        },
        "outputId": "943d3f69-ec44-4304-fa66-c676cd48e19f"
      },
      "source": [
        "#sales total just for store 1\n",
        "\n",
        "print(\"df_11:\")\n",
        "print(df_11) \n",
        "\n",
        "#new code\n",
        "print(\"\\nNew code output:\")\n",
        "by_store = df_11.groupby('Store')\n",
        "by_store.sum().loc[1]"
      ],
      "execution_count": 72,
      "outputs": [
        {
          "output_type": "stream",
          "text": [
            "df_11:\n",
            "   Store Flavor  Sales\n",
            "0      1   Choc     26\n",
            "1      2    Van     12\n",
            "2      1  Straw     18\n",
            "3      2   Choc     22\n",
            "\n",
            "New code output:\n"
          ],
          "name": "stdout"
        },
        {
          "output_type": "execute_result",
          "data": {
            "text/plain": [
              "Sales    44\n",
              "Name: 1, dtype: int64"
            ]
          },
          "metadata": {
            "tags": []
          },
          "execution_count": 72
        }
      ]
    },
    {
      "cell_type": "code",
      "metadata": {
        "id": "hX55aWT2B6CR",
        "colab": {
          "base_uri": "https://localhost:8080/",
          "height": 309
        },
        "outputId": "45362e6a-a626-4aba-98ef-3b50122fea61"
      },
      "source": [
        "# data description\n",
        "\n",
        "print(\"df_11:\")\n",
        "print(df_11) \n",
        "\n",
        "#new code\n",
        "print(\"\\nNew code output:\")\n",
        "by_store = df_11.groupby('Store')\n",
        "by_store.describe()"
      ],
      "execution_count": 73,
      "outputs": [
        {
          "output_type": "stream",
          "text": [
            "df_11:\n",
            "   Store Flavor  Sales\n",
            "0      1   Choc     26\n",
            "1      2    Van     12\n",
            "2      1  Straw     18\n",
            "3      2   Choc     22\n",
            "\n",
            "New code output:\n"
          ],
          "name": "stdout"
        },
        {
          "output_type": "execute_result",
          "data": {
            "text/html": [
              "<div>\n",
              "<style scoped>\n",
              "    .dataframe tbody tr th:only-of-type {\n",
              "        vertical-align: middle;\n",
              "    }\n",
              "\n",
              "    .dataframe tbody tr th {\n",
              "        vertical-align: top;\n",
              "    }\n",
              "\n",
              "    .dataframe thead tr th {\n",
              "        text-align: left;\n",
              "    }\n",
              "\n",
              "    .dataframe thead tr:last-of-type th {\n",
              "        text-align: right;\n",
              "    }\n",
              "</style>\n",
              "<table border=\"1\" class=\"dataframe\">\n",
              "  <thead>\n",
              "    <tr>\n",
              "      <th></th>\n",
              "      <th colspan=\"8\" halign=\"left\">Sales</th>\n",
              "    </tr>\n",
              "    <tr>\n",
              "      <th></th>\n",
              "      <th>count</th>\n",
              "      <th>mean</th>\n",
              "      <th>std</th>\n",
              "      <th>min</th>\n",
              "      <th>25%</th>\n",
              "      <th>50%</th>\n",
              "      <th>75%</th>\n",
              "      <th>max</th>\n",
              "    </tr>\n",
              "    <tr>\n",
              "      <th>Store</th>\n",
              "      <th></th>\n",
              "      <th></th>\n",
              "      <th></th>\n",
              "      <th></th>\n",
              "      <th></th>\n",
              "      <th></th>\n",
              "      <th></th>\n",
              "      <th></th>\n",
              "    </tr>\n",
              "  </thead>\n",
              "  <tbody>\n",
              "    <tr>\n",
              "      <th>1</th>\n",
              "      <td>2.0</td>\n",
              "      <td>22.0</td>\n",
              "      <td>5.656854</td>\n",
              "      <td>18.0</td>\n",
              "      <td>20.0</td>\n",
              "      <td>22.0</td>\n",
              "      <td>24.0</td>\n",
              "      <td>26.0</td>\n",
              "    </tr>\n",
              "    <tr>\n",
              "      <th>2</th>\n",
              "      <td>2.0</td>\n",
              "      <td>17.0</td>\n",
              "      <td>7.071068</td>\n",
              "      <td>12.0</td>\n",
              "      <td>14.5</td>\n",
              "      <td>17.0</td>\n",
              "      <td>19.5</td>\n",
              "      <td>22.0</td>\n",
              "    </tr>\n",
              "  </tbody>\n",
              "</table>\n",
              "</div>"
            ],
            "text/plain": [
              "      Sales                                              \n",
              "      count  mean       std   min   25%   50%   75%   max\n",
              "Store                                                    \n",
              "1       2.0  22.0  5.656854  18.0  20.0  22.0  24.0  26.0\n",
              "2       2.0  17.0  7.071068  12.0  14.5  17.0  19.5  22.0"
            ]
          },
          "metadata": {
            "tags": []
          },
          "execution_count": 73
        }
      ]
    },
    {
      "cell_type": "markdown",
      "metadata": {
        "id": "g55iNhrJCMeq"
      },
      "source": [
        "**Concantenate, Merge & Join Data**"
      ]
    },
    {
      "cell_type": "code",
      "metadata": {
        "id": "1OSZ9YL4CVap",
        "colab": {
          "base_uri": "https://localhost:8080/",
          "height": 456
        },
        "outputId": "068e2d55-8551-4a4b-fe5b-ce9b6604c53b"
      },
      "source": [
        "#creating and concatenate two dataframes\n",
        "\n",
        "df_12 = pd.DataFrame({'A':[1,2,3],\n",
        "                      'B':[4,5,6]},\n",
        "                     index = [1,2,3])\n",
        "print(\"df_12:\")\n",
        "print(df_12)\n",
        "\n",
        "df_13 = pd.DataFrame({'A':[7,8,9],\n",
        "                      'B':[10,11,12]},\n",
        "                     index = [4,5,6])\n",
        "print(\"\\ndf_13:\")\n",
        "print(df_13)\n",
        "\n",
        "#new code\n",
        "print(\"\\nNew code output\")\n",
        "pd.concat([df_12, df_13])"
      ],
      "execution_count": 74,
      "outputs": [
        {
          "output_type": "stream",
          "text": [
            "df_12:\n",
            "   A  B\n",
            "1  1  4\n",
            "2  2  5\n",
            "3  3  6\n",
            "\n",
            "df_13:\n",
            "   A   B\n",
            "4  7  10\n",
            "5  8  11\n",
            "6  9  12\n",
            "\n",
            "New code output\n"
          ],
          "name": "stdout"
        },
        {
          "output_type": "execute_result",
          "data": {
            "text/html": [
              "<div>\n",
              "<style scoped>\n",
              "    .dataframe tbody tr th:only-of-type {\n",
              "        vertical-align: middle;\n",
              "    }\n",
              "\n",
              "    .dataframe tbody tr th {\n",
              "        vertical-align: top;\n",
              "    }\n",
              "\n",
              "    .dataframe thead th {\n",
              "        text-align: right;\n",
              "    }\n",
              "</style>\n",
              "<table border=\"1\" class=\"dataframe\">\n",
              "  <thead>\n",
              "    <tr style=\"text-align: right;\">\n",
              "      <th></th>\n",
              "      <th>A</th>\n",
              "      <th>B</th>\n",
              "    </tr>\n",
              "  </thead>\n",
              "  <tbody>\n",
              "    <tr>\n",
              "      <th>1</th>\n",
              "      <td>1</td>\n",
              "      <td>4</td>\n",
              "    </tr>\n",
              "    <tr>\n",
              "      <th>2</th>\n",
              "      <td>2</td>\n",
              "      <td>5</td>\n",
              "    </tr>\n",
              "    <tr>\n",
              "      <th>3</th>\n",
              "      <td>3</td>\n",
              "      <td>6</td>\n",
              "    </tr>\n",
              "    <tr>\n",
              "      <th>4</th>\n",
              "      <td>7</td>\n",
              "      <td>10</td>\n",
              "    </tr>\n",
              "    <tr>\n",
              "      <th>5</th>\n",
              "      <td>8</td>\n",
              "      <td>11</td>\n",
              "    </tr>\n",
              "    <tr>\n",
              "      <th>6</th>\n",
              "      <td>9</td>\n",
              "      <td>12</td>\n",
              "    </tr>\n",
              "  </tbody>\n",
              "</table>\n",
              "</div>"
            ],
            "text/plain": [
              "   A   B\n",
              "1  1   4\n",
              "2  2   5\n",
              "3  3   6\n",
              "4  7  10\n",
              "5  8  11\n",
              "6  9  12"
            ]
          },
          "metadata": {
            "tags": []
          },
          "execution_count": 74
        }
      ]
    },
    {
      "cell_type": "code",
      "metadata": {
        "id": "kj_Iv_8HDHKO",
        "colab": {
          "base_uri": "https://localhost:8080/",
          "height": 363
        },
        "outputId": "867fdb89-5cc1-417d-fcf2-655ebd8905b4"
      },
      "source": [
        "#creating and merge two dataframes at the intersection of keys\n",
        "#how='inner'\n",
        "df_12 = pd.DataFrame({'A': [1,2,3],\n",
        "                     'B': [4,5,6],\n",
        "                     'key': [1,2,3]})\n",
        "print(\"df_12:\")\n",
        "print(df_12)\n",
        "\n",
        "df_13 = pd.DataFrame({'A': [7,8,9],\n",
        "                     'B': [10,11,12],\n",
        "                     'key': [1,2,3]})\n",
        "print(\"\\ndf_13:\")\n",
        "print(df_13)\n",
        "\n",
        "#new code\n",
        "print(\"\\nAfter merging d_12 & d_13:\")\n",
        "pd.merge(df_12, df_13, how='inner', on='key')\n",
        "\n",
        "#we can also use\n",
        "#how='outer'\n",
        "#how='right'\n",
        "#how='left'"
      ],
      "execution_count": 75,
      "outputs": [
        {
          "output_type": "stream",
          "text": [
            "df_12:\n",
            "   A  B  key\n",
            "0  1  4    1\n",
            "1  2  5    2\n",
            "2  3  6    3\n",
            "\n",
            "df_13:\n",
            "   A   B  key\n",
            "0  7  10    1\n",
            "1  8  11    2\n",
            "2  9  12    3\n",
            "\n",
            "After merging d_12 & d_13:\n"
          ],
          "name": "stdout"
        },
        {
          "output_type": "execute_result",
          "data": {
            "text/html": [
              "<div>\n",
              "<style scoped>\n",
              "    .dataframe tbody tr th:only-of-type {\n",
              "        vertical-align: middle;\n",
              "    }\n",
              "\n",
              "    .dataframe tbody tr th {\n",
              "        vertical-align: top;\n",
              "    }\n",
              "\n",
              "    .dataframe thead th {\n",
              "        text-align: right;\n",
              "    }\n",
              "</style>\n",
              "<table border=\"1\" class=\"dataframe\">\n",
              "  <thead>\n",
              "    <tr style=\"text-align: right;\">\n",
              "      <th></th>\n",
              "      <th>A_x</th>\n",
              "      <th>B_x</th>\n",
              "      <th>key</th>\n",
              "      <th>A_y</th>\n",
              "      <th>B_y</th>\n",
              "    </tr>\n",
              "  </thead>\n",
              "  <tbody>\n",
              "    <tr>\n",
              "      <th>0</th>\n",
              "      <td>1</td>\n",
              "      <td>4</td>\n",
              "      <td>1</td>\n",
              "      <td>7</td>\n",
              "      <td>10</td>\n",
              "    </tr>\n",
              "    <tr>\n",
              "      <th>1</th>\n",
              "      <td>2</td>\n",
              "      <td>5</td>\n",
              "      <td>2</td>\n",
              "      <td>8</td>\n",
              "      <td>11</td>\n",
              "    </tr>\n",
              "    <tr>\n",
              "      <th>2</th>\n",
              "      <td>3</td>\n",
              "      <td>6</td>\n",
              "      <td>3</td>\n",
              "      <td>9</td>\n",
              "      <td>12</td>\n",
              "    </tr>\n",
              "  </tbody>\n",
              "</table>\n",
              "</div>"
            ],
            "text/plain": [
              "   A_x  B_x  key  A_y  B_y\n",
              "0    1    4    1    7   10\n",
              "1    2    5    2    8   11\n",
              "2    3    6    3    9   12"
            ]
          },
          "metadata": {
            "tags": []
          },
          "execution_count": 75
        }
      ]
    },
    {
      "cell_type": "code",
      "metadata": {
        "id": "rMJJjesXLO8F",
        "colab": {
          "base_uri": "https://localhost:8080/",
          "height": 456
        },
        "outputId": "7b05d516-44f5-449c-ff4e-b022ed6d83e6"
      },
      "source": [
        "#creating and join two dataframes\n",
        "\n",
        "df_12 = pd.DataFrame({'A':[1,2,3],\n",
        "                      'B':[4,5,6]},\n",
        "                     index = [1,2,3])\n",
        "print(\"df_12:\")\n",
        "print(df_12)\n",
        "\n",
        "\n",
        "df_13 = pd.DataFrame({'C':[7,8,9],\n",
        "                      'D':[10,11,12]},\n",
        "                     index = [4,5,6])\n",
        "print(\"\\ndf_13:\")\n",
        "print(df_13)\n",
        "\n",
        "#new code\n",
        "print(\"\\nAfter joining d_12 & d_13\")\n",
        "df_12.join(df_13, how='outer')"
      ],
      "execution_count": 76,
      "outputs": [
        {
          "output_type": "stream",
          "text": [
            "df_12:\n",
            "   A  B\n",
            "1  1  4\n",
            "2  2  5\n",
            "3  3  6\n",
            "\n",
            "df_13:\n",
            "   C   D\n",
            "4  7  10\n",
            "5  8  11\n",
            "6  9  12\n",
            "\n",
            "After joining d_12 & d_13\n"
          ],
          "name": "stdout"
        },
        {
          "output_type": "execute_result",
          "data": {
            "text/html": [
              "<div>\n",
              "<style scoped>\n",
              "    .dataframe tbody tr th:only-of-type {\n",
              "        vertical-align: middle;\n",
              "    }\n",
              "\n",
              "    .dataframe tbody tr th {\n",
              "        vertical-align: top;\n",
              "    }\n",
              "\n",
              "    .dataframe thead th {\n",
              "        text-align: right;\n",
              "    }\n",
              "</style>\n",
              "<table border=\"1\" class=\"dataframe\">\n",
              "  <thead>\n",
              "    <tr style=\"text-align: right;\">\n",
              "      <th></th>\n",
              "      <th>A</th>\n",
              "      <th>B</th>\n",
              "      <th>C</th>\n",
              "      <th>D</th>\n",
              "    </tr>\n",
              "  </thead>\n",
              "  <tbody>\n",
              "    <tr>\n",
              "      <th>1</th>\n",
              "      <td>1.0</td>\n",
              "      <td>4.0</td>\n",
              "      <td>NaN</td>\n",
              "      <td>NaN</td>\n",
              "    </tr>\n",
              "    <tr>\n",
              "      <th>2</th>\n",
              "      <td>2.0</td>\n",
              "      <td>5.0</td>\n",
              "      <td>NaN</td>\n",
              "      <td>NaN</td>\n",
              "    </tr>\n",
              "    <tr>\n",
              "      <th>3</th>\n",
              "      <td>3.0</td>\n",
              "      <td>6.0</td>\n",
              "      <td>NaN</td>\n",
              "      <td>NaN</td>\n",
              "    </tr>\n",
              "    <tr>\n",
              "      <th>4</th>\n",
              "      <td>NaN</td>\n",
              "      <td>NaN</td>\n",
              "      <td>7.0</td>\n",
              "      <td>10.0</td>\n",
              "    </tr>\n",
              "    <tr>\n",
              "      <th>5</th>\n",
              "      <td>NaN</td>\n",
              "      <td>NaN</td>\n",
              "      <td>8.0</td>\n",
              "      <td>11.0</td>\n",
              "    </tr>\n",
              "    <tr>\n",
              "      <th>6</th>\n",
              "      <td>NaN</td>\n",
              "      <td>NaN</td>\n",
              "      <td>9.0</td>\n",
              "      <td>12.0</td>\n",
              "    </tr>\n",
              "  </tbody>\n",
              "</table>\n",
              "</div>"
            ],
            "text/plain": [
              "     A    B    C     D\n",
              "1  1.0  4.0  NaN   NaN\n",
              "2  2.0  5.0  NaN   NaN\n",
              "3  3.0  6.0  NaN   NaN\n",
              "4  NaN  NaN  7.0  10.0\n",
              "5  NaN  NaN  8.0  11.0\n",
              "6  NaN  NaN  9.0  12.0"
            ]
          },
          "metadata": {
            "tags": []
          },
          "execution_count": 76
        }
      ]
    },
    {
      "cell_type": "markdown",
      "metadata": {
        "id": "sN4mqAjxMAm2"
      },
      "source": [
        "**Statistics**"
      ]
    },
    {
      "cell_type": "code",
      "metadata": {
        "id": "r1j-jd3iMDvy",
        "colab": {
          "base_uri": "https://localhost:8080/",
          "height": 421
        },
        "outputId": "4f090d33-8fbf-4be2-9305-ca0b8818c2ad"
      },
      "source": [
        "#loading icecream sales data\n",
        "ice_df = pd.read_csv('icecreamsales.csv')\n",
        "ice_df"
      ],
      "execution_count": 77,
      "outputs": [
        {
          "output_type": "execute_result",
          "data": {
            "text/html": [
              "<div>\n",
              "<style scoped>\n",
              "    .dataframe tbody tr th:only-of-type {\n",
              "        vertical-align: middle;\n",
              "    }\n",
              "\n",
              "    .dataframe tbody tr th {\n",
              "        vertical-align: top;\n",
              "    }\n",
              "\n",
              "    .dataframe thead th {\n",
              "        text-align: right;\n",
              "    }\n",
              "</style>\n",
              "<table border=\"1\" class=\"dataframe\">\n",
              "  <thead>\n",
              "    <tr style=\"text-align: right;\">\n",
              "      <th></th>\n",
              "      <th>Temperature</th>\n",
              "      <th>Sales</th>\n",
              "    </tr>\n",
              "  </thead>\n",
              "  <tbody>\n",
              "    <tr>\n",
              "      <th>0</th>\n",
              "      <td>37</td>\n",
              "      <td>292</td>\n",
              "    </tr>\n",
              "    <tr>\n",
              "      <th>1</th>\n",
              "      <td>40</td>\n",
              "      <td>228</td>\n",
              "    </tr>\n",
              "    <tr>\n",
              "      <th>2</th>\n",
              "      <td>49</td>\n",
              "      <td>324</td>\n",
              "    </tr>\n",
              "    <tr>\n",
              "      <th>3</th>\n",
              "      <td>61</td>\n",
              "      <td>376</td>\n",
              "    </tr>\n",
              "    <tr>\n",
              "      <th>4</th>\n",
              "      <td>72</td>\n",
              "      <td>440</td>\n",
              "    </tr>\n",
              "    <tr>\n",
              "      <th>5</th>\n",
              "      <td>79</td>\n",
              "      <td>496</td>\n",
              "    </tr>\n",
              "    <tr>\n",
              "      <th>6</th>\n",
              "      <td>83</td>\n",
              "      <td>536</td>\n",
              "    </tr>\n",
              "    <tr>\n",
              "      <th>7</th>\n",
              "      <td>81</td>\n",
              "      <td>556</td>\n",
              "    </tr>\n",
              "    <tr>\n",
              "      <th>8</th>\n",
              "      <td>75</td>\n",
              "      <td>496</td>\n",
              "    </tr>\n",
              "    <tr>\n",
              "      <th>9</th>\n",
              "      <td>64</td>\n",
              "      <td>412</td>\n",
              "    </tr>\n",
              "    <tr>\n",
              "      <th>10</th>\n",
              "      <td>53</td>\n",
              "      <td>324</td>\n",
              "    </tr>\n",
              "    <tr>\n",
              "      <th>11</th>\n",
              "      <td>42</td>\n",
              "      <td>320</td>\n",
              "    </tr>\n",
              "  </tbody>\n",
              "</table>\n",
              "</div>"
            ],
            "text/plain": [
              "    Temperature  Sales\n",
              "0            37    292\n",
              "1            40    228\n",
              "2            49    324\n",
              "3            61    376\n",
              "4            72    440\n",
              "5            79    496\n",
              "6            83    536\n",
              "7            81    556\n",
              "8            75    496\n",
              "9            64    412\n",
              "10           53    324\n",
              "11           42    320"
            ]
          },
          "metadata": {
            "tags": []
          },
          "execution_count": 77
        }
      ]
    },
    {
      "cell_type": "code",
      "metadata": {
        "id": "4sktX3xvMu7l",
        "colab": {
          "base_uri": "https://localhost:8080/"
        },
        "outputId": "576f9b1f-72f1-461f-f175-d42cfcef17e7"
      },
      "source": [
        "# total count of both columns\n",
        "ice_df.count()"
      ],
      "execution_count": 78,
      "outputs": [
        {
          "output_type": "execute_result",
          "data": {
            "text/plain": [
              "Temperature    12\n",
              "Sales          12\n",
              "dtype: int64"
            ]
          },
          "metadata": {
            "tags": []
          },
          "execution_count": 78
        }
      ]
    },
    {
      "cell_type": "code",
      "metadata": {
        "id": "0gvLeV9gM4U_",
        "colab": {
          "base_uri": "https://localhost:8080/"
        },
        "outputId": "4792a77a-9fa4-4076-ac39-12c418d3d9ea"
      },
      "source": [
        "#sum both coulmns\n",
        "ice_df.sum()"
      ],
      "execution_count": 79,
      "outputs": [
        {
          "output_type": "execute_result",
          "data": {
            "text/plain": [
              "Temperature     736\n",
              "Sales          4800\n",
              "dtype: int64"
            ]
          },
          "metadata": {
            "tags": []
          },
          "execution_count": 79
        }
      ]
    },
    {
      "cell_type": "code",
      "metadata": {
        "id": "pTqbwK0FNDqf",
        "colab": {
          "base_uri": "https://localhost:8080/"
        },
        "outputId": "c214851c-7fdd-48c8-9469-52ee0bbde5f1"
      },
      "source": [
        "#sum both coulmns when there are some nan values\n",
        "ice_df.sum(skipna=True)\n",
        "\n",
        "#here we don't have any nan values"
      ],
      "execution_count": 80,
      "outputs": [
        {
          "output_type": "execute_result",
          "data": {
            "text/plain": [
              "Temperature     736\n",
              "Sales          4800\n",
              "dtype: int64"
            ]
          },
          "metadata": {
            "tags": []
          },
          "execution_count": 80
        }
      ]
    },
    {
      "cell_type": "code",
      "metadata": {
        "id": "55TIM6_5NU7M"
      },
      "source": [
        "##to find more info about a function use '?' after function name\n",
        "##for ex.\n",
        "#ice_df.sum?\n",
        "\n",
        "#after you type any function press shift+tab and you will see all the different attribute and parameters related to that function(works in jupyter notebook)\n"
      ],
      "execution_count": 81,
      "outputs": []
    },
    {
      "cell_type": "code",
      "metadata": {
        "id": "kkv0NNHQNjtK",
        "colab": {
          "base_uri": "https://localhost:8080/"
        },
        "outputId": "6d9151a9-81df-4fe8-cca2-244896fb34ea"
      },
      "source": [
        "#mean of sales column\n",
        "ice_df['Sales'].mean()"
      ],
      "execution_count": 82,
      "outputs": [
        {
          "output_type": "execute_result",
          "data": {
            "text/plain": [
              "400.0"
            ]
          },
          "metadata": {
            "tags": []
          },
          "execution_count": 82
        }
      ]
    },
    {
      "cell_type": "code",
      "metadata": {
        "id": "2cEC363aNsEn",
        "colab": {
          "base_uri": "https://localhost:8080/"
        },
        "outputId": "ef37a71a-e6df-4032-a975-6273ae2b4c40"
      },
      "source": [
        "#median of sales column\n",
        "ice_df['Sales'].median()"
      ],
      "execution_count": 83,
      "outputs": [
        {
          "output_type": "execute_result",
          "data": {
            "text/plain": [
              "394.0"
            ]
          },
          "metadata": {
            "tags": []
          },
          "execution_count": 83
        }
      ]
    },
    {
      "cell_type": "code",
      "metadata": {
        "id": "wnqWDndcNysb",
        "colab": {
          "base_uri": "https://localhost:8080/"
        },
        "outputId": "6c838503-3e5d-4503-c8a2-e7ccb7725f8c"
      },
      "source": [
        "#mode of sales column\n",
        "ice_df['Sales'].mode()"
      ],
      "execution_count": 84,
      "outputs": [
        {
          "output_type": "execute_result",
          "data": {
            "text/plain": [
              "0    324\n",
              "1    496\n",
              "dtype: int64"
            ]
          },
          "metadata": {
            "tags": []
          },
          "execution_count": 84
        }
      ]
    },
    {
      "cell_type": "code",
      "metadata": {
        "id": "Z4-L_sXeN38d",
        "colab": {
          "base_uri": "https://localhost:8080/"
        },
        "outputId": "d5605e54-3410-4f68-9fb1-0bdcad24164c"
      },
      "source": [
        "#minimum of sales column\n",
        "ice_df['Sales'].min()"
      ],
      "execution_count": 85,
      "outputs": [
        {
          "output_type": "execute_result",
          "data": {
            "text/plain": [
              "228"
            ]
          },
          "metadata": {
            "tags": []
          },
          "execution_count": 85
        }
      ]
    },
    {
      "cell_type": "code",
      "metadata": {
        "id": "ShYvOcgNN-v3",
        "colab": {
          "base_uri": "https://localhost:8080/"
        },
        "outputId": "a21b790b-3db4-4405-86a5-323b55ded749"
      },
      "source": [
        "#maximum of sales column\n",
        "ice_df['Sales'].max()"
      ],
      "execution_count": 86,
      "outputs": [
        {
          "output_type": "execute_result",
          "data": {
            "text/plain": [
              "556"
            ]
          },
          "metadata": {
            "tags": []
          },
          "execution_count": 86
        }
      ]
    },
    {
      "cell_type": "code",
      "metadata": {
        "id": "IenAO7XdOHP-",
        "colab": {
          "base_uri": "https://localhost:8080/"
        },
        "outputId": "42cfb393-4622-460b-b1dd-e146557777ee"
      },
      "source": [
        "#product of all values in sales column\n",
        "ice_df['Sales'].product()"
      ],
      "execution_count": 87,
      "outputs": [
        {
          "output_type": "execute_result",
          "data": {
            "text/plain": [
              "4582080946295013376"
            ]
          },
          "metadata": {
            "tags": []
          },
          "execution_count": 87
        }
      ]
    },
    {
      "cell_type": "code",
      "metadata": {
        "id": "Wh9Cf9aJORBB",
        "colab": {
          "base_uri": "https://localhost:8080/"
        },
        "outputId": "0bd9684c-77ef-4364-f7a3-5db100bb901c"
      },
      "source": [
        "#standard deviation of sales column\n",
        "ice_df['Sales'].std()"
      ],
      "execution_count": 88,
      "outputs": [
        {
          "output_type": "execute_result",
          "data": {
            "text/plain": [
              "105.65122724408751"
            ]
          },
          "metadata": {
            "tags": []
          },
          "execution_count": 88
        }
      ]
    },
    {
      "cell_type": "code",
      "metadata": {
        "id": "jgsJ_pmBOV7A",
        "colab": {
          "base_uri": "https://localhost:8080/"
        },
        "outputId": "2ed8f6fb-44da-4c92-df82-8da12a5cac3a"
      },
      "source": [
        "#variance of sales column\n",
        "ice_df['Sales'].var()"
      ],
      "execution_count": 89,
      "outputs": [
        {
          "output_type": "execute_result",
          "data": {
            "text/plain": [
              "11162.181818181818"
            ]
          },
          "metadata": {
            "tags": []
          },
          "execution_count": 89
        }
      ]
    },
    {
      "cell_type": "code",
      "metadata": {
        "id": "0LlttlLOOaCK",
        "colab": {
          "base_uri": "https://localhost:8080/"
        },
        "outputId": "80c86d19-66db-47d1-abe5-2a77972aba6d"
      },
      "source": [
        "#standard error of sales column\n",
        "ice_df['Sales'].sem()"
      ],
      "execution_count": 90,
      "outputs": [
        {
          "output_type": "execute_result",
          "data": {
            "text/plain": [
              "30.498882244794125"
            ]
          },
          "metadata": {
            "tags": []
          },
          "execution_count": 90
        }
      ]
    },
    {
      "cell_type": "code",
      "metadata": {
        "id": "inqVALlhOlEC",
        "colab": {
          "base_uri": "https://localhost:8080/"
        },
        "outputId": "ee784743-d37c-4437-c9da-0b3045a9b7b9"
      },
      "source": [
        "#how the result of sales column skew on a graph\n",
        "ice_df['Sales'].skew()\n",
        "\n",
        "#value is positive it means it has a long tail towards the right"
      ],
      "execution_count": 91,
      "outputs": [
        {
          "output_type": "execute_result",
          "data": {
            "text/plain": [
              "0.036552031682046925"
            ]
          },
          "metadata": {
            "tags": []
          },
          "execution_count": 91
        }
      ]
    },
    {
      "cell_type": "code",
      "metadata": {
        "id": "F7KI0KAIO8hC",
        "colab": {
          "base_uri": "https://localhost:8080/"
        },
        "outputId": "4effbada-e189-4436-87a5-63e307a7d848"
      },
      "source": [
        "#outliers in the data\n",
        "ice_df['Sales'].kurt()\n",
        "\n",
        "# if less than 3 the few outliers\n",
        "# equal to 3 then normal distribution\n",
        "# more than 3 then a lot of outliers"
      ],
      "execution_count": 92,
      "outputs": [
        {
          "output_type": "execute_result",
          "data": {
            "text/plain": [
              "-1.2179973006069797"
            ]
          },
          "metadata": {
            "tags": []
          },
          "execution_count": 92
        }
      ]
    },
    {
      "cell_type": "code",
      "metadata": {
        "id": "ejkYSMPjPUDt",
        "colab": {
          "base_uri": "https://localhost:8080/"
        },
        "outputId": "9f2cc966-509d-46f3-d9ab-957b22ef83b1"
      },
      "source": [
        "#quantile 50%\n",
        "ice_df['Sales'].quantile(.5)"
      ],
      "execution_count": 93,
      "outputs": [
        {
          "output_type": "execute_result",
          "data": {
            "text/plain": [
              "394.0"
            ]
          },
          "metadata": {
            "tags": []
          },
          "execution_count": 93
        }
      ]
    },
    {
      "cell_type": "code",
      "metadata": {
        "id": "abB0kdOrPiL6",
        "colab": {
          "base_uri": "https://localhost:8080/"
        },
        "outputId": "e36aec8c-a105-44a3-c90d-1fb9169aab7c"
      },
      "source": [
        "#cumulative sum\n",
        "ice_df['Sales'].cumsum()"
      ],
      "execution_count": 94,
      "outputs": [
        {
          "output_type": "execute_result",
          "data": {
            "text/plain": [
              "0      292\n",
              "1      520\n",
              "2      844\n",
              "3     1220\n",
              "4     1660\n",
              "5     2156\n",
              "6     2692\n",
              "7     3248\n",
              "8     3744\n",
              "9     4156\n",
              "10    4480\n",
              "11    4800\n",
              "Name: Sales, dtype: int64"
            ]
          },
          "metadata": {
            "tags": []
          },
          "execution_count": 94
        }
      ]
    },
    {
      "cell_type": "code",
      "metadata": {
        "id": "mqHC9JQUPqVU",
        "colab": {
          "base_uri": "https://localhost:8080/"
        },
        "outputId": "f51e4bd0-3acd-4565-fe4d-7837951ceea8"
      },
      "source": [
        "#cumulative product\n",
        "ice_df['Sales'].cumprod()"
      ],
      "execution_count": 95,
      "outputs": [
        {
          "output_type": "execute_result",
          "data": {
            "text/plain": [
              "0                     292\n",
              "1                   66576\n",
              "2                21570624\n",
              "3              8110554624\n",
              "4           3568644034560\n",
              "5        1770047441141760\n",
              "6      948745428451983360\n",
              "7    -7453119918274248704\n",
              "8    -7398664722117033984\n",
              "9    -4537093350141984768\n",
              "10    5721280450761064448\n",
              "11    4582080946295013376\n",
              "Name: Sales, dtype: int64"
            ]
          },
          "metadata": {
            "tags": []
          },
          "execution_count": 95
        }
      ]
    },
    {
      "cell_type": "code",
      "metadata": {
        "id": "mwuUUQKNP1uh",
        "colab": {
          "base_uri": "https://localhost:8080/"
        },
        "outputId": "1e8067c5-597b-4472-b4b5-208f432e2f28"
      },
      "source": [
        "#cumulative maximum\n",
        "ice_df['Sales'].cummax()"
      ],
      "execution_count": 96,
      "outputs": [
        {
          "output_type": "execute_result",
          "data": {
            "text/plain": [
              "0     292\n",
              "1     292\n",
              "2     324\n",
              "3     376\n",
              "4     440\n",
              "5     496\n",
              "6     536\n",
              "7     556\n",
              "8     556\n",
              "9     556\n",
              "10    556\n",
              "11    556\n",
              "Name: Sales, dtype: int64"
            ]
          },
          "metadata": {
            "tags": []
          },
          "execution_count": 96
        }
      ]
    },
    {
      "cell_type": "code",
      "metadata": {
        "id": "y_QIR63UP2gT",
        "colab": {
          "base_uri": "https://localhost:8080/"
        },
        "outputId": "ec9696a7-93da-4a90-e03e-ff33bba8bb0c"
      },
      "source": [
        "#cumulative minimum\n",
        "ice_df['Sales'].cummin()"
      ],
      "execution_count": 97,
      "outputs": [
        {
          "output_type": "execute_result",
          "data": {
            "text/plain": [
              "0     292\n",
              "1     228\n",
              "2     228\n",
              "3     228\n",
              "4     228\n",
              "5     228\n",
              "6     228\n",
              "7     228\n",
              "8     228\n",
              "9     228\n",
              "10    228\n",
              "11    228\n",
              "Name: Sales, dtype: int64"
            ]
          },
          "metadata": {
            "tags": []
          },
          "execution_count": 97
        }
      ]
    },
    {
      "cell_type": "code",
      "metadata": {
        "id": "hnFolKdBQFb7",
        "colab": {
          "base_uri": "https://localhost:8080/",
          "height": 297
        },
        "outputId": "5b54c88c-54a0-456a-b307-cb13e584db3c"
      },
      "source": [
        "#describe data\n",
        "ice_df.describe()"
      ],
      "execution_count": 98,
      "outputs": [
        {
          "output_type": "execute_result",
          "data": {
            "text/html": [
              "<div>\n",
              "<style scoped>\n",
              "    .dataframe tbody tr th:only-of-type {\n",
              "        vertical-align: middle;\n",
              "    }\n",
              "\n",
              "    .dataframe tbody tr th {\n",
              "        vertical-align: top;\n",
              "    }\n",
              "\n",
              "    .dataframe thead th {\n",
              "        text-align: right;\n",
              "    }\n",
              "</style>\n",
              "<table border=\"1\" class=\"dataframe\">\n",
              "  <thead>\n",
              "    <tr style=\"text-align: right;\">\n",
              "      <th></th>\n",
              "      <th>Temperature</th>\n",
              "      <th>Sales</th>\n",
              "    </tr>\n",
              "  </thead>\n",
              "  <tbody>\n",
              "    <tr>\n",
              "      <th>count</th>\n",
              "      <td>12.000000</td>\n",
              "      <td>12.000000</td>\n",
              "    </tr>\n",
              "    <tr>\n",
              "      <th>mean</th>\n",
              "      <td>61.333333</td>\n",
              "      <td>400.000000</td>\n",
              "    </tr>\n",
              "    <tr>\n",
              "      <th>std</th>\n",
              "      <td>16.837908</td>\n",
              "      <td>105.651227</td>\n",
              "    </tr>\n",
              "    <tr>\n",
              "      <th>min</th>\n",
              "      <td>37.000000</td>\n",
              "      <td>228.000000</td>\n",
              "    </tr>\n",
              "    <tr>\n",
              "      <th>25%</th>\n",
              "      <td>47.250000</td>\n",
              "      <td>323.000000</td>\n",
              "    </tr>\n",
              "    <tr>\n",
              "      <th>50%</th>\n",
              "      <td>62.500000</td>\n",
              "      <td>394.000000</td>\n",
              "    </tr>\n",
              "    <tr>\n",
              "      <th>75%</th>\n",
              "      <td>76.000000</td>\n",
              "      <td>496.000000</td>\n",
              "    </tr>\n",
              "    <tr>\n",
              "      <th>max</th>\n",
              "      <td>83.000000</td>\n",
              "      <td>556.000000</td>\n",
              "    </tr>\n",
              "  </tbody>\n",
              "</table>\n",
              "</div>"
            ],
            "text/plain": [
              "       Temperature       Sales\n",
              "count    12.000000   12.000000\n",
              "mean     61.333333  400.000000\n",
              "std      16.837908  105.651227\n",
              "min      37.000000  228.000000\n",
              "25%      47.250000  323.000000\n",
              "50%      62.500000  394.000000\n",
              "75%      76.000000  496.000000\n",
              "max      83.000000  556.000000"
            ]
          },
          "metadata": {
            "tags": []
          },
          "execution_count": 98
        }
      ]
    },
    {
      "cell_type": "code",
      "metadata": {
        "id": "CuglmQ_EQU5y",
        "colab": {
          "base_uri": "https://localhost:8080/"
        },
        "outputId": "a9bdc33b-391a-478e-8d83-bcf6c9cfe247"
      },
      "source": [
        "#series of dice result\n",
        "series_dice = pd.Series(data=[2, 3, 3, 4, 4, 4, 5, 5, 5, 5, 6, 6, \n",
        "                           6, 6, 6, 7, 7, 7, 7, 7, 7, 8, 8, 8,\n",
        "                          8, 8, 9, 9, 9, 9, 10, 10, 10, 11, 11, 12])\n",
        "#value count\n",
        "series_dice.value_counts()"
      ],
      "execution_count": 99,
      "outputs": [
        {
          "output_type": "execute_result",
          "data": {
            "text/plain": [
              "7     6\n",
              "8     5\n",
              "6     5\n",
              "9     4\n",
              "5     4\n",
              "10    3\n",
              "4     3\n",
              "11    2\n",
              "3     2\n",
              "12    1\n",
              "2     1\n",
              "dtype: int64"
            ]
          },
          "metadata": {
            "tags": []
          },
          "execution_count": 99
        }
      ]
    },
    {
      "cell_type": "code",
      "metadata": {
        "id": "dCDrezXwQy8F",
        "colab": {
          "base_uri": "https://localhost:8080/"
        },
        "outputId": "4112bac1-edb7-4c14-f0c7-dcdfab65141c"
      },
      "source": [
        "#aggregate\n",
        "\n",
        "print(\"df_2:\")\n",
        "print(df_2) \n",
        "\n",
        "#new code\n",
        "print(\"\\nNew code output:\")\n",
        "df_2.agg(np.mean)"
      ],
      "execution_count": 100,
      "outputs": [
        {
          "output_type": "stream",
          "text": [
            "df_2:\n",
            "   one  two\n",
            "a  1.0  1.0\n",
            "b  2.0  2.0\n",
            "d  0.0  4.0\n",
            "e  3.0  3.0\n",
            "\n",
            "New code output:\n"
          ],
          "name": "stdout"
        },
        {
          "output_type": "execute_result",
          "data": {
            "text/plain": [
              "one    1.5\n",
              "two    2.5\n",
              "dtype: float64"
            ]
          },
          "metadata": {
            "tags": []
          },
          "execution_count": 100
        }
      ]
    },
    {
      "cell_type": "code",
      "metadata": {
        "id": "yS48l6u_RYx0",
        "colab": {
          "base_uri": "https://localhost:8080/",
          "height": 247
        },
        "outputId": "3e21f59b-5817-4fe2-c354-2f4168ef0fc6"
      },
      "source": [
        "#mean and standard deviation\n",
        "\n",
        "print(\"df_2:\")\n",
        "print(df_2) \n",
        "\n",
        "#new code\n",
        "print(\"\\nNew code output:\")\n",
        "df_2.agg(['mean','std'])"
      ],
      "execution_count": 101,
      "outputs": [
        {
          "output_type": "stream",
          "text": [
            "df_2:\n",
            "   one  two\n",
            "a  1.0  1.0\n",
            "b  2.0  2.0\n",
            "d  0.0  4.0\n",
            "e  3.0  3.0\n",
            "\n",
            "New code output:\n"
          ],
          "name": "stdout"
        },
        {
          "output_type": "execute_result",
          "data": {
            "text/html": [
              "<div>\n",
              "<style scoped>\n",
              "    .dataframe tbody tr th:only-of-type {\n",
              "        vertical-align: middle;\n",
              "    }\n",
              "\n",
              "    .dataframe tbody tr th {\n",
              "        vertical-align: top;\n",
              "    }\n",
              "\n",
              "    .dataframe thead th {\n",
              "        text-align: right;\n",
              "    }\n",
              "</style>\n",
              "<table border=\"1\" class=\"dataframe\">\n",
              "  <thead>\n",
              "    <tr style=\"text-align: right;\">\n",
              "      <th></th>\n",
              "      <th>one</th>\n",
              "      <th>two</th>\n",
              "    </tr>\n",
              "  </thead>\n",
              "  <tbody>\n",
              "    <tr>\n",
              "      <th>mean</th>\n",
              "      <td>1.500000</td>\n",
              "      <td>2.500000</td>\n",
              "    </tr>\n",
              "    <tr>\n",
              "      <th>std</th>\n",
              "      <td>1.290994</td>\n",
              "      <td>1.290994</td>\n",
              "    </tr>\n",
              "  </tbody>\n",
              "</table>\n",
              "</div>"
            ],
            "text/plain": [
              "           one       two\n",
              "mean  1.500000  2.500000\n",
              "std   1.290994  1.290994"
            ]
          },
          "metadata": {
            "tags": []
          },
          "execution_count": 101
        }
      ]
    },
    {
      "cell_type": "markdown",
      "metadata": {
        "id": "CO-NxrEMRktI"
      },
      "source": [
        "**Iteration**"
      ]
    },
    {
      "cell_type": "code",
      "metadata": {
        "id": "aS62vVIuRnqy",
        "colab": {
          "base_uri": "https://localhost:8080/"
        },
        "outputId": "0794d339-3e68-4c12-c40c-d16d036c5ac5"
      },
      "source": [
        "# Iterating over series\n",
        "series_7 = pd.Series(range(5), index=['a', 'b', 'c', 'd', 'e'])\n",
        "print(\"series_7\")\n",
        "print(series_7)\n",
        "\n",
        "#new code\n",
        "print(\"\\nNew code output:\")\n",
        "for col in series_7:\n",
        "  print(col)"
      ],
      "execution_count": 102,
      "outputs": [
        {
          "output_type": "stream",
          "text": [
            "series_7\n",
            "a    0\n",
            "b    1\n",
            "c    2\n",
            "d    3\n",
            "e    4\n",
            "dtype: int64\n",
            "\n",
            "New code output:\n",
            "0\n",
            "1\n",
            "2\n",
            "3\n",
            "4\n"
          ],
          "name": "stdout"
        }
      ]
    },
    {
      "cell_type": "code",
      "metadata": {
        "id": "rIiuDISJR34U",
        "colab": {
          "base_uri": "https://localhost:8080/"
        },
        "outputId": "630b3e16-3f52-4b18-861e-587c55bb0915"
      },
      "source": [
        "# Iterating over DFs (column)\n",
        "array_4 = np.random.randint(10, 50, size=(2, 3))\n",
        "df_8 = pd.DataFrame(array_4, ['B', 'C'], ['C', 'D', 'E'])\n",
        "print(\"df_8:\")\n",
        "print(df_8)\n",
        "\n",
        "#new code\n",
        "print(\"\\nNew code output:\")\n",
        "for label, ser in df_8.items():\n",
        "  print(\"label:\",label)\n",
        "  print(ser)\n",
        "  print()"
      ],
      "execution_count": 103,
      "outputs": [
        {
          "output_type": "stream",
          "text": [
            "df_8:\n",
            "    C   D   E\n",
            "B  39  36  31\n",
            "C  14  39  36\n",
            "\n",
            "New code output:\n",
            "label: C\n",
            "B    39\n",
            "C    14\n",
            "Name: C, dtype: int64\n",
            "\n",
            "label: D\n",
            "B    36\n",
            "C    39\n",
            "Name: D, dtype: int64\n",
            "\n",
            "label: E\n",
            "B    31\n",
            "C    36\n",
            "Name: E, dtype: int64\n",
            "\n"
          ],
          "name": "stdout"
        }
      ]
    },
    {
      "cell_type": "code",
      "metadata": {
        "id": "pHXmzhXLS_VX",
        "colab": {
          "base_uri": "https://localhost:8080/"
        },
        "outputId": "f98ed074-cf28-4a6f-8f0e-87009ca60887"
      },
      "source": [
        "# Iterating over DFs (row)\n",
        "\n",
        "print(\"df_8:\")\n",
        "print(df_8)\n",
        "\n",
        "#new code\n",
        "print(\"\\nNew code output:\")\n",
        "for index, row in df_8.iterrows():\n",
        "  print(f\"{index}\\n{row}\")\n",
        "  print()"
      ],
      "execution_count": 104,
      "outputs": [
        {
          "output_type": "stream",
          "text": [
            "df_8:\n",
            "    C   D   E\n",
            "B  39  36  31\n",
            "C  14  39  36\n",
            "\n",
            "New code output:\n",
            "B\n",
            "C    39\n",
            "D    36\n",
            "E    31\n",
            "Name: B, dtype: int64\n",
            "\n",
            "C\n",
            "C    14\n",
            "D    39\n",
            "E    36\n",
            "Name: C, dtype: int64\n",
            "\n"
          ],
          "name": "stdout"
        }
      ]
    },
    {
      "cell_type": "code",
      "metadata": {
        "id": "ojeFeFdaUZwQ",
        "colab": {
          "base_uri": "https://localhost:8080/"
        },
        "outputId": "118f9970-ea82-4a00-9819-778dc4421b79"
      },
      "source": [
        "# Iterating over DFs and tuple as output\n",
        "\n",
        "print(\"df_8:\")\n",
        "print(df_8)\n",
        "\n",
        "#new code\n",
        "print(\"\\nNew code output:\")\n",
        "for row in df_8.itertuples():\n",
        "  print(row)"
      ],
      "execution_count": 105,
      "outputs": [
        {
          "output_type": "stream",
          "text": [
            "df_8:\n",
            "    C   D   E\n",
            "B  39  36  31\n",
            "C  14  39  36\n",
            "\n",
            "New code output:\n",
            "Pandas(Index='B', C=39, D=36, E=31)\n",
            "Pandas(Index='C', C=14, D=39, E=36)\n"
          ],
          "name": "stdout"
        }
      ]
    },
    {
      "cell_type": "markdown",
      "metadata": {
        "id": "x4a_8xMtU9ah"
      },
      "source": [
        "**Sorting**"
      ]
    },
    {
      "cell_type": "code",
      "metadata": {
        "id": "ZFqNpqTMU_QL",
        "colab": {
          "base_uri": "https://localhost:8080/",
          "height": 213
        },
        "outputId": "bc09f90c-161c-4d2c-9f60-2d6267b2123b"
      },
      "source": [
        "# sort in descending order\n",
        "\n",
        "print(\"df_8:\")\n",
        "print(df_8)\n",
        "\n",
        "#new code\n",
        "print(\"\\nNew code output:\")\n",
        "df_8.sort_index()"
      ],
      "execution_count": 106,
      "outputs": [
        {
          "output_type": "stream",
          "text": [
            "df_8:\n",
            "    C   D   E\n",
            "B  39  36  31\n",
            "C  14  39  36\n",
            "\n",
            "New code output:\n"
          ],
          "name": "stdout"
        },
        {
          "output_type": "execute_result",
          "data": {
            "text/html": [
              "<div>\n",
              "<style scoped>\n",
              "    .dataframe tbody tr th:only-of-type {\n",
              "        vertical-align: middle;\n",
              "    }\n",
              "\n",
              "    .dataframe tbody tr th {\n",
              "        vertical-align: top;\n",
              "    }\n",
              "\n",
              "    .dataframe thead th {\n",
              "        text-align: right;\n",
              "    }\n",
              "</style>\n",
              "<table border=\"1\" class=\"dataframe\">\n",
              "  <thead>\n",
              "    <tr style=\"text-align: right;\">\n",
              "      <th></th>\n",
              "      <th>C</th>\n",
              "      <th>D</th>\n",
              "      <th>E</th>\n",
              "    </tr>\n",
              "  </thead>\n",
              "  <tbody>\n",
              "    <tr>\n",
              "      <th>B</th>\n",
              "      <td>39</td>\n",
              "      <td>36</td>\n",
              "      <td>31</td>\n",
              "    </tr>\n",
              "    <tr>\n",
              "      <th>C</th>\n",
              "      <td>14</td>\n",
              "      <td>39</td>\n",
              "      <td>36</td>\n",
              "    </tr>\n",
              "  </tbody>\n",
              "</table>\n",
              "</div>"
            ],
            "text/plain": [
              "    C   D   E\n",
              "B  39  36  31\n",
              "C  14  39  36"
            ]
          },
          "metadata": {
            "tags": []
          },
          "execution_count": 106
        }
      ]
    },
    {
      "cell_type": "code",
      "metadata": {
        "id": "-icuAkvVVgKb",
        "colab": {
          "base_uri": "https://localhost:8080/",
          "height": 213
        },
        "outputId": "bad3115e-b31e-421a-fc3f-801d7ffca9ee"
      },
      "source": [
        "# sort in descending order\n",
        "\n",
        "print(\"df_8:\")\n",
        "print(df_8)\n",
        "\n",
        "#new code\n",
        "print(\"\\nNew code output:\")\n",
        "df_8.sort_index(ascending=False)"
      ],
      "execution_count": 107,
      "outputs": [
        {
          "output_type": "stream",
          "text": [
            "df_8:\n",
            "    C   D   E\n",
            "B  39  36  31\n",
            "C  14  39  36\n",
            "\n",
            "New code output:\n"
          ],
          "name": "stdout"
        },
        {
          "output_type": "execute_result",
          "data": {
            "text/html": [
              "<div>\n",
              "<style scoped>\n",
              "    .dataframe tbody tr th:only-of-type {\n",
              "        vertical-align: middle;\n",
              "    }\n",
              "\n",
              "    .dataframe tbody tr th {\n",
              "        vertical-align: top;\n",
              "    }\n",
              "\n",
              "    .dataframe thead th {\n",
              "        text-align: right;\n",
              "    }\n",
              "</style>\n",
              "<table border=\"1\" class=\"dataframe\">\n",
              "  <thead>\n",
              "    <tr style=\"text-align: right;\">\n",
              "      <th></th>\n",
              "      <th>C</th>\n",
              "      <th>D</th>\n",
              "      <th>E</th>\n",
              "    </tr>\n",
              "  </thead>\n",
              "  <tbody>\n",
              "    <tr>\n",
              "      <th>C</th>\n",
              "      <td>14</td>\n",
              "      <td>39</td>\n",
              "      <td>36</td>\n",
              "    </tr>\n",
              "    <tr>\n",
              "      <th>B</th>\n",
              "      <td>39</td>\n",
              "      <td>36</td>\n",
              "      <td>31</td>\n",
              "    </tr>\n",
              "  </tbody>\n",
              "</table>\n",
              "</div>"
            ],
            "text/plain": [
              "    C   D   E\n",
              "C  14  39  36\n",
              "B  39  36  31"
            ]
          },
          "metadata": {
            "tags": []
          },
          "execution_count": 107
        }
      ]
    },
    {
      "cell_type": "code",
      "metadata": {
        "id": "3pa9-_Nha04N",
        "colab": {
          "base_uri": "https://localhost:8080/",
          "height": 213
        },
        "outputId": "3c8d312e-f46d-49f9-9f7f-9f85c88f3dbb"
      },
      "source": [
        "#sort values by specific column\n",
        "\n",
        "print(\"df_8:\")\n",
        "print(df_8)\n",
        "\n",
        "#new code\n",
        "print(\"\\nNew code output:\")\n",
        "df_8.sort_values(by='E') "
      ],
      "execution_count": 108,
      "outputs": [
        {
          "output_type": "stream",
          "text": [
            "df_8:\n",
            "    C   D   E\n",
            "B  39  36  31\n",
            "C  14  39  36\n",
            "\n",
            "New code output:\n"
          ],
          "name": "stdout"
        },
        {
          "output_type": "execute_result",
          "data": {
            "text/html": [
              "<div>\n",
              "<style scoped>\n",
              "    .dataframe tbody tr th:only-of-type {\n",
              "        vertical-align: middle;\n",
              "    }\n",
              "\n",
              "    .dataframe tbody tr th {\n",
              "        vertical-align: top;\n",
              "    }\n",
              "\n",
              "    .dataframe thead th {\n",
              "        text-align: right;\n",
              "    }\n",
              "</style>\n",
              "<table border=\"1\" class=\"dataframe\">\n",
              "  <thead>\n",
              "    <tr style=\"text-align: right;\">\n",
              "      <th></th>\n",
              "      <th>C</th>\n",
              "      <th>D</th>\n",
              "      <th>E</th>\n",
              "    </tr>\n",
              "  </thead>\n",
              "  <tbody>\n",
              "    <tr>\n",
              "      <th>B</th>\n",
              "      <td>39</td>\n",
              "      <td>36</td>\n",
              "      <td>31</td>\n",
              "    </tr>\n",
              "    <tr>\n",
              "      <th>C</th>\n",
              "      <td>14</td>\n",
              "      <td>39</td>\n",
              "      <td>36</td>\n",
              "    </tr>\n",
              "  </tbody>\n",
              "</table>\n",
              "</div>"
            ],
            "text/plain": [
              "    C   D   E\n",
              "B  39  36  31\n",
              "C  14  39  36"
            ]
          },
          "metadata": {
            "tags": []
          },
          "execution_count": 108
        }
      ]
    },
    {
      "cell_type": "markdown",
      "metadata": {
        "id": "UFn7TRiqbFzL"
      },
      "source": [
        "**Passing Data to Functions**"
      ]
    },
    {
      "cell_type": "code",
      "metadata": {
        "id": "62bx6iRybJe0",
        "colab": {
          "base_uri": "https://localhost:8080/"
        },
        "outputId": "0ba83705-c7a9-4861-bfda-00d472d11d9c"
      },
      "source": [
        "#calculating computer sales profit using function\n",
        "\n",
        "def get_profit_total(df):\n",
        "  prof_ser = df['Profit']\n",
        "  print(f\"Total Profit : {prof_ser.sum()}\")\n",
        "\n",
        "get_profit_total(cs_df)"
      ],
      "execution_count": 109,
      "outputs": [
        {
          "output_type": "stream",
          "text": [
            "Total Profit : 5459.010000000001\n"
          ],
          "name": "stdout"
        }
      ]
    },
    {
      "cell_type": "code",
      "metadata": {
        "id": "bwjgUI6MdGTU",
        "colab": {
          "base_uri": "https://localhost:8080/",
          "height": 204
        },
        "outputId": "addd9f2b-f96e-453e-cd0d-c9a8574dcf34"
      },
      "source": [
        "#split first and last name in two columns\n",
        "\n",
        "def split_name(df):\n",
        "  def get_names(full_name):\n",
        "    f_name, l_name = full_name.split()\n",
        "    return pd.Series(\n",
        "    (f_name, l_name),\n",
        "    index =['First Name','Last Name'])\n",
        "    \n",
        "  names = df['Contact'].apply(get_names)\n",
        "  df[names.columns] = names\n",
        "  return df\n",
        "\n",
        "split_name(cs_df).head()"
      ],
      "execution_count": 110,
      "outputs": [
        {
          "output_type": "execute_result",
          "data": {
            "text/html": [
              "<div>\n",
              "<style scoped>\n",
              "    .dataframe tbody tr th:only-of-type {\n",
              "        vertical-align: middle;\n",
              "    }\n",
              "\n",
              "    .dataframe tbody tr th {\n",
              "        vertical-align: top;\n",
              "    }\n",
              "\n",
              "    .dataframe thead th {\n",
              "        text-align: right;\n",
              "    }\n",
              "</style>\n",
              "<table border=\"1\" class=\"dataframe\">\n",
              "  <thead>\n",
              "    <tr style=\"text-align: right;\">\n",
              "      <th></th>\n",
              "      <th>Sale ID</th>\n",
              "      <th>Contact</th>\n",
              "      <th>Sex</th>\n",
              "      <th>Age</th>\n",
              "      <th>State</th>\n",
              "      <th>Product ID</th>\n",
              "      <th>Product Type</th>\n",
              "      <th>Sale Price</th>\n",
              "      <th>Profit</th>\n",
              "      <th>Lead</th>\n",
              "      <th>Month</th>\n",
              "      <th>Year</th>\n",
              "      <th>First Name</th>\n",
              "      <th>Last Name</th>\n",
              "    </tr>\n",
              "  </thead>\n",
              "  <tbody>\n",
              "    <tr>\n",
              "      <th>0</th>\n",
              "      <td>1</td>\n",
              "      <td>Paul Thomas</td>\n",
              "      <td>M</td>\n",
              "      <td>43</td>\n",
              "      <td>OH</td>\n",
              "      <td>M01-F0024</td>\n",
              "      <td>Desktop</td>\n",
              "      <td>479.99</td>\n",
              "      <td>143.39</td>\n",
              "      <td>Website</td>\n",
              "      <td>January</td>\n",
              "      <td>2018</td>\n",
              "      <td>Paul</td>\n",
              "      <td>Thomas</td>\n",
              "    </tr>\n",
              "    <tr>\n",
              "      <th>1</th>\n",
              "      <td>2</td>\n",
              "      <td>Margo Simms</td>\n",
              "      <td>F</td>\n",
              "      <td>37</td>\n",
              "      <td>WV</td>\n",
              "      <td>GT13-0024</td>\n",
              "      <td>Desktop</td>\n",
              "      <td>1249.99</td>\n",
              "      <td>230.89</td>\n",
              "      <td>Flyer 4</td>\n",
              "      <td>January</td>\n",
              "      <td>2018</td>\n",
              "      <td>Margo</td>\n",
              "      <td>Simms</td>\n",
              "    </tr>\n",
              "    <tr>\n",
              "      <th>2</th>\n",
              "      <td>3</td>\n",
              "      <td>Sam Stine</td>\n",
              "      <td>M</td>\n",
              "      <td>26</td>\n",
              "      <td>PA</td>\n",
              "      <td>I3670</td>\n",
              "      <td>Desktop</td>\n",
              "      <td>649.99</td>\n",
              "      <td>118.64</td>\n",
              "      <td>Website</td>\n",
              "      <td>February</td>\n",
              "      <td>2018</td>\n",
              "      <td>Sam</td>\n",
              "      <td>Stine</td>\n",
              "    </tr>\n",
              "    <tr>\n",
              "      <th>3</th>\n",
              "      <td>4</td>\n",
              "      <td>Moe Eggert</td>\n",
              "      <td>M</td>\n",
              "      <td>35</td>\n",
              "      <td>PA</td>\n",
              "      <td>I3593</td>\n",
              "      <td>Laptop</td>\n",
              "      <td>399.99</td>\n",
              "      <td>72.09</td>\n",
              "      <td>Website</td>\n",
              "      <td>March</td>\n",
              "      <td>2018</td>\n",
              "      <td>Moe</td>\n",
              "      <td>Eggert</td>\n",
              "    </tr>\n",
              "    <tr>\n",
              "      <th>4</th>\n",
              "      <td>5</td>\n",
              "      <td>Jessica Elk</td>\n",
              "      <td>F</td>\n",
              "      <td>55</td>\n",
              "      <td>PA</td>\n",
              "      <td>15M-ED</td>\n",
              "      <td>Laptop</td>\n",
              "      <td>699.99</td>\n",
              "      <td>98.09</td>\n",
              "      <td>Flyer 4</td>\n",
              "      <td>March</td>\n",
              "      <td>2018</td>\n",
              "      <td>Jessica</td>\n",
              "      <td>Elk</td>\n",
              "    </tr>\n",
              "  </tbody>\n",
              "</table>\n",
              "</div>"
            ],
            "text/plain": [
              "   Sale ID      Contact Sex  Age  ...     Month  Year First Name  Last Name\n",
              "0        1  Paul Thomas   M   43  ...   January  2018       Paul     Thomas\n",
              "1        2  Margo Simms   F   37  ...   January  2018      Margo      Simms\n",
              "2        3    Sam Stine   M   26  ...  February  2018        Sam      Stine\n",
              "3        4   Moe Eggert   M   35  ...     March  2018        Moe     Eggert\n",
              "4        5  Jessica Elk   F   55  ...     March  2018    Jessica        Elk\n",
              "\n",
              "[5 rows x 14 columns]"
            ]
          },
          "metadata": {
            "tags": []
          },
          "execution_count": 110
        }
      ]
    },
    {
      "cell_type": "code",
      "metadata": {
        "id": "MyxJE-nVnD8s",
        "colab": {
          "base_uri": "https://localhost:8080/",
          "height": 204
        },
        "outputId": "7223b855-7cc5-46e5-cf4a-d08fb2e9b971"
      },
      "source": [
        "#assign people to different age group\n",
        "import sys\n",
        "\n",
        "def create_age_group(df):\n",
        "  bins = [0,30,50,sys.maxsize]\n",
        "  labels = ['<30', '30-50', '>50']\n",
        "  age_group = pd.cut(df['Age'], bins=bins, labels=labels)\n",
        "  df['Age Group'] = age_group\n",
        "  return df\n",
        "\n",
        "create_age_group(cs_df).head()"
      ],
      "execution_count": 111,
      "outputs": [
        {
          "output_type": "execute_result",
          "data": {
            "text/html": [
              "<div>\n",
              "<style scoped>\n",
              "    .dataframe tbody tr th:only-of-type {\n",
              "        vertical-align: middle;\n",
              "    }\n",
              "\n",
              "    .dataframe tbody tr th {\n",
              "        vertical-align: top;\n",
              "    }\n",
              "\n",
              "    .dataframe thead th {\n",
              "        text-align: right;\n",
              "    }\n",
              "</style>\n",
              "<table border=\"1\" class=\"dataframe\">\n",
              "  <thead>\n",
              "    <tr style=\"text-align: right;\">\n",
              "      <th></th>\n",
              "      <th>Sale ID</th>\n",
              "      <th>Contact</th>\n",
              "      <th>Sex</th>\n",
              "      <th>Age</th>\n",
              "      <th>State</th>\n",
              "      <th>Product ID</th>\n",
              "      <th>Product Type</th>\n",
              "      <th>Sale Price</th>\n",
              "      <th>Profit</th>\n",
              "      <th>Lead</th>\n",
              "      <th>Month</th>\n",
              "      <th>Year</th>\n",
              "      <th>First Name</th>\n",
              "      <th>Last Name</th>\n",
              "      <th>Age Group</th>\n",
              "    </tr>\n",
              "  </thead>\n",
              "  <tbody>\n",
              "    <tr>\n",
              "      <th>0</th>\n",
              "      <td>1</td>\n",
              "      <td>Paul Thomas</td>\n",
              "      <td>M</td>\n",
              "      <td>43</td>\n",
              "      <td>OH</td>\n",
              "      <td>M01-F0024</td>\n",
              "      <td>Desktop</td>\n",
              "      <td>479.99</td>\n",
              "      <td>143.39</td>\n",
              "      <td>Website</td>\n",
              "      <td>January</td>\n",
              "      <td>2018</td>\n",
              "      <td>Paul</td>\n",
              "      <td>Thomas</td>\n",
              "      <td>30-50</td>\n",
              "    </tr>\n",
              "    <tr>\n",
              "      <th>1</th>\n",
              "      <td>2</td>\n",
              "      <td>Margo Simms</td>\n",
              "      <td>F</td>\n",
              "      <td>37</td>\n",
              "      <td>WV</td>\n",
              "      <td>GT13-0024</td>\n",
              "      <td>Desktop</td>\n",
              "      <td>1249.99</td>\n",
              "      <td>230.89</td>\n",
              "      <td>Flyer 4</td>\n",
              "      <td>January</td>\n",
              "      <td>2018</td>\n",
              "      <td>Margo</td>\n",
              "      <td>Simms</td>\n",
              "      <td>30-50</td>\n",
              "    </tr>\n",
              "    <tr>\n",
              "      <th>2</th>\n",
              "      <td>3</td>\n",
              "      <td>Sam Stine</td>\n",
              "      <td>M</td>\n",
              "      <td>26</td>\n",
              "      <td>PA</td>\n",
              "      <td>I3670</td>\n",
              "      <td>Desktop</td>\n",
              "      <td>649.99</td>\n",
              "      <td>118.64</td>\n",
              "      <td>Website</td>\n",
              "      <td>February</td>\n",
              "      <td>2018</td>\n",
              "      <td>Sam</td>\n",
              "      <td>Stine</td>\n",
              "      <td>&lt;30</td>\n",
              "    </tr>\n",
              "    <tr>\n",
              "      <th>3</th>\n",
              "      <td>4</td>\n",
              "      <td>Moe Eggert</td>\n",
              "      <td>M</td>\n",
              "      <td>35</td>\n",
              "      <td>PA</td>\n",
              "      <td>I3593</td>\n",
              "      <td>Laptop</td>\n",
              "      <td>399.99</td>\n",
              "      <td>72.09</td>\n",
              "      <td>Website</td>\n",
              "      <td>March</td>\n",
              "      <td>2018</td>\n",
              "      <td>Moe</td>\n",
              "      <td>Eggert</td>\n",
              "      <td>30-50</td>\n",
              "    </tr>\n",
              "    <tr>\n",
              "      <th>4</th>\n",
              "      <td>5</td>\n",
              "      <td>Jessica Elk</td>\n",
              "      <td>F</td>\n",
              "      <td>55</td>\n",
              "      <td>PA</td>\n",
              "      <td>15M-ED</td>\n",
              "      <td>Laptop</td>\n",
              "      <td>699.99</td>\n",
              "      <td>98.09</td>\n",
              "      <td>Flyer 4</td>\n",
              "      <td>March</td>\n",
              "      <td>2018</td>\n",
              "      <td>Jessica</td>\n",
              "      <td>Elk</td>\n",
              "      <td>&gt;50</td>\n",
              "    </tr>\n",
              "  </tbody>\n",
              "</table>\n",
              "</div>"
            ],
            "text/plain": [
              "   Sale ID      Contact Sex  Age  ...  Year First Name Last Name  Age Group\n",
              "0        1  Paul Thomas   M   43  ...  2018       Paul    Thomas      30-50\n",
              "1        2  Margo Simms   F   37  ...  2018      Margo     Simms      30-50\n",
              "2        3    Sam Stine   M   26  ...  2018        Sam     Stine        <30\n",
              "3        4   Moe Eggert   M   35  ...  2018        Moe    Eggert      30-50\n",
              "4        5  Jessica Elk   F   55  ...  2018    Jessica       Elk        >50\n",
              "\n",
              "[5 rows x 15 columns]"
            ]
          },
          "metadata": {
            "tags": []
          },
          "execution_count": 111
        }
      ]
    },
    {
      "cell_type": "code",
      "metadata": {
        "id": "FuqORqn8px9R",
        "colab": {
          "base_uri": "https://localhost:8080/",
          "height": 204
        },
        "outputId": "b6bfe89f-bdb9-4211-ccf3-9087942d1f13"
      },
      "source": [
        "# we can all above functions simultaneously using pipe\n",
        "cs_df.pipe(split_name).pipe(create_age_group).head()"
      ],
      "execution_count": 112,
      "outputs": [
        {
          "output_type": "execute_result",
          "data": {
            "text/html": [
              "<div>\n",
              "<style scoped>\n",
              "    .dataframe tbody tr th:only-of-type {\n",
              "        vertical-align: middle;\n",
              "    }\n",
              "\n",
              "    .dataframe tbody tr th {\n",
              "        vertical-align: top;\n",
              "    }\n",
              "\n",
              "    .dataframe thead th {\n",
              "        text-align: right;\n",
              "    }\n",
              "</style>\n",
              "<table border=\"1\" class=\"dataframe\">\n",
              "  <thead>\n",
              "    <tr style=\"text-align: right;\">\n",
              "      <th></th>\n",
              "      <th>Sale ID</th>\n",
              "      <th>Contact</th>\n",
              "      <th>Sex</th>\n",
              "      <th>Age</th>\n",
              "      <th>State</th>\n",
              "      <th>Product ID</th>\n",
              "      <th>Product Type</th>\n",
              "      <th>Sale Price</th>\n",
              "      <th>Profit</th>\n",
              "      <th>Lead</th>\n",
              "      <th>Month</th>\n",
              "      <th>Year</th>\n",
              "      <th>First Name</th>\n",
              "      <th>Last Name</th>\n",
              "      <th>Age Group</th>\n",
              "    </tr>\n",
              "  </thead>\n",
              "  <tbody>\n",
              "    <tr>\n",
              "      <th>0</th>\n",
              "      <td>1</td>\n",
              "      <td>Paul Thomas</td>\n",
              "      <td>M</td>\n",
              "      <td>43</td>\n",
              "      <td>OH</td>\n",
              "      <td>M01-F0024</td>\n",
              "      <td>Desktop</td>\n",
              "      <td>479.99</td>\n",
              "      <td>143.39</td>\n",
              "      <td>Website</td>\n",
              "      <td>January</td>\n",
              "      <td>2018</td>\n",
              "      <td>Paul</td>\n",
              "      <td>Thomas</td>\n",
              "      <td>30-50</td>\n",
              "    </tr>\n",
              "    <tr>\n",
              "      <th>1</th>\n",
              "      <td>2</td>\n",
              "      <td>Margo Simms</td>\n",
              "      <td>F</td>\n",
              "      <td>37</td>\n",
              "      <td>WV</td>\n",
              "      <td>GT13-0024</td>\n",
              "      <td>Desktop</td>\n",
              "      <td>1249.99</td>\n",
              "      <td>230.89</td>\n",
              "      <td>Flyer 4</td>\n",
              "      <td>January</td>\n",
              "      <td>2018</td>\n",
              "      <td>Margo</td>\n",
              "      <td>Simms</td>\n",
              "      <td>30-50</td>\n",
              "    </tr>\n",
              "    <tr>\n",
              "      <th>2</th>\n",
              "      <td>3</td>\n",
              "      <td>Sam Stine</td>\n",
              "      <td>M</td>\n",
              "      <td>26</td>\n",
              "      <td>PA</td>\n",
              "      <td>I3670</td>\n",
              "      <td>Desktop</td>\n",
              "      <td>649.99</td>\n",
              "      <td>118.64</td>\n",
              "      <td>Website</td>\n",
              "      <td>February</td>\n",
              "      <td>2018</td>\n",
              "      <td>Sam</td>\n",
              "      <td>Stine</td>\n",
              "      <td>&lt;30</td>\n",
              "    </tr>\n",
              "    <tr>\n",
              "      <th>3</th>\n",
              "      <td>4</td>\n",
              "      <td>Moe Eggert</td>\n",
              "      <td>M</td>\n",
              "      <td>35</td>\n",
              "      <td>PA</td>\n",
              "      <td>I3593</td>\n",
              "      <td>Laptop</td>\n",
              "      <td>399.99</td>\n",
              "      <td>72.09</td>\n",
              "      <td>Website</td>\n",
              "      <td>March</td>\n",
              "      <td>2018</td>\n",
              "      <td>Moe</td>\n",
              "      <td>Eggert</td>\n",
              "      <td>30-50</td>\n",
              "    </tr>\n",
              "    <tr>\n",
              "      <th>4</th>\n",
              "      <td>5</td>\n",
              "      <td>Jessica Elk</td>\n",
              "      <td>F</td>\n",
              "      <td>55</td>\n",
              "      <td>PA</td>\n",
              "      <td>15M-ED</td>\n",
              "      <td>Laptop</td>\n",
              "      <td>699.99</td>\n",
              "      <td>98.09</td>\n",
              "      <td>Flyer 4</td>\n",
              "      <td>March</td>\n",
              "      <td>2018</td>\n",
              "      <td>Jessica</td>\n",
              "      <td>Elk</td>\n",
              "      <td>&gt;50</td>\n",
              "    </tr>\n",
              "  </tbody>\n",
              "</table>\n",
              "</div>"
            ],
            "text/plain": [
              "   Sale ID      Contact Sex  Age  ...  Year First Name Last Name  Age Group\n",
              "0        1  Paul Thomas   M   43  ...  2018       Paul    Thomas      30-50\n",
              "1        2  Margo Simms   F   37  ...  2018      Margo     Simms      30-50\n",
              "2        3    Sam Stine   M   26  ...  2018        Sam     Stine        <30\n",
              "3        4   Moe Eggert   M   35  ...  2018        Moe    Eggert      30-50\n",
              "4        5  Jessica Elk   F   55  ...  2018    Jessica       Elk        >50\n",
              "\n",
              "[5 rows x 15 columns]"
            ]
          },
          "metadata": {
            "tags": []
          },
          "execution_count": 112
        }
      ]
    },
    {
      "cell_type": "markdown",
      "metadata": {
        "id": "k-mQICetqkEC"
      },
      "source": [
        "**Aligning, Reindexing and Renaming Labels**"
      ]
    },
    {
      "cell_type": "code",
      "metadata": {
        "id": "3ThH5eIXqqwU",
        "colab": {
          "base_uri": "https://localhost:8080/"
        },
        "outputId": "ed57a162-54a8-4e6a-d46b-18dbfd287581"
      },
      "source": [
        "series_6 = pd.Series(range(5), index=['a','b','c','d','e'])\n",
        "print(\"series_6:\")\n",
        "print(series_6)\n",
        "sl_1 = series_6[:4]\n",
        "sl_2 = series_6[1:]\n",
        "\n",
        "print(\"\\nsl_1:\")\n",
        "print(sl_1)\n",
        "print(\"\\nsl_2:\")\n",
        "print(sl_2)"
      ],
      "execution_count": 113,
      "outputs": [
        {
          "output_type": "stream",
          "text": [
            "series_6:\n",
            "a    0\n",
            "b    1\n",
            "c    2\n",
            "d    3\n",
            "e    4\n",
            "dtype: int64\n",
            "\n",
            "sl_1:\n",
            "a    0\n",
            "b    1\n",
            "c    2\n",
            "d    3\n",
            "dtype: int64\n",
            "\n",
            "sl_2:\n",
            "b    1\n",
            "c    2\n",
            "d    3\n",
            "e    4\n",
            "dtype: int64\n"
          ],
          "name": "stdout"
        }
      ]
    },
    {
      "cell_type": "code",
      "metadata": {
        "id": "VQMDWlrvcUbO",
        "colab": {
          "base_uri": "https://localhost:8080/"
        },
        "outputId": "890702af-b777-4fc1-b933-c034c2c874a8"
      },
      "source": [
        "#align\n",
        "\n",
        "print(\"sl_1:\")\n",
        "print(sl_1)\n",
        "print(\"\\nsl_2:\")\n",
        "print(sl_2,\"\\n\")\n",
        "\n",
        "#new code\n",
        "sl_1.align(sl_2)"
      ],
      "execution_count": 114,
      "outputs": [
        {
          "output_type": "stream",
          "text": [
            "sl_1:\n",
            "a    0\n",
            "b    1\n",
            "c    2\n",
            "d    3\n",
            "dtype: int64\n",
            "\n",
            "sl_2:\n",
            "b    1\n",
            "c    2\n",
            "d    3\n",
            "e    4\n",
            "dtype: int64 \n",
            "\n"
          ],
          "name": "stdout"
        },
        {
          "output_type": "execute_result",
          "data": {
            "text/plain": [
              "(a    0.0\n",
              " b    1.0\n",
              " c    2.0\n",
              " d    3.0\n",
              " e    NaN\n",
              " dtype: float64, a    NaN\n",
              " b    1.0\n",
              " c    2.0\n",
              " d    3.0\n",
              " e    4.0\n",
              " dtype: float64)"
            ]
          },
          "metadata": {
            "tags": []
          },
          "execution_count": 114
        }
      ]
    },
    {
      "cell_type": "code",
      "metadata": {
        "id": "JdK9seondG2L",
        "colab": {
          "base_uri": "https://localhost:8080/"
        },
        "outputId": "0c8451cc-58ec-45e3-d118-9342421bfc82"
      },
      "source": [
        "#align left\n",
        "\n",
        "print(\"sl_1:\")\n",
        "print(sl_1)\n",
        "print(\"\\nsl_2:\")\n",
        "print(sl_2,\"\\n\")\n",
        "\n",
        "#new code\n",
        "sl_1.align(sl_2, join='left')"
      ],
      "execution_count": 115,
      "outputs": [
        {
          "output_type": "stream",
          "text": [
            "sl_1:\n",
            "a    0\n",
            "b    1\n",
            "c    2\n",
            "d    3\n",
            "dtype: int64\n",
            "\n",
            "sl_2:\n",
            "b    1\n",
            "c    2\n",
            "d    3\n",
            "e    4\n",
            "dtype: int64 \n",
            "\n"
          ],
          "name": "stdout"
        },
        {
          "output_type": "execute_result",
          "data": {
            "text/plain": [
              "(a    0\n",
              " b    1\n",
              " c    2\n",
              " d    3\n",
              " dtype: int64, a    NaN\n",
              " b    1.0\n",
              " c    2.0\n",
              " d    3.0\n",
              " dtype: float64)"
            ]
          },
          "metadata": {
            "tags": []
          },
          "execution_count": 115
        }
      ]
    },
    {
      "cell_type": "code",
      "metadata": {
        "id": "NBI_hWrHdZ8X",
        "colab": {
          "base_uri": "https://localhost:8080/"
        },
        "outputId": "7dff08a9-11ba-49d6-de11-d4bc05bdd2ea"
      },
      "source": [
        "#align right\n",
        "\n",
        "print(\"sl_1:\")\n",
        "print(sl_1)\n",
        "print(\"\\nsl_2:\")\n",
        "print(sl_2,\"\\n\")\n",
        "\n",
        "#new code\n",
        "sl_1.align(sl_2, join='right')"
      ],
      "execution_count": 116,
      "outputs": [
        {
          "output_type": "stream",
          "text": [
            "sl_1:\n",
            "a    0\n",
            "b    1\n",
            "c    2\n",
            "d    3\n",
            "dtype: int64\n",
            "\n",
            "sl_2:\n",
            "b    1\n",
            "c    2\n",
            "d    3\n",
            "e    4\n",
            "dtype: int64 \n",
            "\n"
          ],
          "name": "stdout"
        },
        {
          "output_type": "execute_result",
          "data": {
            "text/plain": [
              "(b    1.0\n",
              " c    2.0\n",
              " d    3.0\n",
              " e    NaN\n",
              " dtype: float64, b    1\n",
              " c    2\n",
              " d    3\n",
              " e    4\n",
              " dtype: int64)"
            ]
          },
          "metadata": {
            "tags": []
          },
          "execution_count": 116
        }
      ]
    },
    {
      "cell_type": "code",
      "metadata": {
        "id": "lFtHbEOidqLN",
        "colab": {
          "base_uri": "https://localhost:8080/"
        },
        "outputId": "0d988136-3224-4df0-efad-18e23db7e7d1"
      },
      "source": [
        "#align inner\n",
        "\n",
        "print(\"sl_1:\")\n",
        "print(sl_1)\n",
        "print(\"\\nsl_2:\")\n",
        "print(sl_2,\"\\n\")\n",
        "\n",
        "#new code\n",
        "sl_1.align(sl_2, join='inner')"
      ],
      "execution_count": 117,
      "outputs": [
        {
          "output_type": "stream",
          "text": [
            "sl_1:\n",
            "a    0\n",
            "b    1\n",
            "c    2\n",
            "d    3\n",
            "dtype: int64\n",
            "\n",
            "sl_2:\n",
            "b    1\n",
            "c    2\n",
            "d    3\n",
            "e    4\n",
            "dtype: int64 \n",
            "\n"
          ],
          "name": "stdout"
        },
        {
          "output_type": "execute_result",
          "data": {
            "text/plain": [
              "(b    1\n",
              " c    2\n",
              " d    3\n",
              " dtype: int64, b    1\n",
              " c    2\n",
              " d    3\n",
              " dtype: int64)"
            ]
          },
          "metadata": {
            "tags": []
          },
          "execution_count": 117
        }
      ]
    },
    {
      "cell_type": "code",
      "metadata": {
        "id": "mf3aBZood29i",
        "colab": {
          "base_uri": "https://localhost:8080/"
        },
        "outputId": "975b9a8c-eb03-4cdf-f977-9ca02f23c69d"
      },
      "source": [
        "#align dataframe\n",
        "\n",
        "array_3 = np.random.randint(10, 50, size=(2, 3))\n",
        "df_6 = pd.DataFrame(array_3, ['A', 'B'], ['C', 'D', 'E'])\n",
        "print(\"df_6:\")\n",
        "print(df_6)\n",
        "\n",
        "array_3 = np.random.randint(10, 50, size=(2, 3))\n",
        "df_7 = pd.DataFrame(array_3, ['B', 'C'], ['C', 'D', 'E'])\n",
        "print(\"\\ndf_7:\")\n",
        "print(df_7,\"\\n\")\n",
        "\n",
        "df_6.align(df_7)"
      ],
      "execution_count": 118,
      "outputs": [
        {
          "output_type": "stream",
          "text": [
            "df_6:\n",
            "    C   D   E\n",
            "A  27  19  49\n",
            "B  42  22  42\n",
            "\n",
            "df_7:\n",
            "    C   D   E\n",
            "B  25  23  12\n",
            "C  36  12  12 \n",
            "\n"
          ],
          "name": "stdout"
        },
        {
          "output_type": "execute_result",
          "data": {
            "text/plain": [
              "(      C     D     E\n",
              " A  27.0  19.0  49.0\n",
              " B  42.0  22.0  42.0\n",
              " C   NaN   NaN   NaN,       C     D     E\n",
              " A   NaN   NaN   NaN\n",
              " B  25.0  23.0  12.0\n",
              " C  36.0  12.0  12.0)"
            ]
          },
          "metadata": {
            "tags": []
          },
          "execution_count": 118
        }
      ]
    },
    {
      "cell_type": "code",
      "metadata": {
        "colab": {
          "base_uri": "https://localhost:8080/"
        },
        "id": "gmXlZm0lesss",
        "outputId": "181b3d39-6a68-4e77-e794-bebadfefc0f8"
      },
      "source": [
        "#reindex series\n",
        "\n",
        "print(\"series_6:\")\n",
        "print(series_6)\n",
        "\n",
        "#new code\n",
        "series_6.reindex(['c','b','a'])"
      ],
      "execution_count": 119,
      "outputs": [
        {
          "output_type": "stream",
          "text": [
            "series_6:\n",
            "a    0\n",
            "b    1\n",
            "c    2\n",
            "d    3\n",
            "e    4\n",
            "dtype: int64\n"
          ],
          "name": "stdout"
        },
        {
          "output_type": "execute_result",
          "data": {
            "text/plain": [
              "c    2\n",
              "b    1\n",
              "a    0\n",
              "dtype: int64"
            ]
          },
          "metadata": {
            "tags": []
          },
          "execution_count": 119
        }
      ]
    },
    {
      "cell_type": "code",
      "metadata": {
        "colab": {
          "base_uri": "https://localhost:8080/",
          "height": 179
        },
        "id": "536Qr4rRfHq2",
        "outputId": "fc334192-890a-4416-9357-d68e43a89664"
      },
      "source": [
        "#reindex dataframe\n",
        "\n",
        "print(\"df_6:\")\n",
        "print(df_6)\n",
        "\n",
        "#new code\n",
        "df_6.reindex(['B','A'])"
      ],
      "execution_count": 120,
      "outputs": [
        {
          "output_type": "stream",
          "text": [
            "df_6:\n",
            "    C   D   E\n",
            "A  27  19  49\n",
            "B  42  22  42\n"
          ],
          "name": "stdout"
        },
        {
          "output_type": "execute_result",
          "data": {
            "text/html": [
              "<div>\n",
              "<style scoped>\n",
              "    .dataframe tbody tr th:only-of-type {\n",
              "        vertical-align: middle;\n",
              "    }\n",
              "\n",
              "    .dataframe tbody tr th {\n",
              "        vertical-align: top;\n",
              "    }\n",
              "\n",
              "    .dataframe thead th {\n",
              "        text-align: right;\n",
              "    }\n",
              "</style>\n",
              "<table border=\"1\" class=\"dataframe\">\n",
              "  <thead>\n",
              "    <tr style=\"text-align: right;\">\n",
              "      <th></th>\n",
              "      <th>C</th>\n",
              "      <th>D</th>\n",
              "      <th>E</th>\n",
              "    </tr>\n",
              "  </thead>\n",
              "  <tbody>\n",
              "    <tr>\n",
              "      <th>B</th>\n",
              "      <td>42</td>\n",
              "      <td>22</td>\n",
              "      <td>42</td>\n",
              "    </tr>\n",
              "    <tr>\n",
              "      <th>A</th>\n",
              "      <td>27</td>\n",
              "      <td>19</td>\n",
              "      <td>49</td>\n",
              "    </tr>\n",
              "  </tbody>\n",
              "</table>\n",
              "</div>"
            ],
            "text/plain": [
              "    C   D   E\n",
              "B  42  22  42\n",
              "A  27  19  49"
            ]
          },
          "metadata": {
            "tags": []
          },
          "execution_count": 120
        }
      ]
    },
    {
      "cell_type": "code",
      "metadata": {
        "colab": {
          "base_uri": "https://localhost:8080/",
          "height": 148
        },
        "id": "tEAlgXIdfel7",
        "outputId": "f317d117-66f3-4895-fc66-371a5f51988b"
      },
      "source": [
        "#drop a row\n",
        "\n",
        "print(\"df_6:\")\n",
        "print(df_6)\n",
        "\n",
        "#new code\n",
        "df_6.drop(['A'], axis=0)"
      ],
      "execution_count": 121,
      "outputs": [
        {
          "output_type": "stream",
          "text": [
            "df_6:\n",
            "    C   D   E\n",
            "A  27  19  49\n",
            "B  42  22  42\n"
          ],
          "name": "stdout"
        },
        {
          "output_type": "execute_result",
          "data": {
            "text/html": [
              "<div>\n",
              "<style scoped>\n",
              "    .dataframe tbody tr th:only-of-type {\n",
              "        vertical-align: middle;\n",
              "    }\n",
              "\n",
              "    .dataframe tbody tr th {\n",
              "        vertical-align: top;\n",
              "    }\n",
              "\n",
              "    .dataframe thead th {\n",
              "        text-align: right;\n",
              "    }\n",
              "</style>\n",
              "<table border=\"1\" class=\"dataframe\">\n",
              "  <thead>\n",
              "    <tr style=\"text-align: right;\">\n",
              "      <th></th>\n",
              "      <th>C</th>\n",
              "      <th>D</th>\n",
              "      <th>E</th>\n",
              "    </tr>\n",
              "  </thead>\n",
              "  <tbody>\n",
              "    <tr>\n",
              "      <th>B</th>\n",
              "      <td>42</td>\n",
              "      <td>22</td>\n",
              "      <td>42</td>\n",
              "    </tr>\n",
              "  </tbody>\n",
              "</table>\n",
              "</div>"
            ],
            "text/plain": [
              "    C   D   E\n",
              "B  42  22  42"
            ]
          },
          "metadata": {
            "tags": []
          },
          "execution_count": 121
        }
      ]
    },
    {
      "cell_type": "code",
      "metadata": {
        "colab": {
          "base_uri": "https://localhost:8080/",
          "height": 179
        },
        "id": "YtKF2NEnf3iM",
        "outputId": "17ac50a8-4e1c-4669-c02c-e3b241a5fb6c"
      },
      "source": [
        "#drop a column\n",
        "\n",
        "print(\"df_6:\")\n",
        "print(df_6)\n",
        "\n",
        "#new code\n",
        "df_6.drop(['C'], axis=1)"
      ],
      "execution_count": 122,
      "outputs": [
        {
          "output_type": "stream",
          "text": [
            "df_6:\n",
            "    C   D   E\n",
            "A  27  19  49\n",
            "B  42  22  42\n"
          ],
          "name": "stdout"
        },
        {
          "output_type": "execute_result",
          "data": {
            "text/html": [
              "<div>\n",
              "<style scoped>\n",
              "    .dataframe tbody tr th:only-of-type {\n",
              "        vertical-align: middle;\n",
              "    }\n",
              "\n",
              "    .dataframe tbody tr th {\n",
              "        vertical-align: top;\n",
              "    }\n",
              "\n",
              "    .dataframe thead th {\n",
              "        text-align: right;\n",
              "    }\n",
              "</style>\n",
              "<table border=\"1\" class=\"dataframe\">\n",
              "  <thead>\n",
              "    <tr style=\"text-align: right;\">\n",
              "      <th></th>\n",
              "      <th>D</th>\n",
              "      <th>E</th>\n",
              "    </tr>\n",
              "  </thead>\n",
              "  <tbody>\n",
              "    <tr>\n",
              "      <th>A</th>\n",
              "      <td>19</td>\n",
              "      <td>49</td>\n",
              "    </tr>\n",
              "    <tr>\n",
              "      <th>B</th>\n",
              "      <td>22</td>\n",
              "      <td>42</td>\n",
              "    </tr>\n",
              "  </tbody>\n",
              "</table>\n",
              "</div>"
            ],
            "text/plain": [
              "    D   E\n",
              "A  19  49\n",
              "B  22  42"
            ]
          },
          "metadata": {
            "tags": []
          },
          "execution_count": 122
        }
      ]
    },
    {
      "cell_type": "code",
      "metadata": {
        "colab": {
          "base_uri": "https://localhost:8080/",
          "height": 179
        },
        "id": "5Tys2LgRgAYj",
        "outputId": "7787cfd2-d4e0-4e22-9fbe-d67c599bed3f"
      },
      "source": [
        "#rename labels\n",
        "\n",
        "print(\"df_6:\")\n",
        "print(df_6)\n",
        "\n",
        "#new code\n",
        "df_6.rename(columns={'C':'Men', 'D':'Women', 'E':'Pets'})"
      ],
      "execution_count": 123,
      "outputs": [
        {
          "output_type": "stream",
          "text": [
            "df_6:\n",
            "    C   D   E\n",
            "A  27  19  49\n",
            "B  42  22  42\n"
          ],
          "name": "stdout"
        },
        {
          "output_type": "execute_result",
          "data": {
            "text/html": [
              "<div>\n",
              "<style scoped>\n",
              "    .dataframe tbody tr th:only-of-type {\n",
              "        vertical-align: middle;\n",
              "    }\n",
              "\n",
              "    .dataframe tbody tr th {\n",
              "        vertical-align: top;\n",
              "    }\n",
              "\n",
              "    .dataframe thead th {\n",
              "        text-align: right;\n",
              "    }\n",
              "</style>\n",
              "<table border=\"1\" class=\"dataframe\">\n",
              "  <thead>\n",
              "    <tr style=\"text-align: right;\">\n",
              "      <th></th>\n",
              "      <th>Men</th>\n",
              "      <th>Women</th>\n",
              "      <th>Pets</th>\n",
              "    </tr>\n",
              "  </thead>\n",
              "  <tbody>\n",
              "    <tr>\n",
              "      <th>A</th>\n",
              "      <td>27</td>\n",
              "      <td>19</td>\n",
              "      <td>49</td>\n",
              "    </tr>\n",
              "    <tr>\n",
              "      <th>B</th>\n",
              "      <td>42</td>\n",
              "      <td>22</td>\n",
              "      <td>42</td>\n",
              "    </tr>\n",
              "  </tbody>\n",
              "</table>\n",
              "</div>"
            ],
            "text/plain": [
              "   Men  Women  Pets\n",
              "A   27     19    49\n",
              "B   42     22    42"
            ]
          },
          "metadata": {
            "tags": []
          },
          "execution_count": 123
        }
      ]
    },
    {
      "cell_type": "markdown",
      "metadata": {
        "id": "JCi34j8agaeS"
      },
      "source": [
        "**MultiIndex**"
      ]
    },
    {
      "cell_type": "code",
      "metadata": {
        "colab": {
          "base_uri": "https://localhost:8080/"
        },
        "id": "L4gihZz8gegX",
        "outputId": "b585dcd6-4778-48fd-d0ba-e44b190bc0f1"
      },
      "source": [
        "import random\n",
        "\n",
        "days = ['Day 1','Day 1','Day 1','Day 2','Day 2','Day 2']\n",
        "meals = [1,2,3,1,2,3]\n",
        "hier_index = list(zip(days,meals))\n",
        "# zip will pair our days with the meals\n",
        "# print(hier_index)\n",
        "\n",
        "hier_index = pd.MultiIndex.from_tuples(hier_index)\n",
        "array_5 = np.random.randint(500,700, size=(6,2))\n",
        "df_9 = pd.DataFrame(array_5, hier_index, ['M','F'])\n",
        "print(df_9)"
      ],
      "execution_count": 124,
      "outputs": [
        {
          "output_type": "stream",
          "text": [
            "           M    F\n",
            "Day 1 1  600  589\n",
            "      2  582  685\n",
            "      3  536  596\n",
            "Day 2 1  690  588\n",
            "      2  585  520\n",
            "      3  646  591\n"
          ],
          "name": "stdout"
        }
      ]
    },
    {
      "cell_type": "code",
      "metadata": {
        "colab": {
          "base_uri": "https://localhost:8080/",
          "height": 312
        },
        "id": "2YEeZL6miomb",
        "outputId": "dc18b726-87d5-4964-bd6b-f4d2e93deac9"
      },
      "source": [
        "#extracting data for day 1\n",
        "\n",
        "print(\"df_9:\")\n",
        "print(df_9)\n",
        "\n",
        "#new code\n",
        "print(\"\\nFor Day 1:\")\n",
        "df_9.loc['Day 1']"
      ],
      "execution_count": 125,
      "outputs": [
        {
          "output_type": "stream",
          "text": [
            "df_9:\n",
            "           M    F\n",
            "Day 1 1  600  589\n",
            "      2  582  685\n",
            "      3  536  596\n",
            "Day 2 1  690  588\n",
            "      2  585  520\n",
            "      3  646  591\n",
            "\n",
            "For Day 1:\n"
          ],
          "name": "stdout"
        },
        {
          "output_type": "execute_result",
          "data": {
            "text/html": [
              "<div>\n",
              "<style scoped>\n",
              "    .dataframe tbody tr th:only-of-type {\n",
              "        vertical-align: middle;\n",
              "    }\n",
              "\n",
              "    .dataframe tbody tr th {\n",
              "        vertical-align: top;\n",
              "    }\n",
              "\n",
              "    .dataframe thead th {\n",
              "        text-align: right;\n",
              "    }\n",
              "</style>\n",
              "<table border=\"1\" class=\"dataframe\">\n",
              "  <thead>\n",
              "    <tr style=\"text-align: right;\">\n",
              "      <th></th>\n",
              "      <th>M</th>\n",
              "      <th>F</th>\n",
              "    </tr>\n",
              "  </thead>\n",
              "  <tbody>\n",
              "    <tr>\n",
              "      <th>1</th>\n",
              "      <td>600</td>\n",
              "      <td>589</td>\n",
              "    </tr>\n",
              "    <tr>\n",
              "      <th>2</th>\n",
              "      <td>582</td>\n",
              "      <td>685</td>\n",
              "    </tr>\n",
              "    <tr>\n",
              "      <th>3</th>\n",
              "      <td>536</td>\n",
              "      <td>596</td>\n",
              "    </tr>\n",
              "  </tbody>\n",
              "</table>\n",
              "</div>"
            ],
            "text/plain": [
              "     M    F\n",
              "1  600  589\n",
              "2  582  685\n",
              "3  536  596"
            ]
          },
          "metadata": {
            "tags": []
          },
          "execution_count": 125
        }
      ]
    },
    {
      "cell_type": "code",
      "metadata": {
        "colab": {
          "base_uri": "https://localhost:8080/"
        },
        "id": "NzDAzqMMi1n_",
        "outputId": "f2454100-6243-4474-8da6-ea53e70e7298"
      },
      "source": [
        "#extracting data for day 1, meal 1\n",
        "\n",
        "print(\"df_9:\")\n",
        "print(df_9)\n",
        "\n",
        "#new code\n",
        "print(\"\\nFor Day 1 & Meal 1:\")\n",
        "df_9.loc['Day 1'].loc[1]"
      ],
      "execution_count": 126,
      "outputs": [
        {
          "output_type": "stream",
          "text": [
            "df_9:\n",
            "           M    F\n",
            "Day 1 1  600  589\n",
            "      2  582  685\n",
            "      3  536  596\n",
            "Day 2 1  690  588\n",
            "      2  585  520\n",
            "      3  646  591\n",
            "\n",
            "For Day 1 & Meal 1:\n"
          ],
          "name": "stdout"
        },
        {
          "output_type": "execute_result",
          "data": {
            "text/plain": [
              "M    600\n",
              "F    589\n",
              "Name: 1, dtype: int64"
            ]
          },
          "metadata": {
            "tags": []
          },
          "execution_count": 126
        }
      ]
    },
    {
      "cell_type": "code",
      "metadata": {
        "colab": {
          "base_uri": "https://localhost:8080/"
        },
        "id": "HuK_EDbbjBAL",
        "outputId": "9d9f9135-4eb5-4507-fc34-2c4da121745c"
      },
      "source": [
        "#extracting data for calorise eaten by female for day 2, meal 2\n",
        "\n",
        "print(\"df_9:\")\n",
        "print(df_9)\n",
        "\n",
        "#new code\n",
        "print(\"\\nCalorise eaten by female for day 2, meal 2:\")\n",
        "df_9['F'].loc['Day 2'].loc[2]"
      ],
      "execution_count": 127,
      "outputs": [
        {
          "output_type": "stream",
          "text": [
            "df_9:\n",
            "           M    F\n",
            "Day 1 1  600  589\n",
            "      2  582  685\n",
            "      3  536  596\n",
            "Day 2 1  690  588\n",
            "      2  585  520\n",
            "      3  646  591\n",
            "\n",
            "Calorise eaten by female for day 2, meal 2:\n"
          ],
          "name": "stdout"
        },
        {
          "output_type": "execute_result",
          "data": {
            "text/plain": [
              "520"
            ]
          },
          "metadata": {
            "tags": []
          },
          "execution_count": 127
        }
      ]
    },
    {
      "cell_type": "code",
      "metadata": {
        "colab": {
          "base_uri": "https://localhost:8080/",
          "height": 402
        },
        "id": "m5hhvwUCjVI2",
        "outputId": "96b24584-51f6-4e01-8776-dfa57937523c"
      },
      "source": [
        "# add column name day and meal\n",
        "\n",
        "print(\"df_9:\")\n",
        "print(df_9)\n",
        "\n",
        "#new code\n",
        "df_9.index.names = ['Day', 'Meal']\n",
        "df_9"
      ],
      "execution_count": 128,
      "outputs": [
        {
          "output_type": "stream",
          "text": [
            "df_9:\n",
            "           M    F\n",
            "Day 1 1  600  589\n",
            "      2  582  685\n",
            "      3  536  596\n",
            "Day 2 1  690  588\n",
            "      2  585  520\n",
            "      3  646  591\n"
          ],
          "name": "stdout"
        },
        {
          "output_type": "execute_result",
          "data": {
            "text/html": [
              "<div>\n",
              "<style scoped>\n",
              "    .dataframe tbody tr th:only-of-type {\n",
              "        vertical-align: middle;\n",
              "    }\n",
              "\n",
              "    .dataframe tbody tr th {\n",
              "        vertical-align: top;\n",
              "    }\n",
              "\n",
              "    .dataframe thead th {\n",
              "        text-align: right;\n",
              "    }\n",
              "</style>\n",
              "<table border=\"1\" class=\"dataframe\">\n",
              "  <thead>\n",
              "    <tr style=\"text-align: right;\">\n",
              "      <th></th>\n",
              "      <th></th>\n",
              "      <th>M</th>\n",
              "      <th>F</th>\n",
              "    </tr>\n",
              "    <tr>\n",
              "      <th>Day</th>\n",
              "      <th>Meal</th>\n",
              "      <th></th>\n",
              "      <th></th>\n",
              "    </tr>\n",
              "  </thead>\n",
              "  <tbody>\n",
              "    <tr>\n",
              "      <th rowspan=\"3\" valign=\"top\">Day 1</th>\n",
              "      <th>1</th>\n",
              "      <td>600</td>\n",
              "      <td>589</td>\n",
              "    </tr>\n",
              "    <tr>\n",
              "      <th>2</th>\n",
              "      <td>582</td>\n",
              "      <td>685</td>\n",
              "    </tr>\n",
              "    <tr>\n",
              "      <th>3</th>\n",
              "      <td>536</td>\n",
              "      <td>596</td>\n",
              "    </tr>\n",
              "    <tr>\n",
              "      <th rowspan=\"3\" valign=\"top\">Day 2</th>\n",
              "      <th>1</th>\n",
              "      <td>690</td>\n",
              "      <td>588</td>\n",
              "    </tr>\n",
              "    <tr>\n",
              "      <th>2</th>\n",
              "      <td>585</td>\n",
              "      <td>520</td>\n",
              "    </tr>\n",
              "    <tr>\n",
              "      <th>3</th>\n",
              "      <td>646</td>\n",
              "      <td>591</td>\n",
              "    </tr>\n",
              "  </tbody>\n",
              "</table>\n",
              "</div>"
            ],
            "text/plain": [
              "              M    F\n",
              "Day   Meal          \n",
              "Day 1 1     600  589\n",
              "      2     582  685\n",
              "      3     536  596\n",
              "Day 2 1     690  588\n",
              "      2     585  520\n",
              "      3     646  591"
            ]
          },
          "metadata": {
            "tags": []
          },
          "execution_count": 128
        }
      ]
    },
    {
      "cell_type": "code",
      "metadata": {
        "colab": {
          "base_uri": "https://localhost:8080/",
          "height": 326
        },
        "id": "064hrrsRkcyX",
        "outputId": "5323f2a5-ab8d-47ae-faca-f5994ac20817"
      },
      "source": [
        "#cross section\n",
        "#extracting day 2\n",
        "\n",
        "print(\"df_9:\")\n",
        "print(df_9)\n",
        "\n",
        "#new code\n",
        "df_9.xs('Day 2')"
      ],
      "execution_count": 129,
      "outputs": [
        {
          "output_type": "stream",
          "text": [
            "df_9:\n",
            "              M    F\n",
            "Day   Meal          \n",
            "Day 1 1     600  589\n",
            "      2     582  685\n",
            "      3     536  596\n",
            "Day 2 1     690  588\n",
            "      2     585  520\n",
            "      3     646  591\n"
          ],
          "name": "stdout"
        },
        {
          "output_type": "execute_result",
          "data": {
            "text/html": [
              "<div>\n",
              "<style scoped>\n",
              "    .dataframe tbody tr th:only-of-type {\n",
              "        vertical-align: middle;\n",
              "    }\n",
              "\n",
              "    .dataframe tbody tr th {\n",
              "        vertical-align: top;\n",
              "    }\n",
              "\n",
              "    .dataframe thead th {\n",
              "        text-align: right;\n",
              "    }\n",
              "</style>\n",
              "<table border=\"1\" class=\"dataframe\">\n",
              "  <thead>\n",
              "    <tr style=\"text-align: right;\">\n",
              "      <th></th>\n",
              "      <th>M</th>\n",
              "      <th>F</th>\n",
              "    </tr>\n",
              "    <tr>\n",
              "      <th>Meal</th>\n",
              "      <th></th>\n",
              "      <th></th>\n",
              "    </tr>\n",
              "  </thead>\n",
              "  <tbody>\n",
              "    <tr>\n",
              "      <th>1</th>\n",
              "      <td>690</td>\n",
              "      <td>588</td>\n",
              "    </tr>\n",
              "    <tr>\n",
              "      <th>2</th>\n",
              "      <td>585</td>\n",
              "      <td>520</td>\n",
              "    </tr>\n",
              "    <tr>\n",
              "      <th>3</th>\n",
              "      <td>646</td>\n",
              "      <td>591</td>\n",
              "    </tr>\n",
              "  </tbody>\n",
              "</table>\n",
              "</div>"
            ],
            "text/plain": [
              "        M    F\n",
              "Meal          \n",
              "1     690  588\n",
              "2     585  520\n",
              "3     646  591"
            ]
          },
          "metadata": {
            "tags": []
          },
          "execution_count": 129
        }
      ]
    },
    {
      "cell_type": "code",
      "metadata": {
        "colab": {
          "base_uri": "https://localhost:8080/",
          "height": 295
        },
        "id": "LCFqi3Mwk27j",
        "outputId": "661e1a70-9213-46be-aaab-6e19899446f3"
      },
      "source": [
        "#cross section\n",
        "#extracting meal 1 for both days\n",
        "\n",
        "print(\"df_9:\")\n",
        "print(df_9)\n",
        "\n",
        "#new code\n",
        "df_9.xs(1, level='Meal')"
      ],
      "execution_count": 130,
      "outputs": [
        {
          "output_type": "stream",
          "text": [
            "df_9:\n",
            "              M    F\n",
            "Day   Meal          \n",
            "Day 1 1     600  589\n",
            "      2     582  685\n",
            "      3     536  596\n",
            "Day 2 1     690  588\n",
            "      2     585  520\n",
            "      3     646  591\n"
          ],
          "name": "stdout"
        },
        {
          "output_type": "execute_result",
          "data": {
            "text/html": [
              "<div>\n",
              "<style scoped>\n",
              "    .dataframe tbody tr th:only-of-type {\n",
              "        vertical-align: middle;\n",
              "    }\n",
              "\n",
              "    .dataframe tbody tr th {\n",
              "        vertical-align: top;\n",
              "    }\n",
              "\n",
              "    .dataframe thead th {\n",
              "        text-align: right;\n",
              "    }\n",
              "</style>\n",
              "<table border=\"1\" class=\"dataframe\">\n",
              "  <thead>\n",
              "    <tr style=\"text-align: right;\">\n",
              "      <th></th>\n",
              "      <th>M</th>\n",
              "      <th>F</th>\n",
              "    </tr>\n",
              "    <tr>\n",
              "      <th>Day</th>\n",
              "      <th></th>\n",
              "      <th></th>\n",
              "    </tr>\n",
              "  </thead>\n",
              "  <tbody>\n",
              "    <tr>\n",
              "      <th>Day 1</th>\n",
              "      <td>600</td>\n",
              "      <td>589</td>\n",
              "    </tr>\n",
              "    <tr>\n",
              "      <th>Day 2</th>\n",
              "      <td>690</td>\n",
              "      <td>588</td>\n",
              "    </tr>\n",
              "  </tbody>\n",
              "</table>\n",
              "</div>"
            ],
            "text/plain": [
              "         M    F\n",
              "Day            \n",
              "Day 1  600  589\n",
              "Day 2  690  588"
            ]
          },
          "metadata": {
            "tags": []
          },
          "execution_count": 130
        }
      ]
    },
    {
      "cell_type": "code",
      "metadata": {
        "colab": {
          "base_uri": "https://localhost:8080/",
          "height": 266
        },
        "id": "8iggaHNElaNQ",
        "outputId": "ae2ba6bb-9185-4caa-f862-de48a930e112"
      },
      "source": [
        "#pivot table\n",
        "dict_6 = {'A':['Day 1', 'Day 1', 'Day 1', 'Day 2', 'Day 2', 'Day 2'],\n",
        "         'B': [1,2,3,1,2,3],\n",
        "         'C': ['M', 'F', 'M', 'F', 'M', 'F'],\n",
        "         'D': [1,2,3,4,5,6]}\n",
        "df_14 = pd.DataFrame(dict_6)\n",
        "\n",
        "df_14.pivot_table(values='D', index=['A','B'], columns=['C'])\n"
      ],
      "execution_count": 131,
      "outputs": [
        {
          "output_type": "execute_result",
          "data": {
            "text/html": [
              "<div>\n",
              "<style scoped>\n",
              "    .dataframe tbody tr th:only-of-type {\n",
              "        vertical-align: middle;\n",
              "    }\n",
              "\n",
              "    .dataframe tbody tr th {\n",
              "        vertical-align: top;\n",
              "    }\n",
              "\n",
              "    .dataframe thead th {\n",
              "        text-align: right;\n",
              "    }\n",
              "</style>\n",
              "<table border=\"1\" class=\"dataframe\">\n",
              "  <thead>\n",
              "    <tr style=\"text-align: right;\">\n",
              "      <th></th>\n",
              "      <th>C</th>\n",
              "      <th>F</th>\n",
              "      <th>M</th>\n",
              "    </tr>\n",
              "    <tr>\n",
              "      <th>A</th>\n",
              "      <th>B</th>\n",
              "      <th></th>\n",
              "      <th></th>\n",
              "    </tr>\n",
              "  </thead>\n",
              "  <tbody>\n",
              "    <tr>\n",
              "      <th rowspan=\"3\" valign=\"top\">Day 1</th>\n",
              "      <th>1</th>\n",
              "      <td>NaN</td>\n",
              "      <td>1.0</td>\n",
              "    </tr>\n",
              "    <tr>\n",
              "      <th>2</th>\n",
              "      <td>2.0</td>\n",
              "      <td>NaN</td>\n",
              "    </tr>\n",
              "    <tr>\n",
              "      <th>3</th>\n",
              "      <td>NaN</td>\n",
              "      <td>3.0</td>\n",
              "    </tr>\n",
              "    <tr>\n",
              "      <th rowspan=\"3\" valign=\"top\">Day 2</th>\n",
              "      <th>1</th>\n",
              "      <td>4.0</td>\n",
              "      <td>NaN</td>\n",
              "    </tr>\n",
              "    <tr>\n",
              "      <th>2</th>\n",
              "      <td>NaN</td>\n",
              "      <td>5.0</td>\n",
              "    </tr>\n",
              "    <tr>\n",
              "      <th>3</th>\n",
              "      <td>6.0</td>\n",
              "      <td>NaN</td>\n",
              "    </tr>\n",
              "  </tbody>\n",
              "</table>\n",
              "</div>"
            ],
            "text/plain": [
              "C          F    M\n",
              "A     B          \n",
              "Day 1 1  NaN  1.0\n",
              "      2  2.0  NaN\n",
              "      3  NaN  3.0\n",
              "Day 2 1  4.0  NaN\n",
              "      2  NaN  5.0\n",
              "      3  6.0  NaN"
            ]
          },
          "metadata": {
            "tags": []
          },
          "execution_count": 131
        }
      ]
    },
    {
      "cell_type": "markdown",
      "metadata": {
        "id": "RN0VsLqCmEjd"
      },
      "source": [
        "**Handling Missing Data** "
      ]
    },
    {
      "cell_type": "code",
      "metadata": {
        "colab": {
          "base_uri": "https://localhost:8080/",
          "height": 142
        },
        "id": "VL0RsH79mD6q",
        "outputId": "7dd027f1-c89e-41ad-8bbe-17684d0b9e9b"
      },
      "source": [
        "dict_4 = {'A':[1.,2.,np.nan], 'B':[4,np.nan,np.nan], 'C':[7.,8.,9.]}\n",
        "df_10 = pd.DataFrame(dict_4)\n",
        "df_10"
      ],
      "execution_count": 132,
      "outputs": [
        {
          "output_type": "execute_result",
          "data": {
            "text/html": [
              "<div>\n",
              "<style scoped>\n",
              "    .dataframe tbody tr th:only-of-type {\n",
              "        vertical-align: middle;\n",
              "    }\n",
              "\n",
              "    .dataframe tbody tr th {\n",
              "        vertical-align: top;\n",
              "    }\n",
              "\n",
              "    .dataframe thead th {\n",
              "        text-align: right;\n",
              "    }\n",
              "</style>\n",
              "<table border=\"1\" class=\"dataframe\">\n",
              "  <thead>\n",
              "    <tr style=\"text-align: right;\">\n",
              "      <th></th>\n",
              "      <th>A</th>\n",
              "      <th>B</th>\n",
              "      <th>C</th>\n",
              "    </tr>\n",
              "  </thead>\n",
              "  <tbody>\n",
              "    <tr>\n",
              "      <th>0</th>\n",
              "      <td>1.0</td>\n",
              "      <td>4.0</td>\n",
              "      <td>7.0</td>\n",
              "    </tr>\n",
              "    <tr>\n",
              "      <th>1</th>\n",
              "      <td>2.0</td>\n",
              "      <td>NaN</td>\n",
              "      <td>8.0</td>\n",
              "    </tr>\n",
              "    <tr>\n",
              "      <th>2</th>\n",
              "      <td>NaN</td>\n",
              "      <td>NaN</td>\n",
              "      <td>9.0</td>\n",
              "    </tr>\n",
              "  </tbody>\n",
              "</table>\n",
              "</div>"
            ],
            "text/plain": [
              "     A    B    C\n",
              "0  1.0  4.0  7.0\n",
              "1  2.0  NaN  8.0\n",
              "2  NaN  NaN  9.0"
            ]
          },
          "metadata": {
            "tags": []
          },
          "execution_count": 132
        }
      ]
    },
    {
      "cell_type": "code",
      "metadata": {
        "colab": {
          "base_uri": "https://localhost:8080/",
          "height": 165
        },
        "id": "qNP9viDpoMCL",
        "outputId": "d9bcaf65-21f3-4556-efa4-d144d4ccb8fb"
      },
      "source": [
        "#drop missing data rows\n",
        "\n",
        "print(\"df_10:\")\n",
        "print(df_10)\n",
        "\n",
        "#new code\n",
        "df_10.dropna()"
      ],
      "execution_count": 133,
      "outputs": [
        {
          "output_type": "stream",
          "text": [
            "df_10:\n",
            "     A    B    C\n",
            "0  1.0  4.0  7.0\n",
            "1  2.0  NaN  8.0\n",
            "2  NaN  NaN  9.0\n"
          ],
          "name": "stdout"
        },
        {
          "output_type": "execute_result",
          "data": {
            "text/html": [
              "<div>\n",
              "<style scoped>\n",
              "    .dataframe tbody tr th:only-of-type {\n",
              "        vertical-align: middle;\n",
              "    }\n",
              "\n",
              "    .dataframe tbody tr th {\n",
              "        vertical-align: top;\n",
              "    }\n",
              "\n",
              "    .dataframe thead th {\n",
              "        text-align: right;\n",
              "    }\n",
              "</style>\n",
              "<table border=\"1\" class=\"dataframe\">\n",
              "  <thead>\n",
              "    <tr style=\"text-align: right;\">\n",
              "      <th></th>\n",
              "      <th>A</th>\n",
              "      <th>B</th>\n",
              "      <th>C</th>\n",
              "    </tr>\n",
              "  </thead>\n",
              "  <tbody>\n",
              "    <tr>\n",
              "      <th>0</th>\n",
              "      <td>1.0</td>\n",
              "      <td>4.0</td>\n",
              "      <td>7.0</td>\n",
              "    </tr>\n",
              "  </tbody>\n",
              "</table>\n",
              "</div>"
            ],
            "text/plain": [
              "     A    B    C\n",
              "0  1.0  4.0  7.0"
            ]
          },
          "metadata": {
            "tags": []
          },
          "execution_count": 133
        }
      ]
    },
    {
      "cell_type": "code",
      "metadata": {
        "colab": {
          "base_uri": "https://localhost:8080/",
          "height": 227
        },
        "id": "mRw5zRGGoaFu",
        "outputId": "fcc024df-22d1-42a3-fbc2-1c8cc84e6e2d"
      },
      "source": [
        "#drop missing data columns\n",
        "\n",
        "print(\"df_10:\")\n",
        "print(df_10)\n",
        "\n",
        "#new code\n",
        "df_10.dropna(axis=1)"
      ],
      "execution_count": 134,
      "outputs": [
        {
          "output_type": "stream",
          "text": [
            "df_10:\n",
            "     A    B    C\n",
            "0  1.0  4.0  7.0\n",
            "1  2.0  NaN  8.0\n",
            "2  NaN  NaN  9.0\n"
          ],
          "name": "stdout"
        },
        {
          "output_type": "execute_result",
          "data": {
            "text/html": [
              "<div>\n",
              "<style scoped>\n",
              "    .dataframe tbody tr th:only-of-type {\n",
              "        vertical-align: middle;\n",
              "    }\n",
              "\n",
              "    .dataframe tbody tr th {\n",
              "        vertical-align: top;\n",
              "    }\n",
              "\n",
              "    .dataframe thead th {\n",
              "        text-align: right;\n",
              "    }\n",
              "</style>\n",
              "<table border=\"1\" class=\"dataframe\">\n",
              "  <thead>\n",
              "    <tr style=\"text-align: right;\">\n",
              "      <th></th>\n",
              "      <th>C</th>\n",
              "    </tr>\n",
              "  </thead>\n",
              "  <tbody>\n",
              "    <tr>\n",
              "      <th>0</th>\n",
              "      <td>7.0</td>\n",
              "    </tr>\n",
              "    <tr>\n",
              "      <th>1</th>\n",
              "      <td>8.0</td>\n",
              "    </tr>\n",
              "    <tr>\n",
              "      <th>2</th>\n",
              "      <td>9.0</td>\n",
              "    </tr>\n",
              "  </tbody>\n",
              "</table>\n",
              "</div>"
            ],
            "text/plain": [
              "     C\n",
              "0  7.0\n",
              "1  8.0\n",
              "2  9.0"
            ]
          },
          "metadata": {
            "tags": []
          },
          "execution_count": 134
        }
      ]
    },
    {
      "cell_type": "code",
      "metadata": {
        "colab": {
          "base_uri": "https://localhost:8080/",
          "height": 196
        },
        "id": "RSGaNkcNomnB",
        "outputId": "c4d66ec8-365b-4b9f-a4e5-e534041e8ff1"
      },
      "source": [
        "#drop rows with two or more missing data\n",
        "\n",
        "print(\"df_10:\")\n",
        "print(df_10)\n",
        "\n",
        "#new code\n",
        "df_10.dropna(thresh=2)"
      ],
      "execution_count": 135,
      "outputs": [
        {
          "output_type": "stream",
          "text": [
            "df_10:\n",
            "     A    B    C\n",
            "0  1.0  4.0  7.0\n",
            "1  2.0  NaN  8.0\n",
            "2  NaN  NaN  9.0\n"
          ],
          "name": "stdout"
        },
        {
          "output_type": "execute_result",
          "data": {
            "text/html": [
              "<div>\n",
              "<style scoped>\n",
              "    .dataframe tbody tr th:only-of-type {\n",
              "        vertical-align: middle;\n",
              "    }\n",
              "\n",
              "    .dataframe tbody tr th {\n",
              "        vertical-align: top;\n",
              "    }\n",
              "\n",
              "    .dataframe thead th {\n",
              "        text-align: right;\n",
              "    }\n",
              "</style>\n",
              "<table border=\"1\" class=\"dataframe\">\n",
              "  <thead>\n",
              "    <tr style=\"text-align: right;\">\n",
              "      <th></th>\n",
              "      <th>A</th>\n",
              "      <th>B</th>\n",
              "      <th>C</th>\n",
              "    </tr>\n",
              "  </thead>\n",
              "  <tbody>\n",
              "    <tr>\n",
              "      <th>0</th>\n",
              "      <td>1.0</td>\n",
              "      <td>4.0</td>\n",
              "      <td>7.0</td>\n",
              "    </tr>\n",
              "    <tr>\n",
              "      <th>1</th>\n",
              "      <td>2.0</td>\n",
              "      <td>NaN</td>\n",
              "      <td>8.0</td>\n",
              "    </tr>\n",
              "  </tbody>\n",
              "</table>\n",
              "</div>"
            ],
            "text/plain": [
              "     A    B    C\n",
              "0  1.0  4.0  7.0\n",
              "1  2.0  NaN  8.0"
            ]
          },
          "metadata": {
            "tags": []
          },
          "execution_count": 135
        }
      ]
    },
    {
      "cell_type": "code",
      "metadata": {
        "colab": {
          "base_uri": "https://localhost:8080/",
          "height": 227
        },
        "id": "NtIM8gzvo6uI",
        "outputId": "9a2e4151-844c-4d6b-dab7-80c121fae183"
      },
      "source": [
        "#replace nan with 0\n",
        "\n",
        "print(\"df_10:\")\n",
        "print(df_10)\n",
        "\n",
        "#new code\n",
        "df_10.fillna(value=0.0)"
      ],
      "execution_count": 136,
      "outputs": [
        {
          "output_type": "stream",
          "text": [
            "df_10:\n",
            "     A    B    C\n",
            "0  1.0  4.0  7.0\n",
            "1  2.0  NaN  8.0\n",
            "2  NaN  NaN  9.0\n"
          ],
          "name": "stdout"
        },
        {
          "output_type": "execute_result",
          "data": {
            "text/html": [
              "<div>\n",
              "<style scoped>\n",
              "    .dataframe tbody tr th:only-of-type {\n",
              "        vertical-align: middle;\n",
              "    }\n",
              "\n",
              "    .dataframe tbody tr th {\n",
              "        vertical-align: top;\n",
              "    }\n",
              "\n",
              "    .dataframe thead th {\n",
              "        text-align: right;\n",
              "    }\n",
              "</style>\n",
              "<table border=\"1\" class=\"dataframe\">\n",
              "  <thead>\n",
              "    <tr style=\"text-align: right;\">\n",
              "      <th></th>\n",
              "      <th>A</th>\n",
              "      <th>B</th>\n",
              "      <th>C</th>\n",
              "    </tr>\n",
              "  </thead>\n",
              "  <tbody>\n",
              "    <tr>\n",
              "      <th>0</th>\n",
              "      <td>1.0</td>\n",
              "      <td>4.0</td>\n",
              "      <td>7.0</td>\n",
              "    </tr>\n",
              "    <tr>\n",
              "      <th>1</th>\n",
              "      <td>2.0</td>\n",
              "      <td>0.0</td>\n",
              "      <td>8.0</td>\n",
              "    </tr>\n",
              "    <tr>\n",
              "      <th>2</th>\n",
              "      <td>0.0</td>\n",
              "      <td>0.0</td>\n",
              "      <td>9.0</td>\n",
              "    </tr>\n",
              "  </tbody>\n",
              "</table>\n",
              "</div>"
            ],
            "text/plain": [
              "     A    B    C\n",
              "0  1.0  4.0  7.0\n",
              "1  2.0  0.0  8.0\n",
              "2  0.0  0.0  9.0"
            ]
          },
          "metadata": {
            "tags": []
          },
          "execution_count": 136
        }
      ]
    },
    {
      "cell_type": "code",
      "metadata": {
        "colab": {
          "base_uri": "https://localhost:8080/",
          "height": 227
        },
        "id": "-SfyZmf7pFj_",
        "outputId": "c6d995d5-f2af-4b56-d460-37965c21a0d8"
      },
      "source": [
        "##replace nan with mean value\n",
        "\n",
        "print(\"df_10:\")\n",
        "print(df_10)\n",
        "\n",
        "#new code\n",
        "df_10.fillna(value=df_10['A'].mean()) #mean of column 'A'"
      ],
      "execution_count": 137,
      "outputs": [
        {
          "output_type": "stream",
          "text": [
            "df_10:\n",
            "     A    B    C\n",
            "0  1.0  4.0  7.0\n",
            "1  2.0  NaN  8.0\n",
            "2  NaN  NaN  9.0\n"
          ],
          "name": "stdout"
        },
        {
          "output_type": "execute_result",
          "data": {
            "text/html": [
              "<div>\n",
              "<style scoped>\n",
              "    .dataframe tbody tr th:only-of-type {\n",
              "        vertical-align: middle;\n",
              "    }\n",
              "\n",
              "    .dataframe tbody tr th {\n",
              "        vertical-align: top;\n",
              "    }\n",
              "\n",
              "    .dataframe thead th {\n",
              "        text-align: right;\n",
              "    }\n",
              "</style>\n",
              "<table border=\"1\" class=\"dataframe\">\n",
              "  <thead>\n",
              "    <tr style=\"text-align: right;\">\n",
              "      <th></th>\n",
              "      <th>A</th>\n",
              "      <th>B</th>\n",
              "      <th>C</th>\n",
              "    </tr>\n",
              "  </thead>\n",
              "  <tbody>\n",
              "    <tr>\n",
              "      <th>0</th>\n",
              "      <td>1.0</td>\n",
              "      <td>4.0</td>\n",
              "      <td>7.0</td>\n",
              "    </tr>\n",
              "    <tr>\n",
              "      <th>1</th>\n",
              "      <td>2.0</td>\n",
              "      <td>1.5</td>\n",
              "      <td>8.0</td>\n",
              "    </tr>\n",
              "    <tr>\n",
              "      <th>2</th>\n",
              "      <td>1.5</td>\n",
              "      <td>1.5</td>\n",
              "      <td>9.0</td>\n",
              "    </tr>\n",
              "  </tbody>\n",
              "</table>\n",
              "</div>"
            ],
            "text/plain": [
              "     A    B    C\n",
              "0  1.0  4.0  7.0\n",
              "1  2.0  1.5  8.0\n",
              "2  1.5  1.5  9.0"
            ]
          },
          "metadata": {
            "tags": []
          },
          "execution_count": 137
        }
      ]
    },
    {
      "cell_type": "code",
      "metadata": {
        "colab": {
          "base_uri": "https://localhost:8080/",
          "height": 227
        },
        "id": "gE8Ti0f4pd1P",
        "outputId": "46d929b3-9011-4b81-cce6-032e7e63bb7f"
      },
      "source": [
        "#fill nan with previous value(forward fill)\n",
        "\n",
        "print(\"df_10:\")\n",
        "print(df_10)\n",
        "\n",
        "#new code\n",
        "df_10.fillna(method='ffill')\n",
        "\n",
        "#we can also use back fill ('bfill')"
      ],
      "execution_count": 138,
      "outputs": [
        {
          "output_type": "stream",
          "text": [
            "df_10:\n",
            "     A    B    C\n",
            "0  1.0  4.0  7.0\n",
            "1  2.0  NaN  8.0\n",
            "2  NaN  NaN  9.0\n"
          ],
          "name": "stdout"
        },
        {
          "output_type": "execute_result",
          "data": {
            "text/html": [
              "<div>\n",
              "<style scoped>\n",
              "    .dataframe tbody tr th:only-of-type {\n",
              "        vertical-align: middle;\n",
              "    }\n",
              "\n",
              "    .dataframe tbody tr th {\n",
              "        vertical-align: top;\n",
              "    }\n",
              "\n",
              "    .dataframe thead th {\n",
              "        text-align: right;\n",
              "    }\n",
              "</style>\n",
              "<table border=\"1\" class=\"dataframe\">\n",
              "  <thead>\n",
              "    <tr style=\"text-align: right;\">\n",
              "      <th></th>\n",
              "      <th>A</th>\n",
              "      <th>B</th>\n",
              "      <th>C</th>\n",
              "    </tr>\n",
              "  </thead>\n",
              "  <tbody>\n",
              "    <tr>\n",
              "      <th>0</th>\n",
              "      <td>1.0</td>\n",
              "      <td>4.0</td>\n",
              "      <td>7.0</td>\n",
              "    </tr>\n",
              "    <tr>\n",
              "      <th>1</th>\n",
              "      <td>2.0</td>\n",
              "      <td>4.0</td>\n",
              "      <td>8.0</td>\n",
              "    </tr>\n",
              "    <tr>\n",
              "      <th>2</th>\n",
              "      <td>2.0</td>\n",
              "      <td>4.0</td>\n",
              "      <td>9.0</td>\n",
              "    </tr>\n",
              "  </tbody>\n",
              "</table>\n",
              "</div>"
            ],
            "text/plain": [
              "     A    B    C\n",
              "0  1.0  4.0  7.0\n",
              "1  2.0  4.0  8.0\n",
              "2  2.0  4.0  9.0"
            ]
          },
          "metadata": {
            "tags": []
          },
          "execution_count": 138
        }
      ]
    },
    {
      "cell_type": "markdown",
      "metadata": {
        "id": "y9_ooTAdp9fX"
      },
      "source": [
        "**Experimenting with Data**"
      ]
    },
    {
      "cell_type": "code",
      "metadata": {
        "colab": {
          "base_uri": "https://localhost:8080/"
        },
        "id": "C8f0aEvBqE2s",
        "outputId": "a307ab72-62bd-41cd-b0fa-59ffd9f163dc"
      },
      "source": [
        "# get all column names\n",
        "print(cs_df.columns)"
      ],
      "execution_count": 139,
      "outputs": [
        {
          "output_type": "stream",
          "text": [
            "Index(['Sale ID', 'Contact', 'Sex', 'Age', 'State', 'Product ID',\n",
            "       'Product Type', 'Sale Price', 'Profit', 'Lead', 'Month', 'Year',\n",
            "       'First Name', 'Last Name', 'Age Group'],\n",
            "      dtype='object')\n"
          ],
          "name": "stdout"
        }
      ]
    },
    {
      "cell_type": "code",
      "metadata": {
        "id": "fOq61JT0l6yl",
        "colab": {
          "base_uri": "https://localhost:8080/"
        },
        "outputId": "d08c7991-3d5b-4d48-aebd-b1c6c17e25e7"
      },
      "source": [
        "#mean of profit values\n",
        "cs_df['Profit'].mean()"
      ],
      "execution_count": 140,
      "outputs": [
        {
          "output_type": "execute_result",
          "data": {
            "text/plain": [
              "139.97461538461545"
            ]
          },
          "metadata": {
            "tags": []
          },
          "execution_count": 140
        }
      ]
    },
    {
      "cell_type": "code",
      "metadata": {
        "colab": {
          "base_uri": "https://localhost:8080/"
        },
        "id": "Qn5JH-lQqXcE",
        "outputId": "d3ab3a79-31de-422c-ea4c-602266183538"
      },
      "source": [
        "# getting product with highest profit\n",
        "cs_df[['Product ID', 'Profit']].max(axis=0)"
      ],
      "execution_count": 141,
      "outputs": [
        {
          "output_type": "execute_result",
          "data": {
            "text/plain": [
              "Product ID    Q526FA\n",
              "Profit        230.89\n",
              "dtype: object"
            ]
          },
          "metadata": {
            "tags": []
          },
          "execution_count": 141
        }
      ]
    },
    {
      "cell_type": "code",
      "metadata": {
        "colab": {
          "base_uri": "https://localhost:8080/"
        },
        "id": "bYWVskCwq0Ef",
        "outputId": "1d801c90-5f79-4220-dfb5-4a80be9abf10"
      },
      "source": [
        "#number of people made purchase from West Varginia\n",
        "cs_df[cs_df['State']=='WV']['State'].count()"
      ],
      "execution_count": 142,
      "outputs": [
        {
          "output_type": "execute_result",
          "data": {
            "text/plain": [
              "4"
            ]
          },
          "metadata": {
            "tags": []
          },
          "execution_count": 142
        }
      ]
    },
    {
      "cell_type": "code",
      "metadata": {
        "colab": {
          "base_uri": "https://localhost:8080/"
        },
        "id": "V19h143DrWSt",
        "outputId": "7cfe90a1-10a2-4134-bd72-4ca82ff6cf4d"
      },
      "source": [
        "#number of purchase in 2019\n",
        "len(cs_df[cs_df['Year']==2019].index)"
      ],
      "execution_count": 143,
      "outputs": [
        {
          "output_type": "execute_result",
          "data": {
            "text/plain": [
              "14"
            ]
          },
          "metadata": {
            "tags": []
          },
          "execution_count": 143
        }
      ]
    },
    {
      "cell_type": "code",
      "metadata": {
        "colab": {
          "base_uri": "https://localhost:8080/"
        },
        "id": "3fsRHQbfrtUP",
        "outputId": "13689802-bee8-497f-e1f2-d27244840d19"
      },
      "source": [
        "#nunber of sales for each product type\n",
        "cs_df['Product ID'].value_counts()"
      ],
      "execution_count": 144,
      "outputs": [
        {
          "output_type": "execute_result",
          "data": {
            "text/plain": [
              "GA401IV      6\n",
              "I3593        5\n",
              "M01-F0024    5\n",
              "81TC00       5\n",
              "MY2J2LL      4\n",
              "15M-ED       4\n",
              "GT13-0024    4\n",
              "I3670        3\n",
              "Q526FA       3\n",
              "Name: Product ID, dtype: int64"
            ]
          },
          "metadata": {
            "tags": []
          },
          "execution_count": 144
        }
      ]
    },
    {
      "cell_type": "code",
      "metadata": {
        "colab": {
          "base_uri": "https://localhost:8080/"
        },
        "id": "zoB_jr4ysNb0",
        "outputId": "59eb2282-c275-49b9-ed8b-70209c895f1c"
      },
      "source": [
        "#list of customers that bought a specific product\n",
        "cs_df[cs_df['Product ID']=='M01-F0024']['Contact']"
      ],
      "execution_count": 145,
      "outputs": [
        {
          "output_type": "execute_result",
          "data": {
            "text/plain": [
              "0     Paul Thomas\n",
              "9      Phil Jones\n",
              "20     Jason Case\n",
              "29     Phil Jones\n",
              "36     Jason Case\n",
              "Name: Contact, dtype: object"
            ]
          },
          "metadata": {
            "tags": []
          },
          "execution_count": 145
        }
      ]
    },
    {
      "cell_type": "code",
      "metadata": {
        "colab": {
          "base_uri": "https://localhost:8080/"
        },
        "id": "II5iKaaPsvf-",
        "outputId": "55c78265-3ec7-4010-cfe1-ccfe41fecb36"
      },
      "source": [
        "#website purchase for profit over $150\n",
        "cs_df[(cs_df['Lead']=='Website')& (cs_df['Profit']>150)]['Lead'].count()"
      ],
      "execution_count": 146,
      "outputs": [
        {
          "output_type": "execute_result",
          "data": {
            "text/plain": [
              "2"
            ]
          },
          "metadata": {
            "tags": []
          },
          "execution_count": 146
        }
      ]
    },
    {
      "cell_type": "code",
      "metadata": {
        "colab": {
          "base_uri": "https://localhost:8080/"
        },
        "id": "h4r5ed7AuGMn",
        "outputId": "4e748c8b-a275-44bb-f0c9-114c6475024b"
      },
      "source": [
        "#number of products that has profit amount end at 89 cents\n",
        "cs_df['Profit'].apply(lambda cents:str(cents).split('.')[1]=='89').value_counts()"
      ],
      "execution_count": 147,
      "outputs": [
        {
          "output_type": "execute_result",
          "data": {
            "text/plain": [
              "False    35\n",
              "True      4\n",
              "Name: Profit, dtype: int64"
            ]
          },
          "metadata": {
            "tags": []
          },
          "execution_count": 147
        }
      ]
    },
    {
      "cell_type": "markdown",
      "metadata": {
        "id": "M0j8GTxou52K"
      },
      "source": [
        "**Visualization**"
      ]
    },
    {
      "cell_type": "code",
      "metadata": {
        "id": "dK8ZlWjFu-2c"
      },
      "source": [
        "import matplotlib.pyplot as plt\n",
        "%matplotlib inline"
      ],
      "execution_count": 148,
      "outputs": []
    },
    {
      "cell_type": "code",
      "metadata": {
        "colab": {
          "base_uri": "https://localhost:8080/",
          "height": 265
        },
        "id": "vSqQZp3kvPj0",
        "outputId": "e69d29f9-a668-4a83-d749-f54c12d7dc8e"
      },
      "source": [
        "#histogram for rolling a dice 5000 times\n",
        "df_dice = pd.DataFrame(\n",
        "    np.random.randint(1,7,5000),\n",
        "    columns=['Hist']\n",
        ")\n",
        "df_dice['Odds'] = df_dice['Hist'] + np.random.randint(1,7,5000)\n",
        "ax = df_dice.plot.hist(bins=12, alpha=0.5)\n",
        "# Alpha decreases the opacity in the chart"
      ],
      "execution_count": 149,
      "outputs": [
        {
          "output_type": "display_data",
          "data": {
            "image/png": "[encoded data removed]",
            "text/plain": [
              "<Figure size 432x288 with 1 Axes>"
            ]
          },
          "metadata": {
            "tags": [],
            "needs_background": "light"
          }
        }
      ]
    },
    {
      "cell_type": "code",
      "metadata": {
        "colab": {
          "base_uri": "https://localhost:8080/",
          "height": 298
        },
        "id": "WTPPGZJ3wbTG",
        "outputId": "179b059d-1a46-4053-a4a2-227de6f0708e"
      },
      "source": [
        "# Basic plot using 1000 random values that create cumulative sums\n",
        "# over an increasing date range\n",
        "series_5 = pd.Series(np.random.randn(1000),\n",
        "                  index = pd.date_range('11/15/2017', periods=1000))\n",
        "series_5 = series_5.cumsum()\n",
        "series_5.plot()"
      ],
      "execution_count": 150,
      "outputs": [
        {
          "output_type": "execute_result",
          "data": {
            "text/plain": [
              "<matplotlib.axes._subplots.AxesSubplot at 0x7f156c883b50>"
            ]
          },
          "metadata": {
            "tags": []
          },
          "execution_count": 150
        },
        {
          "output_type": "display_data",
          "data": {
            "image/png": "[encoded data removed]",
            "text/plain": [
              "<Figure size 432x288 with 1 Axes>"
            ]
          },
          "metadata": {
            "tags": [],
            "needs_background": "light"
          }
        }
      ]
    },
    {
      "cell_type": "code",
      "metadata": {
        "colab": {
          "base_uri": "https://localhost:8080/",
          "height": 294
        },
        "id": "Y49am1vxxtwc",
        "outputId": "77612e9c-3bd2-4ce7-8be7-74c665d269dc"
      },
      "source": [
        "# Display 3 random plots\n",
        "df_15 = pd.DataFrame(np.random.randn(1000,3),\n",
        "                  index = pd.date_range('11/15/2017', periods=1000),\n",
        "                  columns = list('ABC'))\n",
        "df_15 = df_15.cumsum()\n",
        "df_15.plot()"
      ],
      "execution_count": 151,
      "outputs": [
        {
          "output_type": "execute_result",
          "data": {
            "text/plain": [
              "<matplotlib.axes._subplots.AxesSubplot at 0x7f156c24f650>"
            ]
          },
          "metadata": {
            "tags": []
          },
          "execution_count": 151
        },
        {
          "output_type": "display_data",
          "data": {
            "image/png": "[encoded data removed]",
            "text/plain": [
              "<Figure size 432x288 with 1 Axes>"
            ]
          },
          "metadata": {
            "tags": [],
            "needs_background": "light"
          }
        }
      ]
    },
    {
      "cell_type": "code",
      "metadata": {
        "colab": {
          "base_uri": "https://localhost:8080/",
          "height": 280
        },
        "id": "XQCORlcrygdr",
        "outputId": "2740268c-e298-40e8-fb65-bca506581a68"
      },
      "source": [
        "#bar chart for random values\n",
        "pd.DataFrame(np.random.randn(5)).plot.bar()"
      ],
      "execution_count": 152,
      "outputs": [
        {
          "output_type": "execute_result",
          "data": {
            "text/plain": [
              "<matplotlib.axes._subplots.AxesSubplot at 0x7f156c17e410>"
            ]
          },
          "metadata": {
            "tags": []
          },
          "execution_count": 152
        },
        {
          "output_type": "display_data",
          "data": {
            "image/png": "[encoded data removed]",
            "text/plain": [
              "<Figure size 432x288 with 1 Axes>"
            ]
          },
          "metadata": {
            "tags": [],
            "needs_background": "light"
          }
        }
      ]
    },
    {
      "cell_type": "code",
      "metadata": {
        "colab": {
          "base_uri": "https://localhost:8080/",
          "height": 279
        },
        "id": "mGP8W-NbzAXA",
        "outputId": "4f8a3fc6-dc98-4bb1-e50f-6201793c5e81"
      },
      "source": [
        "#bar chart for random values\n",
        "vals = ['A','B','C','D']\n",
        "df_15 = pd.DataFrame(np.random.rand(10,4), columns=vals)\n",
        "df_15.plot.bar()"
      ],
      "execution_count": 153,
      "outputs": [
        {
          "output_type": "execute_result",
          "data": {
            "text/plain": [
              "<matplotlib.axes._subplots.AxesSubplot at 0x7f156c091790>"
            ]
          },
          "metadata": {
            "tags": []
          },
          "execution_count": 153
        },
        {
          "output_type": "display_data",
          "data": {
            "image/png": "[encoded data removed]",
            "text/plain": [
              "<Figure size 432x288 with 1 Axes>"
            ]
          },
          "metadata": {
            "tags": [],
            "needs_background": "light"
          }
        }
      ]
    },
    {
      "cell_type": "code",
      "metadata": {
        "colab": {
          "base_uri": "https://localhost:8080/",
          "height": 265
        },
        "id": "IGFSdEOozWVT",
        "outputId": "9e9cf4d2-77fb-4ddb-d2c0-29c4179d1214"
      },
      "source": [
        "#area plot\n",
        "x_rng = range(1,15)\n",
        "y_vals = [1,5,4,7,6,9,5,7,10,14,10,12,9,8]\n",
        "\n",
        "plt.fill_between(x_rng,y_vals,color='skyblue', alpha=0.5)\n",
        "plt.show()"
      ],
      "execution_count": 154,
      "outputs": [
        {
          "output_type": "display_data",
          "data": {
            "image/png": "[encoded data removed]",
            "text/plain": [
              "<Figure size 432x288 with 1 Axes>"
            ]
          },
          "metadata": {
            "tags": [],
            "needs_background": "light"
          }
        }
      ]
    },
    {
      "cell_type": "code",
      "metadata": {
        "colab": {
          "base_uri": "https://localhost:8080/",
          "height": 282
        },
        "id": "4AshE4dg0A30",
        "outputId": "ff7d23eb-d3df-4015-d4da-504003748523"
      },
      "source": [
        "pd.DataFrame(np.random.rand(10,3), columns=['A','B','C']).plot.area()"
      ],
      "execution_count": 155,
      "outputs": [
        {
          "output_type": "execute_result",
          "data": {
            "text/plain": [
              "<matplotlib.axes._subplots.AxesSubplot at 0x7f156bf624d0>"
            ]
          },
          "metadata": {
            "tags": []
          },
          "execution_count": 155
        },
        {
          "output_type": "display_data",
          "data": {
            "image/png": "[encoded data removed]",
            "text/plain": [
              "<Figure size 432x288 with 1 Axes>"
            ]
          },
          "metadata": {
            "tags": [],
            "needs_background": "light"
          }
        }
      ]
    },
    {
      "cell_type": "code",
      "metadata": {
        "colab": {
          "base_uri": "https://localhost:8080/",
          "height": 296
        },
        "id": "hRTkfdEl0Yn-",
        "outputId": "8e150190-53b2-49ab-a614-82bf84cd2aef"
      },
      "source": [
        "#scatter plot\n",
        "\n",
        "pd.DataFrame(np.random.rand(100,2),\n",
        "             columns=['A','B']).plot.scatter(x='A',y='B')"
      ],
      "execution_count": 156,
      "outputs": [
        {
          "output_type": "execute_result",
          "data": {
            "text/plain": [
              "<matplotlib.axes._subplots.AxesSubplot at 0x7f156be93190>"
            ]
          },
          "metadata": {
            "tags": []
          },
          "execution_count": 156
        },
        {
          "output_type": "display_data",
          "data": {
            "image/png": "[encoded data removed]",
            "text/plain": [
              "<Figure size 432x288 with 1 Axes>"
            ]
          },
          "metadata": {
            "tags": [],
            "needs_background": "light"
          }
        }
      ]
    },
    {
      "cell_type": "code",
      "metadata": {
        "colab": {
          "base_uri": "https://localhost:8080/",
          "height": 296
        },
        "id": "eUaUy3uT0wFl",
        "outputId": "4638cded-f43c-437f-fd8b-d20b79bf8169"
      },
      "source": [
        "df_15 = pd.DataFrame(np.random.rand(50,4),\n",
        "             columns=['A','B','C','D'])\n",
        "ax = df_15.plot.scatter(x='A',y='B', color='DarkBlue', label='Grp1')\n",
        "df_15.plot.scatter(x='C', y='D', color='Orange', label='Grp2', ax=ax)"
      ],
      "execution_count": 157,
      "outputs": [
        {
          "output_type": "execute_result",
          "data": {
            "text/plain": [
              "<matplotlib.axes._subplots.AxesSubplot at 0x7f156be81fd0>"
            ]
          },
          "metadata": {
            "tags": []
          },
          "execution_count": 157
        },
        {
          "output_type": "display_data",
          "data": {
            "image/png": "[encoded data removed]",
            "text/plain": [
              "<Figure size 432x288 with 1 Axes>"
            ]
          },
          "metadata": {
            "tags": [],
            "needs_background": "light"
          }
        }
      ]
    },
    {
      "cell_type": "code",
      "metadata": {
        "colab": {
          "base_uri": "https://localhost:8080/",
          "height": 374
        },
        "id": "wX8rIlRN1cUi",
        "outputId": "9007ee3c-e510-4fdd-b7ad-36e13f8291b2"
      },
      "source": [
        "#pie chart\n",
        "pd.Series(np.random.rand(4),\n",
        "          index=['a','b','c','s'],\n",
        "          name='Pie').plot.pie(figsize=(6,6))"
      ],
      "execution_count": 158,
      "outputs": [
        {
          "output_type": "execute_result",
          "data": {
            "text/plain": [
              "<matplotlib.axes._subplots.AxesSubplot at 0x7f156bea09d0>"
            ]
          },
          "metadata": {
            "tags": []
          },
          "execution_count": 158
        },
        {
          "output_type": "display_data",
          "data": {
            "image/png": "[encoded data removed]",
            "text/plain": [
              "<Figure size 432x432 with 1 Axes>"
            ]
          },
          "metadata": {
            "tags": []
          }
        }
      ]
    },
    {
      "cell_type": "markdown",
      "metadata": {
        "id": "A4LazrpSYfLg"
      },
      "source": [
        "**Sources**\n",
        "\n",
        "1. [Pandas Tutorial](https://www.youtube.com/watch?v=PcvsOaixUh8) by [Derek Banas](https://github.com/derekbanas)\n",
        "2. [Pandas website](https://pandas.pydata.org/)"
      ]
    }
  ]
}