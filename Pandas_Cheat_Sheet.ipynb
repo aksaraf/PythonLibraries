{
 "cells": [
  {
   "cell_type": "markdown",
   "metadata": {
    "id": "OPanm4I6KIq1"
   },
   "source": [
    " \n"
   ]
  },
  {
   "cell_type": "markdown",
   "metadata": {
    "id": "gi45dwExKmTa"
   },
   "source": [
    "**Importing Libraries**"
   ]
  },
  {
   "cell_type": "code",
   "execution_count": 1,
   "metadata": {
    "id": "uRSTukE8KpbM"
   },
   "outputs": [],
   "source": [
    "import pandas as pd\n",
    "import numpy as np"
   ]
  },
  {
   "cell_type": "markdown",
   "metadata": {
    "id": "g94dKiGmKftz"
   },
   "source": [
    "**Series**"
   ]
  },
  {
   "cell_type": "code",
   "execution_count": 2,
   "metadata": {
    "id": "yMro1DSou6Sx"
   },
   "outputs": [
    {
     "data": {
      "text/plain": [
       "1    a\n",
       "2    b\n",
       "3    c\n",
       "4    d\n",
       "dtype: object"
      ]
     },
     "execution_count": 2,
     "metadata": {},
     "output_type": "execute_result"
    }
   ],
   "source": [
    "#creating a pandas series\n",
    "list_1 = ['a','b','c','d']\n",
    "labels = [1,2,3,4]\n",
    "series_1 = pd.Series(data=list_1, index=labels)\n",
    "series_1"
   ]
  },
  {
   "cell_type": "code",
   "execution_count": 3,
   "metadata": {
    "id": "qZNi4LNayJAE"
   },
   "outputs": [
    {
     "data": {
      "text/plain": [
       "0    1\n",
       "1    2\n",
       "2    3\n",
       "3    4\n",
       "dtype: int32"
      ]
     },
     "execution_count": 3,
     "metadata": {},
     "output_type": "execute_result"
    }
   ],
   "source": [
    "#creating a numpy array\n",
    "arr_1 = np.array([1,2,3,4])\n",
    "series_2 = pd.Series(arr_1)\n",
    "series_2"
   ]
  },
  {
   "cell_type": "code",
   "execution_count": 4,
   "metadata": {
    "id": "QwHRfYKKLgwz"
   },
   "outputs": [
    {
     "data": {
      "text/plain": [
       "f_name     John\n",
       "l_name    Brown\n",
       "age          40\n",
       "dtype: object"
      ]
     },
     "execution_count": 4,
     "metadata": {},
     "output_type": "execute_result"
    }
   ],
   "source": [
    "#creating series using dictionary\n",
    "dict_1 = {'f_name': 'John', 'l_name':'Brown', 'age':40}\n",
    "series_3 = pd.Series(dict_1)\n",
    "series_3"
   ]
  },
  {
   "cell_type": "code",
   "execution_count": 5,
   "metadata": {
    "id": "Jb2d-GshMfDF"
   },
   "outputs": [
    {
     "data": {
      "text/plain": [
       "'John'"
      ]
     },
     "execution_count": 5,
     "metadata": {},
     "output_type": "execute_result"
    }
   ],
   "source": [
    "#extracting values from series\n",
    "#extract first name from series_3\n",
    "series_3['f_name']"
   ]
  },
  {
   "cell_type": "code",
   "execution_count": 6,
   "metadata": {
    "id": "jyVkgmfdMp9h"
   },
   "outputs": [
    {
     "data": {
      "text/plain": [
       "dtype('int32')"
      ]
     },
     "execution_count": 6,
     "metadata": {},
     "output_type": "execute_result"
    }
   ],
   "source": [
    "#series data type\n",
    "series_2.dtype"
   ]
  },
  {
   "cell_type": "code",
   "execution_count": 7,
   "metadata": {
    "id": "Bf864gv0M3zF"
   },
   "outputs": [
    {
     "name": "stdout",
     "output_type": "stream",
     "text": [
      "series_2:\n",
      "0    1\n",
      "1    2\n",
      "2    3\n",
      "3    4\n",
      "dtype: int32\n",
      "\n",
      "Addition:\n"
     ]
    },
    {
     "data": {
      "text/plain": [
       "0    2\n",
       "1    4\n",
       "2    6\n",
       "3    8\n",
       "dtype: int32"
      ]
     },
     "execution_count": 7,
     "metadata": {},
     "output_type": "execute_result"
    }
   ],
   "source": [
    "#maths operations on series\n",
    "print('series_2:')\n",
    "print(series_2)\n",
    "\n",
    "print(\"\\nAddition:\")\n",
    "series_2 + series_2\n",
    "\n",
    "#similarly we can do subtraction, multiplication and division"
   ]
  },
  {
   "cell_type": "code",
   "execution_count": 8,
   "metadata": {
    "id": "T4SMilINNM4D"
   },
   "outputs": [
    {
     "name": "stdout",
     "output_type": "stream",
     "text": [
      "series_2:\n",
      "0    1\n",
      "1    2\n",
      "2    3\n",
      "3    4\n",
      "dtype: int32\n",
      "\n",
      "Exponential:\n"
     ]
    },
    {
     "data": {
      "text/plain": [
       "0     2.718282\n",
       "1     7.389056\n",
       "2    20.085537\n",
       "3    54.598150\n",
       "dtype: float64"
      ]
     },
     "execution_count": 8,
     "metadata": {},
     "output_type": "execute_result"
    }
   ],
   "source": [
    "#passing series in numpy operations\n",
    "print('series_2:')\n",
    "print(series_2)\n",
    "\n",
    "print(\"\\nExponential:\")\n",
    "np.exp(series_2) #expontential"
   ]
  },
  {
   "cell_type": "code",
   "execution_count": 9,
   "metadata": {
    "id": "4wyH21IbOGNG"
   },
   "outputs": [
    {
     "name": "stdout",
     "output_type": "stream",
     "text": [
      "series_2:\n",
      "0    1\n",
      "1    2\n",
      "2    3\n",
      "3    4\n",
      "dtype: int32\n",
      "\n",
      "series_4:\n",
      "4    5\n",
      "5    6\n",
      "6    7\n",
      "dtype: int64\n",
      "\n",
      "Adding both\n"
     ]
    },
    {
     "data": {
      "text/plain": [
       "0   NaN\n",
       "1   NaN\n",
       "2   NaN\n",
       "3   NaN\n",
       "4   NaN\n",
       "5   NaN\n",
       "6   NaN\n",
       "dtype: float64"
      ]
     },
     "execution_count": 9,
     "metadata": {},
     "output_type": "execute_result"
    }
   ],
   "source": [
    "print('series_2:')\n",
    "print(series_2)\n",
    "\n",
    "series_4 = pd.Series({4:5, 5:6, 6:7})\n",
    "print('\\nseries_4:')\n",
    "print(series_4)\n",
    "\n",
    "print(\"\\nAdding both\")\n",
    "series_2 + series_4 \n",
    "\n",
    "# the output is NaN because the labels don't match\n",
    "# series_2 has labels 0,1,2,3\n",
    "# series_4 has 4,5,6"
   ]
  },
  {
   "cell_type": "code",
   "execution_count": 10,
   "metadata": {
    "id": "KTh7eYzHQi9c"
   },
   "outputs": [
    {
     "data": {
      "text/plain": [
       "'random_num'"
      ]
     },
     "execution_count": 10,
     "metadata": {},
     "output_type": "execute_result"
    }
   ],
   "source": [
    "# assigning name to a series\n",
    "series_4 = pd.Series({4:5, 5:6, 6:7}, name='random_num')\n",
    "series_4.name"
   ]
  },
  {
   "cell_type": "markdown",
   "metadata": {
    "id": "qsrTK8djQ60q"
   },
   "source": [
    "# DataFrame"
   ]
  },
  {
   "cell_type": "markdown",
   "metadata": {
    "id": "c7J6hYvgRACs"
   },
   "source": [
    "**Creating DataFrames**"
   ]
  },
  {
   "cell_type": "code",
   "execution_count": 11,
   "metadata": {
    "id": "r2FfvTHHQ-qS"
   },
   "outputs": [
    {
     "data": {
      "text/plain": [
       "array([[12, 17, 33],\n",
       "       [39, 37, 19]])"
      ]
     },
     "execution_count": 11,
     "metadata": {},
     "output_type": "execute_result"
    }
   ],
   "source": [
    "#creating random numbers array\n",
    "array_2 = np.random.randint(10,50, size=(2,3))\n",
    "array_2"
   ]
  },
  {
   "cell_type": "code",
   "execution_count": 12,
   "metadata": {
    "id": "9VojATVuRptU"
   },
   "outputs": [
    {
     "data": {
      "text/html": [
       "<div>\n",
       "<style scoped>\n",
       "    .dataframe tbody tr th:only-of-type {\n",
       "        vertical-align: middle;\n",
       "    }\n",
       "\n",
       "    .dataframe tbody tr th {\n",
       "        vertical-align: top;\n",
       "    }\n",
       "\n",
       "    .dataframe thead th {\n",
       "        text-align: right;\n",
       "    }\n",
       "</style>\n",
       "<table border=\"1\" class=\"dataframe\">\n",
       "  <thead>\n",
       "    <tr style=\"text-align: right;\">\n",
       "      <th></th>\n",
       "      <th>C</th>\n",
       "      <th>D</th>\n",
       "      <th>E</th>\n",
       "    </tr>\n",
       "  </thead>\n",
       "  <tbody>\n",
       "    <tr>\n",
       "      <th>A</th>\n",
       "      <td>12</td>\n",
       "      <td>17</td>\n",
       "      <td>33</td>\n",
       "    </tr>\n",
       "    <tr>\n",
       "      <th>B</th>\n",
       "      <td>39</td>\n",
       "      <td>37</td>\n",
       "      <td>19</td>\n",
       "    </tr>\n",
       "  </tbody>\n",
       "</table>\n",
       "</div>"
      ],
      "text/plain": [
       "    C   D   E\n",
       "A  12  17  33\n",
       "B  39  37  19"
      ]
     },
     "execution_count": 12,
     "metadata": {},
     "output_type": "execute_result"
    }
   ],
   "source": [
    "#creating dataframe using array_2 and giving row, column name\n",
    "df_1 = pd.DataFrame(array_2, ['A','B'], ['C','D','E'])\n",
    "df_1"
   ]
  },
  {
   "cell_type": "code",
   "execution_count": 13,
   "metadata": {
    "id": "cT184vULSRGH"
   },
   "outputs": [
    {
     "data": {
      "text/html": [
       "<div>\n",
       "<style scoped>\n",
       "    .dataframe tbody tr th:only-of-type {\n",
       "        vertical-align: middle;\n",
       "    }\n",
       "\n",
       "    .dataframe tbody tr th {\n",
       "        vertical-align: top;\n",
       "    }\n",
       "\n",
       "    .dataframe thead th {\n",
       "        text-align: right;\n",
       "    }\n",
       "</style>\n",
       "<table border=\"1\" class=\"dataframe\">\n",
       "  <thead>\n",
       "    <tr style=\"text-align: right;\">\n",
       "      <th></th>\n",
       "      <th>one</th>\n",
       "      <th>two</th>\n",
       "    </tr>\n",
       "  </thead>\n",
       "  <tbody>\n",
       "    <tr>\n",
       "      <th>a</th>\n",
       "      <td>1.0</td>\n",
       "      <td>1.0</td>\n",
       "    </tr>\n",
       "    <tr>\n",
       "      <th>b</th>\n",
       "      <td>2.0</td>\n",
       "      <td>2.0</td>\n",
       "    </tr>\n",
       "    <tr>\n",
       "      <th>c</th>\n",
       "      <td>3.0</td>\n",
       "      <td>3.0</td>\n",
       "    </tr>\n",
       "    <tr>\n",
       "      <th>d</th>\n",
       "      <td>NaN</td>\n",
       "      <td>4.0</td>\n",
       "    </tr>\n",
       "  </tbody>\n",
       "</table>\n",
       "</div>"
      ],
      "text/plain": [
       "   one  two\n",
       "a  1.0  1.0\n",
       "b  2.0  2.0\n",
       "c  3.0  3.0\n",
       "d  NaN  4.0"
      ]
     },
     "execution_count": 13,
     "metadata": {},
     "output_type": "execute_result"
    }
   ],
   "source": [
    "#creating dataframe dictionary and series\n",
    "dict_3 = {'one': pd.Series([1.,2.,3.], index=['a','b','c']),\n",
    "          'two':pd.Series([1.,2.,3.,4.], index=['a','b','c','d'])}\n",
    "df_2 = pd.DataFrame(dict_3)\n",
    "df_2"
   ]
  },
  {
   "cell_type": "code",
   "execution_count": 14,
   "metadata": {
    "id": "vweuPCgxTzpB"
   },
   "outputs": [
    {
     "data": {
      "text/html": [
       "<div>\n",
       "<style scoped>\n",
       "    .dataframe tbody tr th:only-of-type {\n",
       "        vertical-align: middle;\n",
       "    }\n",
       "\n",
       "    .dataframe tbody tr th {\n",
       "        vertical-align: top;\n",
       "    }\n",
       "\n",
       "    .dataframe thead th {\n",
       "        text-align: right;\n",
       "    }\n",
       "</style>\n",
       "<table border=\"1\" class=\"dataframe\">\n",
       "  <thead>\n",
       "    <tr style=\"text-align: right;\">\n",
       "      <th></th>\n",
       "      <th>A</th>\n",
       "      <th>B</th>\n",
       "    </tr>\n",
       "  </thead>\n",
       "  <tbody>\n",
       "    <tr>\n",
       "      <th>0</th>\n",
       "      <td>1</td>\n",
       "      <td>4</td>\n",
       "    </tr>\n",
       "    <tr>\n",
       "      <th>1</th>\n",
       "      <td>2</td>\n",
       "      <td>5</td>\n",
       "    </tr>\n",
       "    <tr>\n",
       "      <th>2</th>\n",
       "      <td>3</td>\n",
       "      <td>6</td>\n",
       "    </tr>\n",
       "  </tbody>\n",
       "</table>\n",
       "</div>"
      ],
      "text/plain": [
       "   A  B\n",
       "0  1  4\n",
       "1  2  5\n",
       "2  3  6"
      ]
     },
     "execution_count": 14,
     "metadata": {},
     "output_type": "execute_result"
    }
   ],
   "source": [
    "#creating dataframe using 'from_dict'\n",
    "\n",
    "pd.DataFrame.from_dict(dict([('A', [1,2,3]), ('B', [4,5,6])]))"
   ]
  },
  {
   "cell_type": "code",
   "execution_count": 15,
   "metadata": {
    "id": "EVK2JQGaVr_U"
   },
   "outputs": [
    {
     "data": {
      "text/html": [
       "<div>\n",
       "<style scoped>\n",
       "    .dataframe tbody tr th:only-of-type {\n",
       "        vertical-align: middle;\n",
       "    }\n",
       "\n",
       "    .dataframe tbody tr th {\n",
       "        vertical-align: top;\n",
       "    }\n",
       "\n",
       "    .dataframe thead th {\n",
       "        text-align: right;\n",
       "    }\n",
       "</style>\n",
       "<table border=\"1\" class=\"dataframe\">\n",
       "  <thead>\n",
       "    <tr style=\"text-align: right;\">\n",
       "      <th></th>\n",
       "      <th>one</th>\n",
       "      <th>two</th>\n",
       "      <th>three</th>\n",
       "    </tr>\n",
       "  </thead>\n",
       "  <tbody>\n",
       "    <tr>\n",
       "      <th>A</th>\n",
       "      <td>1</td>\n",
       "      <td>2</td>\n",
       "      <td>3</td>\n",
       "    </tr>\n",
       "    <tr>\n",
       "      <th>B</th>\n",
       "      <td>4</td>\n",
       "      <td>5</td>\n",
       "      <td>6</td>\n",
       "    </tr>\n",
       "  </tbody>\n",
       "</table>\n",
       "</div>"
      ],
      "text/plain": [
       "   one  two  three\n",
       "A    1    2      3\n",
       "B    4    5      6"
      ]
     },
     "execution_count": 15,
     "metadata": {},
     "output_type": "execute_result"
    }
   ],
   "source": [
    "#creating dataframe using 'from_dict'\n",
    "pd.DataFrame.from_dict(dict([('A', [1,2,3]), ('B', [4,5,6])]),\n",
    "                       orient='index', columns=['one','two','three'])"
   ]
  },
  {
   "cell_type": "code",
   "execution_count": 16,
   "metadata": {
    "id": "2VlO4K0QWXu1"
   },
   "outputs": [
    {
     "name": "stdout",
     "output_type": "stream",
     "text": [
      "(2, 3)\n"
     ]
    }
   ],
   "source": [
    "#get number of rows and columns as tuple\n",
    "print(df_1.shape)"
   ]
  },
  {
   "cell_type": "markdown",
   "metadata": {
    "id": "0NlnJdUcYSOn"
   },
   "source": [
    "**Editing & Retrieving Data**"
   ]
  },
  {
   "cell_type": "code",
   "execution_count": 17,
   "metadata": {
    "id": "LeH05sgY-rnt"
   },
   "outputs": [
    {
     "name": "stdout",
     "output_type": "stream",
     "text": [
      "df_1:\n",
      "    C   D   E\n",
      "A  12  17  33\n",
      "B  39  37  19 \n",
      "\n",
      "Retrieving a single column:\n"
     ]
    },
    {
     "data": {
      "text/plain": [
       "A    12\n",
       "B    39\n",
       "Name: C, dtype: int32"
      ]
     },
     "execution_count": 17,
     "metadata": {},
     "output_type": "execute_result"
    }
   ],
   "source": [
    "#retrieving a single column\n",
    "\n",
    "#printing again for reference\n",
    "print(\"df_1:\")\n",
    "print(df_1,\"\\n\")\n",
    "\n",
    "#new code\n",
    "print(\"Retrieving a single column:\")\n",
    "df_1['C']"
   ]
  },
  {
   "cell_type": "code",
   "execution_count": 18,
   "metadata": {
    "id": "c1VDXt8A_mnH"
   },
   "outputs": [
    {
     "name": "stdout",
     "output_type": "stream",
     "text": [
      "df_1:\n",
      "    C   D   E\n",
      "A  12  17  33\n",
      "B  39  37  19 \n",
      "\n",
      "Retrieving a multiple columns:\n"
     ]
    },
    {
     "data": {
      "text/html": [
       "<div>\n",
       "<style scoped>\n",
       "    .dataframe tbody tr th:only-of-type {\n",
       "        vertical-align: middle;\n",
       "    }\n",
       "\n",
       "    .dataframe tbody tr th {\n",
       "        vertical-align: top;\n",
       "    }\n",
       "\n",
       "    .dataframe thead th {\n",
       "        text-align: right;\n",
       "    }\n",
       "</style>\n",
       "<table border=\"1\" class=\"dataframe\">\n",
       "  <thead>\n",
       "    <tr style=\"text-align: right;\">\n",
       "      <th></th>\n",
       "      <th>C</th>\n",
       "      <th>E</th>\n",
       "    </tr>\n",
       "  </thead>\n",
       "  <tbody>\n",
       "    <tr>\n",
       "      <th>A</th>\n",
       "      <td>12</td>\n",
       "      <td>33</td>\n",
       "    </tr>\n",
       "    <tr>\n",
       "      <th>B</th>\n",
       "      <td>39</td>\n",
       "      <td>19</td>\n",
       "    </tr>\n",
       "  </tbody>\n",
       "</table>\n",
       "</div>"
      ],
      "text/plain": [
       "    C   E\n",
       "A  12  33\n",
       "B  39  19"
      ]
     },
     "execution_count": 18,
     "metadata": {},
     "output_type": "execute_result"
    }
   ],
   "source": [
    "#retrieving a multiple columns\n",
    "\n",
    "#printing again for reference\n",
    "print(\"df_1:\")\n",
    "print(df_1,\"\\n\")\n",
    "\n",
    "#new code\n",
    "print(\"Retrieving a multiple columns:\")\n",
    "df_1[['C','E']]"
   ]
  },
  {
   "cell_type": "code",
   "execution_count": 19,
   "metadata": {
    "id": "lEtRvHd0_wuR"
   },
   "outputs": [
    {
     "name": "stdout",
     "output_type": "stream",
     "text": [
      "df_1:\n",
      "    C   D   E\n",
      "A  12  17  33\n",
      "B  39  37  19 \n",
      "\n",
      "Retrieving a row as a series:\n"
     ]
    },
    {
     "data": {
      "text/plain": [
       "C    12\n",
       "D    17\n",
       "E    33\n",
       "Name: A, dtype: int32"
      ]
     },
     "execution_count": 19,
     "metadata": {},
     "output_type": "execute_result"
    }
   ],
   "source": [
    "#retrieve a row as a series\n",
    "\n",
    "#printing again for reference\n",
    "print(\"df_1:\")\n",
    "print(df_1,\"\\n\")\n",
    "\n",
    "#new code\n",
    "print(\"Retrieving a row as a series:\")\n",
    "df_1.loc['A']"
   ]
  },
  {
   "cell_type": "code",
   "execution_count": 20,
   "metadata": {
    "id": "ZOEXDel6Abgz"
   },
   "outputs": [
    {
     "name": "stdout",
     "output_type": "stream",
     "text": [
      "df_1:\n",
      "    C   D   E\n",
      "A  12  17  33\n",
      "B  39  37  19 \n",
      "\n",
      "Retrieving a row by index position:\n"
     ]
    },
    {
     "data": {
      "text/plain": [
       "C    12\n",
       "D    17\n",
       "E    33\n",
       "Name: A, dtype: int32"
      ]
     },
     "execution_count": 20,
     "metadata": {},
     "output_type": "execute_result"
    }
   ],
   "source": [
    "#retrieve a row by index position\n",
    "\n",
    "#printing again for reference\n",
    "print(\"df_1:\")\n",
    "print(df_1,\"\\n\")\n",
    "\n",
    "#new code\n",
    "print(\"Retrieving a row by index position:\")\n",
    "df_1.iloc[0]"
   ]
  },
  {
   "cell_type": "code",
   "execution_count": 21,
   "metadata": {
    "id": "zD-_uKYOAvdM"
   },
   "outputs": [
    {
     "name": "stdout",
     "output_type": "stream",
     "text": [
      "df_1:\n",
      "    C   D   E\n",
      "A  12  17  33\n",
      "B  39  37  19 \n",
      "\n",
      "Retrieving a cell with a row and a column:\n"
     ]
    },
    {
     "data": {
      "text/plain": [
       "12"
      ]
     },
     "execution_count": 21,
     "metadata": {},
     "output_type": "execute_result"
    }
   ],
   "source": [
    "#retrieve a cell with a row and a column\n",
    "\n",
    "print(\"df_1:\")\n",
    "print(df_1,\"\\n\")\n",
    "\n",
    "#new code\n",
    "print(\"Retrieving a cell with a row and a column:\")\n",
    "df_1.loc['A','C']"
   ]
  },
  {
   "cell_type": "code",
   "execution_count": 22,
   "metadata": {
    "id": "6cpuIRATBQHs"
   },
   "outputs": [
    {
     "name": "stdout",
     "output_type": "stream",
     "text": [
      "df_1:\n",
      "    C   D   E\n",
      "A  12  17  33\n",
      "B  39  37  19 \n",
      "\n",
      "Retrieving multiple rows and columns:\n"
     ]
    },
    {
     "data": {
      "text/html": [
       "<div>\n",
       "<style scoped>\n",
       "    .dataframe tbody tr th:only-of-type {\n",
       "        vertical-align: middle;\n",
       "    }\n",
       "\n",
       "    .dataframe tbody tr th {\n",
       "        vertical-align: top;\n",
       "    }\n",
       "\n",
       "    .dataframe thead th {\n",
       "        text-align: right;\n",
       "    }\n",
       "</style>\n",
       "<table border=\"1\" class=\"dataframe\">\n",
       "  <thead>\n",
       "    <tr style=\"text-align: right;\">\n",
       "      <th></th>\n",
       "      <th>D</th>\n",
       "      <th>E</th>\n",
       "    </tr>\n",
       "  </thead>\n",
       "  <tbody>\n",
       "    <tr>\n",
       "      <th>A</th>\n",
       "      <td>17</td>\n",
       "      <td>33</td>\n",
       "    </tr>\n",
       "    <tr>\n",
       "      <th>B</th>\n",
       "      <td>37</td>\n",
       "      <td>19</td>\n",
       "    </tr>\n",
       "  </tbody>\n",
       "</table>\n",
       "</div>"
      ],
      "text/plain": [
       "    D   E\n",
       "A  17  33\n",
       "B  37  19"
      ]
     },
     "execution_count": 22,
     "metadata": {},
     "output_type": "execute_result"
    }
   ],
   "source": [
    "#retrieve multiple rows and columns\n",
    "\n",
    "print(\"df_1:\")\n",
    "print(df_1,\"\\n\")\n",
    "\n",
    "#new code\n",
    "print(\"Retrieving multiple rows and columns:\")\n",
    "df_1.loc[('A','B'),('D','E')]"
   ]
  },
  {
   "cell_type": "code",
   "execution_count": 23,
   "metadata": {
    "id": "rAwykusvBvJr"
   },
   "outputs": [
    {
     "data": {
      "text/html": [
       "<div>\n",
       "<style scoped>\n",
       "    .dataframe tbody tr th:only-of-type {\n",
       "        vertical-align: middle;\n",
       "    }\n",
       "\n",
       "    .dataframe tbody tr th {\n",
       "        vertical-align: top;\n",
       "    }\n",
       "\n",
       "    .dataframe thead th {\n",
       "        text-align: right;\n",
       "    }\n",
       "</style>\n",
       "<table border=\"1\" class=\"dataframe\">\n",
       "  <thead>\n",
       "    <tr style=\"text-align: right;\">\n",
       "      <th></th>\n",
       "      <th>C</th>\n",
       "      <th>D</th>\n",
       "      <th>E</th>\n",
       "      <th>Total</th>\n",
       "    </tr>\n",
       "  </thead>\n",
       "  <tbody>\n",
       "    <tr>\n",
       "      <th>A</th>\n",
       "      <td>12</td>\n",
       "      <td>17</td>\n",
       "      <td>33</td>\n",
       "      <td>62</td>\n",
       "    </tr>\n",
       "    <tr>\n",
       "      <th>B</th>\n",
       "      <td>39</td>\n",
       "      <td>37</td>\n",
       "      <td>19</td>\n",
       "      <td>95</td>\n",
       "    </tr>\n",
       "  </tbody>\n",
       "</table>\n",
       "</div>"
      ],
      "text/plain": [
       "    C   D   E  Total\n",
       "A  12  17  33     62\n",
       "B  39  37  19     95"
      ]
     },
     "execution_count": 23,
     "metadata": {},
     "output_type": "execute_result"
    }
   ],
   "source": [
    "#add new column 'Total'\n",
    "df_1['Total'] = df_1['C']+df_1['D']+df_1['E'] \n",
    "#addition of all columns\n",
    "df_1"
   ]
  },
  {
   "cell_type": "code",
   "execution_count": 24,
   "metadata": {
    "id": "MuPJ3I2KCpg9"
   },
   "outputs": [
    {
     "name": "stdout",
     "output_type": "stream",
     "text": [
      "df_2 before:\n",
      "   one  two\n",
      "a  1.0  1.0\n",
      "b  2.0  2.0\n",
      "c  3.0  3.0\n",
      "d  NaN  4.0 \n",
      "\n",
      "df_2 after:\n"
     ]
    },
    {
     "data": {
      "text/html": [
       "<div>\n",
       "<style scoped>\n",
       "    .dataframe tbody tr th:only-of-type {\n",
       "        vertical-align: middle;\n",
       "    }\n",
       "\n",
       "    .dataframe tbody tr th {\n",
       "        vertical-align: top;\n",
       "    }\n",
       "\n",
       "    .dataframe thead th {\n",
       "        text-align: right;\n",
       "    }\n",
       "</style>\n",
       "<table border=\"1\" class=\"dataframe\">\n",
       "  <thead>\n",
       "    <tr style=\"text-align: right;\">\n",
       "      <th></th>\n",
       "      <th>one</th>\n",
       "      <th>two</th>\n",
       "      <th>Multiplication</th>\n",
       "    </tr>\n",
       "  </thead>\n",
       "  <tbody>\n",
       "    <tr>\n",
       "      <th>a</th>\n",
       "      <td>1.0</td>\n",
       "      <td>1.0</td>\n",
       "      <td>1.0</td>\n",
       "    </tr>\n",
       "    <tr>\n",
       "      <th>b</th>\n",
       "      <td>2.0</td>\n",
       "      <td>2.0</td>\n",
       "      <td>4.0</td>\n",
       "    </tr>\n",
       "    <tr>\n",
       "      <th>c</th>\n",
       "      <td>3.0</td>\n",
       "      <td>3.0</td>\n",
       "      <td>9.0</td>\n",
       "    </tr>\n",
       "    <tr>\n",
       "      <th>d</th>\n",
       "      <td>NaN</td>\n",
       "      <td>4.0</td>\n",
       "      <td>NaN</td>\n",
       "    </tr>\n",
       "  </tbody>\n",
       "</table>\n",
       "</div>"
      ],
      "text/plain": [
       "   one  two  Multiplication\n",
       "a  1.0  1.0             1.0\n",
       "b  2.0  2.0             4.0\n",
       "c  3.0  3.0             9.0\n",
       "d  NaN  4.0             NaN"
      ]
     },
     "execution_count": 24,
     "metadata": {},
     "output_type": "execute_result"
    }
   ],
   "source": [
    "#add new column 'Multiplication'\n",
    "\n",
    "print(\"df_2 before:\")\n",
    "print(df_2,\"\\n\") \n",
    "\n",
    "#new code\n",
    "df_2['Multiplication'] = df_2['one']*df_2['two']\n",
    "print(\"df_2 after:\")\n",
    "df_2"
   ]
  },
  {
   "cell_type": "code",
   "execution_count": 25,
   "metadata": {
    "id": "QKSg1wkkDN8V"
   },
   "outputs": [
    {
     "name": "stdout",
     "output_type": "stream",
     "text": [
      "df_1 before:\n",
      "    C   D   E  Total\n",
      "A  12  17  33     62\n",
      "B  39  37  19     95 \n",
      "\n",
      "df_1 after:\n"
     ]
    },
    {
     "data": {
      "text/html": [
       "<div>\n",
       "<style scoped>\n",
       "    .dataframe tbody tr th:only-of-type {\n",
       "        vertical-align: middle;\n",
       "    }\n",
       "\n",
       "    .dataframe tbody tr th {\n",
       "        vertical-align: top;\n",
       "    }\n",
       "\n",
       "    .dataframe thead th {\n",
       "        text-align: right;\n",
       "    }\n",
       "</style>\n",
       "<table border=\"1\" class=\"dataframe\">\n",
       "  <thead>\n",
       "    <tr style=\"text-align: right;\">\n",
       "      <th></th>\n",
       "      <th>C</th>\n",
       "      <th>D</th>\n",
       "      <th>E</th>\n",
       "      <th>Total</th>\n",
       "    </tr>\n",
       "  </thead>\n",
       "  <tbody>\n",
       "    <tr>\n",
       "      <th>A</th>\n",
       "      <td>12.0</td>\n",
       "      <td>17.0</td>\n",
       "      <td>33.0</td>\n",
       "      <td>62.0</td>\n",
       "    </tr>\n",
       "    <tr>\n",
       "      <th>B</th>\n",
       "      <td>39.0</td>\n",
       "      <td>37.0</td>\n",
       "      <td>19.0</td>\n",
       "      <td>95.0</td>\n",
       "    </tr>\n",
       "    <tr>\n",
       "      <th>F</th>\n",
       "      <td>44.0</td>\n",
       "      <td>45.0</td>\n",
       "      <td>46.0</td>\n",
       "      <td>NaN</td>\n",
       "    </tr>\n",
       "  </tbody>\n",
       "</table>\n",
       "</div>"
      ],
      "text/plain": [
       "      C     D     E  Total\n",
       "A  12.0  17.0  33.0   62.0\n",
       "B  39.0  37.0  19.0   95.0\n",
       "F  44.0  45.0  46.0    NaN"
      ]
     },
     "execution_count": 25,
     "metadata": {},
     "output_type": "execute_result"
    }
   ],
   "source": [
    "#add new row\n",
    "\n",
    "print(\"df_1 before:\")\n",
    "print(df_1,\"\\n\") \n",
    "\n",
    "#new code\n",
    "dict_2 = {'C':44, 'D':45, 'E':46}\n",
    "new_row = pd.Series(dict_2, name='F')\n",
    "df_1 = df_1.append(new_row)\n",
    "print(\"df_1 after:\")\n",
    "df_1\n",
    "\n",
    "# we need to rewrite 'Total' code to get get for new row"
   ]
  },
  {
   "cell_type": "code",
   "execution_count": 26,
   "metadata": {
    "id": "fObI6vr4EHwR"
   },
   "outputs": [
    {
     "name": "stdout",
     "output_type": "stream",
     "text": [
      "df_1 before:\n",
      "      C     D     E  Total\n",
      "A  12.0  17.0  33.0   62.0\n",
      "B  39.0  37.0  19.0   95.0\n",
      "F  44.0  45.0  46.0    NaN \n",
      "\n",
      "df_1 after:\n"
     ]
    },
    {
     "data": {
      "text/html": [
       "<div>\n",
       "<style scoped>\n",
       "    .dataframe tbody tr th:only-of-type {\n",
       "        vertical-align: middle;\n",
       "    }\n",
       "\n",
       "    .dataframe tbody tr th {\n",
       "        vertical-align: top;\n",
       "    }\n",
       "\n",
       "    .dataframe thead th {\n",
       "        text-align: right;\n",
       "    }\n",
       "</style>\n",
       "<table border=\"1\" class=\"dataframe\">\n",
       "  <thead>\n",
       "    <tr style=\"text-align: right;\">\n",
       "      <th></th>\n",
       "      <th>C</th>\n",
       "      <th>D</th>\n",
       "      <th>E</th>\n",
       "    </tr>\n",
       "  </thead>\n",
       "  <tbody>\n",
       "    <tr>\n",
       "      <th>A</th>\n",
       "      <td>12.0</td>\n",
       "      <td>17.0</td>\n",
       "      <td>33.0</td>\n",
       "    </tr>\n",
       "    <tr>\n",
       "      <th>B</th>\n",
       "      <td>39.0</td>\n",
       "      <td>37.0</td>\n",
       "      <td>19.0</td>\n",
       "    </tr>\n",
       "    <tr>\n",
       "      <th>F</th>\n",
       "      <td>44.0</td>\n",
       "      <td>45.0</td>\n",
       "      <td>46.0</td>\n",
       "    </tr>\n",
       "  </tbody>\n",
       "</table>\n",
       "</div>"
      ],
      "text/plain": [
       "      C     D     E\n",
       "A  12.0  17.0  33.0\n",
       "B  39.0  37.0  19.0\n",
       "F  44.0  45.0  46.0"
      ]
     },
     "execution_count": 26,
     "metadata": {},
     "output_type": "execute_result"
    }
   ],
   "source": [
    "#delete column\n",
    "\n",
    "print(\"df_1 before:\")\n",
    "print(df_1,\"\\n\") \n",
    "\n",
    "#new code\n",
    "df_1.drop('Total', axis=1, inplace=True)\n",
    "#delete 'Total' column\n",
    "#axis value is 1 for column\n",
    "# inplace=True updates the dataframe\n",
    "print(\"df_1 after:\")\n",
    "df_1"
   ]
  },
  {
   "cell_type": "code",
   "execution_count": 27,
   "metadata": {
    "id": "TBpDdbDJEiA0"
   },
   "outputs": [
    {
     "name": "stdout",
     "output_type": "stream",
     "text": [
      "df_1 before:\n",
      "      C     D     E\n",
      "A  12.0  17.0  33.0\n",
      "B  39.0  37.0  19.0\n",
      "F  44.0  45.0  46.0 \n",
      "\n",
      "df_1 after:\n"
     ]
    },
    {
     "data": {
      "text/html": [
       "<div>\n",
       "<style scoped>\n",
       "    .dataframe tbody tr th:only-of-type {\n",
       "        vertical-align: middle;\n",
       "    }\n",
       "\n",
       "    .dataframe tbody tr th {\n",
       "        vertical-align: top;\n",
       "    }\n",
       "\n",
       "    .dataframe thead th {\n",
       "        text-align: right;\n",
       "    }\n",
       "</style>\n",
       "<table border=\"1\" class=\"dataframe\">\n",
       "  <thead>\n",
       "    <tr style=\"text-align: right;\">\n",
       "      <th></th>\n",
       "      <th>C</th>\n",
       "      <th>D</th>\n",
       "      <th>E</th>\n",
       "    </tr>\n",
       "  </thead>\n",
       "  <tbody>\n",
       "    <tr>\n",
       "      <th>A</th>\n",
       "      <td>12.0</td>\n",
       "      <td>17.0</td>\n",
       "      <td>33.0</td>\n",
       "    </tr>\n",
       "    <tr>\n",
       "      <th>F</th>\n",
       "      <td>44.0</td>\n",
       "      <td>45.0</td>\n",
       "      <td>46.0</td>\n",
       "    </tr>\n",
       "  </tbody>\n",
       "</table>\n",
       "</div>"
      ],
      "text/plain": [
       "      C     D     E\n",
       "A  12.0  17.0  33.0\n",
       "F  44.0  45.0  46.0"
      ]
     },
     "execution_count": 27,
     "metadata": {},
     "output_type": "execute_result"
    }
   ],
   "source": [
    "#delete row\n",
    "\n",
    "print(\"df_1 before:\")\n",
    "print(df_1,\"\\n\") \n",
    "\n",
    "#new code\n",
    "df_1.drop('B', axis=0, inplace=True)\n",
    "#delete 'B' row\n",
    "#axis value is  for row\n",
    "print(\"df_1 after:\")\n",
    "df_1"
   ]
  },
  {
   "cell_type": "code",
   "execution_count": 28,
   "metadata": {
    "id": "ryawS-mAFCKF"
   },
   "outputs": [
    {
     "name": "stdout",
     "output_type": "stream",
     "text": [
      "df_1 before:\n",
      "      C     D     E\n",
      "A  12.0  17.0  33.0\n",
      "F  44.0  45.0  46.0 \n",
      "\n",
      "df_1 after:\n"
     ]
    },
    {
     "data": {
      "text/html": [
       "<div>\n",
       "<style scoped>\n",
       "    .dataframe tbody tr th:only-of-type {\n",
       "        vertical-align: middle;\n",
       "    }\n",
       "\n",
       "    .dataframe tbody tr th {\n",
       "        vertical-align: top;\n",
       "    }\n",
       "\n",
       "    .dataframe thead th {\n",
       "        text-align: right;\n",
       "    }\n",
       "</style>\n",
       "<table border=\"1\" class=\"dataframe\">\n",
       "  <thead>\n",
       "    <tr style=\"text-align: right;\">\n",
       "      <th></th>\n",
       "      <th>C</th>\n",
       "      <th>D</th>\n",
       "      <th>E</th>\n",
       "    </tr>\n",
       "    <tr>\n",
       "      <th>Sex</th>\n",
       "      <th></th>\n",
       "      <th></th>\n",
       "      <th></th>\n",
       "    </tr>\n",
       "  </thead>\n",
       "  <tbody>\n",
       "    <tr>\n",
       "      <th>Men</th>\n",
       "      <td>12.0</td>\n",
       "      <td>17.0</td>\n",
       "      <td>33.0</td>\n",
       "    </tr>\n",
       "    <tr>\n",
       "      <th>Women</th>\n",
       "      <td>44.0</td>\n",
       "      <td>45.0</td>\n",
       "      <td>46.0</td>\n",
       "    </tr>\n",
       "  </tbody>\n",
       "</table>\n",
       "</div>"
      ],
      "text/plain": [
       "          C     D     E\n",
       "Sex                    \n",
       "Men    12.0  17.0  33.0\n",
       "Women  44.0  45.0  46.0"
      ]
     },
     "execution_count": 28,
     "metadata": {},
     "output_type": "execute_result"
    }
   ],
   "source": [
    "#create a new column and make it the index\n",
    "\n",
    "print(\"df_1 before:\")\n",
    "print(df_1,\"\\n\")  \n",
    "\n",
    "#new code\n",
    "df_1['Sex'] = ['Men', 'Women']\n",
    "df_1.set_index('Sex', inplace=True)\n",
    "print(\"df_1 after:\")\n",
    "df_1"
   ]
  },
  {
   "cell_type": "code",
   "execution_count": 29,
   "metadata": {
    "id": "9wuoKPAOFxNg"
   },
   "outputs": [
    {
     "name": "stdout",
     "output_type": "stream",
     "text": [
      "df_1 before:\n",
      "          C     D     E\n",
      "Sex                    \n",
      "Men    12.0  17.0  33.0\n",
      "Women  44.0  45.0  46.0 \n",
      "\n",
      "df_1 after:\n"
     ]
    },
    {
     "data": {
      "text/html": [
       "<div>\n",
       "<style scoped>\n",
       "    .dataframe tbody tr th:only-of-type {\n",
       "        vertical-align: middle;\n",
       "    }\n",
       "\n",
       "    .dataframe tbody tr th {\n",
       "        vertical-align: top;\n",
       "    }\n",
       "\n",
       "    .dataframe thead th {\n",
       "        text-align: right;\n",
       "    }\n",
       "</style>\n",
       "<table border=\"1\" class=\"dataframe\">\n",
       "  <thead>\n",
       "    <tr style=\"text-align: right;\">\n",
       "      <th></th>\n",
       "      <th>Sex</th>\n",
       "      <th>C</th>\n",
       "      <th>D</th>\n",
       "      <th>E</th>\n",
       "    </tr>\n",
       "  </thead>\n",
       "  <tbody>\n",
       "    <tr>\n",
       "      <th>0</th>\n",
       "      <td>Men</td>\n",
       "      <td>12.0</td>\n",
       "      <td>17.0</td>\n",
       "      <td>33.0</td>\n",
       "    </tr>\n",
       "    <tr>\n",
       "      <th>1</th>\n",
       "      <td>Women</td>\n",
       "      <td>44.0</td>\n",
       "      <td>45.0</td>\n",
       "      <td>46.0</td>\n",
       "    </tr>\n",
       "  </tbody>\n",
       "</table>\n",
       "</div>"
      ],
      "text/plain": [
       "     Sex     C     D     E\n",
       "0    Men  12.0  17.0  33.0\n",
       "1  Women  44.0  45.0  46.0"
      ]
     },
     "execution_count": 29,
     "metadata": {},
     "output_type": "execute_result"
    }
   ],
   "source": [
    "#reset index to 0 and 1\n",
    "\n",
    "print(\"df_1 before:\")\n",
    "print(df_1,\"\\n\")  \n",
    "\n",
    "#new code\n",
    "df_1.reset_index(inplace=True)\n",
    "print(\"df_1 after:\")\n",
    "df_1"
   ]
  },
  {
   "cell_type": "code",
   "execution_count": 30,
   "metadata": {
    "id": "c2RQb2fLLFdB"
   },
   "outputs": [
    {
     "data": {
      "text/html": [
       "<div>\n",
       "<style scoped>\n",
       "    .dataframe tbody tr th:only-of-type {\n",
       "        vertical-align: middle;\n",
       "    }\n",
       "\n",
       "    .dataframe tbody tr th {\n",
       "        vertical-align: top;\n",
       "    }\n",
       "\n",
       "    .dataframe thead th {\n",
       "        text-align: right;\n",
       "    }\n",
       "</style>\n",
       "<table border=\"1\" class=\"dataframe\">\n",
       "  <thead>\n",
       "    <tr style=\"text-align: right;\">\n",
       "      <th></th>\n",
       "      <th>C</th>\n",
       "      <th>D</th>\n",
       "      <th>E</th>\n",
       "    </tr>\n",
       "  </thead>\n",
       "  <tbody>\n",
       "    <tr>\n",
       "      <th>A</th>\n",
       "      <td>12</td>\n",
       "      <td>17</td>\n",
       "      <td>33</td>\n",
       "    </tr>\n",
       "    <tr>\n",
       "      <th>B</th>\n",
       "      <td>39</td>\n",
       "      <td>37</td>\n",
       "      <td>19</td>\n",
       "    </tr>\n",
       "  </tbody>\n",
       "</table>\n",
       "</div>"
      ],
      "text/plain": [
       "    C   D   E\n",
       "A  12  17  33\n",
       "B  39  37  19"
      ]
     },
     "execution_count": 30,
     "metadata": {},
     "output_type": "execute_result"
    }
   ],
   "source": [
    "#reset df_1 to orginal form\n",
    "df_1 = pd.DataFrame(array_2, ['A','B'], ['C','D','E'])\n",
    "df_1"
   ]
  },
  {
   "cell_type": "code",
   "execution_count": 31,
   "metadata": {
    "id": "9QIY_NSzLkO3"
   },
   "outputs": [
    {
     "name": "stdout",
     "output_type": "stream",
     "text": [
      "df_2:\n",
      "   one  two  Multiplication\n",
      "a  1.0  1.0             1.0\n",
      "b  2.0  2.0             4.0\n",
      "c  3.0  3.0             9.0\n",
      "d  NaN  4.0             NaN \n",
      "\n"
     ]
    },
    {
     "data": {
      "text/html": [
       "<div>\n",
       "<style scoped>\n",
       "    .dataframe tbody tr th:only-of-type {\n",
       "        vertical-align: middle;\n",
       "    }\n",
       "\n",
       "    .dataframe tbody tr th {\n",
       "        vertical-align: top;\n",
       "    }\n",
       "\n",
       "    .dataframe thead th {\n",
       "        text-align: right;\n",
       "    }\n",
       "</style>\n",
       "<table border=\"1\" class=\"dataframe\">\n",
       "  <thead>\n",
       "    <tr style=\"text-align: right;\">\n",
       "      <th></th>\n",
       "      <th>one</th>\n",
       "      <th>two</th>\n",
       "      <th>Multiplication</th>\n",
       "      <th>div</th>\n",
       "    </tr>\n",
       "  </thead>\n",
       "  <tbody>\n",
       "    <tr>\n",
       "      <th>a</th>\n",
       "      <td>1.0</td>\n",
       "      <td>1.0</td>\n",
       "      <td>1.0</td>\n",
       "      <td>1.0</td>\n",
       "    </tr>\n",
       "    <tr>\n",
       "      <th>b</th>\n",
       "      <td>2.0</td>\n",
       "      <td>2.0</td>\n",
       "      <td>4.0</td>\n",
       "      <td>1.0</td>\n",
       "    </tr>\n",
       "    <tr>\n",
       "      <th>c</th>\n",
       "      <td>3.0</td>\n",
       "      <td>3.0</td>\n",
       "      <td>9.0</td>\n",
       "      <td>1.0</td>\n",
       "    </tr>\n",
       "    <tr>\n",
       "      <th>d</th>\n",
       "      <td>NaN</td>\n",
       "      <td>4.0</td>\n",
       "      <td>NaN</td>\n",
       "      <td>NaN</td>\n",
       "    </tr>\n",
       "  </tbody>\n",
       "</table>\n",
       "</div>"
      ],
      "text/plain": [
       "   one  two  Multiplication  div\n",
       "a  1.0  1.0             1.0  1.0\n",
       "b  2.0  2.0             4.0  1.0\n",
       "c  3.0  3.0             9.0  1.0\n",
       "d  NaN  4.0             NaN  NaN"
      ]
     },
     "execution_count": 31,
     "metadata": {},
     "output_type": "execute_result"
    }
   ],
   "source": [
    "# add column using 'lambda'\n",
    "\n",
    "print(\"df_2:\")\n",
    "print(df_2,\"\\n\") \n",
    "\n",
    "#new code\n",
    "df_2.assign(div=lambda x: (x['one']/ x['two']))\n",
    "#OR\n",
    "#df_2.assign(div=df_2['one']/df_2['two'])) #will give same output"
   ]
  },
  {
   "cell_type": "code",
   "execution_count": 32,
   "metadata": {
    "id": "50pbybmyMNDt"
   },
   "outputs": [
    {
     "name": "stdout",
     "output_type": "stream",
     "text": [
      "df_3:\n",
      "     A\n",
      "0  1.0\n",
      "1  NaN\n",
      "2  3.0\n",
      "3  NaN \n",
      "\n",
      "df_4:\n",
      "     A\n",
      "0  8.0\n",
      "1  9.0\n",
      "2  2.0\n",
      "3  4.0 \n",
      "\n",
      "\n",
      "df_3 after combining:\n"
     ]
    },
    {
     "data": {
      "text/html": [
       "<div>\n",
       "<style scoped>\n",
       "    .dataframe tbody tr th:only-of-type {\n",
       "        vertical-align: middle;\n",
       "    }\n",
       "\n",
       "    .dataframe tbody tr th {\n",
       "        vertical-align: top;\n",
       "    }\n",
       "\n",
       "    .dataframe thead th {\n",
       "        text-align: right;\n",
       "    }\n",
       "</style>\n",
       "<table border=\"1\" class=\"dataframe\">\n",
       "  <thead>\n",
       "    <tr style=\"text-align: right;\">\n",
       "      <th></th>\n",
       "      <th>A</th>\n",
       "    </tr>\n",
       "  </thead>\n",
       "  <tbody>\n",
       "    <tr>\n",
       "      <th>0</th>\n",
       "      <td>1.0</td>\n",
       "    </tr>\n",
       "    <tr>\n",
       "      <th>1</th>\n",
       "      <td>9.0</td>\n",
       "    </tr>\n",
       "    <tr>\n",
       "      <th>2</th>\n",
       "      <td>3.0</td>\n",
       "    </tr>\n",
       "    <tr>\n",
       "      <th>3</th>\n",
       "      <td>4.0</td>\n",
       "    </tr>\n",
       "  </tbody>\n",
       "</table>\n",
       "</div>"
      ],
      "text/plain": [
       "     A\n",
       "0  1.0\n",
       "1  9.0\n",
       "2  3.0\n",
       "3  4.0"
      ]
     },
     "execution_count": 32,
     "metadata": {},
     "output_type": "execute_result"
    }
   ],
   "source": [
    "#combining 2 dataframes\n",
    "\n",
    "df_3 = pd.DataFrame({'A': [1.,np.nan,3.,np.nan]})\n",
    "print(\"df_3:\")\n",
    "print(df_3,\"\\n\") \n",
    "df_4 = pd.DataFrame({'A': [8.,9.,2.,4.]})\n",
    "print(\"df_4:\")\n",
    "print(df_4,\"\\n\") \n",
    "\n",
    "#combining\n",
    "print(\"\\ndf_3 after combining:\")\n",
    "df_3.combine_first(df_4)"
   ]
  },
  {
   "cell_type": "markdown",
   "metadata": {
    "id": "dBRy9izZOE68"
   },
   "source": [
    "**Conditional Selection**"
   ]
  },
  {
   "cell_type": "code",
   "execution_count": 33,
   "metadata": {
    "id": "NToiTmRlOI9h"
   },
   "outputs": [
    {
     "name": "stdout",
     "output_type": "stream",
     "text": [
      "array_2:\n",
      "[[21 16 38]\n",
      " [27 32 19]]\n",
      "\n",
      "df_1:\n"
     ]
    },
    {
     "data": {
      "text/html": [
       "<div>\n",
       "<style scoped>\n",
       "    .dataframe tbody tr th:only-of-type {\n",
       "        vertical-align: middle;\n",
       "    }\n",
       "\n",
       "    .dataframe tbody tr th {\n",
       "        vertical-align: top;\n",
       "    }\n",
       "\n",
       "    .dataframe thead th {\n",
       "        text-align: right;\n",
       "    }\n",
       "</style>\n",
       "<table border=\"1\" class=\"dataframe\">\n",
       "  <thead>\n",
       "    <tr style=\"text-align: right;\">\n",
       "      <th></th>\n",
       "      <th>C</th>\n",
       "      <th>D</th>\n",
       "      <th>E</th>\n",
       "    </tr>\n",
       "  </thead>\n",
       "  <tbody>\n",
       "    <tr>\n",
       "      <th>A</th>\n",
       "      <td>21</td>\n",
       "      <td>16</td>\n",
       "      <td>38</td>\n",
       "    </tr>\n",
       "    <tr>\n",
       "      <th>B</th>\n",
       "      <td>27</td>\n",
       "      <td>32</td>\n",
       "      <td>19</td>\n",
       "    </tr>\n",
       "  </tbody>\n",
       "</table>\n",
       "</div>"
      ],
      "text/plain": [
       "    C   D   E\n",
       "A  21  16  38\n",
       "B  27  32  19"
      ]
     },
     "execution_count": 33,
     "metadata": {},
     "output_type": "execute_result"
    }
   ],
   "source": [
    "#creating an array and a dataframe\n",
    "\n",
    "array_2 = np.random.randint(10,50, size=(2,3))\n",
    "print('array_2:')\n",
    "print(array_2)\n",
    "\n",
    "df_1 = pd.DataFrame(array_2, ['A','B'], ['C','D','E'])\n",
    "print('\\ndf_1:')\n",
    "df_1"
   ]
  },
  {
   "cell_type": "code",
   "execution_count": 34,
   "metadata": {
    "id": "mE3i3OXJPE3i"
   },
   "outputs": [
    {
     "name": "stdout",
     "output_type": "stream",
     "text": [
      "df_1:\n",
      "    C   D   E\n",
      "A  21  16  38\n",
      "B  27  32  19\n",
      "\n",
      "Greater than 40 using '>':\n",
      "       C      D      E\n",
      "A  False  False  False\n",
      "B  False  False  False\n",
      "\n",
      "Greater than 40 using 'gt()':\n",
      "       C      D      E\n",
      "A  False  False  False\n",
      "B  False  False  False\n"
     ]
    }
   ],
   "source": [
    "#greater than\n",
    "\n",
    "print('df_1:')\n",
    "print(df_1)\n",
    "\n",
    "#new code\n",
    "print(\"\\nGreater than 40 using '>':\")\n",
    "print(df_1>40) \n",
    "print(\"\\nGreater than 40 using 'gt()':\")\n",
    "print(df_1.gt(40.0))\n",
    "\n",
    "# we can also use:\n",
    "# lt() - less than\n",
    "# ge() - greater than equal to\n",
    "# le() - less than equal to\n",
    "# eq() - equal to\n",
    "# ne() - not equal to"
   ]
  },
  {
   "cell_type": "code",
   "execution_count": 35,
   "metadata": {
    "id": "gz92pIbeQjd2"
   },
   "outputs": [
    {
     "name": "stdout",
     "output_type": "stream",
     "text": [
      "df_1:\n",
      "    C   D   E\n",
      "A  21  16  38\n",
      "B  27  32  19\n",
      "\n",
      "New code output:\n"
     ]
    },
    {
     "data": {
      "text/html": [
       "<div>\n",
       "<style scoped>\n",
       "    .dataframe tbody tr th:only-of-type {\n",
       "        vertical-align: middle;\n",
       "    }\n",
       "\n",
       "    .dataframe tbody tr th {\n",
       "        vertical-align: top;\n",
       "    }\n",
       "\n",
       "    .dataframe thead th {\n",
       "        text-align: right;\n",
       "    }\n",
       "</style>\n",
       "<table border=\"1\" class=\"dataframe\">\n",
       "  <thead>\n",
       "    <tr style=\"text-align: right;\">\n",
       "      <th></th>\n",
       "      <th>C</th>\n",
       "      <th>D</th>\n",
       "      <th>E</th>\n",
       "    </tr>\n",
       "  </thead>\n",
       "  <tbody>\n",
       "    <tr>\n",
       "      <th>A</th>\n",
       "      <td>NaN</td>\n",
       "      <td>NaN</td>\n",
       "      <td>NaN</td>\n",
       "    </tr>\n",
       "    <tr>\n",
       "      <th>B</th>\n",
       "      <td>NaN</td>\n",
       "      <td>NaN</td>\n",
       "      <td>NaN</td>\n",
       "    </tr>\n",
       "  </tbody>\n",
       "</table>\n",
       "</div>"
      ],
      "text/plain": [
       "    C   D   E\n",
       "A NaN NaN NaN\n",
       "B NaN NaN NaN"
      ]
     },
     "execution_count": 35,
     "metadata": {},
     "output_type": "execute_result"
    }
   ],
   "source": [
    "# one more method for greater than\n",
    "\n",
    "print('df_1:')\n",
    "print(df_1)\n",
    "\n",
    "#new code\n",
    "print(\"\\nNew code output:\")\n",
    "bool_1 = df_1 >= 40.0\n",
    "df_1[bool_1]"
   ]
  },
  {
   "cell_type": "code",
   "execution_count": 36,
   "metadata": {
    "id": "2IWeaXgTRDkn"
   },
   "outputs": [
    {
     "name": "stdout",
     "output_type": "stream",
     "text": [
      "df_1:\n",
      "    C   D   E\n",
      "A  21  16  38\n",
      "B  27  32  19\n",
      "\n",
      "Boolean for column:\n"
     ]
    },
    {
     "data": {
      "text/plain": [
       "A    False\n",
       "B    False\n",
       "Name: E, dtype: bool"
      ]
     },
     "execution_count": 36,
     "metadata": {},
     "output_type": "execute_result"
    }
   ],
   "source": [
    "# boolean for column\n",
    "\n",
    "print('df_1:')\n",
    "print(df_1) \n",
    "\n",
    "#new code\n",
    "print(\"\\nBoolean for column:\")\n",
    "df_1['E'] > 40"
   ]
  },
  {
   "cell_type": "code",
   "execution_count": 37,
   "metadata": {
    "id": "oG-c8VjlSpVp"
   },
   "outputs": [
    {
     "name": "stdout",
     "output_type": "stream",
     "text": [
      "df_1:\n",
      "    C   D   E\n",
      "A  21  16  38\n",
      "B  27  32  19\n",
      "New code output:\n"
     ]
    },
    {
     "data": {
      "text/plain": [
       "A    21\n",
       "Name: C, dtype: int32"
      ]
     },
     "execution_count": 37,
     "metadata": {},
     "output_type": "execute_result"
    }
   ],
   "source": [
    "# boolean for column(return the dataframe)\n",
    "\n",
    "print('df_1:')\n",
    "print(df_1) \n",
    "\n",
    "#new code\n",
    "print(\"New code output:\")\n",
    "df_2 = df_1[df_1['E'] > 30]\n",
    "df_2['C']"
   ]
  },
  {
   "cell_type": "code",
   "execution_count": 38,
   "metadata": {
    "id": "OZT-ZFilTHKU"
   },
   "outputs": [
    {
     "name": "stdout",
     "output_type": "stream",
     "text": [
      "df_1:\n",
      "    C   D   E\n",
      "A  21  16  38\n",
      "B  27  32  19\n",
      "\n",
      "New code output:\n",
      "A    21\n",
      "Name: C, dtype: int32\n"
     ]
    }
   ],
   "source": [
    "# stacking the commands\n",
    "\n",
    "print('df_1:')\n",
    "print(df_1) \n",
    "\n",
    "#new code\n",
    "print(\"\\nNew code output:\")\n",
    "print(df_1[df_1['E']>20]['C'])"
   ]
  },
  {
   "cell_type": "code",
   "execution_count": 39,
   "metadata": {
    "id": "UF1YhAFzT_6h"
   },
   "outputs": [
    {
     "data": {
      "text/html": [
       "<div>\n",
       "<style scoped>\n",
       "    .dataframe tbody tr th:only-of-type {\n",
       "        vertical-align: middle;\n",
       "    }\n",
       "\n",
       "    .dataframe tbody tr th {\n",
       "        vertical-align: top;\n",
       "    }\n",
       "\n",
       "    .dataframe thead th {\n",
       "        text-align: right;\n",
       "    }\n",
       "</style>\n",
       "<table border=\"1\" class=\"dataframe\">\n",
       "  <thead>\n",
       "    <tr style=\"text-align: right;\">\n",
       "      <th></th>\n",
       "      <th>X</th>\n",
       "      <th>Y</th>\n",
       "      <th>Z</th>\n",
       "    </tr>\n",
       "  </thead>\n",
       "  <tbody>\n",
       "    <tr>\n",
       "      <th>A</th>\n",
       "      <td>1</td>\n",
       "      <td>2</td>\n",
       "      <td>3</td>\n",
       "    </tr>\n",
       "    <tr>\n",
       "      <th>B</th>\n",
       "      <td>4</td>\n",
       "      <td>5</td>\n",
       "      <td>6</td>\n",
       "    </tr>\n",
       "    <tr>\n",
       "      <th>C</th>\n",
       "      <td>7</td>\n",
       "      <td>8</td>\n",
       "      <td>9</td>\n",
       "    </tr>\n",
       "  </tbody>\n",
       "</table>\n",
       "</div>"
      ],
      "text/plain": [
       "   X  Y  Z\n",
       "A  1  2  3\n",
       "B  4  5  6\n",
       "C  7  8  9"
      ]
     },
     "execution_count": 39,
     "metadata": {},
     "output_type": "execute_result"
    }
   ],
   "source": [
    "#creating a new dataframe\n",
    "array_3 = np.array([[1,2,3],[4,5,6],[7,8,9]])\n",
    "df_2 = pd.DataFrame(array_3, ['A','B','C'], ['X','Y','Z'])\n",
    "df_2"
   ]
  },
  {
   "cell_type": "code",
   "execution_count": 40,
   "metadata": {
    "id": "J-Mb9YD4UfzB"
   },
   "outputs": [
    {
     "name": "stdout",
     "output_type": "stream",
     "text": [
      "df_2:\n",
      "   X  Y  Z\n",
      "A  1  2  3\n",
      "B  4  5  6\n",
      "C  7  8  9\n",
      "\n",
      "New code output:\n"
     ]
    },
    {
     "data": {
      "text/html": [
       "<div>\n",
       "<style scoped>\n",
       "    .dataframe tbody tr th:only-of-type {\n",
       "        vertical-align: middle;\n",
       "    }\n",
       "\n",
       "    .dataframe tbody tr th {\n",
       "        vertical-align: top;\n",
       "    }\n",
       "\n",
       "    .dataframe thead th {\n",
       "        text-align: right;\n",
       "    }\n",
       "</style>\n",
       "<table border=\"1\" class=\"dataframe\">\n",
       "  <thead>\n",
       "    <tr style=\"text-align: right;\">\n",
       "      <th></th>\n",
       "      <th>X</th>\n",
       "      <th>Y</th>\n",
       "      <th>Z</th>\n",
       "    </tr>\n",
       "  </thead>\n",
       "  <tbody>\n",
       "    <tr>\n",
       "      <th>B</th>\n",
       "      <td>4</td>\n",
       "      <td>5</td>\n",
       "      <td>6</td>\n",
       "    </tr>\n",
       "  </tbody>\n",
       "</table>\n",
       "</div>"
      ],
      "text/plain": [
       "   X  Y  Z\n",
       "B  4  5  6"
      ]
     },
     "execution_count": 40,
     "metadata": {},
     "output_type": "execute_result"
    }
   ],
   "source": [
    "# using 'and(&)'\n",
    "\n",
    "print(\"df_2:\")\n",
    "print(df_2) \n",
    "\n",
    "#new code\n",
    "print(\"\\nNew code output:\")\n",
    "df_2[(df_2['X']>3) & (df_2['X']<7)]\n",
    "\n",
    "# we can also use '|' instead of '&'"
   ]
  },
  {
   "cell_type": "markdown",
   "metadata": {
    "id": "6WvkHcYCVR_4"
   },
   "source": [
    "**File Input/Output**"
   ]
  },
  {
   "cell_type": "code",
   "execution_count": 41,
   "metadata": {
    "id": "9Z88B3vRVZWX"
   },
   "outputs": [],
   "source": [
    "# !pip install pymysql\n",
    "# import pymysql"
   ]
  },
  {
   "cell_type": "code",
   "execution_count": 42,
   "metadata": {
    "id": "h9gcxv22Vuyq"
   },
   "outputs": [
    {
     "data": {
      "text/html": [
       "<div>\n",
       "<style scoped>\n",
       "    .dataframe tbody tr th:only-of-type {\n",
       "        vertical-align: middle;\n",
       "    }\n",
       "\n",
       "    .dataframe tbody tr th {\n",
       "        vertical-align: top;\n",
       "    }\n",
       "\n",
       "    .dataframe thead th {\n",
       "        text-align: right;\n",
       "    }\n",
       "</style>\n",
       "<table border=\"1\" class=\"dataframe\">\n",
       "  <thead>\n",
       "    <tr style=\"text-align: right;\">\n",
       "      <th></th>\n",
       "      <th>Sale ID</th>\n",
       "      <th>Contact</th>\n",
       "      <th>Sex</th>\n",
       "      <th>Age</th>\n",
       "      <th>State</th>\n",
       "      <th>Product ID</th>\n",
       "      <th>Product Type</th>\n",
       "      <th>Sale Price</th>\n",
       "      <th>Profit</th>\n",
       "      <th>Lead</th>\n",
       "      <th>Month</th>\n",
       "      <th>Year</th>\n",
       "    </tr>\n",
       "  </thead>\n",
       "  <tbody>\n",
       "    <tr>\n",
       "      <th>0</th>\n",
       "      <td>1</td>\n",
       "      <td>Paul Thomas</td>\n",
       "      <td>M</td>\n",
       "      <td>43</td>\n",
       "      <td>OH</td>\n",
       "      <td>M01-F0024</td>\n",
       "      <td>Desktop</td>\n",
       "      <td>479.99</td>\n",
       "      <td>143.39</td>\n",
       "      <td>Website</td>\n",
       "      <td>January</td>\n",
       "      <td>2018</td>\n",
       "    </tr>\n",
       "    <tr>\n",
       "      <th>1</th>\n",
       "      <td>2</td>\n",
       "      <td>Margo Simms</td>\n",
       "      <td>F</td>\n",
       "      <td>37</td>\n",
       "      <td>WV</td>\n",
       "      <td>GT13-0024</td>\n",
       "      <td>Desktop</td>\n",
       "      <td>1249.99</td>\n",
       "      <td>230.89</td>\n",
       "      <td>Flyer 4</td>\n",
       "      <td>January</td>\n",
       "      <td>2018</td>\n",
       "    </tr>\n",
       "    <tr>\n",
       "      <th>2</th>\n",
       "      <td>3</td>\n",
       "      <td>Sam Stine</td>\n",
       "      <td>M</td>\n",
       "      <td>26</td>\n",
       "      <td>PA</td>\n",
       "      <td>I3670</td>\n",
       "      <td>Desktop</td>\n",
       "      <td>649.99</td>\n",
       "      <td>118.64</td>\n",
       "      <td>Website</td>\n",
       "      <td>February</td>\n",
       "      <td>2018</td>\n",
       "    </tr>\n",
       "    <tr>\n",
       "      <th>3</th>\n",
       "      <td>4</td>\n",
       "      <td>Moe Eggert</td>\n",
       "      <td>M</td>\n",
       "      <td>35</td>\n",
       "      <td>PA</td>\n",
       "      <td>I3593</td>\n",
       "      <td>Laptop</td>\n",
       "      <td>399.99</td>\n",
       "      <td>72.09</td>\n",
       "      <td>Website</td>\n",
       "      <td>March</td>\n",
       "      <td>2018</td>\n",
       "    </tr>\n",
       "    <tr>\n",
       "      <th>4</th>\n",
       "      <td>5</td>\n",
       "      <td>Jessica Elk</td>\n",
       "      <td>F</td>\n",
       "      <td>55</td>\n",
       "      <td>PA</td>\n",
       "      <td>15M-ED</td>\n",
       "      <td>Laptop</td>\n",
       "      <td>699.99</td>\n",
       "      <td>98.09</td>\n",
       "      <td>Flyer 4</td>\n",
       "      <td>March</td>\n",
       "      <td>2018</td>\n",
       "    </tr>\n",
       "  </tbody>\n",
       "</table>\n",
       "</div>"
      ],
      "text/plain": [
       "   Sale ID      Contact Sex  Age State Product ID Product Type  Sale Price  \\\n",
       "0        1  Paul Thomas   M   43    OH  M01-F0024      Desktop      479.99   \n",
       "1        2  Margo Simms   F   37    WV  GT13-0024      Desktop     1249.99   \n",
       "2        3    Sam Stine   M   26    PA      I3670      Desktop      649.99   \n",
       "3        4   Moe Eggert   M   35    PA      I3593       Laptop      399.99   \n",
       "4        5  Jessica Elk   F   55    PA     15M-ED       Laptop      699.99   \n",
       "\n",
       "   Profit     Lead     Month  Year  \n",
       "0  143.39  Website   January  2018  \n",
       "1  230.89  Flyer 4   January  2018  \n",
       "2  118.64  Website  February  2018  \n",
       "3   72.09  Website     March  2018  \n",
       "4   98.09  Flyer 4     March  2018  "
      ]
     },
     "execution_count": 42,
     "metadata": {},
     "output_type": "execute_result"
    }
   ],
   "source": [
    "#read a csv file\n",
    "\n",
    "cs_df = pd.read_csv(r'C:\\Users\\AKSHAY\\Desktop\\ML\\Datasets\\ComputerSales.csv')\n",
    "cs_df.head()"
   ]
  },
  {
   "cell_type": "code",
   "execution_count": 43,
   "metadata": {
    "id": "qiSz6DS_SZjX"
   },
   "outputs": [],
   "source": [
    "##save a file as a csv\n",
    "#cs_df.to_csv('Computer_Sales.csv')"
   ]
  },
  {
   "cell_type": "code",
   "execution_count": 44,
   "metadata": {
    "id": "V4UIvJfjTC9g"
   },
   "outputs": [],
   "source": [
    "##save file as a excel\n",
    "# cs_df.to_excel('ComputerSales.xlsx')\n",
    "\n",
    "##open the excel file\n",
    "#pd.read_excel('ComputerSales.xlsx')"
   ]
  },
  {
   "cell_type": "markdown",
   "metadata": {
    "id": "8oyUiScPp166"
   },
   "source": [
    "**Basics & Maths**"
   ]
  },
  {
   "cell_type": "code",
   "execution_count": 45,
   "metadata": {
    "id": "zMABy98dp6lI"
   },
   "outputs": [
    {
     "data": {
      "text/html": [
       "<div>\n",
       "<style scoped>\n",
       "    .dataframe tbody tr th:only-of-type {\n",
       "        vertical-align: middle;\n",
       "    }\n",
       "\n",
       "    .dataframe tbody tr th {\n",
       "        vertical-align: top;\n",
       "    }\n",
       "\n",
       "    .dataframe thead th {\n",
       "        text-align: right;\n",
       "    }\n",
       "</style>\n",
       "<table border=\"1\" class=\"dataframe\">\n",
       "  <thead>\n",
       "    <tr style=\"text-align: right;\">\n",
       "      <th></th>\n",
       "      <th>Sale ID</th>\n",
       "      <th>Contact</th>\n",
       "      <th>Sex</th>\n",
       "      <th>Age</th>\n",
       "      <th>State</th>\n",
       "      <th>Product ID</th>\n",
       "      <th>Product Type</th>\n",
       "      <th>Sale Price</th>\n",
       "      <th>Profit</th>\n",
       "      <th>Lead</th>\n",
       "      <th>Month</th>\n",
       "      <th>Year</th>\n",
       "    </tr>\n",
       "  </thead>\n",
       "  <tbody>\n",
       "    <tr>\n",
       "      <th>0</th>\n",
       "      <td>1</td>\n",
       "      <td>Paul Thomas</td>\n",
       "      <td>M</td>\n",
       "      <td>43</td>\n",
       "      <td>OH</td>\n",
       "      <td>M01-F0024</td>\n",
       "      <td>Desktop</td>\n",
       "      <td>479.99</td>\n",
       "      <td>143.39</td>\n",
       "      <td>Website</td>\n",
       "      <td>January</td>\n",
       "      <td>2018</td>\n",
       "    </tr>\n",
       "    <tr>\n",
       "      <th>1</th>\n",
       "      <td>2</td>\n",
       "      <td>Margo Simms</td>\n",
       "      <td>F</td>\n",
       "      <td>37</td>\n",
       "      <td>WV</td>\n",
       "      <td>GT13-0024</td>\n",
       "      <td>Desktop</td>\n",
       "      <td>1249.99</td>\n",
       "      <td>230.89</td>\n",
       "      <td>Flyer 4</td>\n",
       "      <td>January</td>\n",
       "      <td>2018</td>\n",
       "    </tr>\n",
       "    <tr>\n",
       "      <th>2</th>\n",
       "      <td>3</td>\n",
       "      <td>Sam Stine</td>\n",
       "      <td>M</td>\n",
       "      <td>26</td>\n",
       "      <td>PA</td>\n",
       "      <td>I3670</td>\n",
       "      <td>Desktop</td>\n",
       "      <td>649.99</td>\n",
       "      <td>118.64</td>\n",
       "      <td>Website</td>\n",
       "      <td>February</td>\n",
       "      <td>2018</td>\n",
       "    </tr>\n",
       "    <tr>\n",
       "      <th>3</th>\n",
       "      <td>4</td>\n",
       "      <td>Moe Eggert</td>\n",
       "      <td>M</td>\n",
       "      <td>35</td>\n",
       "      <td>PA</td>\n",
       "      <td>I3593</td>\n",
       "      <td>Laptop</td>\n",
       "      <td>399.99</td>\n",
       "      <td>72.09</td>\n",
       "      <td>Website</td>\n",
       "      <td>March</td>\n",
       "      <td>2018</td>\n",
       "    </tr>\n",
       "    <tr>\n",
       "      <th>4</th>\n",
       "      <td>5</td>\n",
       "      <td>Jessica Elk</td>\n",
       "      <td>F</td>\n",
       "      <td>55</td>\n",
       "      <td>PA</td>\n",
       "      <td>15M-ED</td>\n",
       "      <td>Laptop</td>\n",
       "      <td>699.99</td>\n",
       "      <td>98.09</td>\n",
       "      <td>Flyer 4</td>\n",
       "      <td>March</td>\n",
       "      <td>2018</td>\n",
       "    </tr>\n",
       "  </tbody>\n",
       "</table>\n",
       "</div>"
      ],
      "text/plain": [
       "   Sale ID      Contact Sex  Age State Product ID Product Type  Sale Price  \\\n",
       "0        1  Paul Thomas   M   43    OH  M01-F0024      Desktop      479.99   \n",
       "1        2  Margo Simms   F   37    WV  GT13-0024      Desktop     1249.99   \n",
       "2        3    Sam Stine   M   26    PA      I3670      Desktop      649.99   \n",
       "3        4   Moe Eggert   M   35    PA      I3593       Laptop      399.99   \n",
       "4        5  Jessica Elk   F   55    PA     15M-ED       Laptop      699.99   \n",
       "\n",
       "   Profit     Lead     Month  Year  \n",
       "0  143.39  Website   January  2018  \n",
       "1  230.89  Flyer 4   January  2018  \n",
       "2  118.64  Website  February  2018  \n",
       "3   72.09  Website     March  2018  \n",
       "4   98.09  Flyer 4     March  2018  "
      ]
     },
     "execution_count": 45,
     "metadata": {},
     "output_type": "execute_result"
    }
   ],
   "source": [
    "#to get first 5 rows of dataset\n",
    "cs_df.head()"
   ]
  },
  {
   "cell_type": "code",
   "execution_count": 46,
   "metadata": {
    "id": "TzugYQ5Pq01N"
   },
   "outputs": [
    {
     "data": {
      "text/html": [
       "<div>\n",
       "<style scoped>\n",
       "    .dataframe tbody tr th:only-of-type {\n",
       "        vertical-align: middle;\n",
       "    }\n",
       "\n",
       "    .dataframe tbody tr th {\n",
       "        vertical-align: top;\n",
       "    }\n",
       "\n",
       "    .dataframe thead th {\n",
       "        text-align: right;\n",
       "    }\n",
       "</style>\n",
       "<table border=\"1\" class=\"dataframe\">\n",
       "  <thead>\n",
       "    <tr style=\"text-align: right;\">\n",
       "      <th></th>\n",
       "      <th>Sale ID</th>\n",
       "      <th>Contact</th>\n",
       "      <th>Sex</th>\n",
       "      <th>Age</th>\n",
       "      <th>State</th>\n",
       "      <th>Product ID</th>\n",
       "      <th>Product Type</th>\n",
       "      <th>Sale Price</th>\n",
       "      <th>Profit</th>\n",
       "      <th>Lead</th>\n",
       "      <th>Month</th>\n",
       "      <th>Year</th>\n",
       "    </tr>\n",
       "  </thead>\n",
       "  <tbody>\n",
       "    <tr>\n",
       "      <th>34</th>\n",
       "      <td>35</td>\n",
       "      <td>Michelle Samms</td>\n",
       "      <td>F</td>\n",
       "      <td>46</td>\n",
       "      <td>NY</td>\n",
       "      <td>MY2J2LL</td>\n",
       "      <td>Tablet</td>\n",
       "      <td>999.99</td>\n",
       "      <td>146.69</td>\n",
       "      <td>Website</td>\n",
       "      <td>April</td>\n",
       "      <td>2020</td>\n",
       "    </tr>\n",
       "    <tr>\n",
       "      <th>35</th>\n",
       "      <td>36</td>\n",
       "      <td>Sally Struthers</td>\n",
       "      <td>F</td>\n",
       "      <td>45</td>\n",
       "      <td>NY</td>\n",
       "      <td>81TC00</td>\n",
       "      <td>Laptop</td>\n",
       "      <td>649.99</td>\n",
       "      <td>122.34</td>\n",
       "      <td>Website</td>\n",
       "      <td>April</td>\n",
       "      <td>2020</td>\n",
       "    </tr>\n",
       "    <tr>\n",
       "      <th>36</th>\n",
       "      <td>37</td>\n",
       "      <td>Jason Case</td>\n",
       "      <td>M</td>\n",
       "      <td>57</td>\n",
       "      <td>PA</td>\n",
       "      <td>M01-F0024</td>\n",
       "      <td>Desktop</td>\n",
       "      <td>479.99</td>\n",
       "      <td>143.39</td>\n",
       "      <td>Flyer 4</td>\n",
       "      <td>April</td>\n",
       "      <td>2020</td>\n",
       "    </tr>\n",
       "    <tr>\n",
       "      <th>37</th>\n",
       "      <td>38</td>\n",
       "      <td>Doug Johnson</td>\n",
       "      <td>M</td>\n",
       "      <td>51</td>\n",
       "      <td>PA</td>\n",
       "      <td>GA401IV</td>\n",
       "      <td>Laptop</td>\n",
       "      <td>1349.99</td>\n",
       "      <td>180.34</td>\n",
       "      <td>Website</td>\n",
       "      <td>May</td>\n",
       "      <td>2020</td>\n",
       "    </tr>\n",
       "    <tr>\n",
       "      <th>38</th>\n",
       "      <td>39</td>\n",
       "      <td>Moe Eggert</td>\n",
       "      <td>M</td>\n",
       "      <td>35</td>\n",
       "      <td>PA</td>\n",
       "      <td>I3593</td>\n",
       "      <td>Laptop</td>\n",
       "      <td>399.99</td>\n",
       "      <td>72.09</td>\n",
       "      <td>Website</td>\n",
       "      <td>May</td>\n",
       "      <td>2020</td>\n",
       "    </tr>\n",
       "  </tbody>\n",
       "</table>\n",
       "</div>"
      ],
      "text/plain": [
       "    Sale ID          Contact Sex  Age State Product ID Product Type  \\\n",
       "34       35   Michelle Samms   F   46    NY    MY2J2LL       Tablet   \n",
       "35       36  Sally Struthers   F   45    NY     81TC00       Laptop   \n",
       "36       37       Jason Case   M   57    PA  M01-F0024      Desktop   \n",
       "37       38     Doug Johnson   M   51    PA    GA401IV       Laptop   \n",
       "38       39       Moe Eggert   M   35    PA      I3593       Laptop   \n",
       "\n",
       "    Sale Price  Profit     Lead  Month  Year  \n",
       "34      999.99  146.69  Website  April  2020  \n",
       "35      649.99  122.34  Website  April  2020  \n",
       "36      479.99  143.39  Flyer 4  April  2020  \n",
       "37     1349.99  180.34  Website    May  2020  \n",
       "38      399.99   72.09  Website    May  2020  "
      ]
     },
     "execution_count": 46,
     "metadata": {},
     "output_type": "execute_result"
    }
   ],
   "source": [
    "#to get last 5 rows of dataset\n",
    "cs_df.tail()"
   ]
  },
  {
   "cell_type": "code",
   "execution_count": 47,
   "metadata": {
    "id": "Hvhk4LMbq6xJ"
   },
   "outputs": [
    {
     "data": {
      "text/html": [
       "<div>\n",
       "<style scoped>\n",
       "    .dataframe tbody tr th:only-of-type {\n",
       "        vertical-align: middle;\n",
       "    }\n",
       "\n",
       "    .dataframe tbody tr th {\n",
       "        vertical-align: top;\n",
       "    }\n",
       "\n",
       "    .dataframe thead th {\n",
       "        text-align: right;\n",
       "    }\n",
       "</style>\n",
       "<table border=\"1\" class=\"dataframe\">\n",
       "  <thead>\n",
       "    <tr style=\"text-align: right;\">\n",
       "      <th></th>\n",
       "      <th>Sale ID</th>\n",
       "      <th>Contact</th>\n",
       "      <th>Sex</th>\n",
       "      <th>Age</th>\n",
       "      <th>State</th>\n",
       "      <th>Product ID</th>\n",
       "      <th>Product Type</th>\n",
       "      <th>Sale Price</th>\n",
       "      <th>Profit</th>\n",
       "      <th>Lead</th>\n",
       "      <th>Month</th>\n",
       "      <th>Year</th>\n",
       "    </tr>\n",
       "  </thead>\n",
       "  <tbody>\n",
       "    <tr>\n",
       "      <th>0</th>\n",
       "      <td>1</td>\n",
       "      <td>Paul Thomas</td>\n",
       "      <td>M</td>\n",
       "      <td>43</td>\n",
       "      <td>OH</td>\n",
       "      <td>M01-F0024</td>\n",
       "      <td>Desktop</td>\n",
       "      <td>479.99</td>\n",
       "      <td>143.39</td>\n",
       "      <td>Website</td>\n",
       "      <td>January</td>\n",
       "      <td>2018</td>\n",
       "    </tr>\n",
       "    <tr>\n",
       "      <th>1</th>\n",
       "      <td>2</td>\n",
       "      <td>Margo Simms</td>\n",
       "      <td>F</td>\n",
       "      <td>37</td>\n",
       "      <td>WV</td>\n",
       "      <td>GT13-0024</td>\n",
       "      <td>Desktop</td>\n",
       "      <td>1249.99</td>\n",
       "      <td>230.89</td>\n",
       "      <td>Flyer 4</td>\n",
       "      <td>January</td>\n",
       "      <td>2018</td>\n",
       "    </tr>\n",
       "  </tbody>\n",
       "</table>\n",
       "</div>"
      ],
      "text/plain": [
       "   Sale ID      Contact Sex  Age State Product ID Product Type  Sale Price  \\\n",
       "0        1  Paul Thomas   M   43    OH  M01-F0024      Desktop      479.99   \n",
       "1        2  Margo Simms   F   37    WV  GT13-0024      Desktop     1249.99   \n",
       "\n",
       "   Profit     Lead    Month  Year  \n",
       "0  143.39  Website  January  2018  \n",
       "1  230.89  Flyer 4  January  2018  "
      ]
     },
     "execution_count": 47,
     "metadata": {},
     "output_type": "execute_result"
    }
   ],
   "source": [
    "#to get first 2 rows when can slice as \n",
    "cs_df[:2]"
   ]
  },
  {
   "cell_type": "code",
   "execution_count": 48,
   "metadata": {
    "id": "V1O1G9rwrPSL"
   },
   "outputs": [
    {
     "data": {
      "text/html": [
       "<div>\n",
       "<style scoped>\n",
       "    .dataframe tbody tr th:only-of-type {\n",
       "        vertical-align: middle;\n",
       "    }\n",
       "\n",
       "    .dataframe tbody tr th {\n",
       "        vertical-align: top;\n",
       "    }\n",
       "\n",
       "    .dataframe thead th {\n",
       "        text-align: right;\n",
       "    }\n",
       "</style>\n",
       "<table border=\"1\" class=\"dataframe\">\n",
       "  <thead>\n",
       "    <tr style=\"text-align: right;\">\n",
       "      <th></th>\n",
       "      <th>Sale ID</th>\n",
       "      <th>Contact</th>\n",
       "      <th>Sex</th>\n",
       "      <th>Age</th>\n",
       "      <th>State</th>\n",
       "      <th>Product ID</th>\n",
       "      <th>Product Type</th>\n",
       "      <th>Sale Price</th>\n",
       "      <th>Profit</th>\n",
       "      <th>Lead</th>\n",
       "      <th>Month</th>\n",
       "      <th>Year</th>\n",
       "    </tr>\n",
       "  </thead>\n",
       "  <tbody>\n",
       "    <tr>\n",
       "      <th>0</th>\n",
       "      <td>1</td>\n",
       "      <td>Paul Thomas</td>\n",
       "      <td>M</td>\n",
       "      <td>43</td>\n",
       "      <td>OH</td>\n",
       "      <td>M01-F0024</td>\n",
       "      <td>Desktop</td>\n",
       "      <td>479.99</td>\n",
       "      <td>143.39</td>\n",
       "      <td>Website</td>\n",
       "      <td>January</td>\n",
       "      <td>2018</td>\n",
       "    </tr>\n",
       "    <tr>\n",
       "      <th>2</th>\n",
       "      <td>3</td>\n",
       "      <td>Sam Stine</td>\n",
       "      <td>M</td>\n",
       "      <td>26</td>\n",
       "      <td>PA</td>\n",
       "      <td>I3670</td>\n",
       "      <td>Desktop</td>\n",
       "      <td>649.99</td>\n",
       "      <td>118.64</td>\n",
       "      <td>Website</td>\n",
       "      <td>February</td>\n",
       "      <td>2018</td>\n",
       "    </tr>\n",
       "    <tr>\n",
       "      <th>4</th>\n",
       "      <td>5</td>\n",
       "      <td>Jessica Elk</td>\n",
       "      <td>F</td>\n",
       "      <td>55</td>\n",
       "      <td>PA</td>\n",
       "      <td>15M-ED</td>\n",
       "      <td>Laptop</td>\n",
       "      <td>699.99</td>\n",
       "      <td>98.09</td>\n",
       "      <td>Flyer 4</td>\n",
       "      <td>March</td>\n",
       "      <td>2018</td>\n",
       "    </tr>\n",
       "  </tbody>\n",
       "</table>\n",
       "</div>"
      ],
      "text/plain": [
       "   Sale ID      Contact Sex  Age State Product ID Product Type  Sale Price  \\\n",
       "0        1  Paul Thomas   M   43    OH  M01-F0024      Desktop      479.99   \n",
       "2        3    Sam Stine   M   26    PA      I3670      Desktop      649.99   \n",
       "4        5  Jessica Elk   F   55    PA     15M-ED       Laptop      699.99   \n",
       "\n",
       "   Profit     Lead     Month  Year  \n",
       "0  143.39  Website   January  2018  \n",
       "2  118.64  Website  February  2018  \n",
       "4   98.09  Flyer 4     March  2018  "
      ]
     },
     "execution_count": 48,
     "metadata": {},
     "output_type": "execute_result"
    }
   ],
   "source": [
    "#get first 5 rows at a step of 2 i.e. row number 0,2,4\n",
    "cs_df[:5:2]"
   ]
  },
  {
   "cell_type": "code",
   "execution_count": 49,
   "metadata": {
    "id": "3oyQ8DPSreOd"
   },
   "outputs": [
    {
     "data": {
      "text/plain": [
       "<PandasArray>\n",
       "[ 0,  1,  2,  3,  4,  5,  6,  7,  8,  9, 10, 11, 12, 13, 14, 15, 16, 17, 18,\n",
       " 19, 20, 21, 22, 23, 24, 25, 26, 27, 28, 29, 30, 31, 32, 33, 34, 35, 36, 37,\n",
       " 38]\n",
       "Length: 39, dtype: int64"
      ]
     },
     "execution_count": 49,
     "metadata": {},
     "output_type": "execute_result"
    }
   ],
   "source": [
    "#find all the indexes in the dataset\n",
    "cs_df.index.array"
   ]
  },
  {
   "cell_type": "code",
   "execution_count": 50,
   "metadata": {
    "id": "t1QN2wWGrmnJ"
   },
   "outputs": [
    {
     "data": {
      "text/plain": [
       "<bound method DataFrame.to_numpy of     Sale ID          Contact Sex  Age State Product ID Product Type  \\\n",
       "0         1      Paul Thomas   M   43    OH  M01-F0024      Desktop   \n",
       "1         2      Margo Simms   F   37    WV  GT13-0024      Desktop   \n",
       "2         3        Sam Stine   M   26    PA      I3670      Desktop   \n",
       "3         4       Moe Eggert   M   35    PA      I3593       Laptop   \n",
       "4         5      Jessica Elk   F   55    PA     15M-ED       Laptop   \n",
       "5         6  Sally Struthers   F   45    PA  GT13-0024      Desktop   \n",
       "6         7   Michelle Samms   F   46    OH    GA401IV       Laptop   \n",
       "7         8     Mick Roberts   M   23    OH    MY2J2LL       Tablet   \n",
       "8         9      Ed Klondike   M   52    OH     81TC00       Laptop   \n",
       "9        10       Phil Jones   M   56    WV  M01-F0024      Desktop   \n",
       "10       11       Rick James   M   49    PA    GA401IV       Laptop   \n",
       "11       12         Sue Etna   F   54    OH  GT13-0024      Desktop   \n",
       "12       13       Jason Case   M   57    PA     81TC00       Laptop   \n",
       "13       14     Doug Johnson   M   51    PA      I3670      Desktop   \n",
       "14       15       Andy Sands   M   56    OH    MY2J2LL       Tablet   \n",
       "15       16      Kim Collins   F   49    PA      I3593       Laptop   \n",
       "16       17     Edna Sanders   F   46    OH     15M-ED       Laptop   \n",
       "17       18   Michelle Samms   F   46    NY    MY2J2LL       Tablet   \n",
       "18       19     Mick Roberts   M   23    PA      I3593       Laptop   \n",
       "19       20  Sally Struthers   F   45    NY     81TC00       Laptop   \n",
       "20       21       Jason Case   M   57    PA  M01-F0024      Desktop   \n",
       "21       22     Doug Johnson   M   51    PA    GA401IV       Laptop   \n",
       "22       23      Paul Thomas   M   43    OH     81TC00       Laptop   \n",
       "23       24      Margo Simms   F   37    WV     Q526FA       Laptop   \n",
       "24       25   Michelle Samms   F   46    NY      I3670      Desktop   \n",
       "25       26     Mick Roberts   M   23    PA     Q526FA       Laptop   \n",
       "26       27      Ed Klondike   M   52    OH     Q526FA       Laptop   \n",
       "27       28       Moe Eggert   M   35    PA     15M-ED       Laptop   \n",
       "28       29      Jessica Elk   F   55    PA    GA401IV       Laptop   \n",
       "29       30       Phil Jones   M   56    WV  M01-F0024      Desktop   \n",
       "30       31       Rick James   M   49    PA    GA401IV       Laptop   \n",
       "31       32         Sue Etna   F   54    OH  GT13-0024      Desktop   \n",
       "32       33      Kim Collins   F   49    PA      I3593       Laptop   \n",
       "33       34     Edna Sanders   F   46    OH     15M-ED       Laptop   \n",
       "34       35   Michelle Samms   F   46    NY    MY2J2LL       Tablet   \n",
       "35       36  Sally Struthers   F   45    NY     81TC00       Laptop   \n",
       "36       37       Jason Case   M   57    PA  M01-F0024      Desktop   \n",
       "37       38     Doug Johnson   M   51    PA    GA401IV       Laptop   \n",
       "38       39       Moe Eggert   M   35    PA      I3593       Laptop   \n",
       "\n",
       "    Sale Price  Profit     Lead     Month  Year  \n",
       "0       479.99  143.39  Website   January  2018  \n",
       "1      1249.99  230.89  Flyer 4   January  2018  \n",
       "2       649.99  118.64  Website  February  2018  \n",
       "3       399.99   72.09  Website     March  2018  \n",
       "4       699.99   98.09  Flyer 4     March  2018  \n",
       "5      1249.99  230.89  Flyer 2     April  2018  \n",
       "6      1349.99  180.34    Email       May  2018  \n",
       "7       999.99  146.69  Website      July  2018  \n",
       "8       649.99  122.34    Email      July  2018  \n",
       "9       479.99  143.39  Flyer 2    August  2018  \n",
       "10     1349.99  180.34  Flyer 3  November  2018  \n",
       "11     1249.99  230.89  Flyer 2  November  2018  \n",
       "12      649.99  122.34    Email  November  2018  \n",
       "13      649.99  118.64  Website  December  2018  \n",
       "14      999.99  146.69  Flyer 1  December  2018  \n",
       "15      399.99   72.09  Flyer 2   January  2019  \n",
       "16      699.99   98.09    Email  February  2019  \n",
       "17      999.99  146.69  Website     March  2019  \n",
       "18      399.99   72.09  Flyer 4     March  2019  \n",
       "19      649.99  122.34  Website     April  2019  \n",
       "20      479.99  143.39  Flyer 4       May  2019  \n",
       "21     1349.99  180.34  Website    August  2019  \n",
       "22      649.99  122.34  Website    August  2019  \n",
       "23     1049.99  143.09  Flyer 4  November  2019  \n",
       "24      649.99  118.64  Flyer 2  November  2019  \n",
       "25     1049.99  143.09    Email  November  2019  \n",
       "26     1049.99  143.09  Website  December  2019  \n",
       "27      699.99   98.09    Email  December  2019  \n",
       "28     1349.99  180.34  Flyer 2  December  2019  \n",
       "29      479.99  143.39  Flyer 2   January  2020  \n",
       "30     1349.99  180.34  Flyer 1   January  2020  \n",
       "31     1249.99  230.89  Flyer 2  February  2020  \n",
       "32      399.99   72.09  Flyer 2     March  2020  \n",
       "33      699.99   98.09    Email     March  2020  \n",
       "34      999.99  146.69  Website     April  2020  \n",
       "35      649.99  122.34  Website     April  2020  \n",
       "36      479.99  143.39  Flyer 4     April  2020  \n",
       "37     1349.99  180.34  Website       May  2020  \n",
       "38      399.99   72.09  Website       May  2020  >"
      ]
     },
     "execution_count": 50,
     "metadata": {},
     "output_type": "execute_result"
    }
   ],
   "source": [
    "#convert to numpy array\n",
    "cs_df.to_numpy"
   ]
  },
  {
   "cell_type": "code",
   "execution_count": 51,
   "metadata": {
    "id": "QJctoRMLr0uO"
   },
   "outputs": [
    {
     "data": {
      "text/plain": [
       "<PandasArray>\n",
       "['a', 'b', 'c', 'd']\n",
       "Length: 4, dtype: object"
      ]
     },
     "execution_count": 51,
     "metadata": {},
     "output_type": "execute_result"
    }
   ],
   "source": [
    "#get array from a series\n",
    "series_1.array"
   ]
  },
  {
   "cell_type": "code",
   "execution_count": 52,
   "metadata": {
    "id": "rvQCuIBhr9gm"
   },
   "outputs": [
    {
     "data": {
      "text/html": [
       "<div>\n",
       "<style scoped>\n",
       "    .dataframe tbody tr th:only-of-type {\n",
       "        vertical-align: middle;\n",
       "    }\n",
       "\n",
       "    .dataframe tbody tr th {\n",
       "        vertical-align: top;\n",
       "    }\n",
       "\n",
       "    .dataframe thead th {\n",
       "        text-align: right;\n",
       "    }\n",
       "</style>\n",
       "<table border=\"1\" class=\"dataframe\">\n",
       "  <thead>\n",
       "    <tr style=\"text-align: right;\">\n",
       "      <th></th>\n",
       "      <th>one</th>\n",
       "      <th>two</th>\n",
       "    </tr>\n",
       "  </thead>\n",
       "  <tbody>\n",
       "    <tr>\n",
       "      <th>a</th>\n",
       "      <td>1.0</td>\n",
       "      <td>1.0</td>\n",
       "    </tr>\n",
       "    <tr>\n",
       "      <th>b</th>\n",
       "      <td>2.0</td>\n",
       "      <td>2.0</td>\n",
       "    </tr>\n",
       "    <tr>\n",
       "      <th>d</th>\n",
       "      <td>NaN</td>\n",
       "      <td>4.0</td>\n",
       "    </tr>\n",
       "    <tr>\n",
       "      <th>e</th>\n",
       "      <td>3.0</td>\n",
       "      <td>3.0</td>\n",
       "    </tr>\n",
       "  </tbody>\n",
       "</table>\n",
       "</div>"
      ],
      "text/plain": [
       "   one  two\n",
       "a  1.0  1.0\n",
       "b  2.0  2.0\n",
       "d  NaN  4.0\n",
       "e  3.0  3.0"
      ]
     },
     "execution_count": 52,
     "metadata": {},
     "output_type": "execute_result"
    }
   ],
   "source": [
    "#creating a dataframe\n",
    "dict_3 = {'one': pd.Series([1.,2.,3.], index=['a','b','e']),\n",
    "          'two': pd.Series([1.,2.,3.,4.], index=['a','b','e','d'])}\n",
    "\n",
    "df_2 = pd.DataFrame(dict_3)\n",
    "df_2"
   ]
  },
  {
   "cell_type": "code",
   "execution_count": 53,
   "metadata": {
    "id": "ko7JI96qs26X"
   },
   "outputs": [
    {
     "name": "stdout",
     "output_type": "stream",
     "text": [
      "df_2:\n",
      "   one  two\n",
      "a  1.0  1.0\n",
      "b  2.0  2.0\n",
      "d  NaN  4.0\n",
      "e  3.0  3.0\n",
      "\n",
      "New code output:\n"
     ]
    },
    {
     "data": {
      "text/html": [
       "<div>\n",
       "<style scoped>\n",
       "    .dataframe tbody tr th:only-of-type {\n",
       "        vertical-align: middle;\n",
       "    }\n",
       "\n",
       "    .dataframe tbody tr th {\n",
       "        vertical-align: top;\n",
       "    }\n",
       "\n",
       "    .dataframe thead th {\n",
       "        text-align: right;\n",
       "    }\n",
       "</style>\n",
       "<table border=\"1\" class=\"dataframe\">\n",
       "  <thead>\n",
       "    <tr style=\"text-align: right;\">\n",
       "      <th></th>\n",
       "      <th>one</th>\n",
       "      <th>two</th>\n",
       "    </tr>\n",
       "  </thead>\n",
       "  <tbody>\n",
       "    <tr>\n",
       "      <th>a</th>\n",
       "      <td>1.0</td>\n",
       "      <td>1.0</td>\n",
       "    </tr>\n",
       "    <tr>\n",
       "      <th>b</th>\n",
       "      <td>2.0</td>\n",
       "      <td>2.0</td>\n",
       "    </tr>\n",
       "    <tr>\n",
       "      <th>d</th>\n",
       "      <td>0.0</td>\n",
       "      <td>4.0</td>\n",
       "    </tr>\n",
       "    <tr>\n",
       "      <th>e</th>\n",
       "      <td>3.0</td>\n",
       "      <td>3.0</td>\n",
       "    </tr>\n",
       "  </tbody>\n",
       "</table>\n",
       "</div>"
      ],
      "text/plain": [
       "   one  two\n",
       "a  1.0  1.0\n",
       "b  2.0  2.0\n",
       "d  0.0  4.0\n",
       "e  3.0  3.0"
      ]
     },
     "execution_count": 53,
     "metadata": {},
     "output_type": "execute_result"
    }
   ],
   "source": [
    "#filling a NaN value with 0\n",
    "\n",
    "print(\"df_2:\")\n",
    "print(df_2) \n",
    "\n",
    "\n",
    "#new code\n",
    "print(\"\\nNew code output:\")\n",
    "df_2 = df_2.fillna(0)\n",
    "df_2"
   ]
  },
  {
   "cell_type": "code",
   "execution_count": 54,
   "metadata": {
    "id": "Ewk897QZtYhp"
   },
   "outputs": [
    {
     "name": "stdout",
     "output_type": "stream",
     "text": [
      "df_2:\n",
      "   one  two\n",
      "a  1.0  1.0\n",
      "b  2.0  2.0\n",
      "d  0.0  4.0\n",
      "e  3.0  3.0\n",
      "\n",
      "New code output:\n"
     ]
    },
    {
     "data": {
      "text/html": [
       "<div>\n",
       "<style scoped>\n",
       "    .dataframe tbody tr th:only-of-type {\n",
       "        vertical-align: middle;\n",
       "    }\n",
       "\n",
       "    .dataframe tbody tr th {\n",
       "        vertical-align: top;\n",
       "    }\n",
       "\n",
       "    .dataframe thead th {\n",
       "        text-align: right;\n",
       "    }\n",
       "</style>\n",
       "<table border=\"1\" class=\"dataframe\">\n",
       "  <thead>\n",
       "    <tr style=\"text-align: right;\">\n",
       "      <th></th>\n",
       "      <th>one</th>\n",
       "      <th>two</th>\n",
       "    </tr>\n",
       "  </thead>\n",
       "  <tbody>\n",
       "    <tr>\n",
       "      <th>a</th>\n",
       "      <td>3.0</td>\n",
       "      <td>3.0</td>\n",
       "    </tr>\n",
       "    <tr>\n",
       "      <th>b</th>\n",
       "      <td>4.0</td>\n",
       "      <td>4.0</td>\n",
       "    </tr>\n",
       "    <tr>\n",
       "      <th>d</th>\n",
       "      <td>2.0</td>\n",
       "      <td>6.0</td>\n",
       "    </tr>\n",
       "    <tr>\n",
       "      <th>e</th>\n",
       "      <td>5.0</td>\n",
       "      <td>5.0</td>\n",
       "    </tr>\n",
       "  </tbody>\n",
       "</table>\n",
       "</div>"
      ],
      "text/plain": [
       "   one  two\n",
       "a  3.0  3.0\n",
       "b  4.0  4.0\n",
       "d  2.0  6.0\n",
       "e  5.0  5.0"
      ]
     },
     "execution_count": 54,
     "metadata": {},
     "output_type": "execute_result"
    }
   ],
   "source": [
    "#add values to row\n",
    "\n",
    "print(\"df_2:\")\n",
    "print(df_2) \n",
    "\n",
    "#new code\n",
    "print(\"\\nNew code output:\")\n",
    "row = df_2.iloc[1]\n",
    "df_2.add(row, axis='columns')\n",
    "#added the second row to all rows(including itself)"
   ]
  },
  {
   "cell_type": "code",
   "execution_count": 55,
   "metadata": {
    "id": "j3PysbedvamG"
   },
   "outputs": [
    {
     "name": "stdout",
     "output_type": "stream",
     "text": [
      "df_2:\n",
      "   one  two\n",
      "a  1.0  1.0\n",
      "b  2.0  2.0\n",
      "d  0.0  4.0\n",
      "e  3.0  3.0\n",
      "\n",
      "New code output:\n"
     ]
    },
    {
     "data": {
      "text/html": [
       "<div>\n",
       "<style scoped>\n",
       "    .dataframe tbody tr th:only-of-type {\n",
       "        vertical-align: middle;\n",
       "    }\n",
       "\n",
       "    .dataframe tbody tr th {\n",
       "        vertical-align: top;\n",
       "    }\n",
       "\n",
       "    .dataframe thead th {\n",
       "        text-align: right;\n",
       "    }\n",
       "</style>\n",
       "<table border=\"1\" class=\"dataframe\">\n",
       "  <thead>\n",
       "    <tr style=\"text-align: right;\">\n",
       "      <th></th>\n",
       "      <th>one</th>\n",
       "      <th>two</th>\n",
       "    </tr>\n",
       "  </thead>\n",
       "  <tbody>\n",
       "    <tr>\n",
       "      <th>a</th>\n",
       "      <td>0.0</td>\n",
       "      <td>0.0</td>\n",
       "    </tr>\n",
       "    <tr>\n",
       "      <th>b</th>\n",
       "      <td>0.0</td>\n",
       "      <td>0.0</td>\n",
       "    </tr>\n",
       "    <tr>\n",
       "      <th>d</th>\n",
       "      <td>-4.0</td>\n",
       "      <td>0.0</td>\n",
       "    </tr>\n",
       "    <tr>\n",
       "      <th>e</th>\n",
       "      <td>0.0</td>\n",
       "      <td>0.0</td>\n",
       "    </tr>\n",
       "  </tbody>\n",
       "</table>\n",
       "</div>"
      ],
      "text/plain": [
       "   one  two\n",
       "a  0.0  0.0\n",
       "b  0.0  0.0\n",
       "d -4.0  0.0\n",
       "e  0.0  0.0"
      ]
     },
     "execution_count": 55,
     "metadata": {},
     "output_type": "execute_result"
    }
   ],
   "source": [
    "#subtract values from columns\n",
    "# column 2 - column 1 and column 2 - column 2\n",
    "\n",
    "print(\"df_2:\")\n",
    "print(df_2) \n",
    "\n",
    "#new code\n",
    "print(\"\\nNew code output:\")\n",
    "col = df_2['two']\n",
    "df_2.sub(col, axis=0)"
   ]
  },
  {
   "cell_type": "code",
   "execution_count": 56,
   "metadata": {
    "id": "PzH9G8MXwAjr"
   },
   "outputs": [
    {
     "data": {
      "text/plain": [
       "False"
      ]
     },
     "execution_count": 56,
     "metadata": {},
     "output_type": "execute_result"
    }
   ],
   "source": [
    "#checking if dataframe is empty\n",
    "df_2.empty"
   ]
  },
  {
   "cell_type": "code",
   "execution_count": 57,
   "metadata": {
    "id": "2Om4qPflwKda"
   },
   "outputs": [
    {
     "data": {
      "text/html": [
       "<div>\n",
       "<style scoped>\n",
       "    .dataframe tbody tr th:only-of-type {\n",
       "        vertical-align: middle;\n",
       "    }\n",
       "\n",
       "    .dataframe tbody tr th {\n",
       "        vertical-align: top;\n",
       "    }\n",
       "\n",
       "    .dataframe thead th {\n",
       "        text-align: right;\n",
       "    }\n",
       "</style>\n",
       "<table border=\"1\" class=\"dataframe\">\n",
       "  <thead>\n",
       "    <tr style=\"text-align: right;\">\n",
       "      <th></th>\n",
       "      <th>A</th>\n",
       "      <th>B</th>\n",
       "    </tr>\n",
       "  </thead>\n",
       "  <tbody>\n",
       "    <tr>\n",
       "      <th>0</th>\n",
       "      <td>0</td>\n",
       "      <td>1</td>\n",
       "    </tr>\n",
       "    <tr>\n",
       "      <th>1</th>\n",
       "      <td>1</td>\n",
       "      <td>2</td>\n",
       "    </tr>\n",
       "    <tr>\n",
       "      <th>2</th>\n",
       "      <td>2</td>\n",
       "      <td>3</td>\n",
       "    </tr>\n",
       "  </tbody>\n",
       "</table>\n",
       "</div>"
      ],
      "text/plain": [
       "   A  B\n",
       "0  0  1\n",
       "1  1  2\n",
       "2  2  3"
      ]
     },
     "execution_count": 57,
     "metadata": {},
     "output_type": "execute_result"
    }
   ],
   "source": [
    "#creating a dataframe\n",
    "df_5 = pd.DataFrame({'A':range(3), 'B':range(1,4)})\n",
    "df_5"
   ]
  },
  {
   "cell_type": "code",
   "execution_count": 58,
   "metadata": {
    "id": "EdLA1aCwwg4q"
   },
   "outputs": [
    {
     "name": "stdout",
     "output_type": "stream",
     "text": [
      "df_5:\n",
      "   A  B\n",
      "0  0  1\n",
      "1  1  2\n",
      "2  2  3\n",
      "\n",
      "New code output:\n"
     ]
    },
    {
     "data": {
      "text/html": [
       "<div>\n",
       "<style scoped>\n",
       "    .dataframe tbody tr th:only-of-type {\n",
       "        vertical-align: middle;\n",
       "    }\n",
       "\n",
       "    .dataframe tbody tr th {\n",
       "        vertical-align: top;\n",
       "    }\n",
       "\n",
       "    .dataframe thead th {\n",
       "        text-align: right;\n",
       "    }\n",
       "</style>\n",
       "<table border=\"1\" class=\"dataframe\">\n",
       "  <thead>\n",
       "    <tr style=\"text-align: right;\">\n",
       "      <th></th>\n",
       "      <th>A</th>\n",
       "      <th>B</th>\n",
       "    </tr>\n",
       "  </thead>\n",
       "  <tbody>\n",
       "    <tr>\n",
       "      <th>0</th>\n",
       "      <td>1</td>\n",
       "      <td>2</td>\n",
       "    </tr>\n",
       "    <tr>\n",
       "      <th>1</th>\n",
       "      <td>2</td>\n",
       "      <td>3</td>\n",
       "    </tr>\n",
       "    <tr>\n",
       "      <th>2</th>\n",
       "      <td>3</td>\n",
       "      <td>4</td>\n",
       "    </tr>\n",
       "  </tbody>\n",
       "</table>\n",
       "</div>"
      ],
      "text/plain": [
       "   A  B\n",
       "0  1  2\n",
       "1  2  3\n",
       "2  3  4"
      ]
     },
     "execution_count": 58,
     "metadata": {},
     "output_type": "execute_result"
    }
   ],
   "source": [
    "#adding 1 to every value in df_5\n",
    "\n",
    "print(\"df_5:\")\n",
    "print(df_5) \n",
    "\n",
    "#new code\n",
    "print(\"\\nNew code output:\")\n",
    "df_5.transform(lambda x: x+1)"
   ]
  },
  {
   "cell_type": "code",
   "execution_count": 59,
   "metadata": {
    "id": "BtwyS_k3xS-h"
   },
   "outputs": [
    {
     "name": "stdout",
     "output_type": "stream",
     "text": [
      "df_5:\n",
      "   A  B\n",
      "0  0  1\n",
      "1  1  2\n",
      "2  2  3\n",
      "\n",
      "New code output:\n"
     ]
    },
    {
     "data": {
      "text/html": [
       "<div>\n",
       "<style scoped>\n",
       "    .dataframe tbody tr th:only-of-type {\n",
       "        vertical-align: middle;\n",
       "    }\n",
       "\n",
       "    .dataframe tbody tr th {\n",
       "        vertical-align: top;\n",
       "    }\n",
       "\n",
       "    .dataframe thead th {\n",
       "        text-align: right;\n",
       "    }\n",
       "</style>\n",
       "<table border=\"1\" class=\"dataframe\">\n",
       "  <thead>\n",
       "    <tr style=\"text-align: right;\">\n",
       "      <th></th>\n",
       "      <th>A</th>\n",
       "      <th>B</th>\n",
       "    </tr>\n",
       "  </thead>\n",
       "  <tbody>\n",
       "    <tr>\n",
       "      <th>0</th>\n",
       "      <td>0.000000</td>\n",
       "      <td>1.000000</td>\n",
       "    </tr>\n",
       "    <tr>\n",
       "      <th>1</th>\n",
       "      <td>1.000000</td>\n",
       "      <td>1.414214</td>\n",
       "    </tr>\n",
       "    <tr>\n",
       "      <th>2</th>\n",
       "      <td>1.414214</td>\n",
       "      <td>1.732051</td>\n",
       "    </tr>\n",
       "  </tbody>\n",
       "</table>\n",
       "</div>"
      ],
      "text/plain": [
       "          A         B\n",
       "0  0.000000  1.000000\n",
       "1  1.000000  1.414214\n",
       "2  1.414214  1.732051"
      ]
     },
     "execution_count": 59,
     "metadata": {},
     "output_type": "execute_result"
    }
   ],
   "source": [
    "#taking sqaure root of all values\n",
    "\n",
    "print(\"df_5:\")\n",
    "print(df_5) \n",
    "\n",
    "#new code\n",
    "print(\"\\nNew code output:\")\n",
    "df_5.transform(lambda x:np.sqrt(x))"
   ]
  },
  {
   "cell_type": "code",
   "execution_count": 60,
   "metadata": {
    "id": "kqeESJcyx2xh"
   },
   "outputs": [
    {
     "name": "stdout",
     "output_type": "stream",
     "text": [
      "df_5:\n",
      "   A  B\n",
      "0  0  1\n",
      "1  1  2\n",
      "2  2  3\n",
      "\n",
      "New code output:\n"
     ]
    },
    {
     "data": {
      "text/html": [
       "<div>\n",
       "<style scoped>\n",
       "    .dataframe tbody tr th:only-of-type {\n",
       "        vertical-align: middle;\n",
       "    }\n",
       "\n",
       "    .dataframe tbody tr th {\n",
       "        vertical-align: top;\n",
       "    }\n",
       "\n",
       "    .dataframe thead tr th {\n",
       "        text-align: left;\n",
       "    }\n",
       "</style>\n",
       "<table border=\"1\" class=\"dataframe\">\n",
       "  <thead>\n",
       "    <tr>\n",
       "      <th></th>\n",
       "      <th colspan=\"2\" halign=\"left\">A</th>\n",
       "      <th colspan=\"2\" halign=\"left\">B</th>\n",
       "    </tr>\n",
       "    <tr>\n",
       "      <th></th>\n",
       "      <th>&lt;lambda&gt;</th>\n",
       "      <th>&lt;lambda&gt;</th>\n",
       "      <th>&lt;lambda&gt;</th>\n",
       "      <th>&lt;lambda&gt;</th>\n",
       "    </tr>\n",
       "  </thead>\n",
       "  <tbody>\n",
       "    <tr>\n",
       "      <th>0</th>\n",
       "      <td>0</td>\n",
       "      <td>0</td>\n",
       "      <td>1</td>\n",
       "      <td>1</td>\n",
       "    </tr>\n",
       "    <tr>\n",
       "      <th>1</th>\n",
       "      <td>1</td>\n",
       "      <td>1</td>\n",
       "      <td>4</td>\n",
       "      <td>8</td>\n",
       "    </tr>\n",
       "    <tr>\n",
       "      <th>2</th>\n",
       "      <td>4</td>\n",
       "      <td>8</td>\n",
       "      <td>9</td>\n",
       "      <td>27</td>\n",
       "    </tr>\n",
       "  </tbody>\n",
       "</table>\n",
       "</div>"
      ],
      "text/plain": [
       "         A                 B         \n",
       "  <lambda> <lambda> <lambda> <lambda>\n",
       "0        0        0        1        1\n",
       "1        1        1        4        8\n",
       "2        4        8        9       27"
      ]
     },
     "execution_count": 60,
     "metadata": {},
     "output_type": "execute_result"
    }
   ],
   "source": [
    "#multiple transformation\n",
    "#taking square and cube of all values\n",
    "\n",
    "print(\"df_5:\")\n",
    "print(df_5) \n",
    "\n",
    "#new code\n",
    "print(\"\\nNew code output:\")\n",
    "df_5.transform([lambda x: x**2, lambda x:x**3])"
   ]
  },
  {
   "cell_type": "code",
   "execution_count": 61,
   "metadata": {
    "id": "RUQobiCHyVBE"
   },
   "outputs": [
    {
     "name": "stdout",
     "output_type": "stream",
     "text": [
      "df_5:\n",
      "   A  B\n",
      "0  0  1\n",
      "1  1  2\n",
      "2  2  3\n",
      "\n",
      "New code output:\n"
     ]
    },
    {
     "data": {
      "text/html": [
       "<div>\n",
       "<style scoped>\n",
       "    .dataframe tbody tr th:only-of-type {\n",
       "        vertical-align: middle;\n",
       "    }\n",
       "\n",
       "    .dataframe tbody tr th {\n",
       "        vertical-align: top;\n",
       "    }\n",
       "\n",
       "    .dataframe thead th {\n",
       "        text-align: right;\n",
       "    }\n",
       "</style>\n",
       "<table border=\"1\" class=\"dataframe\">\n",
       "  <thead>\n",
       "    <tr style=\"text-align: right;\">\n",
       "      <th></th>\n",
       "      <th>A</th>\n",
       "      <th>B</th>\n",
       "    </tr>\n",
       "  </thead>\n",
       "  <tbody>\n",
       "    <tr>\n",
       "      <th>0</th>\n",
       "      <td>0</td>\n",
       "      <td>1</td>\n",
       "    </tr>\n",
       "    <tr>\n",
       "      <th>1</th>\n",
       "      <td>1</td>\n",
       "      <td>8</td>\n",
       "    </tr>\n",
       "    <tr>\n",
       "      <th>2</th>\n",
       "      <td>4</td>\n",
       "      <td>27</td>\n",
       "    </tr>\n",
       "  </tbody>\n",
       "</table>\n",
       "</div>"
      ],
      "text/plain": [
       "   A   B\n",
       "0  0   1\n",
       "1  1   8\n",
       "2  4  27"
      ]
     },
     "execution_count": 61,
     "metadata": {},
     "output_type": "execute_result"
    }
   ],
   "source": [
    "#different transformation on different column in a dataframe\n",
    "#sqaure of column A and cube of column B\n",
    "\n",
    "print(\"df_5:\")\n",
    "print(df_5) \n",
    "\n",
    "#new code\n",
    "print(\"\\nNew code output:\")\n",
    "df_5.transform({'A':lambda x:x**2, 'B':lambda x:x**3})"
   ]
  },
  {
   "cell_type": "code",
   "execution_count": 62,
   "metadata": {
    "id": "jEwwxc-jzZwz"
   },
   "outputs": [
    {
     "name": "stdout",
     "output_type": "stream",
     "text": [
      "df_5:\n",
      "   A  B\n",
      "0  0  1\n",
      "1  1  2\n",
      "2  2  3\n",
      "\n",
      "New code output:\n"
     ]
    },
    {
     "data": {
      "text/plain": [
       "0    0\n",
       "1    1\n",
       "2    4\n",
       "Name: A, dtype: int64"
      ]
     },
     "execution_count": 62,
     "metadata": {},
     "output_type": "execute_result"
    }
   ],
   "source": [
    "# using .map\n",
    "\n",
    "print(\"df_5:\")\n",
    "print(df_5) \n",
    "\n",
    "#new code\n",
    "print(\"\\nNew code output:\")\n",
    "df_5['A'].map(lambda x: x**2)"
   ]
  },
  {
   "cell_type": "code",
   "execution_count": 63,
   "metadata": {
    "id": "0hojXRV_zsMB"
   },
   "outputs": [
    {
     "name": "stdout",
     "output_type": "stream",
     "text": [
      "df_5:\n",
      "   A  B\n",
      "0  0  1\n",
      "1  1  2\n",
      "2  2  3\n",
      "\n",
      "New code output:\n"
     ]
    },
    {
     "data": {
      "text/html": [
       "<div>\n",
       "<style scoped>\n",
       "    .dataframe tbody tr th:only-of-type {\n",
       "        vertical-align: middle;\n",
       "    }\n",
       "\n",
       "    .dataframe tbody tr th {\n",
       "        vertical-align: top;\n",
       "    }\n",
       "\n",
       "    .dataframe thead th {\n",
       "        text-align: right;\n",
       "    }\n",
       "</style>\n",
       "<table border=\"1\" class=\"dataframe\">\n",
       "  <thead>\n",
       "    <tr style=\"text-align: right;\">\n",
       "      <th></th>\n",
       "      <th>A</th>\n",
       "      <th>B</th>\n",
       "    </tr>\n",
       "  </thead>\n",
       "  <tbody>\n",
       "    <tr>\n",
       "      <th>0</th>\n",
       "      <td>0</td>\n",
       "      <td>1</td>\n",
       "    </tr>\n",
       "    <tr>\n",
       "      <th>1</th>\n",
       "      <td>1</td>\n",
       "      <td>4</td>\n",
       "    </tr>\n",
       "    <tr>\n",
       "      <th>2</th>\n",
       "      <td>4</td>\n",
       "      <td>9</td>\n",
       "    </tr>\n",
       "  </tbody>\n",
       "</table>\n",
       "</div>"
      ],
      "text/plain": [
       "   A  B\n",
       "0  0  1\n",
       "1  1  4\n",
       "2  4  9"
      ]
     },
     "execution_count": 63,
     "metadata": {},
     "output_type": "execute_result"
    }
   ],
   "source": [
    "#using .applymap\n",
    "\n",
    "print(\"df_5:\")\n",
    "print(df_5) \n",
    "\n",
    "#new code\n",
    "print(\"\\nNew code output:\")\n",
    "df_5.applymap(lambda x: x**2)"
   ]
  },
  {
   "cell_type": "code",
   "execution_count": 64,
   "metadata": {
    "id": "5WydReJlz69w"
   },
   "outputs": [
    {
     "name": "stdout",
     "output_type": "stream",
     "text": [
      "df_2:\n",
      "   one  two\n",
      "a  1.0  1.0\n",
      "b  2.0  2.0\n",
      "d  0.0  4.0\n",
      "e  3.0  3.0\n",
      "\n",
      "New code output:\n"
     ]
    },
    {
     "data": {
      "text/plain": [
       "array([1., 2., 4., 3.])"
      ]
     },
     "execution_count": 64,
     "metadata": {},
     "output_type": "execute_result"
    }
   ],
   "source": [
    "#getting unique values from column two\n",
    "\n",
    "print(\"df_2:\")\n",
    "print(df_2) \n",
    "\n",
    "#new code\n",
    "print(\"\\nNew code output:\")\n",
    "df_2['two'].unique()"
   ]
  },
  {
   "cell_type": "code",
   "execution_count": 65,
   "metadata": {
    "id": "M0ESeAM09Ock"
   },
   "outputs": [
    {
     "name": "stdout",
     "output_type": "stream",
     "text": [
      "df_2:\n",
      "   one  two\n",
      "a  1.0  1.0\n",
      "b  2.0  2.0\n",
      "d  0.0  4.0\n",
      "e  3.0  3.0\n",
      "\n",
      "New code output:\n"
     ]
    },
    {
     "data": {
      "text/plain": [
       "4"
      ]
     },
     "execution_count": 65,
     "metadata": {},
     "output_type": "execute_result"
    }
   ],
   "source": [
    "#getting total number of unique values\n",
    "\n",
    "print(\"df_2:\")\n",
    "print(df_2) \n",
    "\n",
    "#new code\n",
    "print(\"\\nNew code output:\")\n",
    "df_2['two'].nunique()"
   ]
  },
  {
   "cell_type": "code",
   "execution_count": 66,
   "metadata": {
    "id": "hjIXMzVc9fxj"
   },
   "outputs": [
    {
     "name": "stdout",
     "output_type": "stream",
     "text": [
      "df_2:\n",
      "   one  two\n",
      "a  1.0  1.0\n",
      "b  2.0  2.0\n",
      "d  0.0  4.0\n",
      "e  3.0  3.0\n",
      "\n",
      "New code output:\n"
     ]
    },
    {
     "data": {
      "text/plain": [
       "3.0    1\n",
       "4.0    1\n",
       "2.0    1\n",
       "1.0    1\n",
       "Name: two, dtype: int64"
      ]
     },
     "execution_count": 66,
     "metadata": {},
     "output_type": "execute_result"
    }
   ],
   "source": [
    "#number a time a value showed up in a column\n",
    "\n",
    "print(\"df_2:\")\n",
    "print(df_2) \n",
    "\n",
    "#new code\n",
    "print(\"\\nNew code output:\")\n",
    "df_2['two'].value_counts()"
   ]
  },
  {
   "cell_type": "code",
   "execution_count": 67,
   "metadata": {
    "id": "c7RHWbAn9sef"
   },
   "outputs": [
    {
     "name": "stdout",
     "output_type": "stream",
     "text": [
      "df_2:\n",
      "   one  two\n",
      "a  1.0  1.0\n",
      "b  2.0  2.0\n",
      "d  0.0  4.0\n",
      "e  3.0  3.0\n",
      "\n",
      "New code output:\n"
     ]
    },
    {
     "data": {
      "text/plain": [
       "Index(['one', 'two'], dtype='object')"
      ]
     },
     "execution_count": 67,
     "metadata": {},
     "output_type": "execute_result"
    }
   ],
   "source": [
    "#getting column names\n",
    "\n",
    "print(\"df_2:\")\n",
    "print(df_2) \n",
    "\n",
    "#new code\n",
    "print(\"\\nNew code output:\")\n",
    "df_2.columns"
   ]
  },
  {
   "cell_type": "code",
   "execution_count": 68,
   "metadata": {
    "id": "bLpQQFLm91kq"
   },
   "outputs": [
    {
     "name": "stdout",
     "output_type": "stream",
     "text": [
      "df_2:\n",
      "   one  two\n",
      "a  1.0  1.0\n",
      "b  2.0  2.0\n",
      "d  0.0  4.0\n",
      "e  3.0  3.0\n",
      "\n",
      "New code output:\n"
     ]
    },
    {
     "data": {
      "text/plain": [
       "Index(['a', 'b', 'd', 'e'], dtype='object')"
      ]
     },
     "execution_count": 68,
     "metadata": {},
     "output_type": "execute_result"
    }
   ],
   "source": [
    "#getting index information\n",
    "\n",
    "print(\"df_2:\")\n",
    "print(df_2) \n",
    "\n",
    "#new code\n",
    "print(\"\\nNew code output:\")\n",
    "df_2.index"
   ]
  },
  {
   "cell_type": "code",
   "execution_count": 69,
   "metadata": {
    "id": "qzlETDg09-_U"
   },
   "outputs": [
    {
     "name": "stdout",
     "output_type": "stream",
     "text": [
      "df_2:\n",
      "   one  two\n",
      "a  1.0  1.0\n",
      "b  2.0  2.0\n",
      "d  0.0  4.0\n",
      "e  3.0  3.0\n",
      "\n",
      "New code output:\n"
     ]
    },
    {
     "data": {
      "text/html": [
       "<div>\n",
       "<style scoped>\n",
       "    .dataframe tbody tr th:only-of-type {\n",
       "        vertical-align: middle;\n",
       "    }\n",
       "\n",
       "    .dataframe tbody tr th {\n",
       "        vertical-align: top;\n",
       "    }\n",
       "\n",
       "    .dataframe thead th {\n",
       "        text-align: right;\n",
       "    }\n",
       "</style>\n",
       "<table border=\"1\" class=\"dataframe\">\n",
       "  <thead>\n",
       "    <tr style=\"text-align: right;\">\n",
       "      <th></th>\n",
       "      <th>one</th>\n",
       "      <th>two</th>\n",
       "    </tr>\n",
       "  </thead>\n",
       "  <tbody>\n",
       "    <tr>\n",
       "      <th>a</th>\n",
       "      <td>False</td>\n",
       "      <td>False</td>\n",
       "    </tr>\n",
       "    <tr>\n",
       "      <th>b</th>\n",
       "      <td>False</td>\n",
       "      <td>False</td>\n",
       "    </tr>\n",
       "    <tr>\n",
       "      <th>d</th>\n",
       "      <td>False</td>\n",
       "      <td>False</td>\n",
       "    </tr>\n",
       "    <tr>\n",
       "      <th>e</th>\n",
       "      <td>False</td>\n",
       "      <td>False</td>\n",
       "    </tr>\n",
       "  </tbody>\n",
       "</table>\n",
       "</div>"
      ],
      "text/plain": [
       "     one    two\n",
       "a  False  False\n",
       "b  False  False\n",
       "d  False  False\n",
       "e  False  False"
      ]
     },
     "execution_count": 69,
     "metadata": {},
     "output_type": "execute_result"
    }
   ],
   "source": [
    "#checking if there are ny null values\n",
    "\n",
    "print(\"df_2:\")\n",
    "print(df_2) \n",
    "\n",
    "#new code\n",
    "print(\"\\nNew code output:\")\n",
    "df_2.isnull()"
   ]
  },
  {
   "cell_type": "markdown",
   "metadata": {
    "id": "HU2Bzxa3-MAW"
   },
   "source": [
    "**Group Data**"
   ]
  },
  {
   "cell_type": "code",
   "execution_count": 70,
   "metadata": {
    "id": "3PkJ9Srw-OnA"
   },
   "outputs": [
    {
     "data": {
      "text/html": [
       "<div>\n",
       "<style scoped>\n",
       "    .dataframe tbody tr th:only-of-type {\n",
       "        vertical-align: middle;\n",
       "    }\n",
       "\n",
       "    .dataframe tbody tr th {\n",
       "        vertical-align: top;\n",
       "    }\n",
       "\n",
       "    .dataframe thead th {\n",
       "        text-align: right;\n",
       "    }\n",
       "</style>\n",
       "<table border=\"1\" class=\"dataframe\">\n",
       "  <thead>\n",
       "    <tr style=\"text-align: right;\">\n",
       "      <th></th>\n",
       "      <th>Store</th>\n",
       "      <th>Flavor</th>\n",
       "      <th>Sales</th>\n",
       "    </tr>\n",
       "  </thead>\n",
       "  <tbody>\n",
       "    <tr>\n",
       "      <th>0</th>\n",
       "      <td>1</td>\n",
       "      <td>Choc</td>\n",
       "      <td>26</td>\n",
       "    </tr>\n",
       "    <tr>\n",
       "      <th>1</th>\n",
       "      <td>2</td>\n",
       "      <td>Van</td>\n",
       "      <td>12</td>\n",
       "    </tr>\n",
       "    <tr>\n",
       "      <th>2</th>\n",
       "      <td>1</td>\n",
       "      <td>Straw</td>\n",
       "      <td>18</td>\n",
       "    </tr>\n",
       "    <tr>\n",
       "      <th>3</th>\n",
       "      <td>2</td>\n",
       "      <td>Choc</td>\n",
       "      <td>22</td>\n",
       "    </tr>\n",
       "  </tbody>\n",
       "</table>\n",
       "</div>"
      ],
      "text/plain": [
       "   Store Flavor  Sales\n",
       "0      1   Choc     26\n",
       "1      2    Van     12\n",
       "2      1  Straw     18\n",
       "3      2   Choc     22"
      ]
     },
     "execution_count": 70,
     "metadata": {},
     "output_type": "execute_result"
    }
   ],
   "source": [
    "#creating a new dataframe\n",
    "dict_5 = {'Store': [1,2,1,2], 'Flavor':['Choc','Van','Straw','Choc'],\n",
    "          'Sales':[26,12,18,22]}\n",
    "\n",
    "df_11 = pd.DataFrame(dict_5)\n",
    "df_11"
   ]
  },
  {
   "cell_type": "code",
   "execution_count": 71,
   "metadata": {
    "id": "ttN67DZy_OC6"
   },
   "outputs": [
    {
     "name": "stdout",
     "output_type": "stream",
     "text": [
      "df_11:\n",
      "   Store Flavor  Sales\n",
      "0      1   Choc     26\n",
      "1      2    Van     12\n",
      "2      1  Straw     18\n",
      "3      2   Choc     22\n",
      "\n",
      "New code output:\n"
     ]
    },
    {
     "data": {
      "text/html": [
       "<div>\n",
       "<style scoped>\n",
       "    .dataframe tbody tr th:only-of-type {\n",
       "        vertical-align: middle;\n",
       "    }\n",
       "\n",
       "    .dataframe tbody tr th {\n",
       "        vertical-align: top;\n",
       "    }\n",
       "\n",
       "    .dataframe thead th {\n",
       "        text-align: right;\n",
       "    }\n",
       "</style>\n",
       "<table border=\"1\" class=\"dataframe\">\n",
       "  <thead>\n",
       "    <tr style=\"text-align: right;\">\n",
       "      <th></th>\n",
       "      <th>Sales</th>\n",
       "    </tr>\n",
       "    <tr>\n",
       "      <th>Store</th>\n",
       "      <th></th>\n",
       "    </tr>\n",
       "  </thead>\n",
       "  <tbody>\n",
       "    <tr>\n",
       "      <th>1</th>\n",
       "      <td>22</td>\n",
       "    </tr>\n",
       "    <tr>\n",
       "      <th>2</th>\n",
       "      <td>17</td>\n",
       "    </tr>\n",
       "  </tbody>\n",
       "</table>\n",
       "</div>"
      ],
      "text/plain": [
       "       Sales\n",
       "Store       \n",
       "1         22\n",
       "2         17"
      ]
     },
     "execution_count": 71,
     "metadata": {},
     "output_type": "execute_result"
    }
   ],
   "source": [
    "#group data by store and get mean value of sales\n",
    "\n",
    "print(\"df_11:\")\n",
    "print(df_11) \n",
    "\n",
    "#new code\n",
    "print(\"\\nNew code output:\")\n",
    "by_store = df_11.groupby('Store')\n",
    "by_store.mean()"
   ]
  },
  {
   "cell_type": "code",
   "execution_count": 72,
   "metadata": {
    "id": "N14L7yGxBeES"
   },
   "outputs": [
    {
     "name": "stdout",
     "output_type": "stream",
     "text": [
      "df_11:\n",
      "   Store Flavor  Sales\n",
      "0      1   Choc     26\n",
      "1      2    Van     12\n",
      "2      1  Straw     18\n",
      "3      2   Choc     22\n",
      "\n",
      "New code output:\n"
     ]
    },
    {
     "data": {
      "text/plain": [
       "Sales    44\n",
       "Name: 1, dtype: int64"
      ]
     },
     "execution_count": 72,
     "metadata": {},
     "output_type": "execute_result"
    }
   ],
   "source": [
    "#sales total just for store 1\n",
    "\n",
    "print(\"df_11:\")\n",
    "print(df_11) \n",
    "\n",
    "#new code\n",
    "print(\"\\nNew code output:\")\n",
    "by_store = df_11.groupby('Store')\n",
    "by_store.sum().loc[1]"
   ]
  },
  {
   "cell_type": "code",
   "execution_count": 73,
   "metadata": {
    "id": "hX55aWT2B6CR"
   },
   "outputs": [
    {
     "name": "stdout",
     "output_type": "stream",
     "text": [
      "df_11:\n",
      "   Store Flavor  Sales\n",
      "0      1   Choc     26\n",
      "1      2    Van     12\n",
      "2      1  Straw     18\n",
      "3      2   Choc     22\n",
      "\n",
      "New code output:\n"
     ]
    },
    {
     "data": {
      "text/html": [
       "<div>\n",
       "<style scoped>\n",
       "    .dataframe tbody tr th:only-of-type {\n",
       "        vertical-align: middle;\n",
       "    }\n",
       "\n",
       "    .dataframe tbody tr th {\n",
       "        vertical-align: top;\n",
       "    }\n",
       "\n",
       "    .dataframe thead tr th {\n",
       "        text-align: left;\n",
       "    }\n",
       "\n",
       "    .dataframe thead tr:last-of-type th {\n",
       "        text-align: right;\n",
       "    }\n",
       "</style>\n",
       "<table border=\"1\" class=\"dataframe\">\n",
       "  <thead>\n",
       "    <tr>\n",
       "      <th></th>\n",
       "      <th colspan=\"8\" halign=\"left\">Sales</th>\n",
       "    </tr>\n",
       "    <tr>\n",
       "      <th></th>\n",
       "      <th>count</th>\n",
       "      <th>mean</th>\n",
       "      <th>std</th>\n",
       "      <th>min</th>\n",
       "      <th>25%</th>\n",
       "      <th>50%</th>\n",
       "      <th>75%</th>\n",
       "      <th>max</th>\n",
       "    </tr>\n",
       "    <tr>\n",
       "      <th>Store</th>\n",
       "      <th></th>\n",
       "      <th></th>\n",
       "      <th></th>\n",
       "      <th></th>\n",
       "      <th></th>\n",
       "      <th></th>\n",
       "      <th></th>\n",
       "      <th></th>\n",
       "    </tr>\n",
       "  </thead>\n",
       "  <tbody>\n",
       "    <tr>\n",
       "      <th>1</th>\n",
       "      <td>2.0</td>\n",
       "      <td>22.0</td>\n",
       "      <td>5.656854</td>\n",
       "      <td>18.0</td>\n",
       "      <td>20.0</td>\n",
       "      <td>22.0</td>\n",
       "      <td>24.0</td>\n",
       "      <td>26.0</td>\n",
       "    </tr>\n",
       "    <tr>\n",
       "      <th>2</th>\n",
       "      <td>2.0</td>\n",
       "      <td>17.0</td>\n",
       "      <td>7.071068</td>\n",
       "      <td>12.0</td>\n",
       "      <td>14.5</td>\n",
       "      <td>17.0</td>\n",
       "      <td>19.5</td>\n",
       "      <td>22.0</td>\n",
       "    </tr>\n",
       "  </tbody>\n",
       "</table>\n",
       "</div>"
      ],
      "text/plain": [
       "      Sales                                              \n",
       "      count  mean       std   min   25%   50%   75%   max\n",
       "Store                                                    \n",
       "1       2.0  22.0  5.656854  18.0  20.0  22.0  24.0  26.0\n",
       "2       2.0  17.0  7.071068  12.0  14.5  17.0  19.5  22.0"
      ]
     },
     "execution_count": 73,
     "metadata": {},
     "output_type": "execute_result"
    }
   ],
   "source": [
    "# data description\n",
    "\n",
    "print(\"df_11:\")\n",
    "print(df_11) \n",
    "\n",
    "#new code\n",
    "print(\"\\nNew code output:\")\n",
    "by_store = df_11.groupby('Store')\n",
    "by_store.describe()"
   ]
  },
  {
   "cell_type": "markdown",
   "metadata": {
    "id": "g55iNhrJCMeq"
   },
   "source": [
    "**Concantenate, Merge & Join Date**"
   ]
  },
  {
   "cell_type": "code",
   "execution_count": 74,
   "metadata": {
    "id": "1OSZ9YL4CVap"
   },
   "outputs": [
    {
     "name": "stdout",
     "output_type": "stream",
     "text": [
      "df_12:\n",
      "   A  B\n",
      "1  1  4\n",
      "2  2  5\n",
      "3  3  6\n",
      "\n",
      "df_13:\n",
      "   A   B\n",
      "4  7  10\n",
      "5  8  11\n",
      "6  9  12\n",
      "\n",
      "New code output\n"
     ]
    },
    {
     "data": {
      "text/html": [
       "<div>\n",
       "<style scoped>\n",
       "    .dataframe tbody tr th:only-of-type {\n",
       "        vertical-align: middle;\n",
       "    }\n",
       "\n",
       "    .dataframe tbody tr th {\n",
       "        vertical-align: top;\n",
       "    }\n",
       "\n",
       "    .dataframe thead th {\n",
       "        text-align: right;\n",
       "    }\n",
       "</style>\n",
       "<table border=\"1\" class=\"dataframe\">\n",
       "  <thead>\n",
       "    <tr style=\"text-align: right;\">\n",
       "      <th></th>\n",
       "      <th>A</th>\n",
       "      <th>B</th>\n",
       "    </tr>\n",
       "  </thead>\n",
       "  <tbody>\n",
       "    <tr>\n",
       "      <th>1</th>\n",
       "      <td>1</td>\n",
       "      <td>4</td>\n",
       "    </tr>\n",
       "    <tr>\n",
       "      <th>2</th>\n",
       "      <td>2</td>\n",
       "      <td>5</td>\n",
       "    </tr>\n",
       "    <tr>\n",
       "      <th>3</th>\n",
       "      <td>3</td>\n",
       "      <td>6</td>\n",
       "    </tr>\n",
       "    <tr>\n",
       "      <th>4</th>\n",
       "      <td>7</td>\n",
       "      <td>10</td>\n",
       "    </tr>\n",
       "    <tr>\n",
       "      <th>5</th>\n",
       "      <td>8</td>\n",
       "      <td>11</td>\n",
       "    </tr>\n",
       "    <tr>\n",
       "      <th>6</th>\n",
       "      <td>9</td>\n",
       "      <td>12</td>\n",
       "    </tr>\n",
       "  </tbody>\n",
       "</table>\n",
       "</div>"
      ],
      "text/plain": [
       "   A   B\n",
       "1  1   4\n",
       "2  2   5\n",
       "3  3   6\n",
       "4  7  10\n",
       "5  8  11\n",
       "6  9  12"
      ]
     },
     "execution_count": 74,
     "metadata": {},
     "output_type": "execute_result"
    }
   ],
   "source": [
    "#creating and concatenate two dataframes\n",
    "\n",
    "df_12 = pd.DataFrame({'A':[1,2,3],\n",
    "                      'B':[4,5,6]},\n",
    "                     index = [1,2,3])\n",
    "print(\"df_12:\")\n",
    "print(df_12)\n",
    "\n",
    "df_13 = pd.DataFrame({'A':[7,8,9],\n",
    "                      'B':[10,11,12]},\n",
    "                     index = [4,5,6])\n",
    "print(\"\\ndf_13:\")\n",
    "print(df_13)\n",
    "\n",
    "#new code\n",
    "print(\"\\nNew code output\")\n",
    "pd.concat([df_12, df_13])"
   ]
  },
  {
   "cell_type": "code",
   "execution_count": 75,
   "metadata": {
    "id": "kj_Iv_8HDHKO"
   },
   "outputs": [
    {
     "name": "stdout",
     "output_type": "stream",
     "text": [
      "df_12:\n",
      "   A  B  key\n",
      "0  1  4    1\n",
      "1  2  5    2\n",
      "2  3  6    3\n",
      "\n",
      "df_13:\n",
      "   A   B  key\n",
      "0  7  10    1\n",
      "1  8  11    2\n",
      "2  9  12    3\n",
      "\n",
      "After merging d_12 & d_13:\n"
     ]
    },
    {
     "data": {
      "text/html": [
       "<div>\n",
       "<style scoped>\n",
       "    .dataframe tbody tr th:only-of-type {\n",
       "        vertical-align: middle;\n",
       "    }\n",
       "\n",
       "    .dataframe tbody tr th {\n",
       "        vertical-align: top;\n",
       "    }\n",
       "\n",
       "    .dataframe thead th {\n",
       "        text-align: right;\n",
       "    }\n",
       "</style>\n",
       "<table border=\"1\" class=\"dataframe\">\n",
       "  <thead>\n",
       "    <tr style=\"text-align: right;\">\n",
       "      <th></th>\n",
       "      <th>A_x</th>\n",
       "      <th>B_x</th>\n",
       "      <th>key</th>\n",
       "      <th>A_y</th>\n",
       "      <th>B_y</th>\n",
       "    </tr>\n",
       "  </thead>\n",
       "  <tbody>\n",
       "    <tr>\n",
       "      <th>0</th>\n",
       "      <td>1</td>\n",
       "      <td>4</td>\n",
       "      <td>1</td>\n",
       "      <td>7</td>\n",
       "      <td>10</td>\n",
       "    </tr>\n",
       "    <tr>\n",
       "      <th>1</th>\n",
       "      <td>2</td>\n",
       "      <td>5</td>\n",
       "      <td>2</td>\n",
       "      <td>8</td>\n",
       "      <td>11</td>\n",
       "    </tr>\n",
       "    <tr>\n",
       "      <th>2</th>\n",
       "      <td>3</td>\n",
       "      <td>6</td>\n",
       "      <td>3</td>\n",
       "      <td>9</td>\n",
       "      <td>12</td>\n",
       "    </tr>\n",
       "  </tbody>\n",
       "</table>\n",
       "</div>"
      ],
      "text/plain": [
       "   A_x  B_x  key  A_y  B_y\n",
       "0    1    4    1    7   10\n",
       "1    2    5    2    8   11\n",
       "2    3    6    3    9   12"
      ]
     },
     "execution_count": 75,
     "metadata": {},
     "output_type": "execute_result"
    }
   ],
   "source": [
    "#creating and merge two dataframes at the intersection of keys\n",
    "#how='inner'\n",
    "df_12 = pd.DataFrame({'A': [1,2,3],\n",
    "                     'B': [4,5,6],\n",
    "                     'key': [1,2,3]})\n",
    "print(\"df_12:\")\n",
    "print(df_12)\n",
    "\n",
    "df_13 = pd.DataFrame({'A': [7,8,9],\n",
    "                     'B': [10,11,12],\n",
    "                     'key': [1,2,3]})\n",
    "print(\"\\ndf_13:\")\n",
    "print(df_13)\n",
    "\n",
    "#new code\n",
    "print(\"\\nAfter merging d_12 & d_13:\")\n",
    "pd.merge(df_12, df_13, how='inner', on='key')\n",
    "\n",
    "#we can also use\n",
    "#how='outer'\n",
    "#how='right'\n",
    "#how='left'"
   ]
  },
  {
   "cell_type": "code",
   "execution_count": 76,
   "metadata": {
    "id": "rMJJjesXLO8F"
   },
   "outputs": [
    {
     "name": "stdout",
     "output_type": "stream",
     "text": [
      "df_12:\n",
      "   A  B\n",
      "1  1  4\n",
      "2  2  5\n",
      "3  3  6\n",
      "\n",
      "df_13:\n",
      "   C   D\n",
      "4  7  10\n",
      "5  8  11\n",
      "6  9  12\n",
      "\n",
      "After joining d_12 & d_13\n"
     ]
    },
    {
     "data": {
      "text/html": [
       "<div>\n",
       "<style scoped>\n",
       "    .dataframe tbody tr th:only-of-type {\n",
       "        vertical-align: middle;\n",
       "    }\n",
       "\n",
       "    .dataframe tbody tr th {\n",
       "        vertical-align: top;\n",
       "    }\n",
       "\n",
       "    .dataframe thead th {\n",
       "        text-align: right;\n",
       "    }\n",
       "</style>\n",
       "<table border=\"1\" class=\"dataframe\">\n",
       "  <thead>\n",
       "    <tr style=\"text-align: right;\">\n",
       "      <th></th>\n",
       "      <th>A</th>\n",
       "      <th>B</th>\n",
       "      <th>C</th>\n",
       "      <th>D</th>\n",
       "    </tr>\n",
       "  </thead>\n",
       "  <tbody>\n",
       "    <tr>\n",
       "      <th>1</th>\n",
       "      <td>1.0</td>\n",
       "      <td>4.0</td>\n",
       "      <td>NaN</td>\n",
       "      <td>NaN</td>\n",
       "    </tr>\n",
       "    <tr>\n",
       "      <th>2</th>\n",
       "      <td>2.0</td>\n",
       "      <td>5.0</td>\n",
       "      <td>NaN</td>\n",
       "      <td>NaN</td>\n",
       "    </tr>\n",
       "    <tr>\n",
       "      <th>3</th>\n",
       "      <td>3.0</td>\n",
       "      <td>6.0</td>\n",
       "      <td>NaN</td>\n",
       "      <td>NaN</td>\n",
       "    </tr>\n",
       "    <tr>\n",
       "      <th>4</th>\n",
       "      <td>NaN</td>\n",
       "      <td>NaN</td>\n",
       "      <td>7.0</td>\n",
       "      <td>10.0</td>\n",
       "    </tr>\n",
       "    <tr>\n",
       "      <th>5</th>\n",
       "      <td>NaN</td>\n",
       "      <td>NaN</td>\n",
       "      <td>8.0</td>\n",
       "      <td>11.0</td>\n",
       "    </tr>\n",
       "    <tr>\n",
       "      <th>6</th>\n",
       "      <td>NaN</td>\n",
       "      <td>NaN</td>\n",
       "      <td>9.0</td>\n",
       "      <td>12.0</td>\n",
       "    </tr>\n",
       "  </tbody>\n",
       "</table>\n",
       "</div>"
      ],
      "text/plain": [
       "     A    B    C     D\n",
       "1  1.0  4.0  NaN   NaN\n",
       "2  2.0  5.0  NaN   NaN\n",
       "3  3.0  6.0  NaN   NaN\n",
       "4  NaN  NaN  7.0  10.0\n",
       "5  NaN  NaN  8.0  11.0\n",
       "6  NaN  NaN  9.0  12.0"
      ]
     },
     "execution_count": 76,
     "metadata": {},
     "output_type": "execute_result"
    }
   ],
   "source": [
    "#creating and join two dataframes\n",
    "\n",
    "df_12 = pd.DataFrame({'A':[1,2,3],\n",
    "                      'B':[4,5,6]},\n",
    "                     index = [1,2,3])\n",
    "print(\"df_12:\")\n",
    "print(df_12)\n",
    "\n",
    "\n",
    "df_13 = pd.DataFrame({'C':[7,8,9],\n",
    "                      'D':[10,11,12]},\n",
    "                     index = [4,5,6])\n",
    "print(\"\\ndf_13:\")\n",
    "print(df_13)\n",
    "\n",
    "#new code\n",
    "print(\"\\nAfter joining d_12 & d_13\")\n",
    "df_12.join(df_13, how='outer')"
   ]
  },
  {
   "cell_type": "markdown",
   "metadata": {
    "id": "sN4mqAjxMAm2"
   },
   "source": [
    "**Statistics**"
   ]
  },
  {
   "cell_type": "code",
   "execution_count": 77,
   "metadata": {
    "id": "r1j-jd3iMDvy"
   },
   "outputs": [
    {
     "data": {
      "text/html": [
       "<div>\n",
       "<style scoped>\n",
       "    .dataframe tbody tr th:only-of-type {\n",
       "        vertical-align: middle;\n",
       "    }\n",
       "\n",
       "    .dataframe tbody tr th {\n",
       "        vertical-align: top;\n",
       "    }\n",
       "\n",
       "    .dataframe thead th {\n",
       "        text-align: right;\n",
       "    }\n",
       "</style>\n",
       "<table border=\"1\" class=\"dataframe\">\n",
       "  <thead>\n",
       "    <tr style=\"text-align: right;\">\n",
       "      <th></th>\n",
       "      <th>Temperature</th>\n",
       "      <th>Sales</th>\n",
       "    </tr>\n",
       "  </thead>\n",
       "  <tbody>\n",
       "    <tr>\n",
       "      <th>0</th>\n",
       "      <td>37</td>\n",
       "      <td>292</td>\n",
       "    </tr>\n",
       "    <tr>\n",
       "      <th>1</th>\n",
       "      <td>40</td>\n",
       "      <td>228</td>\n",
       "    </tr>\n",
       "    <tr>\n",
       "      <th>2</th>\n",
       "      <td>49</td>\n",
       "      <td>324</td>\n",
       "    </tr>\n",
       "    <tr>\n",
       "      <th>3</th>\n",
       "      <td>61</td>\n",
       "      <td>376</td>\n",
       "    </tr>\n",
       "    <tr>\n",
       "      <th>4</th>\n",
       "      <td>72</td>\n",
       "      <td>440</td>\n",
       "    </tr>\n",
       "    <tr>\n",
       "      <th>5</th>\n",
       "      <td>79</td>\n",
       "      <td>496</td>\n",
       "    </tr>\n",
       "    <tr>\n",
       "      <th>6</th>\n",
       "      <td>83</td>\n",
       "      <td>536</td>\n",
       "    </tr>\n",
       "    <tr>\n",
       "      <th>7</th>\n",
       "      <td>81</td>\n",
       "      <td>556</td>\n",
       "    </tr>\n",
       "    <tr>\n",
       "      <th>8</th>\n",
       "      <td>75</td>\n",
       "      <td>496</td>\n",
       "    </tr>\n",
       "    <tr>\n",
       "      <th>9</th>\n",
       "      <td>64</td>\n",
       "      <td>412</td>\n",
       "    </tr>\n",
       "    <tr>\n",
       "      <th>10</th>\n",
       "      <td>53</td>\n",
       "      <td>324</td>\n",
       "    </tr>\n",
       "    <tr>\n",
       "      <th>11</th>\n",
       "      <td>42</td>\n",
       "      <td>320</td>\n",
       "    </tr>\n",
       "  </tbody>\n",
       "</table>\n",
       "</div>"
      ],
      "text/plain": [
       "    Temperature  Sales\n",
       "0            37    292\n",
       "1            40    228\n",
       "2            49    324\n",
       "3            61    376\n",
       "4            72    440\n",
       "5            79    496\n",
       "6            83    536\n",
       "7            81    556\n",
       "8            75    496\n",
       "9            64    412\n",
       "10           53    324\n",
       "11           42    320"
      ]
     },
     "execution_count": 77,
     "metadata": {},
     "output_type": "execute_result"
    }
   ],
   "source": [
    "#loading icecream sales data\n",
    "ice_df = pd.read_csv(r'C:\\Users\\AKSHAY\\Desktop\\ML\\Datasets\\icecreamsales.csv')\n",
    "ice_df"
   ]
  },
  {
   "cell_type": "code",
   "execution_count": 78,
   "metadata": {
    "id": "4sktX3xvMu7l"
   },
   "outputs": [
    {
     "data": {
      "text/plain": [
       "Temperature    12\n",
       "Sales          12\n",
       "dtype: int64"
      ]
     },
     "execution_count": 78,
     "metadata": {},
     "output_type": "execute_result"
    }
   ],
   "source": [
    "# total count of both columns\n",
    "ice_df.count()"
   ]
  },
  {
   "cell_type": "code",
   "execution_count": 79,
   "metadata": {
    "id": "0gvLeV9gM4U_"
   },
   "outputs": [
    {
     "data": {
      "text/plain": [
       "Temperature     736\n",
       "Sales          4800\n",
       "dtype: int64"
      ]
     },
     "execution_count": 79,
     "metadata": {},
     "output_type": "execute_result"
    }
   ],
   "source": [
    "#sum both coulmns\n",
    "ice_df.sum()"
   ]
  },
  {
   "cell_type": "code",
   "execution_count": 80,
   "metadata": {
    "id": "pTqbwK0FNDqf"
   },
   "outputs": [
    {
     "data": {
      "text/plain": [
       "Temperature     736\n",
       "Sales          4800\n",
       "dtype: int64"
      ]
     },
     "execution_count": 80,
     "metadata": {},
     "output_type": "execute_result"
    }
   ],
   "source": [
    "#sum both coulmns when there are some nan values\n",
    "ice_df.sum(skipna=True)\n",
    "\n",
    "#here we don't have any nan values"
   ]
  },
  {
   "cell_type": "code",
   "execution_count": 81,
   "metadata": {
    "id": "55TIM6_5NU7M"
   },
   "outputs": [],
   "source": [
    "##to find more info about a function use '?' after function name\n",
    "##for ex.\n",
    "#ice_df.sum?\n",
    "\n",
    "#after you type any function press shift+tab and you will see all the different attribute and parameters related to that function(works in jupyter notebook)\n"
   ]
  },
  {
   "cell_type": "code",
   "execution_count": 82,
   "metadata": {
    "id": "kkv0NNHQNjtK"
   },
   "outputs": [
    {
     "data": {
      "text/plain": [
       "400.0"
      ]
     },
     "execution_count": 82,
     "metadata": {},
     "output_type": "execute_result"
    }
   ],
   "source": [
    "#mean of sales column\n",
    "ice_df['Sales'].mean()"
   ]
  },
  {
   "cell_type": "code",
   "execution_count": 83,
   "metadata": {
    "id": "2cEC363aNsEn"
   },
   "outputs": [
    {
     "data": {
      "text/plain": [
       "394.0"
      ]
     },
     "execution_count": 83,
     "metadata": {},
     "output_type": "execute_result"
    }
   ],
   "source": [
    "#median of sales column\n",
    "ice_df['Sales'].median()"
   ]
  },
  {
   "cell_type": "code",
   "execution_count": 84,
   "metadata": {
    "id": "wnqWDndcNysb"
   },
   "outputs": [
    {
     "data": {
      "text/plain": [
       "0    324\n",
       "1    496\n",
       "dtype: int64"
      ]
     },
     "execution_count": 84,
     "metadata": {},
     "output_type": "execute_result"
    }
   ],
   "source": [
    "#mode of sales column\n",
    "ice_df['Sales'].mode()"
   ]
  },
  {
   "cell_type": "code",
   "execution_count": 85,
   "metadata": {
    "id": "Z4-L_sXeN38d"
   },
   "outputs": [
    {
     "data": {
      "text/plain": [
       "228"
      ]
     },
     "execution_count": 85,
     "metadata": {},
     "output_type": "execute_result"
    }
   ],
   "source": [
    "#minimum of sales column\n",
    "ice_df['Sales'].min()"
   ]
  },
  {
   "cell_type": "code",
   "execution_count": 86,
   "metadata": {
    "id": "ShYvOcgNN-v3"
   },
   "outputs": [
    {
     "data": {
      "text/plain": [
       "556"
      ]
     },
     "execution_count": 86,
     "metadata": {},
     "output_type": "execute_result"
    }
   ],
   "source": [
    "#maximum of sales column\n",
    "ice_df['Sales'].max()"
   ]
  },
  {
   "cell_type": "code",
   "execution_count": 87,
   "metadata": {
    "id": "IenAO7XdOHP-"
   },
   "outputs": [
    {
     "data": {
      "text/plain": [
       "4582080946295013376"
      ]
     },
     "execution_count": 87,
     "metadata": {},
     "output_type": "execute_result"
    }
   ],
   "source": [
    "#product of all values in sales column\n",
    "ice_df['Sales'].product()"
   ]
  },
  {
   "cell_type": "code",
   "execution_count": 88,
   "metadata": {
    "id": "Wh9Cf9aJORBB"
   },
   "outputs": [
    {
     "data": {
      "text/plain": [
       "105.65122724408751"
      ]
     },
     "execution_count": 88,
     "metadata": {},
     "output_type": "execute_result"
    }
   ],
   "source": [
    "#standard deviation of sales column\n",
    "ice_df['Sales'].std()"
   ]
  },
  {
   "cell_type": "code",
   "execution_count": 89,
   "metadata": {
    "id": "jgsJ_pmBOV7A"
   },
   "outputs": [
    {
     "data": {
      "text/plain": [
       "11162.181818181818"
      ]
     },
     "execution_count": 89,
     "metadata": {},
     "output_type": "execute_result"
    }
   ],
   "source": [
    "#variance of sales column\n",
    "ice_df['Sales'].var()"
   ]
  },
  {
   "cell_type": "code",
   "execution_count": 90,
   "metadata": {
    "id": "0LlttlLOOaCK"
   },
   "outputs": [
    {
     "data": {
      "text/plain": [
       "30.498882244794125"
      ]
     },
     "execution_count": 90,
     "metadata": {},
     "output_type": "execute_result"
    }
   ],
   "source": [
    "#standard error of sales column\n",
    "ice_df['Sales'].sem()"
   ]
  },
  {
   "cell_type": "code",
   "execution_count": 91,
   "metadata": {
    "id": "inqVALlhOlEC"
   },
   "outputs": [
    {
     "data": {
      "text/plain": [
       "0.036552031682046925"
      ]
     },
     "execution_count": 91,
     "metadata": {},
     "output_type": "execute_result"
    }
   ],
   "source": [
    "#how the result of sales column skew on a graph\n",
    "ice_df['Sales'].skew()\n",
    "\n",
    "#value is positive it means it has a long tail towards the right"
   ]
  },
  {
   "cell_type": "code",
   "execution_count": 92,
   "metadata": {
    "id": "F7KI0KAIO8hC"
   },
   "outputs": [
    {
     "data": {
      "text/plain": [
       "-1.2179973006069797"
      ]
     },
     "execution_count": 92,
     "metadata": {},
     "output_type": "execute_result"
    }
   ],
   "source": [
    "#outliers in the data\n",
    "ice_df['Sales'].kurt()\n",
    "\n",
    "# if less than 3 the few outliers\n",
    "# equal to 3 then normal distribution\n",
    "# more than 3 then a lot of outliers"
   ]
  },
  {
   "cell_type": "code",
   "execution_count": 93,
   "metadata": {
    "id": "ejkYSMPjPUDt"
   },
   "outputs": [
    {
     "data": {
      "text/plain": [
       "394.0"
      ]
     },
     "execution_count": 93,
     "metadata": {},
     "output_type": "execute_result"
    }
   ],
   "source": [
    "#quantile 50%\n",
    "ice_df['Sales'].quantile(.5)"
   ]
  },
  {
   "cell_type": "code",
   "execution_count": 94,
   "metadata": {
    "id": "abB0kdOrPiL6"
   },
   "outputs": [
    {
     "data": {
      "text/plain": [
       "0      292\n",
       "1      520\n",
       "2      844\n",
       "3     1220\n",
       "4     1660\n",
       "5     2156\n",
       "6     2692\n",
       "7     3248\n",
       "8     3744\n",
       "9     4156\n",
       "10    4480\n",
       "11    4800\n",
       "Name: Sales, dtype: int64"
      ]
     },
     "execution_count": 94,
     "metadata": {},
     "output_type": "execute_result"
    }
   ],
   "source": [
    "#cumulative sum\n",
    "ice_df['Sales'].cumsum()"
   ]
  },
  {
   "cell_type": "code",
   "execution_count": 95,
   "metadata": {
    "id": "mqHC9JQUPqVU"
   },
   "outputs": [
    {
     "data": {
      "text/plain": [
       "0                     292\n",
       "1                   66576\n",
       "2                21570624\n",
       "3              8110554624\n",
       "4           3568644034560\n",
       "5        1770047441141760\n",
       "6      948745428451983360\n",
       "7    -7453119918274248704\n",
       "8    -7398664722117033984\n",
       "9    -4537093350141984768\n",
       "10    5721280450761064448\n",
       "11    4582080946295013376\n",
       "Name: Sales, dtype: int64"
      ]
     },
     "execution_count": 95,
     "metadata": {},
     "output_type": "execute_result"
    }
   ],
   "source": [
    "#cumulative product\n",
    "ice_df['Sales'].cumprod()"
   ]
  },
  {
   "cell_type": "code",
   "execution_count": 96,
   "metadata": {
    "id": "mwuUUQKNP1uh"
   },
   "outputs": [
    {
     "data": {
      "text/plain": [
       "0     292\n",
       "1     292\n",
       "2     324\n",
       "3     376\n",
       "4     440\n",
       "5     496\n",
       "6     536\n",
       "7     556\n",
       "8     556\n",
       "9     556\n",
       "10    556\n",
       "11    556\n",
       "Name: Sales, dtype: int64"
      ]
     },
     "execution_count": 96,
     "metadata": {},
     "output_type": "execute_result"
    }
   ],
   "source": [
    "#cumulative maximum\n",
    "ice_df['Sales'].cummax()"
   ]
  },
  {
   "cell_type": "code",
   "execution_count": 97,
   "metadata": {
    "id": "y_QIR63UP2gT"
   },
   "outputs": [
    {
     "data": {
      "text/plain": [
       "0     292\n",
       "1     228\n",
       "2     228\n",
       "3     228\n",
       "4     228\n",
       "5     228\n",
       "6     228\n",
       "7     228\n",
       "8     228\n",
       "9     228\n",
       "10    228\n",
       "11    228\n",
       "Name: Sales, dtype: int64"
      ]
     },
     "execution_count": 97,
     "metadata": {},
     "output_type": "execute_result"
    }
   ],
   "source": [
    "#cumulative minimum\n",
    "ice_df['Sales'].cummin()"
   ]
  },
  {
   "cell_type": "code",
   "execution_count": 98,
   "metadata": {
    "id": "hnFolKdBQFb7"
   },
   "outputs": [
    {
     "data": {
      "text/html": [
       "<div>\n",
       "<style scoped>\n",
       "    .dataframe tbody tr th:only-of-type {\n",
       "        vertical-align: middle;\n",
       "    }\n",
       "\n",
       "    .dataframe tbody tr th {\n",
       "        vertical-align: top;\n",
       "    }\n",
       "\n",
       "    .dataframe thead th {\n",
       "        text-align: right;\n",
       "    }\n",
       "</style>\n",
       "<table border=\"1\" class=\"dataframe\">\n",
       "  <thead>\n",
       "    <tr style=\"text-align: right;\">\n",
       "      <th></th>\n",
       "      <th>Temperature</th>\n",
       "      <th>Sales</th>\n",
       "    </tr>\n",
       "  </thead>\n",
       "  <tbody>\n",
       "    <tr>\n",
       "      <th>count</th>\n",
       "      <td>12.000000</td>\n",
       "      <td>12.000000</td>\n",
       "    </tr>\n",
       "    <tr>\n",
       "      <th>mean</th>\n",
       "      <td>61.333333</td>\n",
       "      <td>400.000000</td>\n",
       "    </tr>\n",
       "    <tr>\n",
       "      <th>std</th>\n",
       "      <td>16.837908</td>\n",
       "      <td>105.651227</td>\n",
       "    </tr>\n",
       "    <tr>\n",
       "      <th>min</th>\n",
       "      <td>37.000000</td>\n",
       "      <td>228.000000</td>\n",
       "    </tr>\n",
       "    <tr>\n",
       "      <th>25%</th>\n",
       "      <td>47.250000</td>\n",
       "      <td>323.000000</td>\n",
       "    </tr>\n",
       "    <tr>\n",
       "      <th>50%</th>\n",
       "      <td>62.500000</td>\n",
       "      <td>394.000000</td>\n",
       "    </tr>\n",
       "    <tr>\n",
       "      <th>75%</th>\n",
       "      <td>76.000000</td>\n",
       "      <td>496.000000</td>\n",
       "    </tr>\n",
       "    <tr>\n",
       "      <th>max</th>\n",
       "      <td>83.000000</td>\n",
       "      <td>556.000000</td>\n",
       "    </tr>\n",
       "  </tbody>\n",
       "</table>\n",
       "</div>"
      ],
      "text/plain": [
       "       Temperature       Sales\n",
       "count    12.000000   12.000000\n",
       "mean     61.333333  400.000000\n",
       "std      16.837908  105.651227\n",
       "min      37.000000  228.000000\n",
       "25%      47.250000  323.000000\n",
       "50%      62.500000  394.000000\n",
       "75%      76.000000  496.000000\n",
       "max      83.000000  556.000000"
      ]
     },
     "execution_count": 98,
     "metadata": {},
     "output_type": "execute_result"
    }
   ],
   "source": [
    "#describe data\n",
    "ice_df.describe()"
   ]
  },
  {
   "cell_type": "code",
   "execution_count": 99,
   "metadata": {
    "id": "CuglmQ_EQU5y"
   },
   "outputs": [
    {
     "data": {
      "text/plain": [
       "7     6\n",
       "8     5\n",
       "6     5\n",
       "9     4\n",
       "5     4\n",
       "10    3\n",
       "4     3\n",
       "11    2\n",
       "3     2\n",
       "12    1\n",
       "2     1\n",
       "dtype: int64"
      ]
     },
     "execution_count": 99,
     "metadata": {},
     "output_type": "execute_result"
    }
   ],
   "source": [
    "#series of dice result\n",
    "series_dice = pd.Series(data=[2, 3, 3, 4, 4, 4, 5, 5, 5, 5, 6, 6, \n",
    "                           6, 6, 6, 7, 7, 7, 7, 7, 7, 8, 8, 8,\n",
    "                          8, 8, 9, 9, 9, 9, 10, 10, 10, 11, 11, 12])\n",
    "#value count\n",
    "series_dice.value_counts()"
   ]
  },
  {
   "cell_type": "code",
   "execution_count": 100,
   "metadata": {
    "id": "dCDrezXwQy8F"
   },
   "outputs": [
    {
     "name": "stdout",
     "output_type": "stream",
     "text": [
      "df_2:\n",
      "   one  two\n",
      "a  1.0  1.0\n",
      "b  2.0  2.0\n",
      "d  0.0  4.0\n",
      "e  3.0  3.0\n",
      "\n",
      "New code output:\n"
     ]
    },
    {
     "data": {
      "text/plain": [
       "one    1.5\n",
       "two    2.5\n",
       "dtype: float64"
      ]
     },
     "execution_count": 100,
     "metadata": {},
     "output_type": "execute_result"
    }
   ],
   "source": [
    "#aggregate\n",
    "\n",
    "print(\"df_2:\")\n",
    "print(df_2) \n",
    "\n",
    "#new code\n",
    "print(\"\\nNew code output:\")\n",
    "df_2.agg(np.mean)"
   ]
  },
  {
   "cell_type": "code",
   "execution_count": 101,
   "metadata": {
    "id": "yS48l6u_RYx0"
   },
   "outputs": [
    {
     "name": "stdout",
     "output_type": "stream",
     "text": [
      "df_2:\n",
      "   one  two\n",
      "a  1.0  1.0\n",
      "b  2.0  2.0\n",
      "d  0.0  4.0\n",
      "e  3.0  3.0\n",
      "\n",
      "New code output:\n"
     ]
    },
    {
     "data": {
      "text/html": [
       "<div>\n",
       "<style scoped>\n",
       "    .dataframe tbody tr th:only-of-type {\n",
       "        vertical-align: middle;\n",
       "    }\n",
       "\n",
       "    .dataframe tbody tr th {\n",
       "        vertical-align: top;\n",
       "    }\n",
       "\n",
       "    .dataframe thead th {\n",
       "        text-align: right;\n",
       "    }\n",
       "</style>\n",
       "<table border=\"1\" class=\"dataframe\">\n",
       "  <thead>\n",
       "    <tr style=\"text-align: right;\">\n",
       "      <th></th>\n",
       "      <th>one</th>\n",
       "      <th>two</th>\n",
       "    </tr>\n",
       "  </thead>\n",
       "  <tbody>\n",
       "    <tr>\n",
       "      <th>mean</th>\n",
       "      <td>1.500000</td>\n",
       "      <td>2.500000</td>\n",
       "    </tr>\n",
       "    <tr>\n",
       "      <th>std</th>\n",
       "      <td>1.290994</td>\n",
       "      <td>1.290994</td>\n",
       "    </tr>\n",
       "  </tbody>\n",
       "</table>\n",
       "</div>"
      ],
      "text/plain": [
       "           one       two\n",
       "mean  1.500000  2.500000\n",
       "std   1.290994  1.290994"
      ]
     },
     "execution_count": 101,
     "metadata": {},
     "output_type": "execute_result"
    }
   ],
   "source": [
    "#mean and standard deviation\n",
    "\n",
    "print(\"df_2:\")\n",
    "print(df_2) \n",
    "\n",
    "#new code\n",
    "print(\"\\nNew code output:\")\n",
    "df_2.agg(['mean','std'])"
   ]
  },
  {
   "cell_type": "markdown",
   "metadata": {
    "id": "CO-NxrEMRktI"
   },
   "source": [
    "**Iteration**"
   ]
  },
  {
   "cell_type": "code",
   "execution_count": 102,
   "metadata": {
    "id": "aS62vVIuRnqy"
   },
   "outputs": [
    {
     "name": "stdout",
     "output_type": "stream",
     "text": [
      "series_7\n",
      "a    0\n",
      "b    1\n",
      "c    2\n",
      "d    3\n",
      "e    4\n",
      "dtype: int64\n",
      "\n",
      "New code output:\n",
      "0\n",
      "1\n",
      "2\n",
      "3\n",
      "4\n"
     ]
    }
   ],
   "source": [
    "# Iterating over series\n",
    "series_7 = pd.Series(range(5), index=['a', 'b', 'c', 'd', 'e'])\n",
    "print(\"series_7\")\n",
    "print(series_7)\n",
    "\n",
    "#new code\n",
    "print(\"\\nNew code output:\")\n",
    "for col in series_7:\n",
    "  print(col)"
   ]
  },
  {
   "cell_type": "code",
   "execution_count": 103,
   "metadata": {
    "id": "rIiuDISJR34U"
   },
   "outputs": [
    {
     "name": "stdout",
     "output_type": "stream",
     "text": [
      "df_8:\n",
      "    C   D   E\n",
      "B  42  34  32\n",
      "C  16  21  46\n",
      "\n",
      "New code output:\n",
      "label: C\n",
      "B    42\n",
      "C    16\n",
      "Name: C, dtype: int32\n",
      "\n",
      "label: D\n",
      "B    34\n",
      "C    21\n",
      "Name: D, dtype: int32\n",
      "\n",
      "label: E\n",
      "B    32\n",
      "C    46\n",
      "Name: E, dtype: int32\n",
      "\n"
     ]
    }
   ],
   "source": [
    "# Iterating over DFs (column)\n",
    "array_4 = np.random.randint(10, 50, size=(2, 3))\n",
    "df_8 = pd.DataFrame(array_4, ['B', 'C'], ['C', 'D', 'E'])\n",
    "print(\"df_8:\")\n",
    "print(df_8)\n",
    "\n",
    "#new code\n",
    "print(\"\\nNew code output:\")\n",
    "for label, ser in df_8.items():\n",
    "  print(\"label:\",label)\n",
    "  print(ser)\n",
    "  print()"
   ]
  },
  {
   "cell_type": "code",
   "execution_count": 104,
   "metadata": {
    "id": "pHXmzhXLS_VX"
   },
   "outputs": [
    {
     "name": "stdout",
     "output_type": "stream",
     "text": [
      "df_8:\n",
      "    C   D   E\n",
      "B  42  34  32\n",
      "C  16  21  46\n",
      "\n",
      "New code output:\n",
      "B\n",
      "C    42\n",
      "D    34\n",
      "E    32\n",
      "Name: B, dtype: int32\n",
      "\n",
      "C\n",
      "C    16\n",
      "D    21\n",
      "E    46\n",
      "Name: C, dtype: int32\n",
      "\n"
     ]
    }
   ],
   "source": [
    "# Iterating over DFs (row)\n",
    "\n",
    "print(\"df_8:\")\n",
    "print(df_8)\n",
    "\n",
    "#new code\n",
    "print(\"\\nNew code output:\")\n",
    "for index, row in df_8.iterrows():\n",
    "  print(f\"{index}\\n{row}\")\n",
    "  print()"
   ]
  },
  {
   "cell_type": "code",
   "execution_count": 105,
   "metadata": {
    "id": "ojeFeFdaUZwQ"
   },
   "outputs": [
    {
     "name": "stdout",
     "output_type": "stream",
     "text": [
      "df_8:\n",
      "    C   D   E\n",
      "B  42  34  32\n",
      "C  16  21  46\n",
      "\n",
      "New code output:\n",
      "Pandas(Index='B', C=42, D=34, E=32)\n",
      "Pandas(Index='C', C=16, D=21, E=46)\n"
     ]
    }
   ],
   "source": [
    "# Iterating over DFs and tuple as output\n",
    "\n",
    "print(\"df_8:\")\n",
    "print(df_8)\n",
    "\n",
    "#new code\n",
    "print(\"\\nNew code output:\")\n",
    "for row in df_8.itertuples():\n",
    "  print(row)"
   ]
  },
  {
   "cell_type": "markdown",
   "metadata": {
    "id": "x4a_8xMtU9ah"
   },
   "source": [
    "**Sorting**"
   ]
  },
  {
   "cell_type": "code",
   "execution_count": 106,
   "metadata": {
    "id": "ZFqNpqTMU_QL"
   },
   "outputs": [
    {
     "name": "stdout",
     "output_type": "stream",
     "text": [
      "df_8:\n",
      "    C   D   E\n",
      "B  42  34  32\n",
      "C  16  21  46\n",
      "\n",
      "New code output:\n"
     ]
    },
    {
     "data": {
      "text/html": [
       "<div>\n",
       "<style scoped>\n",
       "    .dataframe tbody tr th:only-of-type {\n",
       "        vertical-align: middle;\n",
       "    }\n",
       "\n",
       "    .dataframe tbody tr th {\n",
       "        vertical-align: top;\n",
       "    }\n",
       "\n",
       "    .dataframe thead th {\n",
       "        text-align: right;\n",
       "    }\n",
       "</style>\n",
       "<table border=\"1\" class=\"dataframe\">\n",
       "  <thead>\n",
       "    <tr style=\"text-align: right;\">\n",
       "      <th></th>\n",
       "      <th>C</th>\n",
       "      <th>D</th>\n",
       "      <th>E</th>\n",
       "    </tr>\n",
       "  </thead>\n",
       "  <tbody>\n",
       "    <tr>\n",
       "      <th>B</th>\n",
       "      <td>42</td>\n",
       "      <td>34</td>\n",
       "      <td>32</td>\n",
       "    </tr>\n",
       "    <tr>\n",
       "      <th>C</th>\n",
       "      <td>16</td>\n",
       "      <td>21</td>\n",
       "      <td>46</td>\n",
       "    </tr>\n",
       "  </tbody>\n",
       "</table>\n",
       "</div>"
      ],
      "text/plain": [
       "    C   D   E\n",
       "B  42  34  32\n",
       "C  16  21  46"
      ]
     },
     "execution_count": 106,
     "metadata": {},
     "output_type": "execute_result"
    }
   ],
   "source": [
    "# sort in descending order\n",
    "\n",
    "print(\"df_8:\")\n",
    "print(df_8)\n",
    "\n",
    "#new code\n",
    "print(\"\\nNew code output:\")\n",
    "df_8.sort_index()"
   ]
  },
  {
   "cell_type": "code",
   "execution_count": 107,
   "metadata": {
    "id": "-icuAkvVVgKb"
   },
   "outputs": [
    {
     "name": "stdout",
     "output_type": "stream",
     "text": [
      "df_8:\n",
      "    C   D   E\n",
      "B  42  34  32\n",
      "C  16  21  46\n",
      "\n",
      "New code output:\n"
     ]
    },
    {
     "data": {
      "text/html": [
       "<div>\n",
       "<style scoped>\n",
       "    .dataframe tbody tr th:only-of-type {\n",
       "        vertical-align: middle;\n",
       "    }\n",
       "\n",
       "    .dataframe tbody tr th {\n",
       "        vertical-align: top;\n",
       "    }\n",
       "\n",
       "    .dataframe thead th {\n",
       "        text-align: right;\n",
       "    }\n",
       "</style>\n",
       "<table border=\"1\" class=\"dataframe\">\n",
       "  <thead>\n",
       "    <tr style=\"text-align: right;\">\n",
       "      <th></th>\n",
       "      <th>C</th>\n",
       "      <th>D</th>\n",
       "      <th>E</th>\n",
       "    </tr>\n",
       "  </thead>\n",
       "  <tbody>\n",
       "    <tr>\n",
       "      <th>C</th>\n",
       "      <td>16</td>\n",
       "      <td>21</td>\n",
       "      <td>46</td>\n",
       "    </tr>\n",
       "    <tr>\n",
       "      <th>B</th>\n",
       "      <td>42</td>\n",
       "      <td>34</td>\n",
       "      <td>32</td>\n",
       "    </tr>\n",
       "  </tbody>\n",
       "</table>\n",
       "</div>"
      ],
      "text/plain": [
       "    C   D   E\n",
       "C  16  21  46\n",
       "B  42  34  32"
      ]
     },
     "execution_count": 107,
     "metadata": {},
     "output_type": "execute_result"
    }
   ],
   "source": [
    "# sort in descending order\n",
    "\n",
    "print(\"df_8:\")\n",
    "print(df_8)\n",
    "\n",
    "#new code\n",
    "print(\"\\nNew code output:\")\n",
    "df_8.sort_index(ascending=False)"
   ]
  },
  {
   "cell_type": "code",
   "execution_count": 108,
   "metadata": {
    "id": "3pa9-_Nha04N"
   },
   "outputs": [
    {
     "name": "stdout",
     "output_type": "stream",
     "text": [
      "df_8:\n",
      "    C   D   E\n",
      "B  42  34  32\n",
      "C  16  21  46\n",
      "\n",
      "New code output:\n"
     ]
    },
    {
     "data": {
      "text/html": [
       "<div>\n",
       "<style scoped>\n",
       "    .dataframe tbody tr th:only-of-type {\n",
       "        vertical-align: middle;\n",
       "    }\n",
       "\n",
       "    .dataframe tbody tr th {\n",
       "        vertical-align: top;\n",
       "    }\n",
       "\n",
       "    .dataframe thead th {\n",
       "        text-align: right;\n",
       "    }\n",
       "</style>\n",
       "<table border=\"1\" class=\"dataframe\">\n",
       "  <thead>\n",
       "    <tr style=\"text-align: right;\">\n",
       "      <th></th>\n",
       "      <th>C</th>\n",
       "      <th>D</th>\n",
       "      <th>E</th>\n",
       "    </tr>\n",
       "  </thead>\n",
       "  <tbody>\n",
       "    <tr>\n",
       "      <th>B</th>\n",
       "      <td>42</td>\n",
       "      <td>34</td>\n",
       "      <td>32</td>\n",
       "    </tr>\n",
       "    <tr>\n",
       "      <th>C</th>\n",
       "      <td>16</td>\n",
       "      <td>21</td>\n",
       "      <td>46</td>\n",
       "    </tr>\n",
       "  </tbody>\n",
       "</table>\n",
       "</div>"
      ],
      "text/plain": [
       "    C   D   E\n",
       "B  42  34  32\n",
       "C  16  21  46"
      ]
     },
     "execution_count": 108,
     "metadata": {},
     "output_type": "execute_result"
    }
   ],
   "source": [
    "#sort values by specific column\n",
    "\n",
    "print(\"df_8:\")\n",
    "print(df_8)\n",
    "\n",
    "#new code\n",
    "print(\"\\nNew code output:\")\n",
    "df_8.sort_values(by='E') "
   ]
  },
  {
   "cell_type": "markdown",
   "metadata": {
    "id": "UFn7TRiqbFzL"
   },
   "source": [
    "**Passing Data to Functions**"
   ]
  },
  {
   "cell_type": "code",
   "execution_count": 109,
   "metadata": {
    "id": "62bx6iRybJe0"
   },
   "outputs": [
    {
     "name": "stdout",
     "output_type": "stream",
     "text": [
      "Total Profit : 5459.010000000001\n"
     ]
    }
   ],
   "source": [
    "#calculating computer sales profit using function\n",
    "\n",
    "def get_profit_total(df):\n",
    "  prof_ser = df['Profit']\n",
    "  print(f\"Total Profit : {prof_ser.sum()}\")\n",
    "\n",
    "get_profit_total(cs_df)"
   ]
  },
  {
   "cell_type": "code",
   "execution_count": 110,
   "metadata": {
    "id": "bwjgUI6MdGTU"
   },
   "outputs": [
    {
     "data": {
      "text/html": [
       "<div>\n",
       "<style scoped>\n",
       "    .dataframe tbody tr th:only-of-type {\n",
       "        vertical-align: middle;\n",
       "    }\n",
       "\n",
       "    .dataframe tbody tr th {\n",
       "        vertical-align: top;\n",
       "    }\n",
       "\n",
       "    .dataframe thead th {\n",
       "        text-align: right;\n",
       "    }\n",
       "</style>\n",
       "<table border=\"1\" class=\"dataframe\">\n",
       "  <thead>\n",
       "    <tr style=\"text-align: right;\">\n",
       "      <th></th>\n",
       "      <th>Sale ID</th>\n",
       "      <th>Contact</th>\n",
       "      <th>Sex</th>\n",
       "      <th>Age</th>\n",
       "      <th>State</th>\n",
       "      <th>Product ID</th>\n",
       "      <th>Product Type</th>\n",
       "      <th>Sale Price</th>\n",
       "      <th>Profit</th>\n",
       "      <th>Lead</th>\n",
       "      <th>Month</th>\n",
       "      <th>Year</th>\n",
       "      <th>First Name</th>\n",
       "      <th>Last Name</th>\n",
       "    </tr>\n",
       "  </thead>\n",
       "  <tbody>\n",
       "    <tr>\n",
       "      <th>0</th>\n",
       "      <td>1</td>\n",
       "      <td>Paul Thomas</td>\n",
       "      <td>M</td>\n",
       "      <td>43</td>\n",
       "      <td>OH</td>\n",
       "      <td>M01-F0024</td>\n",
       "      <td>Desktop</td>\n",
       "      <td>479.99</td>\n",
       "      <td>143.39</td>\n",
       "      <td>Website</td>\n",
       "      <td>January</td>\n",
       "      <td>2018</td>\n",
       "      <td>Paul</td>\n",
       "      <td>Thomas</td>\n",
       "    </tr>\n",
       "    <tr>\n",
       "      <th>1</th>\n",
       "      <td>2</td>\n",
       "      <td>Margo Simms</td>\n",
       "      <td>F</td>\n",
       "      <td>37</td>\n",
       "      <td>WV</td>\n",
       "      <td>GT13-0024</td>\n",
       "      <td>Desktop</td>\n",
       "      <td>1249.99</td>\n",
       "      <td>230.89</td>\n",
       "      <td>Flyer 4</td>\n",
       "      <td>January</td>\n",
       "      <td>2018</td>\n",
       "      <td>Margo</td>\n",
       "      <td>Simms</td>\n",
       "    </tr>\n",
       "    <tr>\n",
       "      <th>2</th>\n",
       "      <td>3</td>\n",
       "      <td>Sam Stine</td>\n",
       "      <td>M</td>\n",
       "      <td>26</td>\n",
       "      <td>PA</td>\n",
       "      <td>I3670</td>\n",
       "      <td>Desktop</td>\n",
       "      <td>649.99</td>\n",
       "      <td>118.64</td>\n",
       "      <td>Website</td>\n",
       "      <td>February</td>\n",
       "      <td>2018</td>\n",
       "      <td>Sam</td>\n",
       "      <td>Stine</td>\n",
       "    </tr>\n",
       "    <tr>\n",
       "      <th>3</th>\n",
       "      <td>4</td>\n",
       "      <td>Moe Eggert</td>\n",
       "      <td>M</td>\n",
       "      <td>35</td>\n",
       "      <td>PA</td>\n",
       "      <td>I3593</td>\n",
       "      <td>Laptop</td>\n",
       "      <td>399.99</td>\n",
       "      <td>72.09</td>\n",
       "      <td>Website</td>\n",
       "      <td>March</td>\n",
       "      <td>2018</td>\n",
       "      <td>Moe</td>\n",
       "      <td>Eggert</td>\n",
       "    </tr>\n",
       "    <tr>\n",
       "      <th>4</th>\n",
       "      <td>5</td>\n",
       "      <td>Jessica Elk</td>\n",
       "      <td>F</td>\n",
       "      <td>55</td>\n",
       "      <td>PA</td>\n",
       "      <td>15M-ED</td>\n",
       "      <td>Laptop</td>\n",
       "      <td>699.99</td>\n",
       "      <td>98.09</td>\n",
       "      <td>Flyer 4</td>\n",
       "      <td>March</td>\n",
       "      <td>2018</td>\n",
       "      <td>Jessica</td>\n",
       "      <td>Elk</td>\n",
       "    </tr>\n",
       "  </tbody>\n",
       "</table>\n",
       "</div>"
      ],
      "text/plain": [
       "   Sale ID      Contact Sex  Age State Product ID Product Type  Sale Price  \\\n",
       "0        1  Paul Thomas   M   43    OH  M01-F0024      Desktop      479.99   \n",
       "1        2  Margo Simms   F   37    WV  GT13-0024      Desktop     1249.99   \n",
       "2        3    Sam Stine   M   26    PA      I3670      Desktop      649.99   \n",
       "3        4   Moe Eggert   M   35    PA      I3593       Laptop      399.99   \n",
       "4        5  Jessica Elk   F   55    PA     15M-ED       Laptop      699.99   \n",
       "\n",
       "   Profit     Lead     Month  Year First Name Last Name  \n",
       "0  143.39  Website   January  2018       Paul    Thomas  \n",
       "1  230.89  Flyer 4   January  2018      Margo     Simms  \n",
       "2  118.64  Website  February  2018        Sam     Stine  \n",
       "3   72.09  Website     March  2018        Moe    Eggert  \n",
       "4   98.09  Flyer 4     March  2018    Jessica       Elk  "
      ]
     },
     "execution_count": 110,
     "metadata": {},
     "output_type": "execute_result"
    }
   ],
   "source": [
    "#split first and last name in two columns\n",
    "\n",
    "def split_name(df):\n",
    "  def get_names(full_name):\n",
    "    f_name, l_name = full_name.split()\n",
    "    return pd.Series(\n",
    "    (f_name, l_name),\n",
    "    index =['First Name','Last Name'])\n",
    "    \n",
    "  names = df['Contact'].apply(get_names)\n",
    "  df[names.columns] = names\n",
    "  return df\n",
    "\n",
    "split_name(cs_df).head()"
   ]
  },
  {
   "cell_type": "code",
   "execution_count": 111,
   "metadata": {
    "id": "MyxJE-nVnD8s"
   },
   "outputs": [
    {
     "data": {
      "text/html": [
       "<div>\n",
       "<style scoped>\n",
       "    .dataframe tbody tr th:only-of-type {\n",
       "        vertical-align: middle;\n",
       "    }\n",
       "\n",
       "    .dataframe tbody tr th {\n",
       "        vertical-align: top;\n",
       "    }\n",
       "\n",
       "    .dataframe thead th {\n",
       "        text-align: right;\n",
       "    }\n",
       "</style>\n",
       "<table border=\"1\" class=\"dataframe\">\n",
       "  <thead>\n",
       "    <tr style=\"text-align: right;\">\n",
       "      <th></th>\n",
       "      <th>Sale ID</th>\n",
       "      <th>Contact</th>\n",
       "      <th>Sex</th>\n",
       "      <th>Age</th>\n",
       "      <th>State</th>\n",
       "      <th>Product ID</th>\n",
       "      <th>Product Type</th>\n",
       "      <th>Sale Price</th>\n",
       "      <th>Profit</th>\n",
       "      <th>Lead</th>\n",
       "      <th>Month</th>\n",
       "      <th>Year</th>\n",
       "      <th>First Name</th>\n",
       "      <th>Last Name</th>\n",
       "      <th>Age Group</th>\n",
       "    </tr>\n",
       "  </thead>\n",
       "  <tbody>\n",
       "    <tr>\n",
       "      <th>0</th>\n",
       "      <td>1</td>\n",
       "      <td>Paul Thomas</td>\n",
       "      <td>M</td>\n",
       "      <td>43</td>\n",
       "      <td>OH</td>\n",
       "      <td>M01-F0024</td>\n",
       "      <td>Desktop</td>\n",
       "      <td>479.99</td>\n",
       "      <td>143.39</td>\n",
       "      <td>Website</td>\n",
       "      <td>January</td>\n",
       "      <td>2018</td>\n",
       "      <td>Paul</td>\n",
       "      <td>Thomas</td>\n",
       "      <td>30-50</td>\n",
       "    </tr>\n",
       "    <tr>\n",
       "      <th>1</th>\n",
       "      <td>2</td>\n",
       "      <td>Margo Simms</td>\n",
       "      <td>F</td>\n",
       "      <td>37</td>\n",
       "      <td>WV</td>\n",
       "      <td>GT13-0024</td>\n",
       "      <td>Desktop</td>\n",
       "      <td>1249.99</td>\n",
       "      <td>230.89</td>\n",
       "      <td>Flyer 4</td>\n",
       "      <td>January</td>\n",
       "      <td>2018</td>\n",
       "      <td>Margo</td>\n",
       "      <td>Simms</td>\n",
       "      <td>30-50</td>\n",
       "    </tr>\n",
       "    <tr>\n",
       "      <th>2</th>\n",
       "      <td>3</td>\n",
       "      <td>Sam Stine</td>\n",
       "      <td>M</td>\n",
       "      <td>26</td>\n",
       "      <td>PA</td>\n",
       "      <td>I3670</td>\n",
       "      <td>Desktop</td>\n",
       "      <td>649.99</td>\n",
       "      <td>118.64</td>\n",
       "      <td>Website</td>\n",
       "      <td>February</td>\n",
       "      <td>2018</td>\n",
       "      <td>Sam</td>\n",
       "      <td>Stine</td>\n",
       "      <td>&lt;30</td>\n",
       "    </tr>\n",
       "    <tr>\n",
       "      <th>3</th>\n",
       "      <td>4</td>\n",
       "      <td>Moe Eggert</td>\n",
       "      <td>M</td>\n",
       "      <td>35</td>\n",
       "      <td>PA</td>\n",
       "      <td>I3593</td>\n",
       "      <td>Laptop</td>\n",
       "      <td>399.99</td>\n",
       "      <td>72.09</td>\n",
       "      <td>Website</td>\n",
       "      <td>March</td>\n",
       "      <td>2018</td>\n",
       "      <td>Moe</td>\n",
       "      <td>Eggert</td>\n",
       "      <td>30-50</td>\n",
       "    </tr>\n",
       "    <tr>\n",
       "      <th>4</th>\n",
       "      <td>5</td>\n",
       "      <td>Jessica Elk</td>\n",
       "      <td>F</td>\n",
       "      <td>55</td>\n",
       "      <td>PA</td>\n",
       "      <td>15M-ED</td>\n",
       "      <td>Laptop</td>\n",
       "      <td>699.99</td>\n",
       "      <td>98.09</td>\n",
       "      <td>Flyer 4</td>\n",
       "      <td>March</td>\n",
       "      <td>2018</td>\n",
       "      <td>Jessica</td>\n",
       "      <td>Elk</td>\n",
       "      <td>&gt;50</td>\n",
       "    </tr>\n",
       "  </tbody>\n",
       "</table>\n",
       "</div>"
      ],
      "text/plain": [
       "   Sale ID      Contact Sex  Age State Product ID Product Type  Sale Price  \\\n",
       "0        1  Paul Thomas   M   43    OH  M01-F0024      Desktop      479.99   \n",
       "1        2  Margo Simms   F   37    WV  GT13-0024      Desktop     1249.99   \n",
       "2        3    Sam Stine   M   26    PA      I3670      Desktop      649.99   \n",
       "3        4   Moe Eggert   M   35    PA      I3593       Laptop      399.99   \n",
       "4        5  Jessica Elk   F   55    PA     15M-ED       Laptop      699.99   \n",
       "\n",
       "   Profit     Lead     Month  Year First Name Last Name Age Group  \n",
       "0  143.39  Website   January  2018       Paul    Thomas     30-50  \n",
       "1  230.89  Flyer 4   January  2018      Margo     Simms     30-50  \n",
       "2  118.64  Website  February  2018        Sam     Stine       <30  \n",
       "3   72.09  Website     March  2018        Moe    Eggert     30-50  \n",
       "4   98.09  Flyer 4     March  2018    Jessica       Elk       >50  "
      ]
     },
     "execution_count": 111,
     "metadata": {},
     "output_type": "execute_result"
    }
   ],
   "source": [
    "#assign people to different age group\n",
    "import sys\n",
    "\n",
    "def create_age_group(df):\n",
    "  bins = [0,30,50,sys.maxsize]\n",
    "  labels = ['<30', '30-50', '>50']\n",
    "  age_group = pd.cut(df['Age'], bins=bins, labels=labels)\n",
    "  df['Age Group'] = age_group\n",
    "  return df\n",
    "\n",
    "create_age_group(cs_df).head()"
   ]
  },
  {
   "cell_type": "code",
   "execution_count": 112,
   "metadata": {
    "id": "FuqORqn8px9R"
   },
   "outputs": [
    {
     "data": {
      "text/html": [
       "<div>\n",
       "<style scoped>\n",
       "    .dataframe tbody tr th:only-of-type {\n",
       "        vertical-align: middle;\n",
       "    }\n",
       "\n",
       "    .dataframe tbody tr th {\n",
       "        vertical-align: top;\n",
       "    }\n",
       "\n",
       "    .dataframe thead th {\n",
       "        text-align: right;\n",
       "    }\n",
       "</style>\n",
       "<table border=\"1\" class=\"dataframe\">\n",
       "  <thead>\n",
       "    <tr style=\"text-align: right;\">\n",
       "      <th></th>\n",
       "      <th>Sale ID</th>\n",
       "      <th>Contact</th>\n",
       "      <th>Sex</th>\n",
       "      <th>Age</th>\n",
       "      <th>State</th>\n",
       "      <th>Product ID</th>\n",
       "      <th>Product Type</th>\n",
       "      <th>Sale Price</th>\n",
       "      <th>Profit</th>\n",
       "      <th>Lead</th>\n",
       "      <th>Month</th>\n",
       "      <th>Year</th>\n",
       "      <th>First Name</th>\n",
       "      <th>Last Name</th>\n",
       "      <th>Age Group</th>\n",
       "    </tr>\n",
       "  </thead>\n",
       "  <tbody>\n",
       "    <tr>\n",
       "      <th>0</th>\n",
       "      <td>1</td>\n",
       "      <td>Paul Thomas</td>\n",
       "      <td>M</td>\n",
       "      <td>43</td>\n",
       "      <td>OH</td>\n",
       "      <td>M01-F0024</td>\n",
       "      <td>Desktop</td>\n",
       "      <td>479.99</td>\n",
       "      <td>143.39</td>\n",
       "      <td>Website</td>\n",
       "      <td>January</td>\n",
       "      <td>2018</td>\n",
       "      <td>Paul</td>\n",
       "      <td>Thomas</td>\n",
       "      <td>30-50</td>\n",
       "    </tr>\n",
       "    <tr>\n",
       "      <th>1</th>\n",
       "      <td>2</td>\n",
       "      <td>Margo Simms</td>\n",
       "      <td>F</td>\n",
       "      <td>37</td>\n",
       "      <td>WV</td>\n",
       "      <td>GT13-0024</td>\n",
       "      <td>Desktop</td>\n",
       "      <td>1249.99</td>\n",
       "      <td>230.89</td>\n",
       "      <td>Flyer 4</td>\n",
       "      <td>January</td>\n",
       "      <td>2018</td>\n",
       "      <td>Margo</td>\n",
       "      <td>Simms</td>\n",
       "      <td>30-50</td>\n",
       "    </tr>\n",
       "    <tr>\n",
       "      <th>2</th>\n",
       "      <td>3</td>\n",
       "      <td>Sam Stine</td>\n",
       "      <td>M</td>\n",
       "      <td>26</td>\n",
       "      <td>PA</td>\n",
       "      <td>I3670</td>\n",
       "      <td>Desktop</td>\n",
       "      <td>649.99</td>\n",
       "      <td>118.64</td>\n",
       "      <td>Website</td>\n",
       "      <td>February</td>\n",
       "      <td>2018</td>\n",
       "      <td>Sam</td>\n",
       "      <td>Stine</td>\n",
       "      <td>&lt;30</td>\n",
       "    </tr>\n",
       "    <tr>\n",
       "      <th>3</th>\n",
       "      <td>4</td>\n",
       "      <td>Moe Eggert</td>\n",
       "      <td>M</td>\n",
       "      <td>35</td>\n",
       "      <td>PA</td>\n",
       "      <td>I3593</td>\n",
       "      <td>Laptop</td>\n",
       "      <td>399.99</td>\n",
       "      <td>72.09</td>\n",
       "      <td>Website</td>\n",
       "      <td>March</td>\n",
       "      <td>2018</td>\n",
       "      <td>Moe</td>\n",
       "      <td>Eggert</td>\n",
       "      <td>30-50</td>\n",
       "    </tr>\n",
       "    <tr>\n",
       "      <th>4</th>\n",
       "      <td>5</td>\n",
       "      <td>Jessica Elk</td>\n",
       "      <td>F</td>\n",
       "      <td>55</td>\n",
       "      <td>PA</td>\n",
       "      <td>15M-ED</td>\n",
       "      <td>Laptop</td>\n",
       "      <td>699.99</td>\n",
       "      <td>98.09</td>\n",
       "      <td>Flyer 4</td>\n",
       "      <td>March</td>\n",
       "      <td>2018</td>\n",
       "      <td>Jessica</td>\n",
       "      <td>Elk</td>\n",
       "      <td>&gt;50</td>\n",
       "    </tr>\n",
       "  </tbody>\n",
       "</table>\n",
       "</div>"
      ],
      "text/plain": [
       "   Sale ID      Contact Sex  Age State Product ID Product Type  Sale Price  \\\n",
       "0        1  Paul Thomas   M   43    OH  M01-F0024      Desktop      479.99   \n",
       "1        2  Margo Simms   F   37    WV  GT13-0024      Desktop     1249.99   \n",
       "2        3    Sam Stine   M   26    PA      I3670      Desktop      649.99   \n",
       "3        4   Moe Eggert   M   35    PA      I3593       Laptop      399.99   \n",
       "4        5  Jessica Elk   F   55    PA     15M-ED       Laptop      699.99   \n",
       "\n",
       "   Profit     Lead     Month  Year First Name Last Name Age Group  \n",
       "0  143.39  Website   January  2018       Paul    Thomas     30-50  \n",
       "1  230.89  Flyer 4   January  2018      Margo     Simms     30-50  \n",
       "2  118.64  Website  February  2018        Sam     Stine       <30  \n",
       "3   72.09  Website     March  2018        Moe    Eggert     30-50  \n",
       "4   98.09  Flyer 4     March  2018    Jessica       Elk       >50  "
      ]
     },
     "execution_count": 112,
     "metadata": {},
     "output_type": "execute_result"
    }
   ],
   "source": [
    "# we can all above functions simultaneously using pipe\n",
    "cs_df.pipe(split_name).pipe(create_age_group).head()"
   ]
  },
  {
   "cell_type": "markdown",
   "metadata": {
    "id": "k-mQICetqkEC"
   },
   "source": [
    "**Aligning, Reindexing and Renaming Labels**"
   ]
  },
  {
   "cell_type": "code",
   "execution_count": 113,
   "metadata": {
    "id": "3ThH5eIXqqwU"
   },
   "outputs": [
    {
     "name": "stdout",
     "output_type": "stream",
     "text": [
      "series_6:\n",
      "a    0\n",
      "b    1\n",
      "c    2\n",
      "d    3\n",
      "e    4\n",
      "dtype: int64\n",
      "\n",
      "sl_1:\n",
      "a    0\n",
      "b    1\n",
      "c    2\n",
      "d    3\n",
      "dtype: int64\n",
      "\n",
      "sl_2:\n",
      "b    1\n",
      "c    2\n",
      "d    3\n",
      "e    4\n",
      "dtype: int64\n"
     ]
    }
   ],
   "source": [
    "series_6 = pd.Series(range(5), index=['a','b','c','d','e'])\n",
    "print(\"series_6:\")\n",
    "print(series_6)\n",
    "sl_1 = series_6[:4]\n",
    "sl_2 = series_6[1:]\n",
    "\n",
    "print(\"\\nsl_1:\")\n",
    "print(sl_1)\n",
    "print(\"\\nsl_2:\")\n",
    "print(sl_2)"
   ]
  },
  {
   "cell_type": "code",
   "execution_count": 114,
   "metadata": {
    "id": "VQMDWlrvcUbO"
   },
   "outputs": [
    {
     "name": "stdout",
     "output_type": "stream",
     "text": [
      "sl_1:\n",
      "a    0\n",
      "b    1\n",
      "c    2\n",
      "d    3\n",
      "dtype: int64\n",
      "\n",
      "sl_2:\n",
      "b    1\n",
      "c    2\n",
      "d    3\n",
      "e    4\n",
      "dtype: int64 \n",
      "\n"
     ]
    },
    {
     "data": {
      "text/plain": [
       "(a    0.0\n",
       " b    1.0\n",
       " c    2.0\n",
       " d    3.0\n",
       " e    NaN\n",
       " dtype: float64, a    NaN\n",
       " b    1.0\n",
       " c    2.0\n",
       " d    3.0\n",
       " e    4.0\n",
       " dtype: float64)"
      ]
     },
     "execution_count": 114,
     "metadata": {},
     "output_type": "execute_result"
    }
   ],
   "source": [
    "#align\n",
    "\n",
    "print(\"sl_1:\")\n",
    "print(sl_1)\n",
    "print(\"\\nsl_2:\")\n",
    "print(sl_2,\"\\n\")\n",
    "\n",
    "#new code\n",
    "sl_1.align(sl_2)"
   ]
  },
  {
   "cell_type": "code",
   "execution_count": 115,
   "metadata": {
    "id": "JdK9seondG2L"
   },
   "outputs": [
    {
     "name": "stdout",
     "output_type": "stream",
     "text": [
      "sl_1:\n",
      "a    0\n",
      "b    1\n",
      "c    2\n",
      "d    3\n",
      "dtype: int64\n",
      "\n",
      "sl_2:\n",
      "b    1\n",
      "c    2\n",
      "d    3\n",
      "e    4\n",
      "dtype: int64 \n",
      "\n"
     ]
    },
    {
     "data": {
      "text/plain": [
       "(a    0\n",
       " b    1\n",
       " c    2\n",
       " d    3\n",
       " dtype: int64, a    NaN\n",
       " b    1.0\n",
       " c    2.0\n",
       " d    3.0\n",
       " dtype: float64)"
      ]
     },
     "execution_count": 115,
     "metadata": {},
     "output_type": "execute_result"
    }
   ],
   "source": [
    "#align left\n",
    "\n",
    "print(\"sl_1:\")\n",
    "print(sl_1)\n",
    "print(\"\\nsl_2:\")\n",
    "print(sl_2,\"\\n\")\n",
    "\n",
    "#new code\n",
    "sl_1.align(sl_2, join='left')"
   ]
  },
  {
   "cell_type": "code",
   "execution_count": 116,
   "metadata": {
    "id": "NBI_hWrHdZ8X"
   },
   "outputs": [
    {
     "name": "stdout",
     "output_type": "stream",
     "text": [
      "sl_1:\n",
      "a    0\n",
      "b    1\n",
      "c    2\n",
      "d    3\n",
      "dtype: int64\n",
      "\n",
      "sl_2:\n",
      "b    1\n",
      "c    2\n",
      "d    3\n",
      "e    4\n",
      "dtype: int64 \n",
      "\n"
     ]
    },
    {
     "data": {
      "text/plain": [
       "(b    1.0\n",
       " c    2.0\n",
       " d    3.0\n",
       " e    NaN\n",
       " dtype: float64, b    1\n",
       " c    2\n",
       " d    3\n",
       " e    4\n",
       " dtype: int64)"
      ]
     },
     "execution_count": 116,
     "metadata": {},
     "output_type": "execute_result"
    }
   ],
   "source": [
    "#align right\n",
    "\n",
    "print(\"sl_1:\")\n",
    "print(sl_1)\n",
    "print(\"\\nsl_2:\")\n",
    "print(sl_2,\"\\n\")\n",
    "\n",
    "#new code\n",
    "sl_1.align(sl_2, join='right')"
   ]
  },
  {
   "cell_type": "code",
   "execution_count": 117,
   "metadata": {
    "id": "lFtHbEOidqLN"
   },
   "outputs": [
    {
     "name": "stdout",
     "output_type": "stream",
     "text": [
      "sl_1:\n",
      "a    0\n",
      "b    1\n",
      "c    2\n",
      "d    3\n",
      "dtype: int64\n",
      "\n",
      "sl_2:\n",
      "b    1\n",
      "c    2\n",
      "d    3\n",
      "e    4\n",
      "dtype: int64 \n",
      "\n"
     ]
    },
    {
     "data": {
      "text/plain": [
       "(b    1\n",
       " c    2\n",
       " d    3\n",
       " dtype: int64, b    1\n",
       " c    2\n",
       " d    3\n",
       " dtype: int64)"
      ]
     },
     "execution_count": 117,
     "metadata": {},
     "output_type": "execute_result"
    }
   ],
   "source": [
    "#align inner\n",
    "\n",
    "print(\"sl_1:\")\n",
    "print(sl_1)\n",
    "print(\"\\nsl_2:\")\n",
    "print(sl_2,\"\\n\")\n",
    "\n",
    "#new code\n",
    "sl_1.align(sl_2, join='inner')"
   ]
  },
  {
   "cell_type": "code",
   "execution_count": 118,
   "metadata": {
    "id": "mf3aBZood29i"
   },
   "outputs": [
    {
     "name": "stdout",
     "output_type": "stream",
     "text": [
      "df_6:\n",
      "    C   D   E\n",
      "A  34  41  49\n",
      "B  28  37  30\n",
      "\n",
      "df_7:\n",
      "    C   D   E\n",
      "B  39  15  29\n",
      "C  36  47  17 \n",
      "\n"
     ]
    },
    {
     "data": {
      "text/plain": [
       "(      C     D     E\n",
       " A  34.0  41.0  49.0\n",
       " B  28.0  37.0  30.0\n",
       " C   NaN   NaN   NaN,       C     D     E\n",
       " A   NaN   NaN   NaN\n",
       " B  39.0  15.0  29.0\n",
       " C  36.0  47.0  17.0)"
      ]
     },
     "execution_count": 118,
     "metadata": {},
     "output_type": "execute_result"
    }
   ],
   "source": [
    "#align dataframe\n",
    "\n",
    "array_3 = np.random.randint(10, 50, size=(2, 3))\n",
    "df_6 = pd.DataFrame(array_3, ['A', 'B'], ['C', 'D', 'E'])\n",
    "print(\"df_6:\")\n",
    "print(df_6)\n",
    "\n",
    "array_3 = np.random.randint(10, 50, size=(2, 3))\n",
    "df_7 = pd.DataFrame(array_3, ['B', 'C'], ['C', 'D', 'E'])\n",
    "print(\"\\ndf_7:\")\n",
    "print(df_7,\"\\n\")\n",
    "\n",
    "df_6.align(df_7)"
   ]
  },
  {
   "cell_type": "code",
   "execution_count": 119,
   "metadata": {
    "colab": {
     "base_uri": "https://localhost:8080/"
    },
    "id": "gmXlZm0lesss",
    "outputId": "8a536646-6449-43e0-bbc2-48f7e4af628d"
   },
   "outputs": [
    {
     "name": "stdout",
     "output_type": "stream",
     "text": [
      "series_6:\n",
      "a    0\n",
      "b    1\n",
      "c    2\n",
      "d    3\n",
      "e    4\n",
      "dtype: int64\n"
     ]
    },
    {
     "data": {
      "text/plain": [
       "c    2\n",
       "b    1\n",
       "a    0\n",
       "dtype: int64"
      ]
     },
     "execution_count": 119,
     "metadata": {},
     "output_type": "execute_result"
    }
   ],
   "source": [
    "#reindex series\n",
    "\n",
    "print(\"series_6:\")\n",
    "print(series_6)\n",
    "\n",
    "#new code\n",
    "series_6.reindex(['c','b','a'])"
   ]
  },
  {
   "cell_type": "code",
   "execution_count": 120,
   "metadata": {
    "colab": {
     "base_uri": "https://localhost:8080/",
     "height": 196
    },
    "id": "536Qr4rRfHq2",
    "outputId": "cc5a113f-d660-4573-af56-3b161fcdda49"
   },
   "outputs": [
    {
     "name": "stdout",
     "output_type": "stream",
     "text": [
      "df_6:\n",
      "    C   D   E\n",
      "A  34  41  49\n",
      "B  28  37  30\n"
     ]
    },
    {
     "data": {
      "text/html": [
       "<div>\n",
       "<style scoped>\n",
       "    .dataframe tbody tr th:only-of-type {\n",
       "        vertical-align: middle;\n",
       "    }\n",
       "\n",
       "    .dataframe tbody tr th {\n",
       "        vertical-align: top;\n",
       "    }\n",
       "\n",
       "    .dataframe thead th {\n",
       "        text-align: right;\n",
       "    }\n",
       "</style>\n",
       "<table border=\"1\" class=\"dataframe\">\n",
       "  <thead>\n",
       "    <tr style=\"text-align: right;\">\n",
       "      <th></th>\n",
       "      <th>C</th>\n",
       "      <th>D</th>\n",
       "      <th>E</th>\n",
       "    </tr>\n",
       "  </thead>\n",
       "  <tbody>\n",
       "    <tr>\n",
       "      <th>B</th>\n",
       "      <td>28</td>\n",
       "      <td>37</td>\n",
       "      <td>30</td>\n",
       "    </tr>\n",
       "    <tr>\n",
       "      <th>A</th>\n",
       "      <td>34</td>\n",
       "      <td>41</td>\n",
       "      <td>49</td>\n",
       "    </tr>\n",
       "  </tbody>\n",
       "</table>\n",
       "</div>"
      ],
      "text/plain": [
       "    C   D   E\n",
       "B  28  37  30\n",
       "A  34  41  49"
      ]
     },
     "execution_count": 120,
     "metadata": {},
     "output_type": "execute_result"
    }
   ],
   "source": [
    "#reindex dataframe\n",
    "\n",
    "print(\"df_6:\")\n",
    "print(df_6)\n",
    "\n",
    "#new code\n",
    "df_6.reindex(['B','A'])"
   ]
  },
  {
   "cell_type": "code",
   "execution_count": 121,
   "metadata": {
    "colab": {
     "base_uri": "https://localhost:8080/",
     "height": 165
    },
    "id": "tEAlgXIdfel7",
    "outputId": "49a67f69-4230-4703-df67-c38c028b14c2"
   },
   "outputs": [
    {
     "name": "stdout",
     "output_type": "stream",
     "text": [
      "df_6:\n",
      "    C   D   E\n",
      "A  34  41  49\n",
      "B  28  37  30\n"
     ]
    },
    {
     "data": {
      "text/html": [
       "<div>\n",
       "<style scoped>\n",
       "    .dataframe tbody tr th:only-of-type {\n",
       "        vertical-align: middle;\n",
       "    }\n",
       "\n",
       "    .dataframe tbody tr th {\n",
       "        vertical-align: top;\n",
       "    }\n",
       "\n",
       "    .dataframe thead th {\n",
       "        text-align: right;\n",
       "    }\n",
       "</style>\n",
       "<table border=\"1\" class=\"dataframe\">\n",
       "  <thead>\n",
       "    <tr style=\"text-align: right;\">\n",
       "      <th></th>\n",
       "      <th>C</th>\n",
       "      <th>D</th>\n",
       "      <th>E</th>\n",
       "    </tr>\n",
       "  </thead>\n",
       "  <tbody>\n",
       "    <tr>\n",
       "      <th>B</th>\n",
       "      <td>28</td>\n",
       "      <td>37</td>\n",
       "      <td>30</td>\n",
       "    </tr>\n",
       "  </tbody>\n",
       "</table>\n",
       "</div>"
      ],
      "text/plain": [
       "    C   D   E\n",
       "B  28  37  30"
      ]
     },
     "execution_count": 121,
     "metadata": {},
     "output_type": "execute_result"
    }
   ],
   "source": [
    "#drop a row\n",
    "\n",
    "print(\"df_6:\")\n",
    "print(df_6)\n",
    "\n",
    "#new code\n",
    "df_6.drop(['A'], axis=0)"
   ]
  },
  {
   "cell_type": "code",
   "execution_count": 122,
   "metadata": {
    "colab": {
     "base_uri": "https://localhost:8080/",
     "height": 196
    },
    "id": "YtKF2NEnf3iM",
    "outputId": "0d18aad5-d2d8-4a65-f4fc-bb27757ff051"
   },
   "outputs": [
    {
     "name": "stdout",
     "output_type": "stream",
     "text": [
      "df_6:\n",
      "    C   D   E\n",
      "A  34  41  49\n",
      "B  28  37  30\n"
     ]
    },
    {
     "data": {
      "text/html": [
       "<div>\n",
       "<style scoped>\n",
       "    .dataframe tbody tr th:only-of-type {\n",
       "        vertical-align: middle;\n",
       "    }\n",
       "\n",
       "    .dataframe tbody tr th {\n",
       "        vertical-align: top;\n",
       "    }\n",
       "\n",
       "    .dataframe thead th {\n",
       "        text-align: right;\n",
       "    }\n",
       "</style>\n",
       "<table border=\"1\" class=\"dataframe\">\n",
       "  <thead>\n",
       "    <tr style=\"text-align: right;\">\n",
       "      <th></th>\n",
       "      <th>D</th>\n",
       "      <th>E</th>\n",
       "    </tr>\n",
       "  </thead>\n",
       "  <tbody>\n",
       "    <tr>\n",
       "      <th>A</th>\n",
       "      <td>41</td>\n",
       "      <td>49</td>\n",
       "    </tr>\n",
       "    <tr>\n",
       "      <th>B</th>\n",
       "      <td>37</td>\n",
       "      <td>30</td>\n",
       "    </tr>\n",
       "  </tbody>\n",
       "</table>\n",
       "</div>"
      ],
      "text/plain": [
       "    D   E\n",
       "A  41  49\n",
       "B  37  30"
      ]
     },
     "execution_count": 122,
     "metadata": {},
     "output_type": "execute_result"
    }
   ],
   "source": [
    "#drop a column\n",
    "\n",
    "print(\"df_6:\")\n",
    "print(df_6)\n",
    "\n",
    "#new code\n",
    "df_6.drop(['C'], axis=1)"
   ]
  },
  {
   "cell_type": "code",
   "execution_count": 123,
   "metadata": {
    "colab": {
     "base_uri": "https://localhost:8080/",
     "height": 196
    },
    "id": "5Tys2LgRgAYj",
    "outputId": "f8f73ff6-c672-488a-9d88-6a3d03f8bc17"
   },
   "outputs": [
    {
     "name": "stdout",
     "output_type": "stream",
     "text": [
      "df_6:\n",
      "    C   D   E\n",
      "A  34  41  49\n",
      "B  28  37  30\n"
     ]
    },
    {
     "data": {
      "text/html": [
       "<div>\n",
       "<style scoped>\n",
       "    .dataframe tbody tr th:only-of-type {\n",
       "        vertical-align: middle;\n",
       "    }\n",
       "\n",
       "    .dataframe tbody tr th {\n",
       "        vertical-align: top;\n",
       "    }\n",
       "\n",
       "    .dataframe thead th {\n",
       "        text-align: right;\n",
       "    }\n",
       "</style>\n",
       "<table border=\"1\" class=\"dataframe\">\n",
       "  <thead>\n",
       "    <tr style=\"text-align: right;\">\n",
       "      <th></th>\n",
       "      <th>Men</th>\n",
       "      <th>Women</th>\n",
       "      <th>Pets</th>\n",
       "    </tr>\n",
       "  </thead>\n",
       "  <tbody>\n",
       "    <tr>\n",
       "      <th>A</th>\n",
       "      <td>34</td>\n",
       "      <td>41</td>\n",
       "      <td>49</td>\n",
       "    </tr>\n",
       "    <tr>\n",
       "      <th>B</th>\n",
       "      <td>28</td>\n",
       "      <td>37</td>\n",
       "      <td>30</td>\n",
       "    </tr>\n",
       "  </tbody>\n",
       "</table>\n",
       "</div>"
      ],
      "text/plain": [
       "   Men  Women  Pets\n",
       "A   34     41    49\n",
       "B   28     37    30"
      ]
     },
     "execution_count": 123,
     "metadata": {},
     "output_type": "execute_result"
    }
   ],
   "source": [
    "#rename labels\n",
    "\n",
    "print(\"df_6:\")\n",
    "print(df_6)\n",
    "\n",
    "#new code\n",
    "df_6.rename(columns={'C':'Men', 'D':'Women', 'E':'Pets'})"
   ]
  },
  {
   "cell_type": "markdown",
   "metadata": {
    "id": "JCi34j8agaeS"
   },
   "source": [
    "**MultiIndex**"
   ]
  },
  {
   "cell_type": "code",
   "execution_count": 124,
   "metadata": {
    "colab": {
     "base_uri": "https://localhost:8080/"
    },
    "id": "L4gihZz8gegX",
    "outputId": "c6fe550a-0d8d-4c78-8cb2-24acd1586714"
   },
   "outputs": [
    {
     "name": "stdout",
     "output_type": "stream",
     "text": [
      "           M    F\n",
      "Day 1 1  600  542\n",
      "      2  655  649\n",
      "      3  674  579\n",
      "Day 2 1  518  570\n",
      "      2  647  627\n",
      "      3  660  615\n"
     ]
    }
   ],
   "source": [
    "import random\n",
    "\n",
    "days = ['Day 1','Day 1','Day 1','Day 2','Day 2','Day 2']\n",
    "meals = [1,2,3,1,2,3]\n",
    "hier_index = list(zip(days,meals))\n",
    "# zip will pair our days with the meals\n",
    "# print(hier_index)\n",
    "\n",
    "hier_index = pd.MultiIndex.from_tuples(hier_index)\n",
    "array_5 = np.random.randint(500,700, size=(6,2))\n",
    "df_9 = pd.DataFrame(array_5, hier_index, ['M','F'])\n",
    "print(df_9)"
   ]
  },
  {
   "cell_type": "code",
   "execution_count": 125,
   "metadata": {
    "colab": {
     "base_uri": "https://localhost:8080/",
     "height": 278
    },
    "id": "2YEeZL6miomb",
    "outputId": "3c557ed0-0a86-49f9-9e46-aafc5dac0f83"
   },
   "outputs": [
    {
     "name": "stdout",
     "output_type": "stream",
     "text": [
      "df_9:\n",
      "           M    F\n",
      "Day 1 1  600  542\n",
      "      2  655  649\n",
      "      3  674  579\n",
      "Day 2 1  518  570\n",
      "      2  647  627\n",
      "      3  660  615\n",
      "\n",
      "For Day 1:\n"
     ]
    },
    {
     "data": {
      "text/html": [
       "<div>\n",
       "<style scoped>\n",
       "    .dataframe tbody tr th:only-of-type {\n",
       "        vertical-align: middle;\n",
       "    }\n",
       "\n",
       "    .dataframe tbody tr th {\n",
       "        vertical-align: top;\n",
       "    }\n",
       "\n",
       "    .dataframe thead th {\n",
       "        text-align: right;\n",
       "    }\n",
       "</style>\n",
       "<table border=\"1\" class=\"dataframe\">\n",
       "  <thead>\n",
       "    <tr style=\"text-align: right;\">\n",
       "      <th></th>\n",
       "      <th>M</th>\n",
       "      <th>F</th>\n",
       "    </tr>\n",
       "  </thead>\n",
       "  <tbody>\n",
       "    <tr>\n",
       "      <th>1</th>\n",
       "      <td>600</td>\n",
       "      <td>542</td>\n",
       "    </tr>\n",
       "    <tr>\n",
       "      <th>2</th>\n",
       "      <td>655</td>\n",
       "      <td>649</td>\n",
       "    </tr>\n",
       "    <tr>\n",
       "      <th>3</th>\n",
       "      <td>674</td>\n",
       "      <td>579</td>\n",
       "    </tr>\n",
       "  </tbody>\n",
       "</table>\n",
       "</div>"
      ],
      "text/plain": [
       "     M    F\n",
       "1  600  542\n",
       "2  655  649\n",
       "3  674  579"
      ]
     },
     "execution_count": 125,
     "metadata": {},
     "output_type": "execute_result"
    }
   ],
   "source": [
    "#extracting data for day 1\n",
    "\n",
    "print(\"df_9:\")\n",
    "print(df_9)\n",
    "\n",
    "#new code\n",
    "print(\"\\nFor Day 1:\")\n",
    "df_9.loc['Day 1']"
   ]
  },
  {
   "cell_type": "code",
   "execution_count": 126,
   "metadata": {
    "colab": {
     "base_uri": "https://localhost:8080/"
    },
    "id": "NzDAzqMMi1n_",
    "outputId": "6cbec919-b424-4c81-b940-ae5c1f99333d"
   },
   "outputs": [
    {
     "name": "stdout",
     "output_type": "stream",
     "text": [
      "df_9:\n",
      "           M    F\n",
      "Day 1 1  600  542\n",
      "      2  655  649\n",
      "      3  674  579\n",
      "Day 2 1  518  570\n",
      "      2  647  627\n",
      "      3  660  615\n",
      "\n",
      "For Day 1 & Meal 1:\n"
     ]
    },
    {
     "data": {
      "text/plain": [
       "M    600\n",
       "F    542\n",
       "Name: 1, dtype: int32"
      ]
     },
     "execution_count": 126,
     "metadata": {},
     "output_type": "execute_result"
    }
   ],
   "source": [
    "#extracting data for day 1, meal 1\n",
    "\n",
    "print(\"df_9:\")\n",
    "print(df_9)\n",
    "\n",
    "#new code\n",
    "print(\"\\nFor Day 1 & Meal 1:\")\n",
    "df_9.loc['Day 1'].loc[1]"
   ]
  },
  {
   "cell_type": "code",
   "execution_count": 127,
   "metadata": {
    "colab": {
     "base_uri": "https://localhost:8080/"
    },
    "id": "HuK_EDbbjBAL",
    "outputId": "b656ed89-dc35-44e5-98b3-95485068bbee"
   },
   "outputs": [
    {
     "name": "stdout",
     "output_type": "stream",
     "text": [
      "df_9:\n",
      "           M    F\n",
      "Day 1 1  600  542\n",
      "      2  655  649\n",
      "      3  674  579\n",
      "Day 2 1  518  570\n",
      "      2  647  627\n",
      "      3  660  615\n",
      "\n",
      "Calorise eaten by female for day 2, meal 2:\n"
     ]
    },
    {
     "data": {
      "text/plain": [
       "627"
      ]
     },
     "execution_count": 127,
     "metadata": {},
     "output_type": "execute_result"
    }
   ],
   "source": [
    "#extracting data for calorise eaten by female for day 2, meal 2\n",
    "\n",
    "print(\"df_9:\")\n",
    "print(df_9)\n",
    "\n",
    "#new code\n",
    "print(\"\\nCalorise eaten by female for day 2, meal 2:\")\n",
    "df_9['F'].loc['Day 2'].loc[2]"
   ]
  },
  {
   "cell_type": "code",
   "execution_count": 128,
   "metadata": {
    "colab": {
     "base_uri": "https://localhost:8080/",
     "height": 402
    },
    "id": "m5hhvwUCjVI2",
    "outputId": "f9220e05-2ac1-42b6-8bf8-71d37dcdaa1b"
   },
   "outputs": [
    {
     "name": "stdout",
     "output_type": "stream",
     "text": [
      "df_9:\n",
      "           M    F\n",
      "Day 1 1  600  542\n",
      "      2  655  649\n",
      "      3  674  579\n",
      "Day 2 1  518  570\n",
      "      2  647  627\n",
      "      3  660  615\n"
     ]
    },
    {
     "data": {
      "text/html": [
       "<div>\n",
       "<style scoped>\n",
       "    .dataframe tbody tr th:only-of-type {\n",
       "        vertical-align: middle;\n",
       "    }\n",
       "\n",
       "    .dataframe tbody tr th {\n",
       "        vertical-align: top;\n",
       "    }\n",
       "\n",
       "    .dataframe thead th {\n",
       "        text-align: right;\n",
       "    }\n",
       "</style>\n",
       "<table border=\"1\" class=\"dataframe\">\n",
       "  <thead>\n",
       "    <tr style=\"text-align: right;\">\n",
       "      <th></th>\n",
       "      <th></th>\n",
       "      <th>M</th>\n",
       "      <th>F</th>\n",
       "    </tr>\n",
       "    <tr>\n",
       "      <th>Day</th>\n",
       "      <th>Meal</th>\n",
       "      <th></th>\n",
       "      <th></th>\n",
       "    </tr>\n",
       "  </thead>\n",
       "  <tbody>\n",
       "    <tr>\n",
       "      <th rowspan=\"3\" valign=\"top\">Day 1</th>\n",
       "      <th>1</th>\n",
       "      <td>600</td>\n",
       "      <td>542</td>\n",
       "    </tr>\n",
       "    <tr>\n",
       "      <th>2</th>\n",
       "      <td>655</td>\n",
       "      <td>649</td>\n",
       "    </tr>\n",
       "    <tr>\n",
       "      <th>3</th>\n",
       "      <td>674</td>\n",
       "      <td>579</td>\n",
       "    </tr>\n",
       "    <tr>\n",
       "      <th rowspan=\"3\" valign=\"top\">Day 2</th>\n",
       "      <th>1</th>\n",
       "      <td>518</td>\n",
       "      <td>570</td>\n",
       "    </tr>\n",
       "    <tr>\n",
       "      <th>2</th>\n",
       "      <td>647</td>\n",
       "      <td>627</td>\n",
       "    </tr>\n",
       "    <tr>\n",
       "      <th>3</th>\n",
       "      <td>660</td>\n",
       "      <td>615</td>\n",
       "    </tr>\n",
       "  </tbody>\n",
       "</table>\n",
       "</div>"
      ],
      "text/plain": [
       "              M    F\n",
       "Day   Meal          \n",
       "Day 1 1     600  542\n",
       "      2     655  649\n",
       "      3     674  579\n",
       "Day 2 1     518  570\n",
       "      2     647  627\n",
       "      3     660  615"
      ]
     },
     "execution_count": 128,
     "metadata": {},
     "output_type": "execute_result"
    }
   ],
   "source": [
    "# add column name day and meal\n",
    "\n",
    "print(\"df_9:\")\n",
    "print(df_9)\n",
    "\n",
    "#new code\n",
    "df_9.index.names = ['Day', 'Meal']\n",
    "df_9"
   ]
  },
  {
   "cell_type": "code",
   "execution_count": 129,
   "metadata": {
    "colab": {
     "base_uri": "https://localhost:8080/",
     "height": 326
    },
    "id": "064hrrsRkcyX",
    "outputId": "e73442ef-cc47-4be9-d1e1-f352b205f402"
   },
   "outputs": [
    {
     "name": "stdout",
     "output_type": "stream",
     "text": [
      "df_9:\n",
      "              M    F\n",
      "Day   Meal          \n",
      "Day 1 1     600  542\n",
      "      2     655  649\n",
      "      3     674  579\n",
      "Day 2 1     518  570\n",
      "      2     647  627\n",
      "      3     660  615\n"
     ]
    },
    {
     "data": {
      "text/html": [
       "<div>\n",
       "<style scoped>\n",
       "    .dataframe tbody tr th:only-of-type {\n",
       "        vertical-align: middle;\n",
       "    }\n",
       "\n",
       "    .dataframe tbody tr th {\n",
       "        vertical-align: top;\n",
       "    }\n",
       "\n",
       "    .dataframe thead th {\n",
       "        text-align: right;\n",
       "    }\n",
       "</style>\n",
       "<table border=\"1\" class=\"dataframe\">\n",
       "  <thead>\n",
       "    <tr style=\"text-align: right;\">\n",
       "      <th></th>\n",
       "      <th>M</th>\n",
       "      <th>F</th>\n",
       "    </tr>\n",
       "    <tr>\n",
       "      <th>Meal</th>\n",
       "      <th></th>\n",
       "      <th></th>\n",
       "    </tr>\n",
       "  </thead>\n",
       "  <tbody>\n",
       "    <tr>\n",
       "      <th>1</th>\n",
       "      <td>518</td>\n",
       "      <td>570</td>\n",
       "    </tr>\n",
       "    <tr>\n",
       "      <th>2</th>\n",
       "      <td>647</td>\n",
       "      <td>627</td>\n",
       "    </tr>\n",
       "    <tr>\n",
       "      <th>3</th>\n",
       "      <td>660</td>\n",
       "      <td>615</td>\n",
       "    </tr>\n",
       "  </tbody>\n",
       "</table>\n",
       "</div>"
      ],
      "text/plain": [
       "        M    F\n",
       "Meal          \n",
       "1     518  570\n",
       "2     647  627\n",
       "3     660  615"
      ]
     },
     "execution_count": 129,
     "metadata": {},
     "output_type": "execute_result"
    }
   ],
   "source": [
    "#cross section\n",
    "#extracting day 2\n",
    "\n",
    "print(\"df_9:\")\n",
    "print(df_9)\n",
    "\n",
    "#new code\n",
    "df_9.xs('Day 2')"
   ]
  },
  {
   "cell_type": "code",
   "execution_count": 130,
   "metadata": {
    "colab": {
     "base_uri": "https://localhost:8080/",
     "height": 295
    },
    "id": "LCFqi3Mwk27j",
    "outputId": "cf39fb5c-ad21-4da7-9782-a0ea3fe75db0"
   },
   "outputs": [
    {
     "name": "stdout",
     "output_type": "stream",
     "text": [
      "df_9:\n",
      "              M    F\n",
      "Day   Meal          \n",
      "Day 1 1     600  542\n",
      "      2     655  649\n",
      "      3     674  579\n",
      "Day 2 1     518  570\n",
      "      2     647  627\n",
      "      3     660  615\n"
     ]
    },
    {
     "data": {
      "text/html": [
       "<div>\n",
       "<style scoped>\n",
       "    .dataframe tbody tr th:only-of-type {\n",
       "        vertical-align: middle;\n",
       "    }\n",
       "\n",
       "    .dataframe tbody tr th {\n",
       "        vertical-align: top;\n",
       "    }\n",
       "\n",
       "    .dataframe thead th {\n",
       "        text-align: right;\n",
       "    }\n",
       "</style>\n",
       "<table border=\"1\" class=\"dataframe\">\n",
       "  <thead>\n",
       "    <tr style=\"text-align: right;\">\n",
       "      <th></th>\n",
       "      <th>M</th>\n",
       "      <th>F</th>\n",
       "    </tr>\n",
       "    <tr>\n",
       "      <th>Day</th>\n",
       "      <th></th>\n",
       "      <th></th>\n",
       "    </tr>\n",
       "  </thead>\n",
       "  <tbody>\n",
       "    <tr>\n",
       "      <th>Day 1</th>\n",
       "      <td>600</td>\n",
       "      <td>542</td>\n",
       "    </tr>\n",
       "    <tr>\n",
       "      <th>Day 2</th>\n",
       "      <td>518</td>\n",
       "      <td>570</td>\n",
       "    </tr>\n",
       "  </tbody>\n",
       "</table>\n",
       "</div>"
      ],
      "text/plain": [
       "         M    F\n",
       "Day            \n",
       "Day 1  600  542\n",
       "Day 2  518  570"
      ]
     },
     "execution_count": 130,
     "metadata": {},
     "output_type": "execute_result"
    }
   ],
   "source": [
    "#cross section\n",
    "#extracting meal 1 for both days\n",
    "\n",
    "print(\"df_9:\")\n",
    "print(df_9)\n",
    "\n",
    "#new code\n",
    "df_9.xs(1, level='Meal')"
   ]
  },
  {
   "cell_type": "code",
   "execution_count": 131,
   "metadata": {
    "colab": {
     "base_uri": "https://localhost:8080/",
     "height": 266
    },
    "id": "8iggaHNElaNQ",
    "outputId": "e2f82e00-5256-41ac-968c-70b56b01e8b2"
   },
   "outputs": [
    {
     "data": {
      "text/html": [
       "<div>\n",
       "<style scoped>\n",
       "    .dataframe tbody tr th:only-of-type {\n",
       "        vertical-align: middle;\n",
       "    }\n",
       "\n",
       "    .dataframe tbody tr th {\n",
       "        vertical-align: top;\n",
       "    }\n",
       "\n",
       "    .dataframe thead th {\n",
       "        text-align: right;\n",
       "    }\n",
       "</style>\n",
       "<table border=\"1\" class=\"dataframe\">\n",
       "  <thead>\n",
       "    <tr style=\"text-align: right;\">\n",
       "      <th></th>\n",
       "      <th>C</th>\n",
       "      <th>F</th>\n",
       "      <th>M</th>\n",
       "    </tr>\n",
       "    <tr>\n",
       "      <th>A</th>\n",
       "      <th>B</th>\n",
       "      <th></th>\n",
       "      <th></th>\n",
       "    </tr>\n",
       "  </thead>\n",
       "  <tbody>\n",
       "    <tr>\n",
       "      <th rowspan=\"3\" valign=\"top\">Day 1</th>\n",
       "      <th>1</th>\n",
       "      <td>NaN</td>\n",
       "      <td>1.0</td>\n",
       "    </tr>\n",
       "    <tr>\n",
       "      <th>2</th>\n",
       "      <td>2.0</td>\n",
       "      <td>NaN</td>\n",
       "    </tr>\n",
       "    <tr>\n",
       "      <th>3</th>\n",
       "      <td>NaN</td>\n",
       "      <td>3.0</td>\n",
       "    </tr>\n",
       "    <tr>\n",
       "      <th rowspan=\"3\" valign=\"top\">Day 2</th>\n",
       "      <th>1</th>\n",
       "      <td>4.0</td>\n",
       "      <td>NaN</td>\n",
       "    </tr>\n",
       "    <tr>\n",
       "      <th>2</th>\n",
       "      <td>NaN</td>\n",
       "      <td>5.0</td>\n",
       "    </tr>\n",
       "    <tr>\n",
       "      <th>3</th>\n",
       "      <td>6.0</td>\n",
       "      <td>NaN</td>\n",
       "    </tr>\n",
       "  </tbody>\n",
       "</table>\n",
       "</div>"
      ],
      "text/plain": [
       "C          F    M\n",
       "A     B          \n",
       "Day 1 1  NaN  1.0\n",
       "      2  2.0  NaN\n",
       "      3  NaN  3.0\n",
       "Day 2 1  4.0  NaN\n",
       "      2  NaN  5.0\n",
       "      3  6.0  NaN"
      ]
     },
     "execution_count": 131,
     "metadata": {},
     "output_type": "execute_result"
    }
   ],
   "source": [
    "#pivot table\n",
    "dict_6 = {'A':['Day 1', 'Day 1', 'Day 1', 'Day 2', 'Day 2', 'Day 2'],\n",
    "         'B': [1,2,3,1,2,3],\n",
    "         'C': ['M', 'F', 'M', 'F', 'M', 'F'],\n",
    "         'D': [1,2,3,4,5,6]}\n",
    "df_14 = pd.DataFrame(dict_6)\n",
    "\n",
    "df_14.pivot_table(values='D', index=['A','B'], columns=['C'])\n"
   ]
  },
  {
   "cell_type": "markdown",
   "metadata": {
    "id": "RN0VsLqCmEjd"
   },
   "source": [
    "**Handling Missing Data** "
   ]
  },
  {
   "cell_type": "code",
   "execution_count": 132,
   "metadata": {
    "colab": {
     "base_uri": "https://localhost:8080/"
    },
    "id": "VL0RsH79mD6q",
    "outputId": "5cedcc53-1f4b-4ecd-a7de-13bd18286ae1"
   },
   "outputs": [
    {
     "data": {
      "text/html": [
       "<div>\n",
       "<style scoped>\n",
       "    .dataframe tbody tr th:only-of-type {\n",
       "        vertical-align: middle;\n",
       "    }\n",
       "\n",
       "    .dataframe tbody tr th {\n",
       "        vertical-align: top;\n",
       "    }\n",
       "\n",
       "    .dataframe thead th {\n",
       "        text-align: right;\n",
       "    }\n",
       "</style>\n",
       "<table border=\"1\" class=\"dataframe\">\n",
       "  <thead>\n",
       "    <tr style=\"text-align: right;\">\n",
       "      <th></th>\n",
       "      <th>A</th>\n",
       "      <th>B</th>\n",
       "      <th>C</th>\n",
       "    </tr>\n",
       "  </thead>\n",
       "  <tbody>\n",
       "    <tr>\n",
       "      <th>0</th>\n",
       "      <td>1.0</td>\n",
       "      <td>4.0</td>\n",
       "      <td>7.0</td>\n",
       "    </tr>\n",
       "    <tr>\n",
       "      <th>1</th>\n",
       "      <td>2.0</td>\n",
       "      <td>NaN</td>\n",
       "      <td>8.0</td>\n",
       "    </tr>\n",
       "    <tr>\n",
       "      <th>2</th>\n",
       "      <td>NaN</td>\n",
       "      <td>NaN</td>\n",
       "      <td>9.0</td>\n",
       "    </tr>\n",
       "  </tbody>\n",
       "</table>\n",
       "</div>"
      ],
      "text/plain": [
       "     A    B    C\n",
       "0  1.0  4.0  7.0\n",
       "1  2.0  NaN  8.0\n",
       "2  NaN  NaN  9.0"
      ]
     },
     "execution_count": 132,
     "metadata": {},
     "output_type": "execute_result"
    }
   ],
   "source": [
    "dict_4 = {'A':[1.,2.,np.nan], 'B':[4,np.nan,np.nan], 'C':[7.,8.,9.]}\n",
    "df_10 = pd.DataFrame(dict_4)\n",
    "df_10"
   ]
  },
  {
   "cell_type": "code",
   "execution_count": 133,
   "metadata": {
    "colab": {
     "base_uri": "https://localhost:8080/",
     "height": 165
    },
    "id": "qNP9viDpoMCL",
    "outputId": "d2861c0c-04ac-472f-d1a7-bc3be5794959"
   },
   "outputs": [
    {
     "name": "stdout",
     "output_type": "stream",
     "text": [
      "df_10:\n",
      "     A    B    C\n",
      "0  1.0  4.0  7.0\n",
      "1  2.0  NaN  8.0\n",
      "2  NaN  NaN  9.0\n"
     ]
    },
    {
     "data": {
      "text/html": [
       "<div>\n",
       "<style scoped>\n",
       "    .dataframe tbody tr th:only-of-type {\n",
       "        vertical-align: middle;\n",
       "    }\n",
       "\n",
       "    .dataframe tbody tr th {\n",
       "        vertical-align: top;\n",
       "    }\n",
       "\n",
       "    .dataframe thead th {\n",
       "        text-align: right;\n",
       "    }\n",
       "</style>\n",
       "<table border=\"1\" class=\"dataframe\">\n",
       "  <thead>\n",
       "    <tr style=\"text-align: right;\">\n",
       "      <th></th>\n",
       "      <th>A</th>\n",
       "      <th>B</th>\n",
       "      <th>C</th>\n",
       "    </tr>\n",
       "  </thead>\n",
       "  <tbody>\n",
       "    <tr>\n",
       "      <th>0</th>\n",
       "      <td>1.0</td>\n",
       "      <td>4.0</td>\n",
       "      <td>7.0</td>\n",
       "    </tr>\n",
       "  </tbody>\n",
       "</table>\n",
       "</div>"
      ],
      "text/plain": [
       "     A    B    C\n",
       "0  1.0  4.0  7.0"
      ]
     },
     "execution_count": 133,
     "metadata": {},
     "output_type": "execute_result"
    }
   ],
   "source": [
    "#drop missing data rows\n",
    "\n",
    "print(\"df_10:\")\n",
    "print(df_10)\n",
    "\n",
    "#new code\n",
    "df_10.dropna()"
   ]
  },
  {
   "cell_type": "code",
   "execution_count": 134,
   "metadata": {
    "colab": {
     "base_uri": "https://localhost:8080/",
     "height": 227
    },
    "id": "mRw5zRGGoaFu",
    "outputId": "315352c2-95ab-4ba8-a746-ee6061872d9e"
   },
   "outputs": [
    {
     "name": "stdout",
     "output_type": "stream",
     "text": [
      "df_10:\n",
      "     A    B    C\n",
      "0  1.0  4.0  7.0\n",
      "1  2.0  NaN  8.0\n",
      "2  NaN  NaN  9.0\n"
     ]
    },
    {
     "data": {
      "text/html": [
       "<div>\n",
       "<style scoped>\n",
       "    .dataframe tbody tr th:only-of-type {\n",
       "        vertical-align: middle;\n",
       "    }\n",
       "\n",
       "    .dataframe tbody tr th {\n",
       "        vertical-align: top;\n",
       "    }\n",
       "\n",
       "    .dataframe thead th {\n",
       "        text-align: right;\n",
       "    }\n",
       "</style>\n",
       "<table border=\"1\" class=\"dataframe\">\n",
       "  <thead>\n",
       "    <tr style=\"text-align: right;\">\n",
       "      <th></th>\n",
       "      <th>C</th>\n",
       "    </tr>\n",
       "  </thead>\n",
       "  <tbody>\n",
       "    <tr>\n",
       "      <th>0</th>\n",
       "      <td>7.0</td>\n",
       "    </tr>\n",
       "    <tr>\n",
       "      <th>1</th>\n",
       "      <td>8.0</td>\n",
       "    </tr>\n",
       "    <tr>\n",
       "      <th>2</th>\n",
       "      <td>9.0</td>\n",
       "    </tr>\n",
       "  </tbody>\n",
       "</table>\n",
       "</div>"
      ],
      "text/plain": [
       "     C\n",
       "0  7.0\n",
       "1  8.0\n",
       "2  9.0"
      ]
     },
     "execution_count": 134,
     "metadata": {},
     "output_type": "execute_result"
    }
   ],
   "source": [
    "#drop missing data columns\n",
    "\n",
    "print(\"df_10:\")\n",
    "print(df_10)\n",
    "\n",
    "#new code\n",
    "df_10.dropna(axis=1)"
   ]
  },
  {
   "cell_type": "code",
   "execution_count": 135,
   "metadata": {
    "colab": {
     "base_uri": "https://localhost:8080/",
     "height": 196
    },
    "id": "RSGaNkcNomnB",
    "outputId": "8cee4294-9c23-49ee-823a-ac7d41f22959"
   },
   "outputs": [
    {
     "name": "stdout",
     "output_type": "stream",
     "text": [
      "df_10:\n",
      "     A    B    C\n",
      "0  1.0  4.0  7.0\n",
      "1  2.0  NaN  8.0\n",
      "2  NaN  NaN  9.0\n"
     ]
    },
    {
     "data": {
      "text/html": [
       "<div>\n",
       "<style scoped>\n",
       "    .dataframe tbody tr th:only-of-type {\n",
       "        vertical-align: middle;\n",
       "    }\n",
       "\n",
       "    .dataframe tbody tr th {\n",
       "        vertical-align: top;\n",
       "    }\n",
       "\n",
       "    .dataframe thead th {\n",
       "        text-align: right;\n",
       "    }\n",
       "</style>\n",
       "<table border=\"1\" class=\"dataframe\">\n",
       "  <thead>\n",
       "    <tr style=\"text-align: right;\">\n",
       "      <th></th>\n",
       "      <th>A</th>\n",
       "      <th>B</th>\n",
       "      <th>C</th>\n",
       "    </tr>\n",
       "  </thead>\n",
       "  <tbody>\n",
       "    <tr>\n",
       "      <th>0</th>\n",
       "      <td>1.0</td>\n",
       "      <td>4.0</td>\n",
       "      <td>7.0</td>\n",
       "    </tr>\n",
       "    <tr>\n",
       "      <th>1</th>\n",
       "      <td>2.0</td>\n",
       "      <td>NaN</td>\n",
       "      <td>8.0</td>\n",
       "    </tr>\n",
       "  </tbody>\n",
       "</table>\n",
       "</div>"
      ],
      "text/plain": [
       "     A    B    C\n",
       "0  1.0  4.0  7.0\n",
       "1  2.0  NaN  8.0"
      ]
     },
     "execution_count": 135,
     "metadata": {},
     "output_type": "execute_result"
    }
   ],
   "source": [
    "#drop rows with two or more missing data\n",
    "\n",
    "print(\"df_10:\")\n",
    "print(df_10)\n",
    "\n",
    "#new code\n",
    "df_10.dropna(thresh=2)"
   ]
  },
  {
   "cell_type": "code",
   "execution_count": 136,
   "metadata": {
    "colab": {
     "base_uri": "https://localhost:8080/",
     "height": 227
    },
    "id": "NtIM8gzvo6uI",
    "outputId": "65566ffb-e6a2-4cf5-aea5-5d770d06e302"
   },
   "outputs": [
    {
     "name": "stdout",
     "output_type": "stream",
     "text": [
      "df_10:\n",
      "     A    B    C\n",
      "0  1.0  4.0  7.0\n",
      "1  2.0  NaN  8.0\n",
      "2  NaN  NaN  9.0\n"
     ]
    },
    {
     "data": {
      "text/html": [
       "<div>\n",
       "<style scoped>\n",
       "    .dataframe tbody tr th:only-of-type {\n",
       "        vertical-align: middle;\n",
       "    }\n",
       "\n",
       "    .dataframe tbody tr th {\n",
       "        vertical-align: top;\n",
       "    }\n",
       "\n",
       "    .dataframe thead th {\n",
       "        text-align: right;\n",
       "    }\n",
       "</style>\n",
       "<table border=\"1\" class=\"dataframe\">\n",
       "  <thead>\n",
       "    <tr style=\"text-align: right;\">\n",
       "      <th></th>\n",
       "      <th>A</th>\n",
       "      <th>B</th>\n",
       "      <th>C</th>\n",
       "    </tr>\n",
       "  </thead>\n",
       "  <tbody>\n",
       "    <tr>\n",
       "      <th>0</th>\n",
       "      <td>1.0</td>\n",
       "      <td>4.0</td>\n",
       "      <td>7.0</td>\n",
       "    </tr>\n",
       "    <tr>\n",
       "      <th>1</th>\n",
       "      <td>2.0</td>\n",
       "      <td>0.0</td>\n",
       "      <td>8.0</td>\n",
       "    </tr>\n",
       "    <tr>\n",
       "      <th>2</th>\n",
       "      <td>0.0</td>\n",
       "      <td>0.0</td>\n",
       "      <td>9.0</td>\n",
       "    </tr>\n",
       "  </tbody>\n",
       "</table>\n",
       "</div>"
      ],
      "text/plain": [
       "     A    B    C\n",
       "0  1.0  4.0  7.0\n",
       "1  2.0  0.0  8.0\n",
       "2  0.0  0.0  9.0"
      ]
     },
     "execution_count": 136,
     "metadata": {},
     "output_type": "execute_result"
    }
   ],
   "source": [
    "#replace nan with 0\n",
    "\n",
    "print(\"df_10:\")\n",
    "print(df_10)\n",
    "\n",
    "#new code\n",
    "df_10.fillna(value=0.0)"
   ]
  },
  {
   "cell_type": "code",
   "execution_count": 137,
   "metadata": {
    "colab": {
     "base_uri": "https://localhost:8080/",
     "height": 227
    },
    "id": "-SfyZmf7pFj_",
    "outputId": "85feb129-06a3-4f51-e112-ba3743ed6359"
   },
   "outputs": [
    {
     "name": "stdout",
     "output_type": "stream",
     "text": [
      "df_10:\n",
      "     A    B    C\n",
      "0  1.0  4.0  7.0\n",
      "1  2.0  NaN  8.0\n",
      "2  NaN  NaN  9.0\n"
     ]
    },
    {
     "data": {
      "text/html": [
       "<div>\n",
       "<style scoped>\n",
       "    .dataframe tbody tr th:only-of-type {\n",
       "        vertical-align: middle;\n",
       "    }\n",
       "\n",
       "    .dataframe tbody tr th {\n",
       "        vertical-align: top;\n",
       "    }\n",
       "\n",
       "    .dataframe thead th {\n",
       "        text-align: right;\n",
       "    }\n",
       "</style>\n",
       "<table border=\"1\" class=\"dataframe\">\n",
       "  <thead>\n",
       "    <tr style=\"text-align: right;\">\n",
       "      <th></th>\n",
       "      <th>A</th>\n",
       "      <th>B</th>\n",
       "      <th>C</th>\n",
       "    </tr>\n",
       "  </thead>\n",
       "  <tbody>\n",
       "    <tr>\n",
       "      <th>0</th>\n",
       "      <td>1.0</td>\n",
       "      <td>4.0</td>\n",
       "      <td>7.0</td>\n",
       "    </tr>\n",
       "    <tr>\n",
       "      <th>1</th>\n",
       "      <td>2.0</td>\n",
       "      <td>1.5</td>\n",
       "      <td>8.0</td>\n",
       "    </tr>\n",
       "    <tr>\n",
       "      <th>2</th>\n",
       "      <td>1.5</td>\n",
       "      <td>1.5</td>\n",
       "      <td>9.0</td>\n",
       "    </tr>\n",
       "  </tbody>\n",
       "</table>\n",
       "</div>"
      ],
      "text/plain": [
       "     A    B    C\n",
       "0  1.0  4.0  7.0\n",
       "1  2.0  1.5  8.0\n",
       "2  1.5  1.5  9.0"
      ]
     },
     "execution_count": 137,
     "metadata": {},
     "output_type": "execute_result"
    }
   ],
   "source": [
    "##replace nan with mean value\n",
    "\n",
    "print(\"df_10:\")\n",
    "print(df_10)\n",
    "\n",
    "#new code\n",
    "df_10.fillna(value=df_10['A'].mean()) #mean of column 'A'"
   ]
  },
  {
   "cell_type": "code",
   "execution_count": 138,
   "metadata": {
    "colab": {
     "base_uri": "https://localhost:8080/",
     "height": 227
    },
    "id": "gE8Ti0f4pd1P",
    "outputId": "518484eb-7aaa-4249-ef0f-8f50df71b0cb"
   },
   "outputs": [
    {
     "name": "stdout",
     "output_type": "stream",
     "text": [
      "df_10:\n",
      "     A    B    C\n",
      "0  1.0  4.0  7.0\n",
      "1  2.0  NaN  8.0\n",
      "2  NaN  NaN  9.0\n"
     ]
    },
    {
     "data": {
      "text/html": [
       "<div>\n",
       "<style scoped>\n",
       "    .dataframe tbody tr th:only-of-type {\n",
       "        vertical-align: middle;\n",
       "    }\n",
       "\n",
       "    .dataframe tbody tr th {\n",
       "        vertical-align: top;\n",
       "    }\n",
       "\n",
       "    .dataframe thead th {\n",
       "        text-align: right;\n",
       "    }\n",
       "</style>\n",
       "<table border=\"1\" class=\"dataframe\">\n",
       "  <thead>\n",
       "    <tr style=\"text-align: right;\">\n",
       "      <th></th>\n",
       "      <th>A</th>\n",
       "      <th>B</th>\n",
       "      <th>C</th>\n",
       "    </tr>\n",
       "  </thead>\n",
       "  <tbody>\n",
       "    <tr>\n",
       "      <th>0</th>\n",
       "      <td>1.0</td>\n",
       "      <td>4.0</td>\n",
       "      <td>7.0</td>\n",
       "    </tr>\n",
       "    <tr>\n",
       "      <th>1</th>\n",
       "      <td>2.0</td>\n",
       "      <td>4.0</td>\n",
       "      <td>8.0</td>\n",
       "    </tr>\n",
       "    <tr>\n",
       "      <th>2</th>\n",
       "      <td>2.0</td>\n",
       "      <td>4.0</td>\n",
       "      <td>9.0</td>\n",
       "    </tr>\n",
       "  </tbody>\n",
       "</table>\n",
       "</div>"
      ],
      "text/plain": [
       "     A    B    C\n",
       "0  1.0  4.0  7.0\n",
       "1  2.0  4.0  8.0\n",
       "2  2.0  4.0  9.0"
      ]
     },
     "execution_count": 138,
     "metadata": {},
     "output_type": "execute_result"
    }
   ],
   "source": [
    "#fill nan with previous value(forward fill)\n",
    "\n",
    "print(\"df_10:\")\n",
    "print(df_10)\n",
    "\n",
    "#new code\n",
    "df_10.fillna(method='ffill')\n",
    "\n",
    "#we can also use back fill ('bfill')"
   ]
  },
  {
   "cell_type": "markdown",
   "metadata": {
    "id": "y9_ooTAdp9fX"
   },
   "source": [
    "**Experimenting with Data**"
   ]
  },
  {
   "cell_type": "code",
   "execution_count": 139,
   "metadata": {
    "colab": {
     "base_uri": "https://localhost:8080/"
    },
    "id": "C8f0aEvBqE2s",
    "outputId": "806dcfa1-5d13-4d97-9b08-2a13ce3d0668"
   },
   "outputs": [
    {
     "name": "stdout",
     "output_type": "stream",
     "text": [
      "Index(['Sale ID', 'Contact', 'Sex', 'Age', 'State', 'Product ID',\n",
      "       'Product Type', 'Sale Price', 'Profit', 'Lead', 'Month', 'Year',\n",
      "       'First Name', 'Last Name', 'Age Group'],\n",
      "      dtype='object')\n"
     ]
    }
   ],
   "source": [
    "# get all column names\n",
    "print(cs_df.columns)"
   ]
  },
  {
   "cell_type": "code",
   "execution_count": 140,
   "metadata": {},
   "outputs": [
    {
     "data": {
      "text/plain": [
       "139.97461538461545"
      ]
     },
     "execution_count": 140,
     "metadata": {},
     "output_type": "execute_result"
    }
   ],
   "source": [
    "#mean of profit values\n",
    "cs_df['Profit'].mean()"
   ]
  },
  {
   "cell_type": "code",
   "execution_count": 141,
   "metadata": {
    "colab": {
     "base_uri": "https://localhost:8080/"
    },
    "id": "Qn5JH-lQqXcE",
    "outputId": "ed0895ad-dd69-45f1-88aa-cca7699371ca"
   },
   "outputs": [
    {
     "data": {
      "text/plain": [
       "Product ID    Q526FA\n",
       "Profit        230.89\n",
       "dtype: object"
      ]
     },
     "execution_count": 141,
     "metadata": {},
     "output_type": "execute_result"
    }
   ],
   "source": [
    "# getting product with highest profit\n",
    "cs_df[['Product ID', 'Profit']].max(axis=0)"
   ]
  },
  {
   "cell_type": "code",
   "execution_count": 142,
   "metadata": {
    "colab": {
     "base_uri": "https://localhost:8080/"
    },
    "id": "bYWVskCwq0Ef",
    "outputId": "64032caa-1787-4a10-dc76-4fdb825990d8"
   },
   "outputs": [
    {
     "data": {
      "text/plain": [
       "4"
      ]
     },
     "execution_count": 142,
     "metadata": {},
     "output_type": "execute_result"
    }
   ],
   "source": [
    "#number of people made purchase from West Varginia\n",
    "cs_df[cs_df['State']=='WV']['State'].count()"
   ]
  },
  {
   "cell_type": "code",
   "execution_count": 143,
   "metadata": {
    "colab": {
     "base_uri": "https://localhost:8080/"
    },
    "id": "V19h143DrWSt",
    "outputId": "62810c85-e9be-4fe7-a971-38521c5163eb"
   },
   "outputs": [
    {
     "data": {
      "text/plain": [
       "14"
      ]
     },
     "execution_count": 143,
     "metadata": {},
     "output_type": "execute_result"
    }
   ],
   "source": [
    "#number of purchase in 2019\n",
    "len(cs_df[cs_df['Year']==2019].index)"
   ]
  },
  {
   "cell_type": "code",
   "execution_count": 144,
   "metadata": {
    "colab": {
     "base_uri": "https://localhost:8080/"
    },
    "id": "3fsRHQbfrtUP",
    "outputId": "6cb70653-5fcd-4d20-ec96-039abde5d39f"
   },
   "outputs": [
    {
     "data": {
      "text/plain": [
       "GA401IV      6\n",
       "81TC00       5\n",
       "I3593        5\n",
       "M01-F0024    5\n",
       "15M-ED       4\n",
       "GT13-0024    4\n",
       "MY2J2LL      4\n",
       "Q526FA       3\n",
       "I3670        3\n",
       "Name: Product ID, dtype: int64"
      ]
     },
     "execution_count": 144,
     "metadata": {},
     "output_type": "execute_result"
    }
   ],
   "source": [
    "#nunber of sales for each product type\n",
    "cs_df['Product ID'].value_counts()"
   ]
  },
  {
   "cell_type": "code",
   "execution_count": 145,
   "metadata": {
    "colab": {
     "base_uri": "https://localhost:8080/"
    },
    "id": "zoB_jr4ysNb0",
    "outputId": "e2f647ff-8513-4f4e-da31-da9ee6b67cb5"
   },
   "outputs": [
    {
     "data": {
      "text/plain": [
       "0     Paul Thomas\n",
       "9      Phil Jones\n",
       "20     Jason Case\n",
       "29     Phil Jones\n",
       "36     Jason Case\n",
       "Name: Contact, dtype: object"
      ]
     },
     "execution_count": 145,
     "metadata": {},
     "output_type": "execute_result"
    }
   ],
   "source": [
    "#list of customers that bought a specific product\n",
    "cs_df[cs_df['Product ID']=='M01-F0024']['Contact']"
   ]
  },
  {
   "cell_type": "code",
   "execution_count": 146,
   "metadata": {
    "colab": {
     "base_uri": "https://localhost:8080/"
    },
    "id": "II5iKaaPsvf-",
    "outputId": "d5256a09-1ce8-4156-a84e-87f96a65cb68"
   },
   "outputs": [
    {
     "data": {
      "text/plain": [
       "2"
      ]
     },
     "execution_count": 146,
     "metadata": {},
     "output_type": "execute_result"
    }
   ],
   "source": [
    "#website purchase for profit over $150\n",
    "cs_df[(cs_df['Lead']=='Website')& (cs_df['Profit']>150)]['Lead'].count()"
   ]
  },
  {
   "cell_type": "code",
   "execution_count": 147,
   "metadata": {
    "colab": {
     "base_uri": "https://localhost:8080/"
    },
    "id": "h4r5ed7AuGMn",
    "outputId": "0913568b-e888-422c-8d87-f21b64c1cea2"
   },
   "outputs": [
    {
     "data": {
      "text/plain": [
       "False    35\n",
       "True      4\n",
       "Name: Profit, dtype: int64"
      ]
     },
     "execution_count": 147,
     "metadata": {},
     "output_type": "execute_result"
    }
   ],
   "source": [
    "#number of products that has profit amount end at 89 cents\n",
    "cs_df['Profit'].apply(lambda cents:str(cents).split('.')[1]=='89').value_counts()"
   ]
  },
  {
   "cell_type": "markdown",
   "metadata": {
    "id": "M0j8GTxou52K"
   },
   "source": [
    "**Visualization**"
   ]
  },
  {
   "cell_type": "code",
   "execution_count": 148,
   "metadata": {
    "id": "dK8ZlWjFu-2c"
   },
   "outputs": [],
   "source": [
    "import matplotlib.pyplot as plt\n",
    "%matplotlib inline"
   ]
  },
  {
   "cell_type": "code",
   "execution_count": 149,
   "metadata": {
    "colab": {
     "base_uri": "https://localhost:8080/",
     "height": 265
    },
    "id": "vSqQZp3kvPj0",
    "outputId": "d38c4fcd-50cc-473e-f53d-1c6672ff0985"
   },
   "outputs": [
    {
     "data": {
      "image/png": "[encoded data removed]",
      "text/plain": [
       "<Figure size 432x288 with 1 Axes>"
      ]
     },
     "metadata": {
      "needs_background": "light"
     },
     "output_type": "display_data"
    }
   ],
   "source": [
    "#histogram for rolling a dice 5000 times\n",
    "df_dice = pd.DataFrame(\n",
    "    np.random.randint(1,7,5000),\n",
    "    columns=['Hist']\n",
    ")\n",
    "df_dice['Odds'] = df_dice['Hist'] + np.random.randint(1,7,5000)\n",
    "ax = df_dice.plot.hist(bins=12, alpha=0.5)\n",
    "# Alpha decreases the opacity in the chart"
   ]
  },
  {
   "cell_type": "code",
   "execution_count": 150,
   "metadata": {
    "colab": {
     "base_uri": "https://localhost:8080/",
     "height": 294
    },
    "id": "WTPPGZJ3wbTG",
    "outputId": "87d2ff29-6ecd-4e87-da6e-0cb5a7da7016"
   },
   "outputs": [
    {
     "data": {
      "text/plain": [
       "<matplotlib.axes._subplots.AxesSubplot at 0x2205ff8e6a0>"
      ]
     },
     "execution_count": 150,
     "metadata": {},
     "output_type": "execute_result"
    },
    {
     "data": {
      "image/png": "[encoded data removed]",
      "text/plain": [
       "<Figure size 432x288 with 1 Axes>"
      ]
     },
     "metadata": {
      "needs_background": "light"
     },
     "output_type": "display_data"
    }
   ],
   "source": [
    "# Basic plot using 1000 random values that create cumulative sums\n",
    "# over an increasing date range\n",
    "series_5 = pd.Series(np.random.randn(1000),\n",
    "                  index = pd.date_range('11/15/2017', periods=1000))\n",
    "series_5 = series_5.cumsum()\n",
    "series_5.plot()"
   ]
  },
  {
   "cell_type": "code",
   "execution_count": 151,
   "metadata": {
    "colab": {
     "base_uri": "https://localhost:8080/",
     "height": 294
    },
    "id": "Y49am1vxxtwc",
    "outputId": "e4c7f8d5-01da-48ee-d83d-554645b2e263"
   },
   "outputs": [
    {
     "data": {
      "text/plain": [
       "<matplotlib.axes._subplots.AxesSubplot at 0x2206005a2e8>"
      ]
     },
     "execution_count": 151,
     "metadata": {},
     "output_type": "execute_result"
    },
    {
     "data": {
      "image/png": "[encoded data removed]",
      "text/plain": [
       "<Figure size 432x288 with 1 Axes>"
      ]
     },
     "metadata": {
      "needs_background": "light"
     },
     "output_type": "display_data"
    }
   ],
   "source": [
    "# Display 3 random plots\n",
    "df_15 = pd.DataFrame(np.random.randn(1000,3),\n",
    "                  index = pd.date_range('11/15/2017', periods=1000),\n",
    "                  columns = list('ABC'))\n",
    "df_15 = df_15.cumsum()\n",
    "df_15.plot()"
   ]
  },
  {
   "cell_type": "code",
   "execution_count": 152,
   "metadata": {
    "colab": {
     "base_uri": "https://localhost:8080/",
     "height": 279
    },
    "id": "XQCORlcrygdr",
    "outputId": "70d7432c-bc98-4f51-b175-0b216958c5bf"
   },
   "outputs": [
    {
     "data": {
      "text/plain": [
       "<matplotlib.axes._subplots.AxesSubplot at 0x22060160a20>"
      ]
     },
     "execution_count": 152,
     "metadata": {},
     "output_type": "execute_result"
    },
    {
     "data": {
      "image/png": "[encoded data removed]",
      "text/plain": [
       "<Figure size 432x288 with 1 Axes>"
      ]
     },
     "metadata": {
      "needs_background": "light"
     },
     "output_type": "display_data"
    }
   ],
   "source": [
    "#bar chart for random values\n",
    "pd.DataFrame(np.random.randn(5)).plot.bar()"
   ]
  },
  {
   "cell_type": "code",
   "execution_count": 153,
   "metadata": {
    "colab": {
     "base_uri": "https://localhost:8080/",
     "height": 279
    },
    "id": "mGP8W-NbzAXA",
    "outputId": "dbe59cc1-0b4d-409a-b9ba-e5f5a8a89d02"
   },
   "outputs": [
    {
     "data": {
      "text/plain": [
       "<matplotlib.axes._subplots.AxesSubplot at 0x220601c5b38>"
      ]
     },
     "execution_count": 153,
     "metadata": {},
     "output_type": "execute_result"
    },
    {
     "data": {
      "image/png": "[encoded data removed]",
      "text/plain": [
       "<Figure size 432x288 with 1 Axes>"
      ]
     },
     "metadata": {
      "needs_background": "light"
     },
     "output_type": "display_data"
    }
   ],
   "source": [
    "#bar chart for random values\n",
    "vals = ['A','B','C','D']\n",
    "df_15 = pd.DataFrame(np.random.rand(10,4), columns=vals)\n",
    "df_15.plot.bar()"
   ]
  },
  {
   "cell_type": "code",
   "execution_count": 154,
   "metadata": {
    "colab": {
     "base_uri": "https://localhost:8080/",
     "height": 265
    },
    "id": "IGFSdEOozWVT",
    "outputId": "26ad7bc9-33c6-41d9-e4ab-fd329e69c7f2"
   },
   "outputs": [
    {
     "data": {
      "image/png": "[encoded data removed]",
      "text/plain": [
       "<Figure size 432x288 with 1 Axes>"
      ]
     },
     "metadata": {
      "needs_background": "light"
     },
     "output_type": "display_data"
    }
   ],
   "source": [
    "#area plot\n",
    "x_rng = range(1,15)\n",
    "y_vals = [1,5,4,7,6,9,5,7,10,14,10,12,9,8]\n",
    "\n",
    "plt.fill_between(x_rng,y_vals,color='skyblue', alpha=0.5)\n",
    "plt.show()"
   ]
  },
  {
   "cell_type": "code",
   "execution_count": 155,
   "metadata": {
    "colab": {
     "base_uri": "https://localhost:8080/",
     "height": 282
    },
    "id": "4AshE4dg0A30",
    "outputId": "8f9fd86c-d535-4656-fcbc-f9b4f93afff5"
   },
   "outputs": [
    {
     "data": {
      "text/plain": [
       "<matplotlib.axes._subplots.AxesSubplot at 0x220612f6cc0>"
      ]
     },
     "execution_count": 155,
     "metadata": {},
     "output_type": "execute_result"
    },
    {
     "data": {
      "image/png": "[encoded data removed]",
      "text/plain": [
       "<Figure size 432x288 with 1 Axes>"
      ]
     },
     "metadata": {
      "needs_background": "light"
     },
     "output_type": "display_data"
    }
   ],
   "source": [
    "pd.DataFrame(np.random.rand(10,3), columns=['A','B','C']).plot.area()"
   ]
  },
  {
   "cell_type": "code",
   "execution_count": 156,
   "metadata": {
    "colab": {
     "base_uri": "https://localhost:8080/",
     "height": 296
    },
    "id": "hRTkfdEl0Yn-",
    "outputId": "7aa3e5eb-fa3a-4a46-b8b8-839c6d43e3b0"
   },
   "outputs": [
    {
     "data": {
      "text/plain": [
       "<matplotlib.axes._subplots.AxesSubplot at 0x22061387710>"
      ]
     },
     "execution_count": 156,
     "metadata": {},
     "output_type": "execute_result"
    },
    {
     "data": {
      "image/png": "[encoded data removed]",
      "text/plain": [
       "<Figure size 432x288 with 1 Axes>"
      ]
     },
     "metadata": {
      "needs_background": "light"
     },
     "output_type": "display_data"
    }
   ],
   "source": [
    "#scatter plot\n",
    "\n",
    "pd.DataFrame(np.random.rand(100,2),\n",
    "             columns=['A','B']).plot.scatter(x='A',y='B')"
   ]
  },
  {
   "cell_type": "code",
   "execution_count": 157,
   "metadata": {
    "colab": {
     "base_uri": "https://localhost:8080/",
     "height": 296
    },
    "id": "eUaUy3uT0wFl",
    "outputId": "405e03ce-69c9-49c4-eeb4-e43e5e7917dc"
   },
   "outputs": [
    {
     "data": {
      "text/plain": [
       "<matplotlib.axes._subplots.AxesSubplot at 0x220613e10f0>"
      ]
     },
     "execution_count": 157,
     "metadata": {},
     "output_type": "execute_result"
    },
    {
     "data": {
      "image/png": "[encoded data removed]",
      "text/plain": [
       "<Figure size 432x288 with 1 Axes>"
      ]
     },
     "metadata": {
      "needs_background": "light"
     },
     "output_type": "display_data"
    }
   ],
   "source": [
    "df_15 = pd.DataFrame(np.random.rand(50,4),\n",
    "             columns=['A','B','C','D'])\n",
    "ax = df_15.plot.scatter(x='A',y='B', color='DarkBlue', label='Grp1')\n",
    "df_15.plot.scatter(x='C', y='D', color='Orange', label='Grp2', ax=ax)"
   ]
  },
  {
   "cell_type": "code",
   "execution_count": 158,
   "metadata": {
    "colab": {
     "base_uri": "https://localhost:8080/"
    },
    "id": "wX8rIlRN1cUi",
    "outputId": "93661e15-9484-45a6-fa42-2566a1a51256"
   },
   "outputs": [
    {
     "data": {
      "text/plain": [
       "<matplotlib.axes._subplots.AxesSubplot at 0x220613e99e8>"
      ]
     },
     "execution_count": 158,
     "metadata": {},
     "output_type": "execute_result"
    },
    {
     "data": {
      "image/png": "[encoded data removed]",
      "text/plain": [
       "<Figure size 432x432 with 1 Axes>"
      ]
     },
     "metadata": {},
     "output_type": "display_data"
    }
   ],
   "source": [
    "#pie chart\n",
    "pd.Series(np.random.rand(4),\n",
    "          index=['a','b','c','s'],\n",
    "          name='Pie').plot.pie(figsize=(6,6))"
   ]
  },
  {
   "cell_type": "code",
   "execution_count": null,
   "metadata": {},
   "outputs": [],
   "source": []
  }
 ],
 "metadata": {
  "colab": {
   "collapsed_sections": [],
   "name": "Pandas Tutorial",
   "provenance": []
  },
  "kernelspec": {
   "display_name": "Python 3",
   "language": "python",
   "name": "python3"
  },
  "language_info": {
   "codemirror_mode": {
    "name": "ipython",
    "version": 3
   },
   "file_extension": ".py",
   "mimetype": "text/x-python",
   "name": "python",
   "nbconvert_exporter": "python",
   "pygments_lexer": "ipython3",
   "version": "3.7.3"
  }
 },
 "nbformat": 4,
 "nbformat_minor": 1
}
